{
 "cells": [
  {
   "cell_type": "markdown",
   "id": "df5f6a66",
   "metadata": {},
   "source": [
    "# [**1710. Maximum Units on a Truck**](https://leetcode.com/problems/maximum-units-on-a-truck/)\n",
    "\n",
    "<div class=\"content__u3I1 question-content__JfgR\"><div><p>You are assigned to put some amount of boxes onto <strong>one truck</strong>. You are given a 2D array <code>boxTypes</code>, where <code>boxTypes[i] = [numberOfBoxes<sub>i</sub>, numberOfUnitsPerBox<sub>i</sub>]</code>:</p>\n",
    "\n",
    "<ul>\n",
    "\t<li><code>numberOfBoxes<sub>i</sub></code> is the number of boxes of type <code>i</code>.</li>\n",
    "\t<li><code>numberOfUnitsPerBox<sub>i</sub></code><sub> </sub>is the number of units in each box of the type <code>i</code>.</li>\n",
    "</ul>\n",
    "\n",
    "<p>You are also given an integer <code>truckSize</code>, which is the <strong>maximum</strong> number of <strong>boxes</strong> that can be put on the truck. You can choose any boxes to put on the truck as long as the number&nbsp;of boxes does not exceed <code>truckSize</code>.</p>\n",
    "\n",
    "<p>Return <em>the <strong>maximum</strong> total number of <strong>units</strong> that can be put on the truck.</em></p>\n",
    "\n",
    "<p>&nbsp;</p>\n",
    "<p><strong>Example 1:</strong></p>\n",
    "\n",
    "<pre><strong>Input:</strong> boxTypes = [[1,3],[2,2],[3,1]], truckSize = 4\n",
    "<strong>Output:</strong> 8\n",
    "<strong>Explanation:</strong> There are:\n",
    "- 1 box of the first type that contains 3 units.\n",
    "- 2 boxes of the second type that contain 2 units each.\n",
    "- 3 boxes of the third type that contain 1 unit each.\n",
    "You can take all the boxes of the first and second types, and one box of the third type.\n",
    "The total number of units will be = (1 * 3) + (2 * 2) + (1 * 1) = 8.\n",
    "</pre>\n",
    "\n",
    "<p><strong>Example 2:</strong></p>\n",
    "\n",
    "<pre><strong>Input:</strong> boxTypes = [[5,10],[2,5],[4,7],[3,9]], truckSize = 10\n",
    "<strong>Output:</strong> 91\n",
    "</pre>\n",
    "\n",
    "<p>&nbsp;</p>\n",
    "<p><strong>Constraints:</strong></p>\n",
    "\n",
    "<ul>\n",
    "\t<li><code>1 &lt;= boxTypes.length &lt;= 1000</code></li>\n",
    "\t<li><code>1 &lt;= numberOfBoxes<sub>i</sub>, numberOfUnitsPerBox<sub>i</sub> &lt;= 1000</code></li>\n",
    "\t<li><code>1 &lt;= truckSize &lt;= 10<sup>6</sup></code></li>\n",
    "</ul>\n",
    "</div></div>"
   ]
  },
  {
   "cell_type": "markdown",
   "id": "7e2011b9-072b-4732-8a9f-aa8cb80160e3",
   "metadata": {
    "tags": []
   },
   "source": [
    "---\n",
    "## **Solution.py**"
   ]
  },
  {
   "cell_type": "code",
   "execution_count": 1,
   "id": "47179035-f285-487c-831d-6a838c9d6f44",
   "metadata": {},
   "outputs": [],
   "source": [
    "from pprint import pprint"
   ]
  },
  {
   "cell_type": "code",
   "execution_count": 2,
   "id": "290dfb34-c6a6-4c36-a410-7845f1909a25",
   "metadata": {},
   "outputs": [],
   "source": [
    "from typing import List, Dict, Tuple"
   ]
  },
  {
   "cell_type": "code",
   "execution_count": 3,
   "id": "f21e50c7-ae80-4e9d-a7e0-bbdcc164b597",
   "metadata": {},
   "outputs": [],
   "source": [
    "class Solution:\n",
    "    def maximumUnits(self, boxTypes: List[List[int]], truckSize: int) -> int:\n",
    "        boxes = sorted(boxTypes, key=lambda x: x[1])\n",
    "        ans = 0\n",
    "        while truckSize > 0 and boxes:\n",
    "            i, x = boxes.pop()\n",
    "            if i > truckSize:\n",
    "                i = truckSize\n",
    "\n",
    "            ans += i*x\n",
    "            truckSize -= i\n",
    "\n",
    "        return ans"
   ]
  },
  {
   "cell_type": "code",
   "execution_count": 4,
   "id": "72ede3f3-fb13-4bb7-9d64-64d936a15c97",
   "metadata": {},
   "outputs": [],
   "source": [
    "inputs = [\n",
    "    [ [[1,3],[2,2],[3,1]] , 4],\n",
    "    [ [[5,10],[2,5],[4,7],[3,9]], 10]\n",
    "]\n",
    "outputs = [\n",
    "    8,\n",
    "    91\n",
    "]"
   ]
  },
  {
   "cell_type": "code",
   "execution_count": 5,
   "id": "d9a7d5c0-fe3b-48d6-b54b-e9e1c6668bf7",
   "metadata": {},
   "outputs": [
    {
     "name": "stdout",
     "output_type": "stream",
     "text": [
      "True 8 8\n",
      "True 91 91\n"
     ]
    }
   ],
   "source": [
    "solution = Solution().maximumUnits\n",
    "\n",
    "for idx, (i, o) in enumerate(zip(inputs, outputs)):\n",
    "    sol_ = solution(*i)\n",
    "    print(sol_==o, sol_, o)"
   ]
  },
  {
   "cell_type": "markdown",
   "id": "9d1db16b-f582-4e94-8495-17fcc96e70e2",
   "metadata": {},
   "source": [
    "<div><div class=\"ant-table-wrapper table__1sPX\"><div class=\"ant-spin-nested-loading\"><div class=\"ant-spin-container\"><div class=\"ant-table ant-table-default ant-table-scroll-position-left\"><div class=\"ant-table-content\"><div class=\"ant-table-body\"><table class=\"\"><colgroup><col><col><col><col><col></colgroup><thead class=\"ant-table-thead\"><tr><th class=\"time-column__1guG\"><span class=\"ant-table-header-column\"><div><span class=\"ant-table-column-title\">Time Submitted</span><span class=\"ant-table-column-sorter\"></span></div></span></th><th class=\"status-column__3SUg\"><span class=\"ant-table-header-column\"><div><span class=\"ant-table-column-title\">Status</span><span class=\"ant-table-column-sorter\"></span></div></span></th><th class=\"runtime-column__1ka_\"><span class=\"ant-table-header-column\"><div><span class=\"ant-table-column-title\">Runtime</span><span class=\"ant-table-column-sorter\"></span></div></span></th><th class=\"memory-column__1dxp\"><span class=\"ant-table-header-column\"><div><span class=\"ant-table-column-title\">Memory</span><span class=\"ant-table-column-sorter\"></span></div></span></th><th class=\"lang-column__tR-8\"><span class=\"ant-table-header-column\"><div><span class=\"ant-table-column-title\">Language</span><span class=\"ant-table-column-sorter\"></span></div></span></th></tr></thead><tbody class=\"ant-table-tbody\"><tr class=\"ant-table-row ant-table-row-level-0\" data-row-key=\"674911906\"><td class=\"time-column__1guG\">04/06/2022 17:12</td><td class=\"status-column__3SUg\"><a href=\"/submissions/detail/674911906/\" target=\"_blank\" class=\"ac__35gz\" data-submission-id=\"674911906\">Accepted</a></td><td class=\"runtime-column__1ka_\">183 ms</td><td class=\"memory-column__1dxp\">14.5 MB</td><td class=\"lang-column__tR-8\">python3</td></tr></tbody></table></div></div></div></div></div></div></div>"
   ]
  },
  {
   "cell_type": "markdown",
   "id": "30cd5633-fe90-4c81-998b-cf0c475d6274",
   "metadata": {},
   "source": [
    "<br>\n",
    "\n",
    "---\n",
    "---\n",
    "\n",
    "<br>"
   ]
  },
  {
   "cell_type": "markdown",
   "id": "ff49fb96-9c51-4fdc-a4b8-6a3cea4b148a",
   "metadata": {
    "tags": []
   },
   "source": [
    "# [**152. Maximum Product Subarray**](https://leetcode.com/problems/maximum-product-subarray/)\n",
    "<div class=\"content__u3I1 question-content__JfgR\"><div><p>Given an integer array <code>nums</code>, find a contiguous non-empty subarray within the array that has the largest product, and return <em>the product</em>.</p>\n",
    "\n",
    "<p>The test cases are generated so that the answer will fit in a <strong>32-bit</strong> integer.</p>\n",
    "\n",
    "<p>A <strong>subarray</strong> is a contiguous subsequence of the array.</p>\n",
    "\n",
    "<p>&nbsp;</p>\n",
    "<p><strong>Example 1:</strong></p>\n",
    "\n",
    "<pre><strong>Input:</strong> nums = [2,3,-2,4]\n",
    "<strong>Output:</strong> 6\n",
    "<strong>Explanation:</strong> [2,3] has the largest product 6.\n",
    "</pre>\n",
    "\n",
    "<p><strong>Example 2:</strong></p>\n",
    "\n",
    "<pre><strong>Input:</strong> nums = [-2,0,-1]\n",
    "<strong>Output:</strong> 0\n",
    "<strong>Explanation:</strong> The result cannot be 2, because [-2,-1] is not a subarray.\n",
    "</pre>\n",
    "\n",
    "<p>&nbsp;</p>\n",
    "<p><strong>Constraints:</strong></p>\n",
    "\n",
    "<ul>\n",
    "\t<li><code>1 &lt;= nums.length &lt;= 2 * 10<sup>4</sup></code></li>\n",
    "\t<li><code>-10 &lt;= nums[i] &lt;= 10</code></li>\n",
    "\t<li>The product of any prefix or suffix of <code>nums</code> is <strong>guaranteed</strong> to fit in a <strong>32-bit</strong> integer.</li>\n",
    "</ul>\n",
    "</div></div>"
   ]
  },
  {
   "cell_type": "markdown",
   "id": "06add231-b098-4a98-b8c3-3854db004492",
   "metadata": {
    "tags": []
   },
   "source": [
    "## **Solution.py**"
   ]
  },
  {
   "cell_type": "code",
   "execution_count": 6,
   "id": "233e857e-b80b-490d-b3af-076e346c5237",
   "metadata": {},
   "outputs": [],
   "source": [
    "from typing import List, Dict, Tuple"
   ]
  },
  {
   "cell_type": "code",
   "execution_count": 7,
   "id": "29e9c103-58bd-4add-9d60-7837736dde64",
   "metadata": {},
   "outputs": [],
   "source": [
    "class Solution:\n",
    "    def maxProduct(self, nums: List[int]) -> int:\n",
    "        ans = 0\n",
    "        dp_M = [0]*len(nums)\n",
    "        dp_m = [0]*len(nums)\n",
    "\n",
    "        dp_M[0]=nums[0]\n",
    "        dp_m[0]=nums[0]\n",
    "\n",
    "        def next_dp(i):\n",
    "            if nums[i]>0:\n",
    "                dp_M[i] = max(nums[i], dp_M[i-1]*nums[i])\n",
    "                dp_m[i] = min(nums[i], dp_m[i-1]*nums[i])\n",
    "            else:\n",
    "                dp_M[i] = max(nums[i], dp_m[i-1]*nums[i])\n",
    "                dp_m[i] = min(nums[i], dp_M[i-1]*nums[i])\n",
    "\n",
    "        for i in range(1, len(nums)):\n",
    "            next_dp(i)\n",
    "\n",
    "        ans = max(dp_M)\n",
    "\n",
    "        return ans"
   ]
  },
  {
   "cell_type": "code",
   "execution_count": 8,
   "id": "203ffed6-5079-4de8-a6cd-1faf68318bc1",
   "metadata": {},
   "outputs": [],
   "source": [
    "inputs = [\n",
    "    [2,3,-2,4],\n",
    "    [-2,0,-1],\n",
    "    [0,2],\n",
    "    [-2,3,-4],\n",
    "    [-4,-3,-2]\n",
    "]\n",
    "outputs = [\n",
    "    6,\n",
    "    0,\n",
    "    2,\n",
    "    24,\n",
    "    12\n",
    "]"
   ]
  },
  {
   "cell_type": "code",
   "execution_count": 9,
   "id": "e2ba741e-00a2-45cc-b592-464f9a4af97f",
   "metadata": {
    "tags": []
   },
   "outputs": [
    {
     "name": "stdout",
     "output_type": "stream",
     "text": [
      "True 6 6\n",
      "True 0 0\n",
      "True 2 2\n",
      "True 24 24\n",
      "True 12 12\n"
     ]
    }
   ],
   "source": [
    "solution = Solution().maxProduct\n",
    "\n",
    "for idx, (i, o) in enumerate(zip(inputs, outputs)):\n",
    "    sol_ = solution(i)\n",
    "    print(sol_==o, sol_, o)"
   ]
  },
  {
   "cell_type": "markdown",
   "id": "cdf67edf-5b0f-446a-a306-91672c0026fb",
   "metadata": {},
   "source": [
    "<div><div class=\"ant-table-wrapper table__1sPX\"><div class=\"ant-spin-nested-loading\"><div class=\"ant-spin-container\"><div class=\"ant-table ant-table-default ant-table-scroll-position-left\"><div class=\"ant-table-content\"><div class=\"ant-table-body\"><table class=\"\"><colgroup><col><col><col><col><col></colgroup><thead class=\"ant-table-thead\"><tr><th class=\"time-column__1guG\"><span class=\"ant-table-header-column\"><div><span class=\"ant-table-column-title\">Time Submitted</span><span class=\"ant-table-column-sorter\"></span></div></span></th><th class=\"status-column__3SUg\"><span class=\"ant-table-header-column\"><div><span class=\"ant-table-column-title\">Status</span><span class=\"ant-table-column-sorter\"></span></div></span></th><th class=\"runtime-column__1ka_\"><span class=\"ant-table-header-column\"><div><span class=\"ant-table-column-title\">Runtime</span><span class=\"ant-table-column-sorter\"></span></div></span></th><th class=\"memory-column__1dxp\"><span class=\"ant-table-header-column\"><div><span class=\"ant-table-column-title\">Memory</span><span class=\"ant-table-column-sorter\"></span></div></span></th><th class=\"lang-column__tR-8\"><span class=\"ant-table-header-column\"><div><span class=\"ant-table-column-title\">Language</span><span class=\"ant-table-column-sorter\"></span></div></span></th></tr></thead><tbody class=\"ant-table-tbody\"><tr class=\"ant-table-row ant-table-row-level-0\" data-row-key=\"674934631\"><td class=\"time-column__1guG\">04/06/2022 18:15</td><td class=\"status-column__3SUg\"><a href=\"/submissions/detail/674934631/\" target=\"_blank\" class=\"ac__35gz\" data-submission-id=\"674934631\">Accepted</a></td><td class=\"runtime-column__1ka_\">84 ms</td><td class=\"memory-column__1dxp\">15.8 MB</td><td class=\"lang-column__tR-8\">python3</td></tr></tbody></table></div></div></div></div></div></div></div>"
   ]
  }
 ],
 "metadata": {
  "kernelspec": {
   "display_name": "Python 3 (ipykernel)",
   "language": "python",
   "name": "python3"
  },
  "language_info": {
   "codemirror_mode": {
    "name": "ipython",
    "version": 3
   },
   "file_extension": ".py",
   "mimetype": "text/x-python",
   "name": "python",
   "nbconvert_exporter": "python",
   "pygments_lexer": "ipython3",
   "version": "3.7.0"
  }
 },
 "nbformat": 4,
 "nbformat_minor": 5
}