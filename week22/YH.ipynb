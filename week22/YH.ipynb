{
 "cells": [
  {
   "cell_type": "markdown",
   "id": "df5f6a66",
   "metadata": {
    "tags": []
   },
   "source": [
    "# [**1935. Maximum Number of Words You Can Type**](https://leetcode.com/problems/maximum-number-of-words-you-can-type/)\n",
    "\n",
    "<div class=\"content__u3I1 question-content__JfgR\"><div><p>There is a malfunctioning keyboard where some letter keys do not work. All other keys on the keyboard work properly.</p>\n",
    "\n",
    "<p>Given a string <code>text</code> of words separated by a single space (no leading or trailing spaces) and a string <code>brokenLetters</code> of all <strong>distinct</strong> letter keys that are broken, return <em>the <strong>number of words</strong> in</em> <code>text</code> <em>you can fully type using this keyboard</em>.</p>\n",
    "\n",
    "<p>&nbsp;</p>\n",
    "<p><strong>Example 1:</strong></p>\n",
    "\n",
    "<pre><strong>Input:</strong> text = \"hello world\", brokenLetters = \"ad\"\n",
    "<strong>Output:</strong> 1\n",
    "<strong>Explanation:</strong> We cannot type \"world\" because the 'd' key is broken.\n",
    "</pre>\n",
    "\n",
    "<p><strong>Example 2:</strong></p>\n",
    "\n",
    "<pre><strong>Input:</strong> text = \"leet code\", brokenLetters = \"lt\"\n",
    "<strong>Output:</strong> 1\n",
    "<strong>Explanation:</strong> We cannot type \"leet\" because the 'l' and 't' keys are broken.\n",
    "</pre>\n",
    "\n",
    "<p><strong>Example 3:</strong></p>\n",
    "\n",
    "<pre><strong>Input:</strong> text = \"leet code\", brokenLetters = \"e\"\n",
    "<strong>Output:</strong> 0\n",
    "<strong>Explanation:</strong> We cannot type either word because the 'e' key is broken.\n",
    "</pre>\n",
    "\n",
    "<p>&nbsp;</p>\n",
    "<p><strong>Constraints:</strong></p>\n",
    "\n",
    "<ul>\n",
    "\t<li><code>1 &lt;= text.length &lt;= 10<sup>4</sup></code></li>\n",
    "\t<li><code>0 &lt;= brokenLetters.length &lt;= 26</code></li>\n",
    "\t<li><code>text</code> consists of words separated by a single space without any leading or trailing spaces.</li>\n",
    "\t<li>Each word only consists of lowercase English letters.</li>\n",
    "\t<li><code>brokenLetters</code> consists of <strong>distinct</strong> lowercase English letters.</li>\n",
    "</ul>\n",
    "</div></div>"
   ]
  },
  {
   "cell_type": "markdown",
   "id": "7e2011b9-072b-4732-8a9f-aa8cb80160e3",
   "metadata": {
    "tags": []
   },
   "source": [
    "---\n",
    "## **Solution.py**"
   ]
  },
  {
   "cell_type": "code",
   "execution_count": 1,
   "id": "47179035-f285-487c-831d-6a838c9d6f44",
   "metadata": {},
   "outputs": [],
   "source": [
    "from pprint import pprint"
   ]
  },
  {
   "cell_type": "code",
   "execution_count": 2,
   "id": "290dfb34-c6a6-4c36-a410-7845f1909a25",
   "metadata": {},
   "outputs": [],
   "source": [
    "from typing import List, Dict, Tuple"
   ]
  },
  {
   "cell_type": "code",
   "execution_count": 3,
   "id": "f21e50c7-ae80-4e9d-a7e0-bbdcc164b597",
   "metadata": {},
   "outputs": [],
   "source": [
    "class Solution:\n",
    "    def canBeTypedWords(self, text: str, brokenLetters: str) -> int:\n",
    "        result = 0\n",
    "        broken_set = set(brokenLetters)\n",
    "        words = text.split(' ')\n",
    "        for word in words:\n",
    "            for s in word:\n",
    "                if s in broken_set:\n",
    "                    result += 1\n",
    "                    break\n",
    "        return len(words) - result\n"
   ]
  },
  {
   "cell_type": "code",
   "execution_count": 4,
   "id": "72ede3f3-fb13-4bb7-9d64-64d936a15c97",
   "metadata": {},
   "outputs": [],
   "source": [
    "inputs = [\n",
    "    (\"hello world\",\"ad\"),\n",
    "    (\"leet code\",\"lt\"),\n",
    "    (\"leet code\",\"e\")\n",
    "]\n",
    "outputs = [\n",
    "    1,\n",
    "    1,\n",
    "    0\n",
    "]"
   ]
  },
  {
   "cell_type": "code",
   "execution_count": 5,
   "id": "d9a7d5c0-fe3b-48d6-b54b-e9e1c6668bf7",
   "metadata": {},
   "outputs": [
    {
     "name": "stdout",
     "output_type": "stream",
     "text": [
      "True 1 1\n",
      "True 1 1\n",
      "True 0 0\n"
     ]
    }
   ],
   "source": [
    "solution = Solution().canBeTypedWords\n",
    "\n",
    "for idx, (i, o) in enumerate(zip(inputs, outputs)):\n",
    "    sol_ = solution(*i)\n",
    "    print(sol_==o, sol_, o)"
   ]
  },
  {
   "cell_type": "markdown",
   "id": "9d1db16b-f582-4e94-8495-17fcc96e70e2",
   "metadata": {},
   "source": [
    "Time Submitted | Status | Runtime | Memory | Language\n",
    "-- | -- | -- | -- | --\n",
    "05/18/2022 14:35 | Accepted | 37 ms | 13.9 MB | python3\n",
    "05/18/2022 14:33 | Accepted | 39 ms | 13.9 MB | python3\n",
    "05/18/2022 14:33 | Accepted | 57 ms | 13.9 MB | python3\n",
    "\n"
   ]
  },
  {
   "cell_type": "markdown",
   "id": "30cd5633-fe90-4c81-998b-cf0c475d6274",
   "metadata": {},
   "source": [
    "<br>\n",
    "\n",
    "---\n",
    "---\n",
    "\n",
    "<br>"
   ]
  },
  {
   "cell_type": "markdown",
   "id": "ff49fb96-9c51-4fdc-a4b8-6a3cea4b148a",
   "metadata": {
    "tags": []
   },
   "source": [
    "# [**1348. Tweet Counts Per Frequency**](https://leetcode.com/problems/tweet-counts-per-frequency/)\n",
    "\n",
    "<div class=\"content__u3I1 question-content__JfgR\"><div><p>A social media company is trying to monitor activity on their site by analyzing the number of tweets that occur in select periods of time. These periods can be partitioned into smaller <strong>time chunks</strong> based on a certain frequency (every <strong>minute</strong>, <strong>hour</strong>, or <strong>day</strong>).</p>\n",
    "\n",
    "<p>For example, the period <code>[10, 10000]</code> (in <strong>seconds</strong>) would be partitioned into the following <strong>time chunks</strong> with these frequencies:</p>\n",
    "\n",
    "<ul>\n",
    "\t<li>Every <strong>minute</strong> (60-second chunks): <code>[10,69]</code>, <code>[70,129]</code>, <code>[130,189]</code>, <code>...</code>, <code>[9970,10000]</code></li>\n",
    "\t<li>Every <strong>hour</strong> (3600-second chunks): <code>[10,3609]</code>, <code>[3610,7209]</code>, <code>[7210,10000]</code></li>\n",
    "\t<li>Every <strong>day</strong> (86400-second chunks): <code>[10,10000]</code></li>\n",
    "</ul>\n",
    "\n",
    "<p>Notice that the last chunk may be shorter than the specified frequency's chunk size and will always end with the end time of the period (<code>10000</code> in the above example).</p>\n",
    "\n",
    "<p>Design and implement an API to help the company with their analysis.</p>\n",
    "\n",
    "<p>Implement the <code>TweetCounts</code> class:</p>\n",
    "\n",
    "<ul>\n",
    "\t<li><code>TweetCounts()</code> Initializes the <code>TweetCounts</code> object.</li>\n",
    "\t<li><code>void recordTweet(String tweetName, int time)</code> Stores the <code>tweetName</code> at the recorded <code>time</code> (in <strong>seconds</strong>).</li>\n",
    "\t<li><code>List&lt;Integer&gt; getTweetCountsPerFrequency(String freq, String tweetName, int startTime, int endTime)</code> Returns a list of integers representing the number of tweets with <code>tweetName</code> in each <strong>time chunk</strong> for the given period of time <code>[startTime, endTime]</code> (in <strong>seconds</strong>) and frequency <code>freq</code>.\n",
    "\t<ul>\n",
    "\t\t<li><code>freq</code> is one of <code>\"minute\"</code>, <code>\"hour\"</code>, or <code>\"day\"</code> representing a frequency of every <strong>minute</strong>, <strong>hour</strong>, or <strong>day</strong> respectively.</li>\n",
    "\t</ul>\n",
    "\t</li>\n",
    "</ul>\n",
    "\n",
    "<p>&nbsp;</p>\n",
    "<p><strong>Example:</strong></p>\n",
    "\n",
    "<pre><strong>Input</strong>\n",
    "[\"TweetCounts\",\"recordTweet\",\"recordTweet\",\"recordTweet\",\"getTweetCountsPerFrequency\",\"getTweetCountsPerFrequency\",\"recordTweet\",\"getTweetCountsPerFrequency\"]\n",
    "[[],[\"tweet3\",0],[\"tweet3\",60],[\"tweet3\",10],[\"minute\",\"tweet3\",0,59],[\"minute\",\"tweet3\",0,60],[\"tweet3\",120],[\"hour\",\"tweet3\",0,210]]\n",
    "\n",
    "<strong>Output</strong>\n",
    "[null,null,null,null,[2],[2,1],null,[4]]\n",
    "\n",
    "<strong>Explanation</strong>\n",
    "TweetCounts tweetCounts = new TweetCounts();\n",
    "tweetCounts.recordTweet(\"tweet3\", 0);                              // New tweet \"tweet3\" at time 0\n",
    "tweetCounts.recordTweet(\"tweet3\", 60);                             // New tweet \"tweet3\" at time 60\n",
    "tweetCounts.recordTweet(\"tweet3\", 10);                             // New tweet \"tweet3\" at time 10\n",
    "tweetCounts.getTweetCountsPerFrequency(\"minute\", \"tweet3\", 0, 59); // return [2]; chunk [0,59] had 2 tweets\n",
    "tweetCounts.getTweetCountsPerFrequency(\"minute\", \"tweet3\", 0, 60); // return [2,1]; chunk [0,59] had 2 tweets, chunk [60,60] had 1 tweet\n",
    "tweetCounts.recordTweet(\"tweet3\", 120);                            // New tweet \"tweet3\" at time 120\n",
    "tweetCounts.getTweetCountsPerFrequency(\"hour\", \"tweet3\", 0, 210);  // return [4]; chunk [0,210] had 4 tweets\n",
    "</pre>\n",
    "\n",
    "<p>&nbsp;</p>\n",
    "<p><strong>Constraints:</strong></p>\n",
    "\n",
    "<ul>\n",
    "\t<li><code>0 &lt;= time, startTime, endTime &lt;= 10<sup>9</sup></code></li>\n",
    "\t<li><code>0 &lt;= endTime - startTime &lt;= 10<sup>4</sup></code></li>\n",
    "\t<li>There will be at most <code>10<sup>4</sup></code> calls <strong>in total</strong> to <code>recordTweet</code> and <code>getTweetCountsPerFrequency</code>.</li>\n",
    "</ul>\n",
    "</div></div>"
   ]
  },
  {
   "cell_type": "markdown",
   "id": "06add231-b098-4a98-b8c3-3854db004492",
   "metadata": {
    "tags": []
   },
   "source": [
    "## **Solution.py**"
   ]
  },
  {
   "cell_type": "code",
   "execution_count": 6,
   "id": "233e857e-b80b-490d-b3af-076e346c5237",
   "metadata": {},
   "outputs": [],
   "source": [
    "from typing import List, Dict, Tuple"
   ]
  },
  {
   "cell_type": "code",
   "execution_count": 7,
   "id": "8255bd4e-f6cc-4db1-829c-077c5c8dd400",
   "metadata": {},
   "outputs": [],
   "source": [
    "from collections import defaultdict\n",
    "from bisect import bisect_left, bisect_right\n",
    "\n",
    "class TweetCounts:\n",
    "\n",
    "    def __init__(self):\n",
    "        self.record_dict = defaultdict(list)\n",
    "        self.chunk_dict = {\n",
    "            \"minute\" : 60,\n",
    "            \"hour\" : 3600,\n",
    "            \"day\" : 86400\n",
    "        }\n",
    "        \n",
    "\n",
    "    def recordTweet(self, tweetName: str, time: int) -> None:\n",
    "        record_list = self.record_dict[tweetName]\n",
    "        insert_idx = bisect_left(record_list, time)\n",
    "        record_list.insert(insert_idx, time)\n",
    "        #print(f\"[recordTweet]  {self.record_dict}\")\n",
    "        \n",
    "        \n",
    "\n",
    "    def getTweetCountsPerFrequency(self, freq: str, tweetName: str, startTime: int, endTime: int) -> List[int]:\n",
    "        record_list = self.record_dict[tweetName]\n",
    "        \n",
    "        result_list = []\n",
    "        chunk_list = list(range(startTime, endTime+1, self.chunk_dict[freq]))\n",
    "        chunk_list.append(endTime+1)\n",
    "        #print(f\"chunk_list : {chunk_list}\")\n",
    "        start_idx = min(bisect_left(record_list, startTime), len(record_list)-1)\n",
    "        #print(f\"record_list: {record_list} startTime : {startTime} start_idx : {start_idx}\")\n",
    "        p_time = record_list[start_idx]\n",
    "        #print(f\"record_list: {record_list} start_idx : {start_idx} p_time : {p_time}\")\n",
    "        for idx, start_t in enumerate(chunk_list[:-1]):\n",
    "            next_time = chunk_list[idx+1]\n",
    "            if p_time >= start_t and p_time < next_time:\n",
    "                cnt = 1\n",
    "                start_idx += 1\n",
    "                #print(f\"{record_list} p_time:{p_time} next_time:{next_time}\")\n",
    "                for record_p_time in record_list[start_idx:]:\n",
    "                    #print(f\"record_p_time : {record_p_time} next_time : {next_time}\")\n",
    "                    start_idx += 1\n",
    "                    if record_p_time < next_time:\n",
    "                        cnt += 1\n",
    "                    else:\n",
    "                        p_time = record_p_time\n",
    "                        break\n",
    "                result_list.append(cnt)\n",
    "            else:\n",
    "                result_list.append(0)\n",
    "\n",
    "        return result_list\n",
    "        \n",
    "            \n",
    "                \n",
    "        \n",
    "\n",
    "\n",
    "# Your TweetCounts object will be instantiated and called as such:\n",
    "# obj = TweetCounts()\n",
    "# obj.recordTweet(tweetName,time)\n",
    "# param_2 = obj.getTweetCountsPerFrequency(freq,tweetName,startTime,endTime)"
   ]
  },
  {
   "cell_type": "markdown",
   "id": "cdf67edf-5b0f-446a-a306-91672c0026fb",
   "metadata": {},
   "source": [
    "<img width=\"330\" alt=\"image\" src=\"https://user-images.githubusercontent.com/42428487/166638418-5df93356-46a6-48d4-9d67-89e65539ce88.png\">"
   ]
  }
 ],
 "metadata": {
  "kernelspec": {
   "display_name": "Python 3",
   "language": "python",
   "name": "python3"
  },
  "language_info": {
   "codemirror_mode": {
    "name": "ipython",
    "version": 3
   },
   "file_extension": ".py",
   "mimetype": "text/x-python",
   "name": "python",
   "nbconvert_exporter": "python",
   "pygments_lexer": "ipython3",
   "version": "3.8.8"
  }
 },
 "nbformat": 4,
 "nbformat_minor": 5
}
