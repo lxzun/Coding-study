{
 "cells": [
  {
   "cell_type": "markdown",
   "id": "df5f6a66",
   "metadata": {
    "tags": []
   },
   "source": [
    "# [**66. Plus One**](https://leetcode.com/problems/plus-one/)\n",
    "\n",
    "<div><p>You are given a <strong>large integer</strong> represented as an integer array <code>digits</code>, where each <code>digits[i]</code> is the <code>i<sup>th</sup></code> digit of the integer. The digits are ordered from most significant to least significant in left-to-right order. The large integer does not contain any leading <code>0</code>'s.</p>\n",
    "\n",
    "<p>Increment the large integer by one and return <em>the resulting array of digits</em>.</p>\n",
    "\n",
    "<p>&nbsp;</p>\n",
    "<p><strong>Example 1:</strong></p>\n",
    "\n",
    "<pre><strong>Input:</strong> digits = [1,2,3]\n",
    "<strong>Output:</strong> [1,2,4]\n",
    "<strong>Explanation:</strong> The array represents the integer 123.\n",
    "Incrementing by one gives 123 + 1 = 124.\n",
    "Thus, the result should be [1,2,4].\n",
    "</pre>\n",
    "\n",
    "<p><strong>Example 2:</strong></p>\n",
    "\n",
    "<pre><strong>Input:</strong> digits = [4,3,2,1]\n",
    "<strong>Output:</strong> [4,3,2,2]\n",
    "<strong>Explanation:</strong> The array represents the integer 4321.\n",
    "Incrementing by one gives 4321 + 1 = 4322.\n",
    "Thus, the result should be [4,3,2,2].\n",
    "</pre>\n",
    "\n",
    "<p><strong>Example 3:</strong></p>\n",
    "\n",
    "<pre><strong>Input:</strong> digits = [9]\n",
    "<strong>Output:</strong> [1,0]\n",
    "<strong>Explanation:</strong> The array represents the integer 9.\n",
    "Incrementing by one gives 9 + 1 = 10.\n",
    "Thus, the result should be [1,0].\n",
    "</pre>\n",
    "\n",
    "<p>&nbsp;</p>\n",
    "<p><strong>Constraints:</strong></p>\n",
    "\n",
    "<ul>\n",
    "\t<li><code>1 &lt;= digits.length &lt;= 100</code></li>\n",
    "\t<li><code>0 &lt;= digits[i] &lt;= 9</code></li>\n",
    "\t<li><code>digits</code> does not contain any leading <code>0</code>'s.</li>\n",
    "</ul>\n",
    "</div>"
   ]
  },
  {
   "cell_type": "markdown",
   "id": "7e2011b9-072b-4732-8a9f-aa8cb80160e3",
   "metadata": {
    "tags": []
   },
   "source": [
    "---\n",
    "## **Solution.py**"
   ]
  },
  {
   "cell_type": "code",
   "execution_count": 1,
   "id": "47179035-f285-487c-831d-6a838c9d6f44",
   "metadata": {},
   "outputs": [],
   "source": [
    "from pprint import pprint"
   ]
  },
  {
   "cell_type": "code",
   "execution_count": 2,
   "id": "290dfb34-c6a6-4c36-a410-7845f1909a25",
   "metadata": {},
   "outputs": [],
   "source": [
    "from typing import List, Dict, Tuple"
   ]
  },
  {
   "cell_type": "code",
   "execution_count": 3,
   "id": "f21e50c7-ae80-4e9d-a7e0-bbdcc164b597",
   "metadata": {},
   "outputs": [],
   "source": [
    "class Solution:\n",
    "    def plusOne(self, digits: List[int]) -> List[int]:\n",
    "        num = int(''.join(map(str, digits))) + 1\n",
    "        return list(map(int, list(str(num))))"
   ]
  },
  {
   "cell_type": "code",
   "execution_count": 4,
   "id": "72ede3f3-fb13-4bb7-9d64-64d936a15c97",
   "metadata": {},
   "outputs": [],
   "source": [
    "inputs = [\n",
    "    [1,2,3],\n",
    "    [4,3,2,1],\n",
    "    [9]\n",
    "]\n",
    "outputs = [\n",
    "    [1,2,4],\n",
    "    [4,3,2,2],\n",
    "    [1,0]\n",
    "]"
   ]
  },
  {
   "cell_type": "code",
   "execution_count": 5,
   "id": "d9a7d5c0-fe3b-48d6-b54b-e9e1c6668bf7",
   "metadata": {},
   "outputs": [
    {
     "name": "stdout",
     "output_type": "stream",
     "text": [
      "True [1, 2, 4] [1, 2, 4]\n",
      "True [4, 3, 2, 2] [4, 3, 2, 2]\n",
      "True [1, 0] [1, 0]\n"
     ]
    }
   ],
   "source": [
    "solution = Solution().plusOne\n",
    "\n",
    "for idx, (i, o) in enumerate(zip(inputs, outputs)):\n",
    "    sol_ = solution(i)\n",
    "    print(sol_==o, sol_, o)"
   ]
  },
  {
   "cell_type": "markdown",
   "id": "9d1db16b-f582-4e94-8495-17fcc96e70e2",
   "metadata": {},
   "source": [
    "<img width=\"330\" alt=\"image\" src=\"https://user-images.githubusercontent.com/42428487/164082461-205eb99e-9c34-463c-8c3c-15184a02b00f.png\">\n"
   ]
  },
  {
   "cell_type": "markdown",
   "id": "30cd5633-fe90-4c81-998b-cf0c475d6274",
   "metadata": {},
   "source": [
    "<br>\n",
    "\n",
    "---\n",
    "---\n",
    "\n",
    "<br>"
   ]
  },
  {
   "cell_type": "markdown",
   "id": "ff49fb96-9c51-4fdc-a4b8-6a3cea4b148a",
   "metadata": {
    "tags": []
   },
   "source": [
    "# [**539. Minimum Time Difference**](https://leetcode.com/problems/minimum-time-difference/)\n",
    "\n",
    "<div>Given a list of 24-hour clock time points in <strong>\"HH:MM\"</strong> format, return <em>the minimum <b>minutes</b> difference between any two time-points in the list</em>.\n",
    "<p>&nbsp;</p>\n",
    "<p><strong>Example 1:</strong></p>\n",
    "<pre><strong>Input:</strong> timePoints = [\"23:59\",\"00:00\"]\n",
    "<strong>Output:</strong> 1\n",
    "</pre><p><strong>Example 2:</strong></p>\n",
    "<pre><strong>Input:</strong> timePoints = [\"00:00\",\"23:59\",\"00:00\"]\n",
    "<strong>Output:</strong> 0\n",
    "</pre>\n",
    "<p>&nbsp;</p>\n",
    "<p><strong>Constraints:</strong></p>\n",
    "\n",
    "<ul>\n",
    "\t<li><code>2 &lt;= timePoints.length &lt;= 2 * 10<sup>4</sup></code></li>\n",
    "\t<li><code>timePoints[i]</code> is in the format <strong>\"HH:MM\"</strong>.</li>\n",
    "</ul>\n",
    "</div>"
   ]
  },
  {
   "cell_type": "markdown",
   "id": "06add231-b098-4a98-b8c3-3854db004492",
   "metadata": {
    "tags": []
   },
   "source": [
    "## **Solution.py**"
   ]
  },
  {
   "cell_type": "code",
   "execution_count": 6,
   "id": "233e857e-b80b-490d-b3af-076e346c5237",
   "metadata": {},
   "outputs": [],
   "source": [
    "from typing import List, Dict, Tuple"
   ]
  },
  {
   "cell_type": "code",
   "execution_count": 7,
   "id": "8255bd4e-f6cc-4db1-829c-077c5c8dd400",
   "metadata": {},
   "outputs": [],
   "source": [
    "def time2minutes(timePoint):\n",
    "    return int(timePoint[:2])*60 + int(timePoint[3:])\n",
    "\n",
    "class Solution:\n",
    "    def findMinDifference(self, timePoints: List[str]) -> int:\n",
    "        timePoints = sorted(map(lambda x: time2minutes(x), timePoints))\n",
    "        diff = [timePoints[i+1]-timePoints[i] for i in range(len(timePoints)-1)] + [ 1440 - timePoints[-1] + timePoints[0] ]\n",
    "        return min(diff)"
   ]
  },
  {
   "cell_type": "code",
   "execution_count": 8,
   "id": "203ffed6-5079-4de8-a6cd-1faf68318bc1",
   "metadata": {},
   "outputs": [],
   "source": [
    "inputs = [\n",
    "    [\"23:59\",\"00:00\"],\n",
    "    [\"00:00\",\"23:59\",\"00:00\"],\n",
    "    [\"05:31\",\"22:08\",\"00:35\"]\n",
    "]\n",
    "outputs = [\n",
    "    1,\n",
    "    0,\n",
    "    147\n",
    "]"
   ]
  },
  {
   "cell_type": "code",
   "execution_count": 9,
   "id": "e2ba741e-00a2-45cc-b592-464f9a4af97f",
   "metadata": {
    "tags": []
   },
   "outputs": [
    {
     "name": "stdout",
     "output_type": "stream",
     "text": [
      "True 1 1\n",
      "True 0 0\n",
      "True 147 147\n"
     ]
    }
   ],
   "source": [
    "solution = Solution().findMinDifference\n",
    "\n",
    "for idx, (i, o) in enumerate(zip(inputs, outputs)):\n",
    "    sol_ = solution(i)\n",
    "    print(sol_==o, sol_, o)"
   ]
  },
  {
   "cell_type": "markdown",
   "id": "cdf67edf-5b0f-446a-a306-91672c0026fb",
   "metadata": {},
   "source": [
    "<img width=\"330\" alt=\"image\" src=\"https://user-images.githubusercontent.com/42428487/164086795-cb507c09-6843-4ae7-9759-b61065f0c015.png\">"
   ]
  }
 ],
 "metadata": {
  "kernelspec": {
   "display_name": "Python 3 (ipykernel)",
   "language": "python",
   "name": "python3"
  },
  "language_info": {
   "codemirror_mode": {
    "name": "ipython",
    "version": 3
   },
   "file_extension": ".py",
   "mimetype": "text/x-python",
   "name": "python",
   "nbconvert_exporter": "python",
   "pygments_lexer": "ipython3",
   "version": "3.7.0"
  }
 },
 "nbformat": 4,
 "nbformat_minor": 5
}
