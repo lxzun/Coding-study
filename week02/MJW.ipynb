{
 "cells": [
  {
   "cell_type": "markdown",
   "id": "e68f3a94-ad57-425b-939b-e238bd8793d4",
   "metadata": {
    "tags": []
   },
   "source": [
    "# [위장](https://programmers.co.kr/learn/courses/30/lessons/42578)\n",
    "\n",
    "스파이들은 매일 다른 옷을 조합하여 입어 자신을 위장합니다.\n",
    "\n",
    "예를 들어 스파이가 가진 옷이 아래와 같고 오늘 스파이가 동그란 안경, 긴 코트, 파란색 티셔츠를 입었다면 다음날은 청바지를 추가로 입거나 동그란 안경 대신 검정 선글라스를 착용하거나 해야 합니다.\n",
    "\n",
    "|종류|이름|\n",
    "|:--:|:--:|\n",
    "|얼굴|동그란 안경, 검정 선글라스|\n",
    "|상의|파란색 티셔츠|\n",
    "|하의|청바지|\n",
    "|겉옷|긴 코트|\n",
    "\n",
    "스파이가 가진 의상들이 담긴 2차원 배열 clothes가 주어질 때 서로 다른 옷의 조합의 수를 return 하도록 solution 함수를 작성해주세요.\n",
    "\n",
    "<br>\n",
    "\n",
    "#### 제한사항\n",
    "- clothes의 각 행은 [의상의 이름, 의상의 종류]로 이루어져 있습니다.\n",
    "- 스파이가 가진 의상의 수는 1개 이상 30개 이하입니다.\n",
    "- 같은 이름을 가진 의상은 존재하지 않습니다.\n",
    "- clothes의 모든 원소는 문자열로 이루어져 있습니다.\n",
    "- 모든 문자열의 길이는 1 이상 20 이하인 자연수이고 알파벳 소문자 또는 '_' 로만 이루어져 있습니다.\n",
    "- 스파이는 하루에 최소 한 개의 의상은 입습니다.\n",
    "\n",
    "<br>\n",
    "\n",
    "#### 입출력 예\n",
    "|clothes|return|\n",
    "|:--:|:--:|\n",
    "|[[\"yellowhat\", \"headgear\"], [\"bluesunglasses\", \"eyewear\"], [\"green_turban\", \"headgear\"]]|5|\n",
    "|[[\"crowmask\", \"face\"], [\"bluesunglasses\", \"face\"], [\"smoky_makeup\", \"face\"]]|3|\n",
    "\n",
    "<br>\n",
    "\n",
    "#### 입출력 예 설명\n",
    "\n",
    "##### 예제 #1\n",
    "headgear에 해당하는 의상이 yellow_hat, green_turban이고 eyewear에 해당하는 의상이 blue_sunglasses이므로 아래와 같이 5개의 조합이 가능합니다.\n",
    "\n",
    "1. yellow_hat\n",
    "2. blue_sunglasses\n",
    "3. green_turban\n",
    "4. yellow_hat + blue_sunglasses\n",
    "5. green_turban + blue_sunglasses\n",
    "\n",
    "<br>\n",
    "\n",
    "##### 예제 #2\n",
    "face에 해당하는 의상이 crow_mask, blue_sunglasses, smoky_makeup이므로 아래와 같이 3개의 조합이 가능합니다.\n",
    "\n",
    "1. crow_mask\n",
    "2. blue_sunglasses\n",
    "3. smoky_makeup"
   ]
  },
  {
   "cell_type": "markdown",
   "id": "d5769c67-0058-4d5d-a6b6-c2aae998c204",
   "metadata": {
    "tags": []
   },
   "source": [
    "# Solution.py"
   ]
  },
  {
   "cell_type": "code",
   "execution_count": 2,
   "id": "fd6fa282-fefa-4c9b-9422-95d2120dbc65",
   "metadata": {},
   "outputs": [],
   "source": [
    "from pprint import pprint"
   ]
  },
  {
   "cell_type": "code",
   "execution_count": 3,
   "id": "c95362f8-5e5a-47e3-a2ea-0b80c058cfa1",
   "metadata": {},
   "outputs": [],
   "source": [
    "# clothes = [[\"yellowhat\", \"headgear\"], [\"bluesunglasses\", \"eyewear\"], [\"green_turban\", \"headgear\"]]\n",
    "\n",
    "from collections import defaultdict\n",
    "\n",
    "def solution(clothes):\n",
    "    c_dict = defaultdict(int)          # c_dict = {'eyewear': 1, 'headgear': 2}\n",
    "    for c_name, c_type in clothes:\n",
    "        c_dict[c_type] += 1\n",
    "    \n",
    "    c_list = list(c_dict.values())     # c_list = [1, 2]\n",
    "    \n",
    "    len_ctype = len(c_dict)\n",
    "    if len_ctype == 1:\n",
    "        return c_list[0]\n",
    "    \n",
    "    answer = c_list[0]+1               # answer = (1+1) * (2+1) - 1\n",
    "    for c in c_list[1:]:\n",
    "        answer *= (c+1)\n",
    "    return answer - 1"
   ]
  },
  {
   "cell_type": "code",
   "execution_count": 4,
   "id": "5ecdd486-95fd-434e-ae1e-db98cb39f1ba",
   "metadata": {},
   "outputs": [],
   "source": [
    "inputs = [\n",
    "    [[\"yellowhat\", \"headgear\"], [\"bluesunglasses\", \"eyewear\"], [\"green_turban\", \"headgear\"]],\n",
    "    [[\"crowmask\", \"face\"], [\"bluesunglasses\", \"face\"], [\"smoky_makeup\", \"face\"]]\n",
    "]\n",
    "outputs = [\n",
    "    5,\n",
    "    3\n",
    "]"
   ]
  },
  {
   "cell_type": "code",
   "execution_count": 5,
   "id": "b1f6cb5f-3c46-42f5-91c2-2eda6ec3cf53",
   "metadata": {},
   "outputs": [
    {
     "name": "stdout",
     "output_type": "stream",
     "text": [
      "5 5\n",
      "3 3\n"
     ]
    }
   ],
   "source": [
    "for idx, (i, o) in enumerate(zip(inputs, outputs)):\n",
    "    print(solution(i), o)"
   ]
  },
  {
   "cell_type": "markdown",
   "id": "590dc257-fd41-43f7-8fc3-f10b013b4ef5",
   "metadata": {},
   "source": [
    "<img src=\"https://user-images.githubusercontent.com/42428487/143057082-7d2687a8-08dd-4f03-8702-759c64d73436.png\" width=\"400;\">"
   ]
  },
  {
   "cell_type": "markdown",
   "id": "f5d28775-3fbf-4aad-9da2-d87d11a46992",
   "metadata": {},
   "source": [
    "---\n",
    "---"
   ]
  },
  {
   "cell_type": "markdown",
   "id": "fd6a327f-d1fc-4ac9-a63b-0b83df487df8",
   "metadata": {},
   "source": [
    "# [베스트앨범](https://programmers.co.kr/learn/courses/30/lessons/42579)\n",
    "\n",
    "\n",
    "#### 문제 설명\n",
    "\n",
    "스트리밍 사이트에서 장르 별로 가장 많이 재생된 노래를 두 개씩 모아 베스트 앨범을 출시하려 합니다. 노래는 고유 번호로 구분하며, 노래를 수록하는 기준은 다음과 같습니다.\n",
    "\n",
    "1. 속한 노래가 많이 재생된 장르를 먼저 수록합니다.\n",
    "2. 장르 내에서 많이 재생된 노래를 먼저 수록합니다.\n",
    "3. 장르 내에서 재생 횟수가 같은 노래 중에서는 고유 번호가 낮은 노래를 먼저 수록합니다.\n",
    "\n",
    "노래의 장르를 나타내는 문자열 배열 genres와 노래별 재생 횟수를 나타내는 정수 배열 plays가 주어질 때, 베스트 앨범에 들어갈 노래의 고유 번호를 순서대로 return 하도록 solution 함수를 완성하세요.\n",
    "\n",
    "<br>\n",
    "\n",
    "#### 제한사항\n",
    "- genres[i]는 고유번호가 i인 노래의 장르입니다.\n",
    "- plays[i]는 고유번호가 i인 노래가 재생된 횟수입니다.\n",
    "- genres와 plays의 길이는 같으며, 이는 1 이상 10,000 이하입니다.\n",
    "- 장르 종류는 100개 미만입니다.\n",
    "- 장르에 속한 곡이 하나라면, 하나의 곡만 선택합니다.\n",
    "- 모든 장르는 재생된 횟수가 다릅니다.\n",
    "\n",
    "<br>\n",
    "\n",
    "#### 입출력 예\n",
    "\n",
    "|genres|plays|return|\n",
    "|:--:|:--:|:--:|\n",
    "|[\"classic\", \"pop\", \"classic\", \"classic\", \"pop\"]|[500, 600, 150, 800, 2500]|[4, 1, 3, 0]|\n",
    "\n",
    "<br>\n",
    "\n",
    "#### 입출력 예 설명\n",
    "classic 장르는 1,450회 재생되었으며, classic 노래는 다음과 같습니다.\n",
    "- 고유 번호 3: 800회 재생\n",
    "- 고유 번호 0: 500회 재생\n",
    "-고유 번호 2: 150회 재생\n",
    "\n",
    "<br>\n",
    "\n",
    "pop 장르는 3,100회 재생되었으며, pop 노래는 다음과 같습니다.\n",
    "- 고유 번호 4: 2,500회 재생\n",
    "- 고유 번호 1: 600회 재생\n",
    "- 따라서 pop 장르의 [4, 1]번 노래를 먼저, classic 장르의 [3, 0]번 노래를 그다음에 수록합니다."
   ]
  },
  {
   "cell_type": "markdown",
   "id": "c44fcf2a-e6e7-42c1-a323-d82dabcbc717",
   "metadata": {},
   "source": [
    "# Solution.py"
   ]
  },
  {
   "cell_type": "code",
   "execution_count": 6,
   "id": "247b9b3f-a544-4164-8264-4ad0c4b05fe2",
   "metadata": {},
   "outputs": [],
   "source": [
    "from pprint import pprint"
   ]
  },
  {
   "cell_type": "code",
   "execution_count": 7,
   "id": "a9edbbb0-20f0-46b7-be3a-b30b16fba0d8",
   "metadata": {},
   "outputs": [],
   "source": [
    "# genres = [\"classic\", \"pop\", \"classic\", \"classic\", \"pop\"]\n",
    "# plays = [500, 600, 150, 800, 2500]\n",
    "\n",
    "from collections import defaultdict\n",
    "\n",
    "def solution(genres, plays):\n",
    "    g_total_dict = defaultdict(int)                    # {'classic': 1450, 'pop': 3100}) \n",
    "    \n",
    "    idx2ply = defaultdict(int)                         # {0: 500, 1: 600, 2: 150, 3: 800, 4: 2500}\n",
    "    g_idx_dict = defaultdict(list)                     # {'classic': [3, 0], 'pop': [4, 1]}\n",
    "    \n",
    "    for idx, (g, p) in enumerate(zip(genres, plays)):\n",
    "        g_total_dict[g] += p\n",
    "        idx2ply[idx] = p\n",
    "        g_idx_dict[g].append(idx)\n",
    "        g_idx_dict[g] = sorted(g_idx_dict[g], key = lambda x : idx2ply[x], reverse=True)[:2]\n",
    "        \n",
    "    answer = list()\n",
    "    for g, _ in sorted(g_total_dict.items(), key=lambda x: x[1], reverse=True): \n",
    "        answer += g_idx_dict[g]\n",
    "    return answer"
   ]
  },
  {
   "cell_type": "code",
   "execution_count": 8,
   "id": "abfcba67-8619-411b-aa00-30f7793ac3ce",
   "metadata": {},
   "outputs": [],
   "source": [
    "inputs = [\n",
    "    ([\"classic\", \"pop\", \"classic\", \"classic\", \"pop\"], [500, 600, 150, 800, 2500]),\n",
    "    ([\"classic\", \"pop\", \"classic\", \"classic\", \"pop\"], [800, 600, 150, 800, 2500]),\n",
    "    ([\"classic\", \"pop\", \"classic\", \"classic\"], [800, 600, 150, 800])\n",
    "]\n",
    "outputs = [\n",
    "    [4, 1, 3, 0],\n",
    "    [4, 1, 0, 3],\n",
    "    [0, 3, 1],\n",
    "]"
   ]
  },
  {
   "cell_type": "code",
   "execution_count": 9,
   "id": "b4378cfe-e705-4ff6-a79d-5e8bbdbe164f",
   "metadata": {},
   "outputs": [
    {
     "name": "stdout",
     "output_type": "stream",
     "text": [
      "[4, 1, 3, 0] [4, 1, 3, 0]\n",
      "[4, 1, 0, 3] [4, 1, 0, 3]\n",
      "[0, 3, 1] [0, 3, 1]\n"
     ]
    }
   ],
   "source": [
    "for idx, (i, o) in enumerate(zip(inputs, outputs)):\n",
    "    print(solution(*i), o)"
   ]
  },
  {
   "cell_type": "markdown",
   "id": "382f2939-e17c-49b6-af2b-7b95d71fae74",
   "metadata": {},
   "source": [
    "<img src=\"https://user-images.githubusercontent.com/42428487/143079199-6dd23c09-1547-4473-86b7-6ba766011e7b.png\" width=\"600;\">"
   ]
  }
 ],
 "metadata": {
  "kernelspec": {
   "display_name": "Python 3 (ipykernel)",
   "language": "python",
   "name": "python3"
  },
  "language_info": {
   "codemirror_mode": {
    "name": "ipython",
    "version": 3
   },
   "file_extension": ".py",
   "mimetype": "text/x-python",
   "name": "python",
   "nbconvert_exporter": "python",
   "pygments_lexer": "ipython3",
   "version": "3.7.0"
  }
 },
 "nbformat": 4,
 "nbformat_minor": 5
}
