{
 "cells": [
  {
   "cell_type": "markdown",
   "id": "5016addb-d420-4101-9464-a67295f7188f",
   "metadata": {
    "tags": []
   },
   "source": [
    "# 위장\n",
    "\n",
    "<html>\n",
    "<body>\n",
    "<!--StartFragment--><h6 class=\"guide-section-title\" style=\"box-sizing: border-box; margin-top: 0px; margin-bottom: 1rem; font-weight: 700; line-height: 1.5; font-size: 14px; font-family: Inter, NotoSansKR, &quot;Helvetica Neue&quot;, Helvetica, Arial, &quot;맑은 고딕&quot;, &quot;malgun gothic&quot;, 돋움, Dotum, sans-serif, &quot;Apple Color Emoji&quot;, &quot;Noto Color Emoji&quot;; color: white; -webkit-font-smoothing: antialiased; font-style: normal; font-variant-ligatures: normal; font-variant-caps: normal; letter-spacing: normal; orphans: 2; text-align: left; text-indent: 0px; text-transform: none; white-space: normal; widows: 2; word-spacing: 0px; -webkit-text-stroke-width: 0px; background-color: rgb(38, 55, 71); text-decoration-thickness: initial; text-decoration-style: initial; text-decoration-color: initial;\">문제 설명</h6><div class=\"markdown solarized-dark\" style=\"box-sizing: border-box; background-color: rgb(38, 55, 71); word-break: normal; overflow-wrap: break-word; color: rgb(178, 192, 204); font-family: Inter, NotoSansKR, &quot;Helvetica Neue&quot;, Helvetica, Arial, &quot;맑은 고딕&quot;, &quot;malgun gothic&quot;, 돋움, Dotum, sans-serif, &quot;Apple Color Emoji&quot;, &quot;Noto Color Emoji&quot;; font-size: 16px; font-style: normal; font-variant-ligatures: normal; font-variant-caps: normal; font-weight: 400; letter-spacing: normal; orphans: 2; text-align: left; text-indent: 0px; text-transform: none; white-space: normal; widows: 2; word-spacing: 0px; -webkit-text-stroke-width: 0px; text-decoration-thickness: initial; text-decoration-style: initial; text-decoration-color: initial;\"><p style=\"box-sizing: border-box; margin: 0px; font-family: Inter, NotoSansKR, &quot;Helvetica Neue&quot;, Helvetica, Arial, &quot;맑은 고딕&quot;, &quot;malgun gothic&quot;, 돋움, Dotum, sans-serif, &quot;Apple Color Emoji&quot;, &quot;Noto Color Emoji&quot;; font-weight: 400; letter-spacing: -0.1px; line-height: 1.8; overflow-wrap: break-word;\">스파이들은 매일 다른 옷을 조합하여 입어 자신을 위장합니다.</p><p style=\"box-sizing: border-box; margin: 0.75rem 0px 0px; font-family: Inter, NotoSansKR, &quot;Helvetica Neue&quot;, Helvetica, Arial, &quot;맑은 고딕&quot;, &quot;malgun gothic&quot;, 돋움, Dotum, sans-serif, &quot;Apple Color Emoji&quot;, &quot;Noto Color Emoji&quot;; font-weight: 400; letter-spacing: -0.1px; line-height: 1.8; overflow-wrap: break-word;\">예를 들어 스파이가 가진 옷이 아래와 같고 오늘 스파이가 동그란 안경, 긴 코트, 파란색 티셔츠를 입었다면 다음날은 청바지를 추가로 입거나 동그란 안경 대신 검정 선글라스를 착용하거나 해야 합니다.</p>\n",
    "\n",
    "종류 | 이름\n",
    "-- | --\n",
    "얼굴 | 동그란 안경, 검정 선글라스\n",
    "상의 | 파란색 티셔츠\n",
    "하의 | 청바지\n",
    "겉옷 | 긴 코트\n",
    "<html>\n",
    "<body>\n",
    "<!--StartFragment--><p style=\"box-sizing: border-box; margin: 0.75rem 0px 0px; font-family: Inter, NotoSansKR, &quot;Helvetica Neue&quot;, Helvetica, Arial, &quot;맑은 고딕&quot;, &quot;malgun gothic&quot;, 돋움, Dotum, sans-serif, &quot;Apple Color Emoji&quot;, &quot;Noto Color Emoji&quot;; font-weight: 400; letter-spacing: -0.1px; line-height: 1.8; overflow-wrap: break-word; color: rgb(178, 192, 204); font-size: 16px; font-style: normal; font-variant-ligatures: normal; font-variant-caps: normal; orphans: 2; text-align: left; text-indent: 0px; text-transform: none; white-space: normal; widows: 2; word-spacing: 0px; -webkit-text-stroke-width: 0px; background-color: rgb(38, 55, 71); text-decoration-thickness: initial; text-decoration-style: initial; text-decoration-color: initial;\">스파이가 가진 의상들이 담긴 2차원 배열 clothes가 주어질 때 서로 다른 옷의 조합의 수를 return 하도록 solution 함수를 작성해주세요.</p><h5 style=\"box-sizing: border-box; margin: 1.5rem 0px 0px; font-weight: 400; line-height: 1.5; font-size: 15px; font-family: Inter, NotoSansKR, &quot;Helvetica Neue&quot;, Helvetica, Arial, &quot;맑은 고딕&quot;, &quot;malgun gothic&quot;, 돋움, Dotum, sans-serif, &quot;Apple Color Emoji&quot;, &quot;Noto Color Emoji&quot;; color: white; letter-spacing: -0.009em; font-style: normal; font-variant-ligatures: normal; font-variant-caps: normal; orphans: 2; text-align: left; text-indent: 0px; text-transform: none; white-space: normal; widows: 2; word-spacing: 0px; -webkit-text-stroke-width: 0px; background-color: rgb(38, 55, 71); text-decoration-thickness: initial; text-decoration-style: initial; text-decoration-color: initial;\">제한사항</h5><ul style=\"box-sizing: border-box; margin: 0.75rem 0px 0px; color: rgb(178, 192, 204); font-family: Inter, NotoSansKR, &quot;Helvetica Neue&quot;, Helvetica, Arial, &quot;맑은 고딕&quot;, &quot;malgun gothic&quot;, 돋움, Dotum, sans-serif, &quot;Apple Color Emoji&quot;, &quot;Noto Color Emoji&quot;; font-size: 16px; font-style: normal; font-variant-ligatures: normal; font-variant-caps: normal; font-weight: 400; letter-spacing: normal; orphans: 2; text-align: left; text-indent: 0px; text-transform: none; white-space: normal; widows: 2; word-spacing: 0px; -webkit-text-stroke-width: 0px; background-color: rgb(38, 55, 71); text-decoration-thickness: initial; text-decoration-style: initial; text-decoration-color: initial;\"><li style=\"box-sizing: border-box; font-size: 16px; letter-spacing: -0.009em; line-height: 1.6;\">clothes의 각 행은 [의상의 이름, 의상의 종류]로 이루어져 있습니다.</li><li style=\"box-sizing: border-box; font-size: 16px; letter-spacing: -0.009em; line-height: 1.6; margin-top: 0.5rem;\">스파이가 가진 의상의 수는 1개 이상 30개 이하입니다.</li><li style=\"box-sizing: border-box; font-size: 16px; letter-spacing: -0.009em; line-height: 1.6; margin-top: 0.5rem;\">같은 이름을 가진 의상은 존재하지 않습니다.</li><li style=\"box-sizing: border-box; font-size: 16px; letter-spacing: -0.009em; line-height: 1.6; margin-top: 0.5rem;\">clothes의 모든 원소는 문자열로 이루어져 있습니다.</li><li style=\"box-sizing: border-box; font-size: 16px; letter-spacing: -0.009em; line-height: 1.6; margin-top: 0.5rem;\">모든 문자열의 길이는 1 이상 20 이하인 자연수이고 알파벳 소문자 또는 '_' 로만 이루어져 있습니다.</li><li style=\"box-sizing: border-box; font-size: 16px; letter-spacing: -0.009em; line-height: 1.6; margin-top: 0.5rem;\">스파이는 하루에 최소 한 개의 의상은 입습니다.</li></ul><h5 style=\"box-sizing: border-box; margin: 1.5rem 0px 0px; font-weight: 400; line-height: 1.5; font-size: 15px; font-family: Inter, NotoSansKR, &quot;Helvetica Neue&quot;, Helvetica, Arial, &quot;맑은 고딕&quot;, &quot;malgun gothic&quot;, 돋움, Dotum, sans-serif, &quot;Apple Color Emoji&quot;, &quot;Noto Color Emoji&quot;; color: white; letter-spacing: -0.009em; font-style: normal; font-variant-ligatures: normal; font-variant-caps: normal; orphans: 2; text-align: left; text-indent: 0px; text-transform: none; white-space: normal; widows: 2; word-spacing: 0px; -webkit-text-stroke-width: 0px; background-color: rgb(38, 55, 71); text-decoration-thickness: initial; text-decoration-style: initial; text-decoration-color: initial;\">입출력 예</h5>\n",
    "\n",
    "clothes | return\n",
    "-- | --\n",
    "[[\"yellowhat\", \"headgear\"], [\"bluesunglasses\", \"eyewear\"], [\"green_turban\", \"headgear\"]] | 5\n",
    "[[\"crowmask\", \"face\"], [\"bluesunglasses\", \"face\"], [\"smoky_makeup\", \"face\"]] | 3\n",
    "\n",
    "<!--EndFragment-->\n",
    "</body>\n",
    "</html>\n",
    "<h5 style=\"box-sizing: border-box; margin: 1.5rem 0px 0px; font-weight: 400; line-height: 1.5; font-size: 15px; font-family: Inter, NotoSansKR, &quot;Helvetica Neue&quot;, Helvetica, Arial, &quot;맑은 고딕&quot;, &quot;malgun gothic&quot;, 돋움, Dotum, sans-serif, &quot;Apple Color Emoji&quot;, &quot;Noto Color Emoji&quot;; color: white; letter-spacing: -0.009em;\">입출력 예 설명</h5><p style=\"box-sizing: border-box; margin: 0.75rem 0px 0px; font-family: Inter, NotoSansKR, &quot;Helvetica Neue&quot;, Helvetica, Arial, &quot;맑은 고딕&quot;, &quot;malgun gothic&quot;, 돋움, Dotum, sans-serif, &quot;Apple Color Emoji&quot;, &quot;Noto Color Emoji&quot;; font-weight: 400; letter-spacing: -0.1px; line-height: 1.8; overflow-wrap: break-word;\">예제 1<br style=\"box-sizing: border-box;\">headgear에 해당하는 의상이 yellow_hat, green_turban이고 eyewear에 해당하는 의상이 blue_sunglasses이므로 아래와 같이 5개의 조합이 가능합니다.</p><div class=\"highlight\" style=\"box-sizing: border-box; margin: 0.75rem 0px 0px; background-color: transparent;\"><pre class=\"codehilite\" style=\"box-sizing: border-box; font-family: Hack, Menlo, Monaco, Consolas, &quot;Courier New&quot;, monospace, &quot;맑은 고딕&quot;, &quot;malgun gothic&quot;, 돋움, Dotum, sans-serif; font-size: 14px; margin: 0px; overflow: auto; display: block; color: rgb(178, 192, 204); padding: 1.25rem 1.5rem; border: none rgb(23, 35, 52); background-color: rgb(32, 43, 61); border-radius: 0.25rem; word-break: break-all; overflow-wrap: break-word; line-height: 1.5;\"><code style=\"box-sizing: border-box; font-family: Hack, Menlo, Monaco, Consolas, &quot;Courier New&quot;, monospace, &quot;맑은 고딕&quot;, &quot;malgun gothic&quot;, 돋움, Dotum, sans-serif; font-size: inherit; color: rgb(205, 215, 224); overflow-wrap: break-word; padding: 0px; border: none rgb(23, 35, 52); margin: 0px; background-color: rgb(32, 43, 61); border-radius: 0px; word-break: normal;\">1. yellow_hat\n",
    "2. blue_sunglasses\n",
    "3. green_turban\n",
    "4. yellow_hat + blue_sunglasses\n",
    "5. green_turban + blue_sunglasses\n",
    "</code></pre></div><p style=\"box-sizing: border-box; margin: 0.75rem 0px 0px; font-family: Inter, NotoSansKR, &quot;Helvetica Neue&quot;, Helvetica, Arial, &quot;맑은 고딕&quot;, &quot;malgun gothic&quot;, 돋움, Dotum, sans-serif, &quot;Apple Color Emoji&quot;, &quot;Noto Color Emoji&quot;; font-weight: 400; letter-spacing: -0.1px; line-height: 1.8; overflow-wrap: break-word;\">예제 2<br style=\"box-sizing: border-box;\">face에 해당하는 의상이 crow_mask, blue_sunglasses, smoky_makeup이므로 아래와 같이 3개의 조합이 가능합니다.</p><div class=\"highlight\" style=\"box-sizing: border-box; margin: 0.75rem 0px 0px; background-color: transparent;\"><pre class=\"codehilite\" style=\"box-sizing: border-box; font-family: Hack, Menlo, Monaco, Consolas, &quot;Courier New&quot;, monospace, &quot;맑은 고딕&quot;, &quot;malgun gothic&quot;, 돋움, Dotum, sans-serif; font-size: 14px; margin: 0px; overflow: auto; display: block; color: rgb(178, 192, 204); padding: 1.25rem 1.5rem; border: none rgb(23, 35, 52); background-color: rgb(32, 43, 61); border-radius: 0.25rem; word-break: break-all; overflow-wrap: break-word; line-height: 1.5;\"><code style=\"box-sizing: border-box; font-family: Hack, Menlo, Monaco, Consolas, &quot;Courier New&quot;, monospace, &quot;맑은 고딕&quot;, &quot;malgun gothic&quot;, 돋움, Dotum, sans-serif; font-size: inherit; color: rgb(205, 215, 224); overflow-wrap: break-word; padding: 0px; border: none rgb(23, 35, 52); margin: 0px; background-color: rgb(32, 43, 61); border-radius: 0px; word-break: normal;\">1. crow_mask\n",
    "2. blue_sunglasses\n",
    "3. smoky_makeup\n",
    "</code></pre></div><p style=\"box-sizing: border-box; margin: 0.75rem 0px 0px; font-family: Inter, NotoSansKR, &quot;Helvetica Neue&quot;, Helvetica, Arial, &quot;맑은 고딕&quot;, &quot;malgun gothic&quot;, 돋움, Dotum, sans-serif, &quot;Apple Color Emoji&quot;, &quot;Noto Color Emoji&quot;; font-weight: 400; letter-spacing: -0.1px; line-height: 1.8; overflow-wrap: break-word;\"><a href=\"http://2013.bapc.eu/\" target=\"_blank\" rel=\"noopener\" style=\"box-sizing: border-box; color: rgb(0, 120, 255); text-decoration: none; background-color: transparent; transition-delay: initial; transition-duration: 0.08s; transition-property: all; transition-timing-function: ease-in-out; cursor: pointer;\">출처</a></p></div><!--EndFragment-->\n",
    "</body>\n",
    "</html>\n"
   ]
  },
  {
   "cell_type": "code",
   "execution_count": 18,
   "id": "51f967bc-b293-4638-9100-bd2def959787",
   "metadata": {},
   "outputs": [
    {
     "name": "stdout",
     "output_type": "stream",
     "text": [
      "clothes : [['yellowhat', 'headgear'], ['bluesunglasses', 'eyewear'], ['green_turban', 'headgear']]\n",
      "[(2, 1)]\n",
      "return 5\n",
      "\n",
      "clothes : [['crowmask', 'face'], ['bluesunglasses', 'face'], ['smoky_makeup', 'face']]\n",
      "return 3\n",
      "\n"
     ]
    }
   ],
   "source": [
    "from itertools import combinations\n",
    "\n",
    "def solution(clothes):\n",
    "    clothes_dict = dict()\n",
    "    for name, cate in clothes:\n",
    "        if cate in clothes_dict:\n",
    "            clothes_dict[cate] += 1\n",
    "        else:\n",
    "            clothes_dict[cate] = 1\n",
    "    cnt_list = [i for f, i in clothes_dict.items()]\n",
    "    \n",
    "    result = len(clothes)\n",
    "    for c_num in range(2,len(cnt_list) + 1):\n",
    "        combin = list(combinations(cnt_list, c_num))\n",
    "        print(combin)\n",
    "        cnt = 1\n",
    "        for n in combin:\n",
    "            for n_ in n:\n",
    "                cnt *= n_\n",
    "        result += cnt\n",
    "    return result\n",
    "    \n",
    "\n",
    "\n",
    "case1 = [[\"yellowhat\", \"headgear\"], [\"bluesunglasses\", \"eyewear\"], [\"green_turban\", \"headgear\"]]\n",
    "case2 = [[\"crowmask\", \"face\"], [\"bluesunglasses\", \"face\"], [\"smoky_makeup\", \"face\"]]\n",
    "\n",
    "for input_ in [case1, case2]:\n",
    "    print(f\"clothes : {input_}\")\n",
    "    print(f\"return {solution(input_)}\\n\")\n"
   ]
  },
  {
   "cell_type": "code",
   "execution_count": 19,
   "id": "df3860da-716e-4e2c-a38d-1c870077c14d",
   "metadata": {},
   "outputs": [
    {
     "name": "stdout",
     "output_type": "stream",
     "text": [
      "[]\n"
     ]
    }
   ],
   "source": [
    "print(list(combinations([3,], 2)))"
   ]
  },
  {
   "cell_type": "markdown",
   "id": "b0648ff4",
   "metadata": {
    "tags": []
   },
   "source": [
    "# 배스트앨범\n",
    "\n",
    "<html>\n",
    "<body>\n",
    "<!--StartFragment--><h6 class=\"guide-section-title\" style=\"box-sizing: border-box; margin-top: 0px; margin-bottom: 1rem; font-weight: 700; line-height: 1.5; font-size: 14px; font-family: Inter, NotoSansKR, &quot;Helvetica Neue&quot;, Helvetica, Arial, &quot;맑은 고딕&quot;, &quot;malgun gothic&quot;, 돋움, Dotum, sans-serif, &quot;Apple Color Emoji&quot;, &quot;Noto Color Emoji&quot;; color: white; -webkit-font-smoothing: antialiased; font-style: normal; font-variant-ligatures: normal; font-variant-caps: normal; letter-spacing: normal; orphans: 2; text-align: left; text-indent: 0px; text-transform: none; white-space: normal; widows: 2; word-spacing: 0px; -webkit-text-stroke-width: 0px; background-color: rgb(38, 55, 71); text-decoration-thickness: initial; text-decoration-style: initial; text-decoration-color: initial;\">문제 설명</h6><div class=\"markdown solarized-dark\" style=\"box-sizing: border-box; background-color: rgb(38, 55, 71); word-break: normal; overflow-wrap: break-word; color: rgb(178, 192, 204); font-family: Inter, NotoSansKR, &quot;Helvetica Neue&quot;, Helvetica, Arial, &quot;맑은 고딕&quot;, &quot;malgun gothic&quot;, 돋움, Dotum, sans-serif, &quot;Apple Color Emoji&quot;, &quot;Noto Color Emoji&quot;; font-size: 16px; font-style: normal; font-variant-ligatures: normal; font-variant-caps: normal; font-weight: 400; letter-spacing: normal; orphans: 2; text-align: left; text-indent: 0px; text-transform: none; white-space: normal; widows: 2; word-spacing: 0px; -webkit-text-stroke-width: 0px; text-decoration-thickness: initial; text-decoration-style: initial; text-decoration-color: initial;\"><p style=\"box-sizing: border-box; margin: 0px; font-family: Inter, NotoSansKR, &quot;Helvetica Neue&quot;, Helvetica, Arial, &quot;맑은 고딕&quot;, &quot;malgun gothic&quot;, 돋움, Dotum, sans-serif, &quot;Apple Color Emoji&quot;, &quot;Noto Color Emoji&quot;; font-weight: 400; letter-spacing: -0.1px; line-height: 1.8; overflow-wrap: break-word;\">스트리밍 사이트에서 장르 별로 가장 많이 재생된 노래를 두 개씩 모아 베스트 앨범을 출시하려 합니다. 노래는 고유 번호로 구분하며, 노래를 수록하는 기준은 다음과 같습니다.</p><ol style=\"box-sizing: border-box; margin: 1rem 0px 0px;\"><li style=\"box-sizing: border-box; font-size: 16px; letter-spacing: -0.009em; line-height: 1.6;\">속한 노래가 많이 재생된 장르를 먼저 수록합니다.</li><li style=\"box-sizing: border-box; font-size: 16px; letter-spacing: -0.009em; line-height: 1.6; margin-top: 0.5rem;\">장르 내에서 많이 재생된 노래를 먼저 수록합니다.</li><li style=\"box-sizing: border-box; font-size: 16px; letter-spacing: -0.009em; line-height: 1.6; margin-top: 0.5rem;\">장르 내에서 재생 횟수가 같은 노래 중에서는 고유 번호가 낮은 노래를 먼저 수록합니다.</li></ol><p style=\"box-sizing: border-box; margin: 0.75rem 0px 0px; font-family: Inter, NotoSansKR, &quot;Helvetica Neue&quot;, Helvetica, Arial, &quot;맑은 고딕&quot;, &quot;malgun gothic&quot;, 돋움, Dotum, sans-serif, &quot;Apple Color Emoji&quot;, &quot;Noto Color Emoji&quot;; font-weight: 400; letter-spacing: -0.1px; line-height: 1.8; overflow-wrap: break-word;\">노래의 장르를 나타내는 문자열 배열 genres와 노래별 재생 횟수를 나타내는 정수 배열 plays가 주어질 때, 베스트 앨범에 들어갈 노래의 고유 번호를 순서대로 return 하도록 solution 함수를 완성하세요.</p><h5 style=\"box-sizing: border-box; margin: 1.5rem 0px 0px; font-weight: 400; line-height: 1.5; font-size: 15px; font-family: Inter, NotoSansKR, &quot;Helvetica Neue&quot;, Helvetica, Arial, &quot;맑은 고딕&quot;, &quot;malgun gothic&quot;, 돋움, Dotum, sans-serif, &quot;Apple Color Emoji&quot;, &quot;Noto Color Emoji&quot;; color: white; letter-spacing: -0.009em;\">제한사항</h5><ul style=\"box-sizing: border-box; margin: 0.75rem 0px 0px;\"><li style=\"box-sizing: border-box; font-size: 16px; letter-spacing: -0.009em; line-height: 1.6;\">genres[i]는 고유번호가 i인 노래의 장르입니다.</li><li style=\"box-sizing: border-box; font-size: 16px; letter-spacing: -0.009em; line-height: 1.6; margin-top: 0.5rem;\">plays[i]는 고유번호가 i인 노래가 재생된 횟수입니다.</li><li style=\"box-sizing: border-box; font-size: 16px; letter-spacing: -0.009em; line-height: 1.6; margin-top: 0.5rem;\">genres와 plays의 길이는 같으며, 이는 1 이상 10,000 이하입니다.</li><li style=\"box-sizing: border-box; font-size: 16px; letter-spacing: -0.009em; line-height: 1.6; margin-top: 0.5rem;\">장르 종류는 100개 미만입니다.</li><li style=\"box-sizing: border-box; font-size: 16px; letter-spacing: -0.009em; line-height: 1.6; margin-top: 0.5rem;\">장르에 속한 곡이 하나라면, 하나의 곡만 선택합니다.</li><li style=\"box-sizing: border-box; font-size: 16px; letter-spacing: -0.009em; line-height: 1.6; margin-top: 0.5rem;\">모든 장르는 재생된 횟수가 다릅니다.</li></ul><h5 style=\"box-sizing: border-box; margin: 1.5rem 0px 0px; font-weight: 400; line-height: 1.5; font-size: 15px; font-family: Inter, NotoSansKR, &quot;Helvetica Neue&quot;, Helvetica, Arial, &quot;맑은 고딕&quot;, &quot;malgun gothic&quot;, 돋움, Dotum, sans-serif, &quot;Apple Color Emoji&quot;, &quot;Noto Color Emoji&quot;; color: white; letter-spacing: -0.009em;\">입출력 예</h5>\n",
    "\n",
    "genres | plays | return\n",
    "-- | -- | --\n",
    "[\"classic\", \"pop\", \"classic\", \"classic\", \"pop\"] | [500, 600, 150, 800, 2500] | [4, 1, 3, 0]\n",
    "\n",
    "<h5 style=\"box-sizing: border-box; margin: 1.5rem 0px 0px; font-weight: 400; line-height: 1.5; font-size: 15px; font-family: Inter, NotoSansKR, &quot;Helvetica Neue&quot;, Helvetica, Arial, &quot;맑은 고딕&quot;, &quot;malgun gothic&quot;, 돋움, Dotum, sans-serif, &quot;Apple Color Emoji&quot;, &quot;Noto Color Emoji&quot;; color: white; letter-spacing: -0.009em;\">입출력 예 설명</h5><p style=\"box-sizing: border-box; margin: 0.75rem 0px 0px; font-family: Inter, NotoSansKR, &quot;Helvetica Neue&quot;, Helvetica, Arial, &quot;맑은 고딕&quot;, &quot;malgun gothic&quot;, 돋움, Dotum, sans-serif, &quot;Apple Color Emoji&quot;, &quot;Noto Color Emoji&quot;; font-weight: 400; letter-spacing: -0.1px; line-height: 1.8; overflow-wrap: break-word;\">classic 장르는 1,450회 재생되었으며, classic 노래는 다음과 같습니다.</p><ul style=\"box-sizing: border-box; margin: 1rem 0px 0px;\"><li style=\"box-sizing: border-box; font-size: 16px; letter-spacing: -0.009em; line-height: 1.6;\">고유 번호 3: 800회 재생</li><li style=\"box-sizing: border-box; font-size: 16px; letter-spacing: -0.009em; line-height: 1.6; margin-top: 0.5rem;\">고유 번호 0: 500회 재생</li><li style=\"box-sizing: border-box; font-size: 16px; letter-spacing: -0.009em; line-height: 1.6; margin-top: 0.5rem;\">고유 번호 2: 150회 재생</li></ul><p style=\"box-sizing: border-box; margin: 0.75rem 0px 0px; font-family: Inter, NotoSansKR, &quot;Helvetica Neue&quot;, Helvetica, Arial, &quot;맑은 고딕&quot;, &quot;malgun gothic&quot;, 돋움, Dotum, sans-serif, &quot;Apple Color Emoji&quot;, &quot;Noto Color Emoji&quot;; font-weight: 400; letter-spacing: -0.1px; line-height: 1.8; overflow-wrap: break-word;\">pop 장르는 3,100회 재생되었으며, pop 노래는 다음과 같습니다.</p><ul style=\"box-sizing: border-box; margin: 1rem 0px 0px;\"><li style=\"box-sizing: border-box; font-size: 16px; letter-spacing: -0.009em; line-height: 1.6;\">고유 번호 4: 2,500회 재생</li><li style=\"box-sizing: border-box; font-size: 16px; letter-spacing: -0.009em; line-height: 1.6; margin-top: 0.5rem;\">고유 번호 1: 600회 재생</li></ul><p style=\"box-sizing: border-box; margin: 0.75rem 0px 0px; font-family: Inter, NotoSansKR, &quot;Helvetica Neue&quot;, Helvetica, Arial, &quot;맑은 고딕&quot;, &quot;malgun gothic&quot;, 돋움, Dotum, sans-serif, &quot;Apple Color Emoji&quot;, &quot;Noto Color Emoji&quot;; font-weight: 400; letter-spacing: -0.1px; line-height: 1.8; overflow-wrap: break-word;\">따라서 pop 장르의 [4, 1]번 노래를 먼저, classic 장르의 [3, 0]번 노래를 그다음에 수록합니다.</p><p style=\"box-sizing: border-box; margin: 0.75rem 0px 0px; font-family: Inter, NotoSansKR, &quot;Helvetica Neue&quot;, Helvetica, Arial, &quot;맑은 고딕&quot;, &quot;malgun gothic&quot;, 돋움, Dotum, sans-serif, &quot;Apple Color Emoji&quot;, &quot;Noto Color Emoji&quot;; font-weight: 400; letter-spacing: -0.1px; line-height: 1.8; overflow-wrap: break-word;\">※ 공지 - 2019년 2월 28일 테스트케이스가 추가되었습니다.</p></div><!--EndFragment-->\n",
    "</body>\n",
    "</html>\n",
    "\n",
    "---\n",
    "출처 - [프로그래머스](https://programmers.co.kr/learn/courses/30/parts/12077)"
   ]
  },
  {
   "cell_type": "code",
   "execution_count": 22,
   "id": "a20a865b-e239-4889-b8fc-3a269aa992e3",
   "metadata": {},
   "outputs": [
    {
     "name": "stdout",
     "output_type": "stream",
     "text": [
      "genres: ['classic', 'pop', 'classic', 'classic', 'pop']\n",
      "plays: [500, 600, 150, 800, 2500]\n",
      "return [4, 1, 3, 0]\n",
      "\n"
     ]
    }
   ],
   "source": [
    "from pprint import pprint\n",
    "\n",
    "def solution(genres, plays):\n",
    "    info_dict = dict()\n",
    "    \n",
    "    for i, (g, p) in enumerate(zip(genres, plays)):\n",
    "        if g in info_dict:\n",
    "            info_dict[g][0] += p\n",
    "            if p > info_dict[g][1][1]:     # first\n",
    "                info_dict[g][2] = info_dict[g][1]\n",
    "                info_dict[g][1] = [i, p]\n",
    "            else:\n",
    "                if p > info_dict[g][2][1]: # second\n",
    "                    info_dict[g][2] = [i, p]\n",
    "        else:\n",
    "            info_dict[g] = [p, [i, p], [-1, 0]]\n",
    "    #pprint(info_dict)\n",
    "    \n",
    "    sorted_list = [i for k, i in info_dict.items()]\n",
    "    sorted_list = sorted(sorted_list, reverse=True, key=lambda x:x[0])\n",
    "    #print(sorted_list)\n",
    "    \n",
    "    result = []\n",
    "    for s_list in sorted_list:\n",
    "        second = s_list[2][0]\n",
    "        if second == -1:\n",
    "            result += [s_list[1][0]]\n",
    "        else:\n",
    "            result += [s_list[1][0], s_list[2][0]]\n",
    "    return result\n",
    "    \n",
    "\n",
    "\n",
    "genres = [\"classic\", \"pop\", \"classic\", \"classic\", \"pop\"]\n",
    "plays = [500, 600, 150, 800, 2500]\n",
    "\n",
    "print(f\"genres: {genres}\")\n",
    "print(f\"plays: {plays}\")\n",
    "print(f\"return {solution(genres, plays)}\\n\")"
   ]
  },
  {
   "cell_type": "code",
   "execution_count": null,
   "id": "677250cb-f89f-4b02-887e-4fb8904f865e",
   "metadata": {},
   "outputs": [],
   "source": []
  }
 ],
 "metadata": {
  "kernelspec": {
   "display_name": "Python 3",
   "language": "python",
   "name": "python3"
  },
  "language_info": {
   "codemirror_mode": {
    "name": "ipython",
    "version": 3
   },
   "file_extension": ".py",
   "mimetype": "text/x-python",
   "name": "python",
   "nbconvert_exporter": "python",
   "pygments_lexer": "ipython3",
   "version": "3.8.8"
  }
 },
 "nbformat": 4,
 "nbformat_minor": 5
}
