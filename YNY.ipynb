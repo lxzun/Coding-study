{
  "nbformat": 4,
  "nbformat_minor": 0,
  "metadata": {
    "colab": {
      "name": "Untitled0.ipynb",
      "provenance": [],
      "collapsed_sections": []
    },
    "kernelspec": {
      "name": "python3",
      "display_name": "Python 3"
    },
    "language_info": {
      "name": "python"
    }
  },
  "cells": [
    {
      "cell_type": "code",
      "execution_count": null,
      "metadata": {
        "id": "NmZQshX8PyyS"
      },
      "outputs": [],
      "source": [
        "class Solution:\n",
        "    def diagonalSum(self, mat: List[List[int]]) -> int:\n",
        "        n = len(mat)\n",
        "        answer = 0\n",
        "\n",
        "        if n%2 == 1:                                #홀수 행렬\n",
        "            for idx,i in enumerate(mat):\n",
        "                    answer +=i[idx]\n",
        "                    answer +=i[n-idx-1]\n",
        "            answer -= mat[n//2][n//2]\n",
        "\n",
        "        else:                                        #짝수 행렬\n",
        "            for idx,i in enumerate(mat):\n",
        "                    answer +=i[idx]\n",
        "                    answer +=i[n-idx-1]\n",
        "\n",
        "        return answer"
      ]
    },
    {
      "cell_type": "code",
      "source": [
        "# Definition for a binary tree node.\n",
        "class TreeNode:\n",
        "    def __init__(self, val=0, left=None, right=None):\n",
        "        self.val = val\n",
        "        self.left = left\n",
        "        self.right = right\n",
        "class Solution:\n",
        "    def addOneRow(self, root, val, depth):\n",
        "        if depth in [0,1]:\n",
        "            node = TreeNode(val)\n",
        "            if depth == 1:\n",
        "                node.left = root\n",
        "            else: node.right = root\n",
        "            return node\n",
        "        if root and depth>=2:\n",
        "            root.left = self.addOneRow(root.left,val,depth-1 if depth>2 else 1)\n",
        "            root.right = self.addOneRow(root.right,val,depth-1 if depth>2 else 0)\n",
        "        return root\n",
        "\n"
      ],
      "metadata": {
        "id": "_zrqCzjJP_I3"
      },
      "execution_count": null,
      "outputs": []
    },
    {
      "cell_type": "code",
      "source": [
        ""
      ],
      "metadata": {
        "id": "JGRn9_POgo2u"
      },
      "execution_count": null,
      "outputs": []
    }
  ]
}