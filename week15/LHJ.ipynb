{
 "cells": [
  {
   "cell_type": "markdown",
   "source": [
    "# [*495. Teemo Attacking*](https://leetcode.com/problems/teemo-attacking/)\n",
    "<div class=\"content__u3I1 question-content__JfgR\"><div><p>Our hero Teemo is attacking an enemy Ashe with poison attacks! When Teemo attacks Ashe, Ashe gets poisoned for a exactly <code>duration</code> seconds. More formally, an attack at second <code>t</code> will mean Ashe is poisoned during the <strong>inclusive</strong> time interval <code>[t, t + duration - 1]</code>. If Teemo attacks again <strong>before</strong> the poison effect ends, the timer for it is <strong>reset</strong>, and the poison effect will end <code>duration</code> seconds after the new attack.</p>\n",
    "\n",
    "<p>You are given a <strong>non-decreasing</strong> integer array <code>timeSeries</code>, where <code>timeSeries[i]</code> denotes that Teemo attacks Ashe at second <code>timeSeries[i]</code>, and an integer <code>duration</code>.</p>\n",
    "\n",
    "<p>Return <em>the <strong>total</strong> number of seconds that Ashe is poisoned</em>.</p>\n",
    "\n",
    "<p>&nbsp;</p>\n",
    "<p><strong>Example 1:</strong></p>\n",
    "\n",
    "<pre><strong>Input:</strong> timeSeries = [1,4], duration = 2\n",
    "<strong>Output:</strong> 4\n",
    "<strong>Explanation:</strong> Teemo's attacks on Ashe go as follows:\n",
    "- At second 1, Teemo attacks, and Ashe is poisoned for seconds 1 and 2.\n",
    "- At second 4, Teemo attacks, and Ashe is poisoned for seconds 4 and 5.\n",
    "Ashe is poisoned for seconds 1, 2, 4, and 5, which is 4 seconds in total.\n",
    "</pre>\n",
    "\n",
    "<p><strong>Example 2:</strong></p>\n",
    "\n",
    "<pre><strong>Input:</strong> timeSeries = [1,2], duration = 2\n",
    "<strong>Output:</strong> 3\n",
    "<strong>Explanation:</strong> Teemo's attacks on Ashe go as follows:\n",
    "- At second 1, Teemo attacks, and Ashe is poisoned for seconds 1 and 2.\n",
    "- At second 2 however, Teemo attacks again and resets the poison timer. Ashe is poisoned for seconds 2 and 3.\n",
    "Ashe is poisoned for seconds 1, 2, and 3, which is 3 seconds in total.</pre>\n",
    "\n",
    "<p>&nbsp;</p>\n",
    "<p><strong>Constraints:</strong></p>\n",
    "\n",
    "<ul>\n",
    "\t<li><code>1 &lt;= timeSeries.length &lt;= 10<sup>4</sup></code></li>\n",
    "\t<li><code>0 &lt;= timeSeries[i], duration &lt;= 10<sup>7</sup></code></li>\n",
    "\t<li><code>timeSeries</code> is sorted in <strong>non-decreasing</strong> order.</li>\n",
    "</ul>\n",
    "</div></div>\n",
    "\n",
    "---"
   ],
   "metadata": {
    "collapsed": false
   }
  },
  {
   "cell_type": "code",
   "execution_count": null,
   "outputs": [],
   "source": [
    "from typing import List, Dict, Tuple\n",
    "\n",
    "class Solution:\n",
    "    def findPoisonedDuration(self, timeSeries: List[int], duration: int) -> int:\n",
    "\n",
    "        ans = 0\n",
    "        prev = None\n",
    "\n",
    "        for i, x in enumerate(timeSeries):\n",
    "            if prev != None and x >= prev and x <= prev + duration:\n",
    "                ans += x - timeSeries[i-1]\n",
    "                prev = x\n",
    "                continue\n",
    "\n",
    "            ans += duration\n",
    "            prev = x\n",
    "\n",
    "        return ans"
   ],
   "metadata": {
    "collapsed": false,
    "pycharm": {
     "name": "#%%\n"
    }
   }
  },
  {
   "cell_type": "code",
   "execution_count": null,
   "outputs": [],
   "source": [
    "case1 = [[1, 4], 2, 4]\n",
    "case2 = [[1, 2], 2, 3]\n",
    "for timeSeries, duration, ans in [case1, case2]:\n",
    "    print(f'timeSeries: {timeSeries}, duration: {duration}')\n",
    "    print(f'Ans: {ans}\\t{Solution.findPoisonedDuration(timeSeries, duration)==ans}\\n')\n",
    "    "
   ],
   "metadata": {
    "collapsed": false,
    "pycharm": {
     "name": "#%%\n"
    }
   }
  },
  {
   "cell_type": "markdown",
   "source": [
    "<div class=\"container__nthg\"><div class=\"result__23wN\"><div class=\"success__3Ai7\">Success</div><a class=\"detail__1Ye5\" href=\"/submissions/detail/649898094/\" target=\"_blank\">Details <svg viewBox=\"0 0 24 24\" width=\"1em\" height=\"1em\" class=\"icon__1Md2\"><path fill-rule=\"evenodd\" d=\"M10 6L8.59 7.41 13.17 12l-4.58 4.59L10 18l6-6z\"></path></svg></a></div><div class=\"info__2oQ9\"><span>Runtime:&nbsp;<span class=\"data__HC-i\">379 ms</span><span>, faster than <span class=\"data__HC-i\">48.23%</span> of Python3 online submissions for Teemo Attacking.</span></span></div><div class=\"info__2oQ9\"><span>Memory Usage:&nbsp;<span class=\"data__HC-i\">15.5 MB</span><span>, less than <span class=\"data__HC-i\">45.35%</span> of Python3 online submissions for Teemo Attacking.</span></span></div></div>"
   ],
   "metadata": {
    "collapsed": false,
    "pycharm": {
     "name": "#%% md\n"
    }
   }
  },
  {
   "cell_type": "markdown",
   "source": [
    "# [*1004. Max Consecutive Ones III*](https://leetcode.com/problems/max-consecutive-ones-iii/)\n",
    "<div class=\"content__u3I1 question-content__JfgR\"><div><p>Given a binary array <code>nums</code> and an integer <code>k</code>, return <em>the maximum number of consecutive </em><code>1</code><em>'s in the array if you can flip at most</em> <code>k</code> <code>0</code>'s.</p>\n",
    "\n",
    "<p>&nbsp;</p>\n",
    "<p><strong>Example 1:</strong></p>\n",
    "\n",
    "<pre><strong>Input:</strong> nums = [1,1,1,0,0,0,1,1,1,1,0], k = 2\n",
    "<strong>Output:</strong> 6\n",
    "<strong>Explanation:</strong> [1,1,1,0,0,<u><strong>1</strong>,1,1,1,1,<strong>1</strong></u>]\n",
    "Bolded numbers were flipped from 0 to 1. The longest subarray is underlined.</pre>\n",
    "\n",
    "<p><strong>Example 2:</strong></p>\n",
    "\n",
    "<pre><strong>Input:</strong> nums = [0,0,1,1,0,0,1,1,1,0,1,1,0,0,0,1,1,1,1], k = 3\n",
    "<strong>Output:</strong> 10\n",
    "<strong>Explanation:</strong> [0,0,<u>1,1,<strong>1</strong>,<strong>1</strong>,1,1,1,<strong>1</strong>,1,1</u>,0,0,0,1,1,1,1]\n",
    "Bolded numbers were flipped from 0 to 1. The longest subarray is underlined.\n",
    "</pre>\n",
    "\n",
    "<p>&nbsp;</p>\n",
    "<p><strong>Constraints:</strong></p>\n",
    "\n",
    "<ul>\n",
    "\t<li><code>1 &lt;= nums.length &lt;= 10<sup>5</sup></code></li>\n",
    "\t<li><code>nums[i]</code> is either <code>0</code> or <code>1</code>.</li>\n",
    "\t<li><code>0 &lt;= k &lt;= nums.length</code></li>\n",
    "</ul>\n",
    "</div></div>\n",
    "\n",
    "---"
   ],
   "metadata": {
    "collapsed": false
   }
  },
  {
   "cell_type": "code",
   "execution_count": null,
   "outputs": [],
   "source": [
    "from typing import List, Dict, Tuple\n",
    "\n",
    "class Solution:\n",
    "    def longestOnes(self, nums: List[int], k: int) -> int:\n",
    "        left = 0\n",
    "        right = 0\n",
    "        n = 0\n",
    "\n",
    "        for right in range(1, len(nums)+1):\n",
    "            n += nums[right-1]\n",
    "\n",
    "            if right-left-n > k:\n",
    "                n -= nums[left]\n",
    "                left += 1\n",
    "\n",
    "        return right - left"
   ],
   "metadata": {
    "collapsed": false,
    "pycharm": {
     "name": "#%%\n"
    }
   }
  },
  {
   "cell_type": "code",
   "execution_count": null,
   "outputs": [],
   "source": [
    "case1 = [[1,1,1,0,0,0,1,1,1,1,0], 2, 6]\n",
    "case2 = [[0,0,1,1,0,0,1,1,1,0,1,1,0,0,0,1,1,1,1], 3, 10]\n",
    "for nums, k, ans in [case1, case2]:\n",
    "    print(f'Inputs: nums = {nums}, k = {k}')\n",
    "    print(f'Output: {ans} {Solution.longestOnes(nums, k)==ans}\\n')\n"
   ],
   "metadata": {
    "collapsed": false,
    "pycharm": {
     "name": "#%%\n"
    }
   }
  },
  {
   "cell_type": "markdown",
   "source": [
    "<div class=\"info__2oQ9\"><span>Runtime:&nbsp;<span class=\"data__HC-i\">580 ms</span><span>, faster than <span class=\"data__HC-i\">94.14%</span> of Python3 online submissions for Max Consecutive Ones III.</span></span></div><div class=\"info__2oQ9\"><span>Memory Usage:&nbsp;<span class=\"data__HC-i\">14.8 MB</span><span>, less than <span class=\"data__HC-i\">47.39%</span> of Python3 online submissions for Max Consecutive Ones III.</span></span></div>"
   ],
   "metadata": {
    "collapsed": false
   }
  }
 ],
 "metadata": {
  "kernelspec": {
   "display_name": "Python 3",
   "language": "python",
   "name": "python3"
  },
  "language_info": {
   "codemirror_mode": {
    "name": "ipython",
    "version": 2
   },
   "file_extension": ".py",
   "mimetype": "text/x-python",
   "name": "python",
   "nbconvert_exporter": "python",
   "pygments_lexer": "ipython2",
   "version": "2.7.6"
  }
 },
 "nbformat": 4,
 "nbformat_minor": 0
}