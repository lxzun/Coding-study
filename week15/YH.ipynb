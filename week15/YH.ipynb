{
 "cells": [
  {
   "cell_type": "markdown",
   "metadata": {},
   "source": [
    "# [*495. Teemo Attacking*](https://leetcode.com/problems/teemo-attacking/)\n",
    "<div class=\"content__u3I1 question-content__JfgR\"><div><p>Our hero Teemo is attacking an enemy Ashe with poison attacks! When Teemo attacks Ashe, Ashe gets poisoned for a exactly <code>duration</code> seconds. More formally, an attack at second <code>t</code> will mean Ashe is poisoned during the <strong>inclusive</strong> time interval <code>[t, t + duration - 1]</code>. If Teemo attacks again <strong>before</strong> the poison effect ends, the timer for it is <strong>reset</strong>, and the poison effect will end <code>duration</code> seconds after the new attack.</p>\n",
    "\n",
    "<p>You are given a <strong>non-decreasing</strong> integer array <code>timeSeries</code>, where <code>timeSeries[i]</code> denotes that Teemo attacks Ashe at second <code>timeSeries[i]</code>, and an integer <code>duration</code>.</p>\n",
    "\n",
    "<p>Return <em>the <strong>total</strong> number of seconds that Ashe is poisoned</em>.</p>\n",
    "\n",
    "<p>&nbsp;</p>\n",
    "<p><strong>Example 1:</strong></p>\n",
    "\n",
    "<pre><strong>Input:</strong> timeSeries = [1,4], duration = 2\n",
    "<strong>Output:</strong> 4\n",
    "<strong>Explanation:</strong> Teemo's attacks on Ashe go as follows:\n",
    "- At second 1, Teemo attacks, and Ashe is poisoned for seconds 1 and 2.\n",
    "- At second 4, Teemo attacks, and Ashe is poisoned for seconds 4 and 5.\n",
    "Ashe is poisoned for seconds 1, 2, 4, and 5, which is 4 seconds in total.\n",
    "</pre>\n",
    "\n",
    "<p><strong>Example 2:</strong></p>\n",
    "\n",
    "<pre><strong>Input:</strong> timeSeries = [1,2], duration = 2\n",
    "<strong>Output:</strong> 3\n",
    "<strong>Explanation:</strong> Teemo's attacks on Ashe go as follows:\n",
    "- At second 1, Teemo attacks, and Ashe is poisoned for seconds 1 and 2.\n",
    "- At second 2 however, Teemo attacks again and resets the poison timer. Ashe is poisoned for seconds 2 and 3.\n",
    "Ashe is poisoned for seconds 1, 2, and 3, which is 3 seconds in total.</pre>\n",
    "\n",
    "<p>&nbsp;</p>\n",
    "<p><strong>Constraints:</strong></p>\n",
    "\n",
    "<ul>\n",
    "\t<li><code>1 &lt;= timeSeries.length &lt;= 10<sup>4</sup></code></li>\n",
    "\t<li><code>0 &lt;= timeSeries[i], duration &lt;= 10<sup>7</sup></code></li>\n",
    "\t<li><code>timeSeries</code> is sorted in <strong>non-decreasing</strong> order.</li>\n",
    "</ul>\n",
    "</div></div>\n",
    "\n",
    "---"
   ]
  },
  {
   "cell_type": "code",
   "execution_count": null,
   "metadata": {
    "collapsed": false,
    "jupyter": {
     "outputs_hidden": false
    },
    "pycharm": {
     "name": "#%%\n"
    }
   },
   "outputs": [],
   "source": [
    "from typing import List, Dict, Tuple\n",
    "\n",
    "class Solution:\n",
    "    def findPoisonedDuration(self, timeSeries: List[int], duration: int) -> int:"
   ]
  },
  {
   "cell_type": "code",
   "execution_count": null,
   "metadata": {
    "collapsed": false,
    "jupyter": {
     "outputs_hidden": false
    },
    "pycharm": {
     "name": "#%%\n"
    }
   },
   "outputs": [],
   "source": [
    "case1 = [[1, 4], 2, 4]\n",
    "case2 = [[1, 2], 2, 3]\n",
    "for timeSeries, duration, ans in [case1, case2]:\n",
    "    print(f'timeSeries: {timeSeries}, duration: {duration}')\n",
    "    print(f'Ans: {ans}\\t{Solution.findPoisonedDuration(timeSeries, duration)==ans}\\n')\n",
    "    "
   ]
  },
  {
   "cell_type": "markdown",
   "metadata": {
    "pycharm": {
     "name": "#%% md\n"
    }
   },
   "source": []
  },
  {
   "cell_type": "markdown",
   "metadata": {},
   "source": [
    "# [*1004. Max Consecutive Ones III*](https://leetcode.com/problems/max-consecutive-ones-iii/)\n",
    "<div class=\"content__u3I1 question-content__JfgR\"><div><p>Given a binary array <code>nums</code> and an integer <code>k</code>, return <em>the maximum number of consecutive </em><code>1</code><em>'s in the array if you can flip at most</em> <code>k</code> <code>0</code>'s.</p>\n",
    "\n",
    "<p>&nbsp;</p>\n",
    "<p><strong>Example 1:</strong></p>\n",
    "\n",
    "<pre><strong>Input:</strong> nums = [1,1,1,0,0,0,1,1,1,1,0], k = 2\n",
    "<strong>Output:</strong> 6\n",
    "<strong>Explanation:</strong> [1,1,1,0,0,<u><strong>1</strong>,1,1,1,1,<strong>1</strong></u>]\n",
    "Bolded numbers were flipped from 0 to 1. The longest subarray is underlined.</pre>\n",
    "\n",
    "<p><strong>Example 2:</strong></p>\n",
    "\n",
    "<pre><strong>Input:</strong> nums = [0,0,1,1,0,0,1,1,1,0,1,1,0,0,0,1,1,1,1], k = 3\n",
    "<strong>Output:</strong> 10\n",
    "<strong>Explanation:</strong> [0,0,<u>1,1,<strong>1</strong>,<strong>1</strong>,1,1,1,<strong>1</strong>,1,1</u>,0,0,0,1,1,1,1]\n",
    "Bolded numbers were flipped from 0 to 1. The longest subarray is underlined.\n",
    "</pre>\n",
    "\n",
    "<p>&nbsp;</p>\n",
    "<p><strong>Constraints:</strong></p>\n",
    "\n",
    "<ul>\n",
    "\t<li><code>1 &lt;= nums.length &lt;= 10<sup>5</sup></code></li>\n",
    "\t<li><code>nums[i]</code> is either <code>0</code> or <code>1</code>.</li>\n",
    "\t<li><code>0 &lt;= k &lt;= nums.length</code></li>\n",
    "</ul>\n",
    "</div></div>\n",
    "\n",
    "---"
   ]
  },
  {
   "cell_type": "code",
   "execution_count": 2,
   "metadata": {
    "collapsed": false,
    "jupyter": {
     "outputs_hidden": false
    },
    "pycharm": {
     "name": "#%%\n"
    }
   },
   "outputs": [],
   "source": [
    "from typing import List, Dict, Tuple\n",
    "from copy import deepcopy\n",
    "\n",
    "class Solution:\n",
    "    def cal_score(self, visited):\n",
    "        max_score = 0\n",
    "        score = 0\n",
    "        comp_list = deepcopy(self.comp_list)\n",
    "        comp_list.append(0)\n",
    "        for idx in visited:\n",
    "            comp_list[idx] *= -1\n",
    "        for v in comp_list:\n",
    "            if v > 0:\n",
    "                score += v\n",
    "            else:\n",
    "                max_score = max(max_score, score)\n",
    "                score = 0\n",
    "        return max_score\n",
    "\n",
    "    def dfs(self, v, visited, k):\n",
    "        #현재 노드 방문 처리\n",
    "        value = -self.comp_list[v]\n",
    "        #print(value, k)\n",
    "        if k < value:\n",
    "            max_score = self.cal_score(visited)\n",
    "            max_score += k\n",
    "            #print(f\"max_score : {max_score}\")\n",
    "            self.result = max(self.result, max_score)\n",
    "            return 0\n",
    "        else:\n",
    "            k -= value\n",
    "            visited.add(v)\n",
    "\n",
    "        remain_nodes = self.nodes - visited\n",
    "        for i in remain_nodes:\n",
    "            self.dfs(i, deepcopy(visited), k)\n",
    "        \n",
    "    def longestOnes(self, nums: List[int], k: int) -> int:\n",
    "        self.comp_list = []\n",
    "        self.k = k\n",
    "        self.result = 0\n",
    "        prev_num = None\n",
    "        prev_num_sum = 0\n",
    "        zero_cnt = 0\n",
    "        for n in nums:\n",
    "            if n == 0:\n",
    "                n = -1\n",
    "                zero_cnt += 1\n",
    "            if n == prev_num:\n",
    "                prev_num_sum += n\n",
    "            elif prev_num == None:\n",
    "                prev_num = n\n",
    "                prev_num_sum = n\n",
    "            else:\n",
    "                self.comp_list.append(prev_num_sum)\n",
    "                prev_num = n\n",
    "                prev_num_sum = n\n",
    "        self.comp_list.append(prev_num_sum)\n",
    "        print(self.comp_list)\n",
    "        \n",
    "        if zero_cnt <= k:\n",
    "            return len(nums)\n",
    "\n",
    "        self.nodes = set()\n",
    "        for idx in range(len(self.comp_list)):\n",
    "            if self.comp_list[idx] < 0:\n",
    "                self.nodes.add(idx)\n",
    "                \n",
    "        for node in self.nodes:\n",
    "            self.dfs(node, set(), k)\n",
    "        \n",
    "        return self.result\n",
    "        "
   ]
  },
  {
   "cell_type": "code",
   "execution_count": 7,
   "metadata": {
    "collapsed": false,
    "jupyter": {
     "outputs_hidden": false
    },
    "pycharm": {
     "name": "#%%\n"
    }
   },
   "outputs": [
    {
     "name": "stdout",
     "output_type": "stream",
     "text": [
      "Inputs: nums = [1, 1, 1, 0, 0, 0, 1, 1, 1, 1, 0], k = 2\n",
      "[3, -3, 4, -1]\n",
      "Output: 6 True\n",
      "runtime : 0.000367sec\n",
      "\n",
      "Inputs: nums = [0, 0, 1, 1, 0, 0, 1, 1, 1, 0, 1, 1, 0, 0, 0, 1, 1, 1, 1], k = 3\n",
      "[-2, 2, -2, 3, -1, 2, -3, 4]\n",
      "Output: 10 True\n",
      "runtime : 0.000422sec\n",
      "\n",
      "Inputs: nums = [1, 0, 0, 1, 0, 0, 1, 0, 1, 1, 1, 1, 0, 1, 1, 1, 1, 0, 1, 1, 1, 1, 1, 1, 0, 1, 1, 1, 0, 0, 1, 1, 1, 0, 0, 1, 0, 1, 0, 0, 1, 0, 0, 1, 1], k = 9\n",
      "[1, -2, 1, -2, 1, -1, 4, -1, 4, -1, 6, -1, 3, -2, 3, -2, 1, -1, 1, -2, 1, -2, 2]\n",
      "Output: 10 False\n",
      "runtime : 26.603648sec\n",
      "\n"
     ]
    }
   ],
   "source": [
    "from time import time\n",
    "\n",
    "case1 = [[1,1,1,0,0,0,1,1,1,1,0], 2, 6]\n",
    "case2 = [[0,0,1,1,0,0,1,1,1,0,1,1,0,0,0,1,1,1,1], 3, 10]\n",
    "case3 = [[1,0,0,1,0,0,1,0,1,1,1,1,0,1,1,1,1,0,1,1,1,1,1,1,0,1,1,1,0,0,1,1,1,0,0,1,0,1,0,0,1,0,0,1,1], 9, 10]\n",
    "for nums, k, ans in [case1, case2, case3]:\n",
    "    t1 = time()\n",
    "    sol = Solution()\n",
    "    print(f'Inputs: nums = {nums}, k = {k}')\n",
    "    print(f'Output: {ans} {sol.longestOnes(nums, k)==ans}')\n",
    "    t2 = time()\n",
    "    print(f'runtime : {t2-t1:.6f}sec\\n')\n"
   ]
  },
  {
   "cell_type": "markdown",
   "metadata": {},
   "source": [
    "<img src='' width='50%'>"
   ]
  }
 ],
 "metadata": {
  "kernelspec": {
   "display_name": "Python 3",
   "language": "python",
   "name": "python3"
  },
  "language_info": {
   "codemirror_mode": {
    "name": "ipython",
    "version": 3
   },
   "file_extension": ".py",
   "mimetype": "text/x-python",
   "name": "python",
   "nbconvert_exporter": "python",
   "pygments_lexer": "ipython3",
   "version": "3.8.8"
  }
 },
 "nbformat": 4,
 "nbformat_minor": 4
}
