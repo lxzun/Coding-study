{
  "nbformat": 4,
  "nbformat_minor": 0,
  "metadata": {
    "colab": {
      "name": "Untitled1.ipynb",
      "provenance": [],
      "collapsed_sections": []
    },
    "kernelspec": {
      "name": "python3",
      "display_name": "Python 3"
    },
    "language_info": {
      "name": "python"
    }
  },
  "cells": [
    {
      "cell_type": "code",
      "source": [
        "class Solution(object):\n",
        "    def findPoisonedDuration(self, timeSeries, duration):\n",
        "        answer = set()\n",
        "        \n",
        "        for i in timeSeries:\n",
        "            for j in range(duration):\n",
        "                answer.add(i+j)\n",
        "        return len(answer)"
      ],
      "metadata": {
        "id": "-_wmvikH_hKJ"
      },
      "execution_count": null,
      "outputs": []
    },
    {
      "cell_type": "code",
      "source": [
        "def longestOnes(nums, k):\n",
        "    start, end = 0, 0\n",
        "    while end < len(nums):\n",
        "        if nums[end] == 0:\n",
        "            k -= 1\n",
        "\n",
        "        if k < 0:\n",
        "            if nums[start] == 0:\n",
        "                k += 1\n",
        "            start += 1\n",
        "        end += 1\n",
        "\n",
        "    return end - start"
      ],
      "metadata": {
        "id": "igMd1sW1_jQe"
      },
      "execution_count": null,
      "outputs": []
    }
  ]
}