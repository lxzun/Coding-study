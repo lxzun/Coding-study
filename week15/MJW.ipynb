{
 "cells": [
  {
   "cell_type": "markdown",
   "id": "df5f6a66",
   "metadata": {},
   "source": [
    "# [**495. Teemo Attacking**](https://leetcode.com/problems/teemo-attacking/)\n",
    "\n",
    "<div><p>Our hero Teemo is attacking an enemy Ashe with poison attacks! When Teemo attacks Ashe, Ashe gets poisoned for a exactly <code>duration</code> seconds. More formally, an attack at second <code>t</code> will mean Ashe is poisoned during the <strong>inclusive</strong> time interval <code>[t, t + duration - 1]</code>. If Teemo attacks again <strong>before</strong> the poison effect ends, the timer for it is <strong>reset</strong>, and the poison effect will end <code>duration</code> seconds after the new attack.</p>\n",
    "\n",
    "<p>You are given a <strong>non-decreasing</strong> integer array <code>timeSeries</code>, where <code>timeSeries[i]</code> denotes that Teemo attacks Ashe at second <code>timeSeries[i]</code>, and an integer <code>duration</code>.</p>\n",
    "\n",
    "<p>Return <em>the <strong>total</strong> number of seconds that Ashe is poisoned</em>.</p>\n",
    "\n",
    "---\n",
    "\n",
    "우리의 영웅 티모가 적의 아셰를 독극물로 공격하고 있습니다! 티모가 애쉬를 공격했을 때, 애쉬는 정확히 `duration`초 동안 중독된다. 즉, 두 번째 `t`에서의 공격은 Ashe가 포함 시간 간격 `[t, t + duration - 1]` 동안 중독됨을 의미한다. \n",
    "독극물 효과가 끝나기 전에 티모가 다시 공격하면 독극물 타이머가 초기화되며, 새로운 공격 후 `duration`초 후에 독극물 효과가 종료된다.\n",
    "\n",
    "감소하지 않는 정수 배열 `timeSeries`가 주어지며, 여기서 `timeSeries[i]`는 Teemo가 두 번째 `timeSeries[i]`에서 Ashe를 공격하고 정수 `duration`을 나타낸다.\n",
    "\n",
    "Ashe가 중독된 총 시간(초)을 반환해라.\n",
    "\n",
    "\n",
    "\n",
    "<p>&nbsp;</p>\n",
    "<p><strong>Example 1:</strong></p>\n",
    "\n",
    "<pre><strong>Input:</strong> timeSeries = [1,4], duration = 2\n",
    "<strong>Output:</strong> 4\n",
    "<strong>Explanation:</strong> Teemo's attacks on Ashe go as follows:\n",
    "- At second 1, Teemo attacks, and Ashe is poisoned for seconds 1 and 2.\n",
    "- At second 4, Teemo attacks, and Ashe is poisoned for seconds 4 and 5.\n",
    "Ashe is poisoned for seconds 1, 2, 4, and 5, which is 4 seconds in total.\n",
    "</pre>\n",
    "\n",
    "<br><p><strong>Example 2:</strong></p>\n",
    "\n",
    "<pre><strong>Input:</strong> timeSeries = [1,2], duration = 2\n",
    "<strong>Output:</strong> 3\n",
    "<strong>Explanation:</strong> Teemo's attacks on Ashe go as follows:\n",
    "- At second 1, Teemo attacks, and Ashe is poisoned for seconds 1 and 2.\n",
    "- At second 2 however, Teemo attacks again and resets the poison timer. Ashe is poisoned for seconds 2 and 3.\n",
    "Ashe is poisoned for seconds 1, 2, and 3, which is 3 seconds in total.</pre>\n",
    "\n",
    "<p>&nbsp;</p>\n",
    "<p><strong>Constraints:</strong></p>\n",
    "\n",
    "<ul>\n",
    "\t<li><code>1 &lt;= timeSeries.length &lt;= 10<sup>4</sup></code></li>\n",
    "\t<li><code>0 &lt;= timeSeries[i], duration &lt;= 10<sup>7</sup></code></li>\n",
    "\t<li><code>timeSeries</code> is sorted in <strong>non-decreasing</strong> order.</li>\n",
    "</ul>\n",
    "</div>\n"
   ]
  },
  {
   "cell_type": "markdown",
   "id": "7e2011b9-072b-4732-8a9f-aa8cb80160e3",
   "metadata": {},
   "source": [
    "---\n",
    "## **Solution.py**"
   ]
  },
  {
   "cell_type": "code",
   "execution_count": 1,
   "id": "47179035-f285-487c-831d-6a838c9d6f44",
   "metadata": {},
   "outputs": [],
   "source": [
    "from pprint import pprint"
   ]
  },
  {
   "cell_type": "code",
   "execution_count": 2,
   "id": "290dfb34-c6a6-4c36-a410-7845f1909a25",
   "metadata": {},
   "outputs": [],
   "source": [
    "from typing import List, Dict, Tuple"
   ]
  },
  {
   "cell_type": "code",
   "execution_count": 3,
   "id": "f21e50c7-ae80-4e9d-a7e0-bbdcc164b597",
   "metadata": {},
   "outputs": [],
   "source": [
    "import numpy as np\n",
    "\n",
    "class Solution:\n",
    "    def findPoisonedDuration(self, timeSeries: List[int], duration: int) -> int:\n",
    "        total = duration\n",
    "        for i in range(1, len(timeSeries)):\n",
    "            total += duration if timeSeries[i]-timeSeries[i-1] >= duration else timeSeries[i]-timeSeries[i-1]\n",
    "        return total"
   ]
  },
  {
   "cell_type": "code",
   "execution_count": 4,
   "id": "72ede3f3-fb13-4bb7-9d64-64d936a15c97",
   "metadata": {},
   "outputs": [],
   "source": [
    "inputs = [\n",
    "    ([1,4], 2),\n",
    "    ([1,2], 2)\n",
    "]\n",
    "outputs = [\n",
    "    4,\n",
    "    3\n",
    "]"
   ]
  },
  {
   "cell_type": "code",
   "execution_count": 5,
   "id": "d9a7d5c0-fe3b-48d6-b54b-e9e1c6668bf7",
   "metadata": {},
   "outputs": [
    {
     "name": "stdout",
     "output_type": "stream",
     "text": [
      "True 4 4\n",
      "True 3 3\n"
     ]
    }
   ],
   "source": [
    "solution = Solution().findPoisonedDuration\n",
    "\n",
    "for idx, (i, o) in enumerate(zip(inputs, outputs)):\n",
    "    sol_ = solution(*i)\n",
    "    print(sol_==o, sol_, o)"
   ]
  },
  {
   "cell_type": "markdown",
   "id": "9d1db16b-f582-4e94-8495-17fcc96e70e2",
   "metadata": {},
   "source": [
    "<img width=\"330\" alt=\"image\" src=\"https://user-images.githubusercontent.com/42428487/155524247-98d7e212-0046-46f0-b6f7-98b3fe4d96b5.png\">\n"
   ]
  },
  {
   "cell_type": "markdown",
   "id": "30cd5633-fe90-4c81-998b-cf0c475d6274",
   "metadata": {},
   "source": [
    "<br>\n",
    "\n",
    "---\n",
    "---\n",
    "\n",
    "<br>"
   ]
  },
  {
   "cell_type": "markdown",
   "id": "ff49fb96-9c51-4fdc-a4b8-6a3cea4b148a",
   "metadata": {
    "tags": []
   },
   "source": [
    "# [**1004. Max Consecutive Ones III**](https://leetcode.com/problems/max-consecutive-ones-iii/)\n",
    "\n",
    "<div><p>Given a binary array <code>nums</code> and an integer <code>k</code>, return <em>the maximum number of consecutive </em><code>1</code><em>'s in the array if you can flip at most</em> <code>k</code> <code>0</code>'s.</p>\n",
    "\n",
    "<p>&nbsp;</p>\n",
    "<p><strong>Example 1:</strong></p>\n",
    "\n",
    "<pre><strong>Input:</strong> nums = [1,1,1,0,0,0,1,1,1,1,0], k = 2\n",
    "<strong>Output:</strong> 6\n",
    "<strong>Explanation:</strong> [1,1,1,0,0,<u><strong>1</strong>,1,1,1,1,<strong>1</strong></u>]\n",
    "Bolded numbers were flipped from 0 to 1. The longest subarray is underlined.</pre>\n",
    "\n",
    "<br>\n",
    "\n",
    "<p><strong>Example 2:</strong></p>\n",
    "\n",
    "<pre><strong>Input:</strong> nums = [0,0,1,1,0,0,1,1,1,0,1,1,0,0,0,1,1,1,1], k = 3\n",
    "<strong>Output:</strong> 10\n",
    "<strong>Explanation:</strong> [0,0,<u>1,1,<strong>1</strong>,<strong>1</strong>,1,1,1,<strong>1</strong>,1,1</u>,0,0,0,1,1,1,1]\n",
    "Bolded numbers were flipped from 0 to 1. The longest subarray is underlined.\n",
    "</pre>\n",
    "\n",
    "<p>&nbsp;</p>\n",
    "<p><strong>Constraints:</strong></p>\n",
    "\n",
    "<ul>\n",
    "\t<li><code>1 &lt;= nums.length &lt;= 10<sup>5</sup></code></li>\n",
    "\t<li><code>nums[i]</code> is either <code>0</code> or <code>1</code>.</li>\n",
    "\t<li><code>0 &lt;= k &lt;= nums.length</code></li>\n",
    "</ul>\n",
    "</div>"
   ]
  },
  {
   "cell_type": "markdown",
   "id": "06add231-b098-4a98-b8c3-3854db004492",
   "metadata": {
    "tags": []
   },
   "source": [
    "## **Solution.py**"
   ]
  },
  {
   "cell_type": "code",
   "execution_count": 42,
   "id": "233e857e-b80b-490d-b3af-076e346c5237",
   "metadata": {},
   "outputs": [],
   "source": [
    "from typing import List, Dict, Tuple"
   ]
  },
  {
   "cell_type": "code",
   "execution_count": 47,
   "id": "3f8f65bb-fd4a-495c-b6b8-71792fd102fe",
   "metadata": {},
   "outputs": [],
   "source": [
    "from collections import deque\n",
    "\n",
    "class Solution:\n",
    "    def longestOnes(self, nums: List[int], k: int) -> int:\n",
    "        nList = list()\n",
    "\n",
    "        cnt = 0\n",
    "        for i in range(len(nums)):\n",
    "            if nums[i] == 1:\n",
    "                cnt += 1\n",
    "                if i == len(nums)-1:\n",
    "                    nList.append(cnt)\n",
    "            else:\n",
    "                if cnt > 0:\n",
    "                    nList.append(cnt)\n",
    "                    cnt = 0\n",
    "                nList.append(nums[i])\n",
    "\n",
    "        longest_len = 0\n",
    "        sum_ = sum(nList)\n",
    "        for i in range(len(nList)):\n",
    "            if sum_ + k <= longest_len: break\n",
    "            flip = 0\n",
    "            tmp_len = 0\n",
    "            for x in nList[i:]:\n",
    "                if x > 0:\n",
    "                    tmp_len += x\n",
    "                else:\n",
    "                    if flip == k:\n",
    "                        break\n",
    "                    flip += 1\n",
    "                    tmp_len += 1\n",
    "            longest_len = max(longest_len, tmp_len)\n",
    "            sum_ -= nList[i]\n",
    "        return longest_len"
   ]
  },
  {
   "cell_type": "code",
   "execution_count": 48,
   "id": "203ffed6-5079-4de8-a6cd-1faf68318bc1",
   "metadata": {},
   "outputs": [],
   "source": [
    "inputs = [\n",
    "    ([1,1,1,0,0,0,1,1,1,1,0], 2),\n",
    "    ([0,0,1,1,0,0,1,1,1,0,1,1,0,0,0,1,1,1,1], 3),\n",
    "    ([1,1,1,0,0,0,1,1,1,1], 0),\n",
    "    ([0,0,0,1], 4)\n",
    "]\n",
    "outputs = [\n",
    "    6,\n",
    "    10,\n",
    "    4,\n",
    "    4\n",
    "]"
   ]
  },
  {
   "cell_type": "code",
   "execution_count": 49,
   "id": "e2ba741e-00a2-45cc-b592-464f9a4af97f",
   "metadata": {},
   "outputs": [
    {
     "name": "stdout",
     "output_type": "stream",
     "text": [
      "True 6 6\n",
      "True 10 10\n",
      "True 4 4\n",
      "True 4 4\n"
     ]
    }
   ],
   "source": [
    "solution = Solution().longestOnes\n",
    "\n",
    "for idx, (i, o) in enumerate(zip(inputs, outputs)):\n",
    "    sol_ = solution(*i)\n",
    "    print(sol_==o, sol_, o)"
   ]
  },
  {
   "cell_type": "markdown",
   "id": "0da4a097-2814-4d1b-889f-73c1566efbd5",
   "metadata": {},
   "source": [
    "<img width=\"700\" alt=\"image\" src=\"https://user-images.githubusercontent.com/42428487/156342549-6fb15200-2858-49e1-bf42-df6ad3dc6f97.png\">"
   ]
  }
 ],
 "metadata": {
  "kernelspec": {
   "display_name": "Python 3 (ipykernel)",
   "language": "python",
   "name": "python3"
  },
  "language_info": {
   "codemirror_mode": {
    "name": "ipython",
    "version": 3
   },
   "file_extension": ".py",
   "mimetype": "text/x-python",
   "name": "python",
   "nbconvert_exporter": "python",
   "pygments_lexer": "ipython3",
   "version": "3.7.0"
  }
 },
 "nbformat": 4,
 "nbformat_minor": 5
}
