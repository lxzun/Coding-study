{
 "cells": [
  {
   "cell_type": "code",
   "execution_count": null,
   "id": "4c941b09-cbc6-495b-841a-0a0f8ca9ad03",
   "metadata": {},
   "outputs": [],
   "source": [
    "from collections import defaultdict\n",
    "def solution(id_list, report, k):\n",
    "    report = list(set(report))\n",
    "    writer = defaultdict(int)\n",
    "    target = defaultdict(int)\n",
    "    for _ in id_list: target[_], writer[_]\n",
    "\n",
    "    for re in report:\n",
    "        # writer[re.split()[0]].append(re.split()[1])\n",
    "        target[re.split()[1]]+=1\n",
    "\n",
    "    mail_list = [key for key, value in target.items() if value >= k]\n",
    "\n",
    "    for i in report:\n",
    "        if i.split()[1] in mail_list:\n",
    "            writer[i.split()[0]]+=1\n",
    "\n",
    "    answer = list(writer.values())\n",
    "\n",
    "    return answer"
   ]
  },
  {
   "cell_type": "code",
   "execution_count": null,
   "id": "8b149ee9-05c4-41d2-aa55-8f0e70b864df",
   "metadata": {},
   "outputs": [],
   "source": [
    "from collections import defaultdict\n",
    "import datetime\n",
    "import math\n",
    "def solution(fees, records):\n",
    "    answer = []\n",
    "    cars = defaultdict(list)\n",
    "    tmp_cars = defaultdict(list)\n",
    "    for record in records:\n",
    "        cars[record.split()[1]].append(record.split()[0])\n",
    "\n",
    "    for key, i in cars.items():\n",
    "        if len(i) % 2 != 0: #홀수라면\n",
    "            i.append('23:59')\n",
    "        for j in range(1,len(i),2):\n",
    "            car_out = i[j]\n",
    "            car_in = i[j-1]\n",
    "            format = '%H:%M'\n",
    "            car_in = datetime.datetime.strptime(car_in, format)\n",
    "            car_out = datetime.datetime.strptime(car_out, format)\n",
    "\n",
    "            duration_time = car_out-car_in\n",
    "            tmp_cars[key].append(duration_time)\n",
    "\n",
    "    for key,value in tmp_cars.items():\n",
    "        value = sum(value,datetime.timedelta())\n",
    "        value = int(str(value).split(':')[0]) * 60 + int(str(value).split(':')[1])\n",
    "        tmp_cars[key] = value\n",
    "\n",
    "    tmp_cars = sorted(tmp_cars.items(), key=lambda x: x[0])\n",
    "\n",
    "    for car in tmp_cars:\n",
    "        car = list(car)\n",
    "        if car[1] < fees[0]:\n",
    "            answer.append(fees[1])\n",
    "        else:\n",
    "            calculate = car[1] - fees[0]\n",
    "            answer.append(fees[1]+(math.ceil(calculate/fees[2])*fees[3]))\n",
    "\n",
    "    return answer"
   ]
  }
 ],
 "metadata": {
  "kernelspec": {
   "display_name": "Python 3 (ipykernel)",
   "language": "python",
   "name": "python3"
  },
  "language_info": {
   "codemirror_mode": {
    "name": "ipython",
    "version": 3
   },
   "file_extension": ".py",
   "mimetype": "text/x-python",
   "name": "python",
   "nbconvert_exporter": "python",
   "pygments_lexer": "ipython3",
   "version": "3.8.12"
  }
 },
 "nbformat": 4,
 "nbformat_minor": 5
}
