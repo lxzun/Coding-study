{
 "cells": [
  {
   "cell_type": "markdown",
   "metadata": {},
   "source": [
    "# [*1475. Final Prices With a Special Discount in a Shop*](https://leetcode.com/problems/final-prices-with-a-special-discount-in-a-shop/)\n",
    "<div><p>Given the array <code>prices</code> where <code>prices[i]</code> is the price of the <code>ith</code> item in a shop. There is a special discount for items in the shop, if you buy the <code>ith</code> item, then you will receive a discount equivalent to <code>prices[j]</code> where <code>j</code> is the <strong>minimum</strong>&nbsp;index such that <code>j &gt; i</code> and <code>prices[j] &lt;= prices[i]</code>, otherwise, you will not receive any discount at all.</p>\n",
    "\n",
    "<p><em>Return an array where the <code>ith</code> element is the final price you will pay for the <code>ith</code> item of the shop considering the special discount.</em></p>\n",
    "\n",
    "<p>&nbsp;</p>\n",
    "<p><strong>Example 1:</strong></p>\n",
    "\n",
    "<pre><strong>Input:</strong> prices = [8,4,6,2,3]\n",
    "<strong>Output:</strong> [4,2,4,2,3]\n",
    "<strong>Explanation:</strong>&nbsp;\n",
    "For item 0 with price[0]=8 you will receive a discount equivalent to prices[1]=4, therefore, the final price you will pay is 8 - 4 = 4.&nbsp;\n",
    "For item 1 with price[1]=4 you will receive a discount equivalent to prices[3]=2, therefore, the final price you will pay is 4 - 2 = 2.&nbsp;\n",
    "For item 2 with price[2]=6 you will receive a discount equivalent to prices[3]=2, therefore, the final price you will pay is 6 - 2 = 4.&nbsp;\n",
    "For items 3 and 4 you will not receive any discount at all.\n",
    "</pre>\n",
    "\n",
    "<p><strong>Example 2:</strong></p>\n",
    "\n",
    "<pre><strong>Input:</strong> prices = [1,2,3,4,5]\n",
    "<strong>Output:</strong> [1,2,3,4,5]\n",
    "<strong>Explanation:</strong> In this case, for all items, you will not receive any discount at all.\n",
    "</pre>\n",
    "\n",
    "<p><strong>Example 3:</strong></p>\n",
    "\n",
    "<pre><strong>Input:</strong> prices = [10,1,1,6]\n",
    "<strong>Output:</strong> [9,0,1,6]\n",
    "</pre>\n",
    "\n",
    "<p>&nbsp;</p>\n",
    "<p><strong>Constraints:</strong></p>\n",
    "\n",
    "<ul>\n",
    "\t<li><code>1 &lt;= prices.length &lt;= 500</code></li>\n",
    "\t<li><code>1 &lt;= prices[i] &lt;= 10^3</code></li>\n",
    "</ul>\n",
    "</div>"
   ]
  },
  {
   "cell_type": "code",
   "execution_count": 1,
   "metadata": {
    "pycharm": {
     "name": "#%%\n"
    }
   },
   "outputs": [],
   "source": [
    "from typing import List, Dict, Tuple\n",
    "\n",
    "class Solution:\n",
    "    def finalPrices(self, prices: List[int]) -> List[int]:\n",
    "        ans = []\n",
    "        for i, x in enumerate(prices):\n",
    "            for j in prices[i+1:]:\n",
    "                if x >= j:\n",
    "                    ans.append(x-j)\n",
    "                    break\n",
    "            else:\n",
    "                ans.append(x)\n",
    "        return ans"
   ]
  },
  {
   "cell_type": "code",
   "execution_count": 2,
   "metadata": {
    "pycharm": {
     "name": "#%%\n"
    }
   },
   "outputs": [
    {
     "name": "stdout",
     "output_type": "stream",
     "text": [
      "Prices: [8, 4, 6, 2, 3]\n",
      "Ans: [4, 2, 4, 2, 3]\tTrue\n",
      "\n",
      "Prices: [1, 2, 3, 4, 5]\n",
      "Ans: [1, 2, 3, 4, 5]\tTrue\n",
      "\n"
     ]
    }
   ],
   "source": [
    "case1 = [[8,4,6,2,3], [4,2,4,2,3]]\n",
    "case2 = [[1,2,3,4,5], [1,2,3,4,5]]\n",
    "func = Solution()\n",
    "for prices, ans in [case1, case2]:\n",
    "    print(f'Prices: {prices}')\n",
    "    print(f'Ans: {ans}\\t{func.finalPrices(prices)==ans}\\n')\n",
    "    "
   ]
  },
  {
   "cell_type": "markdown",
   "metadata": {
    "pycharm": {
     "name": "#%% md\n"
    }
   },
   "source": [
    "<div><div class=\"ant-table-wrapper table__1sPX\"><div class=\"ant-spin-nested-loading\"><div class=\"ant-spin-container\"><div class=\"ant-table ant-table-default ant-table-scroll-position-left\"><div class=\"ant-table-content\"><div class=\"ant-table-body\"><table class=\"\"><colgroup><col><col><col><col><col></colgroup><thead class=\"ant-table-thead\"><tr><th class=\"time-column__1guG\"><span class=\"ant-table-header-column\"><div><span class=\"ant-table-column-title\">Time Submitted</span><span class=\"ant-table-column-sorter\"></span></div></span></th><th class=\"status-column__3SUg\"><span class=\"ant-table-header-column\"><div><span class=\"ant-table-column-title\">Status</span><span class=\"ant-table-column-sorter\"></span></div></span></th><th class=\"runtime-column__1ka_\"><span class=\"ant-table-header-column\"><div><span class=\"ant-table-column-title\">Runtime</span><span class=\"ant-table-column-sorter\"></span></div></span></th><th class=\"memory-column__1dxp\"><span class=\"ant-table-header-column\"><div><span class=\"ant-table-column-title\">Memory</span><span class=\"ant-table-column-sorter\"></span></div></span></th><th class=\"lang-column__tR-8\"><span class=\"ant-table-header-column\"><div><span class=\"ant-table-column-title\">Language</span><span class=\"ant-table-column-sorter\"></span></div></span></th></tr></thead><tbody class=\"ant-table-tbody\"><tr class=\"ant-table-row ant-table-row-level-0\" data-row-key=\"661008174\"><td class=\"time-column__1guG\">03/16/2022 15:23</td><td class=\"status-column__3SUg\"><a href=\"/submissions/detail/661008174/\" target=\"_blank\" class=\"ac__35gz\" data-submission-id=\"661008174\">Accepted</a></td><td class=\"runtime-column__1ka_\">83 ms</td><td class=\"memory-column__1dxp\">14.1 MB</td><td class=\"lang-column__tR-8\">python3</td></tr></tbody></table></div></div></div></div></div></div></div>\n",
    "\n",
    "---"
   ]
  },
  {
   "cell_type": "markdown",
   "metadata": {},
   "source": [
    "# [*909. Snakes and Ladders*](https://leetcode.com/problems/snakes-and-ladders/)\n",
    "<div><p>You are given an <code>n x n</code> integer matrix <code>board</code> where the cells are labeled from <code>1</code> to <code>n<sup>2</sup></code> in a <a href=\"https://en.wikipedia.org/wiki/Boustrophedon\" target=\"_blank\"><strong>Boustrophedon style</strong></a> starting from the bottom left of the board (i.e. <code>board[n - 1][0]</code>) and alternating direction each row.</p>\n",
    "\n",
    "<p>You start on square <code>1</code> of the board. In each move, starting from square <code>curr</code>, do the following:</p>\n",
    "\n",
    "<ul>\n",
    "\t<li>Choose a destination square <code>next</code> with a label in the range <code>[curr + 1, min(curr + 6, n<sup>2</sup>)]</code>.\n",
    "\n",
    "\t<ul>\n",
    "\t\t<li>This choice simulates the result of a standard <strong>6-sided die roll</strong>: i.e., there are always at most 6 destinations, regardless of the size of the board.</li>\n",
    "\t</ul>\n",
    "\t</li>\n",
    "\t<li>If <code>next</code> has a snake or ladder, you <strong>must</strong> move to the destination of that snake or ladder. Otherwise, you move to <code>next</code>.</li>\n",
    "\t<li>The game ends when you reach the square <code>n<sup>2</sup></code>.</li>\n",
    "</ul>\n",
    "\n",
    "<p>A board square on row <code>r</code> and column <code>c</code> has a snake or ladder if <code>board[r][c] != -1</code>. The destination of that snake or ladder is <code>board[r][c]</code>. Squares <code>1</code> and <code>n<sup>2</sup></code> do not have a snake or ladder.</p>\n",
    "\n",
    "<p>Note that you only take a snake or ladder at most once per move. If the destination to a snake or ladder is the start of another snake or ladder, you do <strong>not</strong> follow the subsequent&nbsp;snake or ladder.</p>\n",
    "\n",
    "<ul>\n",
    "\t<li>For example, suppose the board is <code>[[-1,4],[-1,3]]</code>, and on the first move, your destination square is <code>2</code>. You follow the ladder to square <code>3</code>, but do <strong>not</strong> follow the subsequent ladder to <code>4</code>.</li>\n",
    "</ul>\n",
    "\n",
    "<p>Return <em>the least number of moves required to reach the square </em><code>n<sup>2</sup></code><em>. If it is not possible to reach the square, return </em><code>-1</code>.</p>\n",
    "\n",
    "<p>&nbsp;</p>\n",
    "<p><strong>Example 1:</strong></p>\n",
    "<img alt=\"\" src=\"https://assets.leetcode.com/uploads/2018/09/23/snakes.png\" style=\"width: 500px; height: 394px;\">\n",
    "<pre><strong>Input:</strong> board = [[-1,-1,-1,-1,-1,-1],[-1,-1,-1,-1,-1,-1],[-1,-1,-1,-1,-1,-1],[-1,35,-1,-1,13,-1],[-1,-1,-1,-1,-1,-1],[-1,15,-1,-1,-1,-1]]\n",
    "<strong>Output:</strong> 4\n",
    "<strong>Explanation:</strong>\n",
    "In the beginning, you start at square 1 (at row 5, column 0).\n",
    "You decide to move to square 2 and must take the ladder to square 15.\n",
    "You then decide to move to square 17 and must take the snake to square 13.\n",
    "You then decide to move to square 14 and must take the ladder to square 35.\n",
    "You then decide to move to square 36, ending the game.\n",
    "This is the lowest possible number of moves to reach the last square, so return 4.\n",
    "</pre>\n",
    "\n",
    "<p><strong>Example 2:</strong></p>\n",
    "\n",
    "<pre><strong>Input:</strong> board = [[-1,-1],[-1,3]]\n",
    "<strong>Output:</strong> 1\n",
    "</pre>\n",
    "\n",
    "<p>&nbsp;</p>\n",
    "<p><strong>Constraints:</strong></p>\n",
    "\n",
    "<ul>\n",
    "\t<li><code>n == board.length == board[i].length</code></li>\n",
    "\t<li><code>2 &lt;= n &lt;= 20</code></li>\n",
    "\t<li><code>grid[i][j]</code> is either <code>-1</code> or in the range <code>[1, n<sup>2</sup>]</code>.</li>\n",
    "\t<li>The squares labeled <code>1</code> and <code>n<sup>2</sup></code> do not have any ladders or snakes.</li>\n",
    "</ul>\n",
    "</div>"
   ]
  },
  {
   "cell_type": "code",
   "execution_count": 3,
   "metadata": {
    "pycharm": {
     "name": "#%%\n"
    }
   },
   "outputs": [],
   "source": [
    "from typing import List, Dict, Tuple\n",
    "\n",
    "from collections import deque\n",
    "class Solution:\n",
    "    def snakesAndLadders(self, board: List[List[int]]) -> int:\n",
    "        def find_next(curr):\n",
    "            for j in range(1, 7):\n",
    "                curr_next = curr+j\n",
    "                if curr_next > n**2:\n",
    "                    break\n",
    "                flag = True if ((curr_next-1) // n)%2==0 else False\n",
    "                tmp_r = n - ((curr_next-1)//n) - 1\n",
    "                tmp_c = curr_next%n - 1 if flag else -(curr_next%n)\n",
    "                if board[tmp_r][tmp_c] == -1:\n",
    "                    yield curr_next\n",
    "                else:\n",
    "                    yield board[tmp_r][tmp_c]\n",
    "\n",
    "        n = len(board)\n",
    "        dicts = {1:0}\n",
    "\n",
    "        queue = deque([1])\n",
    "        while n**2 not in dicts:\n",
    "            if not queue:\n",
    "                return -1\n",
    "            node = queue.popleft()\n",
    "            for nexts_v in find_next(node):\n",
    "                if nexts_v not in dicts:\n",
    "                    dicts[nexts_v] = dicts[node]+1\n",
    "                    queue.append(nexts_v)\n",
    "\n",
    "        return dicts[n**2]"
   ]
  },
  {
   "cell_type": "code",
   "execution_count": 4,
   "metadata": {
    "pycharm": {
     "name": "#%%\n"
    }
   },
   "outputs": [
    {
     "name": "stdout",
     "output_type": "stream",
     "text": [
      "Inputs: board = [[-1, -1, -1, -1, -1, -1], [-1, -1, -1, -1, -1, -1], [-1, -1, -1, -1, -1, -1], [-1, 35, -1, -1, 13, -1], [-1, -1, -1, -1, -1, -1], [-1, 15, -1, -1, -1, -1]]\n",
      "Output: 4 True\n",
      "\n",
      "Inputs: board = [[-1, -1], [-1, 3]]\n",
      "Output: 1 True\n",
      "\n"
     ]
    }
   ],
   "source": [
    "case1 = [[[-1,-1,-1,-1,-1,-1],[-1,-1,-1,-1,-1,-1],[-1,-1,-1,-1,-1,-1],[-1,35,-1,-1,13,-1],[-1,-1,-1,-1,-1,-1],[-1,15,-1,-1,-1,-1]], 4]\n",
    "case2 = [[[-1,-1],[-1,3]], 1]\n",
    "func = Solution()\n",
    "for board, ans in [case1, case2]:\n",
    "    print(f'Inputs: board = {board}')\n",
    "    print(f'Output: {ans} {func.snakesAndLadders(board)==ans}\\n')\n"
   ]
  },
  {
   "cell_type": "markdown",
   "metadata": {},
   "source": [
    "<div class=\"container__nthg\"><div class=\"result__23wN\"><div class=\"success__3Ai7\">Success</div><a class=\"detail__1Ye5\" href=\"/submissions/detail/661212811/\" target=\"_blank\">Details <svg viewBox=\"0 0 24 24\" width=\"1em\" height=\"1em\" class=\"icon__1Md2\"><path fill-rule=\"evenodd\" d=\"M10 6L8.59 7.41 13.17 12l-4.58 4.59L10 18l6-6z\"></path></svg></a></div><div class=\"info__2oQ9\"><span>Runtime:&nbsp;<span class=\"data__HC-i\">136 ms</span><span>, faster than <span class=\"data__HC-i\">78.84%</span> of Python3 online submissions for Snakes and Ladders.</span></span></div><div class=\"info__2oQ9\"><span>Memory Usage:&nbsp;<span class=\"data__HC-i\">13.9 MB</span><span>, less than <span class=\"data__HC-i\">97.10%</span> of Python3 online submissions for Snakes and Ladders.</span></span></div></div>"
   ]
  },
  {
   "cell_type": "markdown",
   "metadata": {},
   "source": [
    "# [*1855. Maximum Distance Between a Pair of Values*](https://leetcode.com/problems/maximum-distance-between-a-pair-of-values/)\n",
    "<div><p>You are given two <strong>non-increasing 0-indexed </strong>integer arrays <code>nums1</code>​​​​​​ and <code>nums2</code>​​​​​​.</p>\n",
    "\n",
    "<p>A pair of indices <code>(i, j)</code>, where <code>0 &lt;= i &lt; nums1.length</code> and <code>0 &lt;= j &lt; nums2.length</code>, is <strong>valid</strong> if both <code>i &lt;= j</code> and <code>nums1[i] &lt;= nums2[j]</code>. The <strong>distance</strong> of the pair is <code>j - i</code>​​​​.</p>\n",
    "\n",
    "<p>Return <em>the <strong>maximum distance</strong> of any <strong>valid</strong> pair </em><code>(i, j)</code><em>. If there are no valid pairs, return </em><code>0</code>.</p>\n",
    "\n",
    "<p>An array <code>arr</code> is <strong>non-increasing</strong> if <code>arr[i-1] &gt;= arr[i]</code> for every <code>1 &lt;= i &lt; arr.length</code>.</p>\n",
    "\n",
    "<p>&nbsp;</p>\n",
    "<p><strong>Example 1:</strong></p>\n",
    "\n",
    "<pre><strong>Input:</strong> nums1 = [55,30,5,4,2], nums2 = [100,20,10,10,5]\n",
    "<strong>Output:</strong> 2\n",
    "<strong>Explanation:</strong> The valid pairs are (0,0), (2,2), (2,3), (2,4), (3,3), (3,4), and (4,4).\n",
    "The maximum distance is 2 with pair (2,4).\n",
    "</pre>\n",
    "\n",
    "<p><strong>Example 2:</strong></p>\n",
    "\n",
    "<pre><strong>Input:</strong> nums1 = [2,2,2], nums2 = [10,10,1]\n",
    "<strong>Output:</strong> 1\n",
    "<strong>Explanation:</strong> The valid pairs are (0,0), (0,1), and (1,1).\n",
    "The maximum distance is 1 with pair (0,1).\n",
    "</pre>\n",
    "\n",
    "<p><strong>Example 3:</strong></p>\n",
    "\n",
    "<pre><strong>Input:</strong> nums1 = [30,29,19,5], nums2 = [25,25,25,25,25]\n",
    "<strong>Output:</strong> 2\n",
    "<strong>Explanation:</strong> The valid pairs are (2,2), (2,3), (2,4), (3,3), and (3,4).\n",
    "The maximum distance is 2 with pair (2,4).\n",
    "</pre>\n",
    "\n",
    "<p>&nbsp;</p>\n",
    "<p><strong>Constraints:</strong></p>\n",
    "\n",
    "<ul>\n",
    "\t<li><code>1 &lt;= nums1.length, nums2.length &lt;= 10<sup>5</sup></code></li>\n",
    "\t<li><code>1 &lt;= nums1[i], nums2[j] &lt;= 10<sup>5</sup></code></li>\n",
    "\t<li>Both <code>nums1</code> and <code>nums2</code> are <strong>non-increasing</strong>.</li>\n",
    "</ul>\n",
    "</div>"
   ]
  },
  {
   "cell_type": "code",
   "execution_count": 5,
   "metadata": {
    "pycharm": {
     "name": "#%%\n"
    }
   },
   "outputs": [],
   "source": [
    "from typing import List, Dict, Tuple\n",
    "\n",
    "class Solution:\n",
    "    def maxDistance(self, nums1: List[int], nums2: List[int]) -> int:\n",
    "        left = 0\n",
    "        right = 0\n",
    "        limit = len(nums1)\n",
    "\n",
    "        for right in range(len(nums2)):\n",
    "            if left == limit:\n",
    "                break\n",
    "            if nums1[left] > nums2[right]:\n",
    "                left+=1\n",
    "\n",
    "        return max(right - left, 0)"
   ]
  },
  {
   "cell_type": "code",
   "execution_count": 6,
   "metadata": {
    "pycharm": {
     "name": "#%%\n"
    }
   },
   "outputs": [
    {
     "name": "stdout",
     "output_type": "stream",
     "text": [
      "Nums1: [55, 30, 5, 4, 2]\tNums2: [100, 20, 10, 10, 5]\n",
      "Ans: 2\tTrue\n",
      "\n",
      "Nums1: [2, 2, 2]\tNums2: [10, 10, 1]\n",
      "Ans: 1\tTrue\n",
      "\n",
      "Nums1: [30, 29, 19, 5]\tNums2: [25, 25, 25, 25, 25]\n",
      "Ans: 2\tTrue\n",
      "\n"
     ]
    }
   ],
   "source": [
    "case1 = [[55,30,5,4,2], [100,20,10,10,5], 2]\n",
    "case2 = [[2,2,2], [10,10,1], 1]\n",
    "case3 = [[30,29,19,5], [25,25,25,25,25], 2]\n",
    "func = Solution()\n",
    "for nums1, nums2, ans in [case1, case2, case3]:\n",
    "    print(f'Nums1: {nums1}\\tNums2: {nums2}')\n",
    "    print(f'Ans: {ans}\\t{func.maxDistance(nums1, nums2)==ans}\\n')\n"
   ]
  },
  {
   "cell_type": "markdown",
   "metadata": {},
   "source": [
    "<div class=\"container__nthg\"><div class=\"result__23wN\"><div class=\"success__3Ai7\">Success</div><a class=\"detail__1Ye5\" href=\"/submissions/detail/661882200/\" target=\"_blank\">Details <svg viewBox=\"0 0 24 24\" width=\"1em\" height=\"1em\" class=\"icon__1Md2\"><path fill-rule=\"evenodd\" d=\"M10 6L8.59 7.41 13.17 12l-4.58 4.59L10 18l6-6z\"></path></svg></a></div><div class=\"info__2oQ9\"><span>Runtime:&nbsp;<span class=\"data__HC-i\">1040 ms</span><span>, faster than <span class=\"data__HC-i\">100.00%</span> of Python3 online submissions for Maximum Distance Between a Pair of Values.</span></span></div><div class=\"info__2oQ9\"><span>Memory Usage:&nbsp;<span class=\"data__HC-i\">32.4 MB</span><span>, less than <span class=\"data__HC-i\">46.88%</span> of Python3 online submissions for Maximum Distance Between a Pair of Values.</span></span></div></div>"
   ]
  }
 ],
 "metadata": {
  "kernelspec": {
   "name": "pycharm-763154ad",
   "language": "python",
   "display_name": "PyCharm (Coding-study)"
  },
  "language_info": {
   "codemirror_mode": {
    "name": "ipython",
    "version": 3
   },
   "file_extension": ".py",
   "mimetype": "text/x-python",
   "name": "python",
   "nbconvert_exporter": "python",
   "pygments_lexer": "ipython3",
   "version": "3.8.5"
  }
 },
 "nbformat": 4,
 "nbformat_minor": 1
}