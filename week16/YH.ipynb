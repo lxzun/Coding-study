{
 "cells": [
  {
   "cell_type": "markdown",
   "id": "df5f6a66",
   "metadata": {},
   "source": [
    "# [**1475. Final Prices With a Special Discount in a Shop**](https://leetcode.com/problems/final-prices-with-a-special-discount-in-a-shop/)\n",
    "\n",
    "<div class=\"content__u3I1 question-content__JfgR\"><div><p>Given the array <code>prices</code> where <code>prices[i]</code> is the price of the <code>ith</code> item in a shop. There is a special discount for items in the shop, if you buy the <code>ith</code> item, then you will receive a discount equivalent to <code>prices[j]</code> where <code>j</code> is the <strong>minimum</strong>&nbsp;index such that <code>j &gt; i</code> and <code>prices[j] &lt;= prices[i]</code>, otherwise, you will not receive any discount at all.</p>\n",
    "\n",
    "<p><em>Return an array where the <code>ith</code> element is the final price you will pay for the <code>ith</code> item of the shop considering the special discount.</em></p>\n",
    "\n",
    "<p>&nbsp;</p>\n",
    "<p><strong>Example 1:</strong></p>\n",
    "\n",
    "<pre><strong>Input:</strong> prices = [8,4,6,2,3]\n",
    "<strong>Output:</strong> [4,2,4,2,3]\n",
    "<strong>Explanation:</strong>&nbsp;\n",
    "For item 0 with price[0]=8 you will receive a discount equivalent to prices[1]=4, therefore, the final price you will pay is 8 - 4 = 4.&nbsp;\n",
    "For item 1 with price[1]=4 you will receive a discount equivalent to prices[3]=2, therefore, the final price you will pay is 4 - 2 = 2.&nbsp;\n",
    "For item 2 with price[2]=6 you will receive a discount equivalent to prices[3]=2, therefore, the final price you will pay is 6 - 2 = 4.&nbsp;\n",
    "For items 3 and 4 you will not receive any discount at all.\n",
    "</pre>\n",
    "\n",
    "<p><strong>Example 2:</strong></p>\n",
    "\n",
    "<pre><strong>Input:</strong> prices = [1,2,3,4,5]\n",
    "<strong>Output:</strong> [1,2,3,4,5]\n",
    "<strong>Explanation:</strong> In this case, for all items, you will not receive any discount at all.\n",
    "</pre>\n",
    "\n",
    "<p><strong>Example 3:</strong></p>\n",
    "\n",
    "<pre><strong>Input:</strong> prices = [10,1,1,6]\n",
    "<strong>Output:</strong> [9,0,1,6]\n",
    "</pre>\n",
    "\n",
    "<p>&nbsp;</p>\n",
    "<p><strong>Constraints:</strong></p>\n",
    "\n",
    "<ul>\n",
    "\t<li><code>1 &lt;= prices.length &lt;= 500</code></li>\n",
    "\t<li><code>1 &lt;= prices[i] &lt;= 10^3</code></li>\n",
    "</ul>\n",
    "</div></div>\n"
   ]
  },
  {
   "cell_type": "markdown",
   "id": "7e2011b9-072b-4732-8a9f-aa8cb80160e3",
   "metadata": {},
   "source": [
    "---\n",
    "## **Solution.py**"
   ]
  },
  {
   "cell_type": "code",
   "execution_count": 1,
   "id": "47179035-f285-487c-831d-6a838c9d6f44",
   "metadata": {},
   "outputs": [],
   "source": [
    "from pprint import pprint"
   ]
  },
  {
   "cell_type": "code",
   "execution_count": 2,
   "id": "290dfb34-c6a6-4c36-a410-7845f1909a25",
   "metadata": {},
   "outputs": [],
   "source": [
    "from typing import List, Dict, Tuple"
   ]
  },
  {
   "cell_type": "code",
   "execution_count": null,
   "id": "a94de36b-45f7-44fc-9cd3-4289529e2374",
   "metadata": {},
   "outputs": [],
   "source": [
    "class Solution:\n",
    "    def finalPrices(self, prices: List[int]) -> List[int]:\n",
    "        result = []\n",
    "        for pivot_idx in range(len(prices) -1):\n",
    "            final_p = prices[pivot_idx]\n",
    "            for t_idx in range(pivot_idx+1, len(prices)):\n",
    "                #print(pivot_idx, prices[pivot_idx], prices[t_idx])\n",
    "                if prices[pivot_idx] >= prices[t_idx]:\n",
    "                    final_p -=  prices[t_idx]\n",
    "                    break\n",
    "            result.append(final_p)\n",
    "        result.append(prices[-1])\n",
    "        return result\n",
    "                    \n",
    "                "
   ]
  },
  {
   "cell_type": "code",
   "execution_count": 4,
   "id": "72ede3f3-fb13-4bb7-9d64-64d936a15c97",
   "metadata": {},
   "outputs": [],
   "source": [
    "inputs = [\n",
    "    [8,4,6,2,3],\n",
    "    [1,2,3,4,5],\n",
    "    [10,1,1,6]\n",
    "]\n",
    "outputs = [\n",
    "    [4,2,4,2,3],\n",
    "    [1,2,3,4,5],\n",
    "    [9,0,1,6]\n",
    "]"
   ]
  },
  {
   "cell_type": "code",
   "execution_count": 5,
   "id": "d9a7d5c0-fe3b-48d6-b54b-e9e1c6668bf7",
   "metadata": {},
   "outputs": [
    {
     "name": "stdout",
     "output_type": "stream",
     "text": [
      "True [4, 2, 4, 2, 3] [4, 2, 4, 2, 3]\n",
      "True [1, 2, 3, 4, 5] [1, 2, 3, 4, 5]\n",
      "True [9, 0, 1, 6] [9, 0, 1, 6]\n"
     ]
    }
   ],
   "source": [
    "solution = Solution().finalPrices\n",
    "\n",
    "for idx, (i, o) in enumerate(zip(inputs, outputs)):\n",
    "    sol_ = solution(i)\n",
    "    print(sol_==o, sol_, o)"
   ]
  },
  {
   "cell_type": "markdown",
   "id": "30cd5633-fe90-4c81-998b-cf0c475d6274",
   "metadata": {},
   "source": [
    "<br>\n",
    "\n",
    "---\n",
    "---\n",
    "\n",
    "<br>"
   ]
  },
  {
   "cell_type": "markdown",
   "id": "ff49fb96-9c51-4fdc-a4b8-6a3cea4b148a",
   "metadata": {
    "tags": []
   },
   "source": [
    "# [**909. Snakes and Ladders**](https://leetcode.com/problems/snakes-and-ladders/)\n",
    "\n",
    "<p>You are given an <code>n x n</code> integer matrix <code>board</code> where the cells are labeled from <code>1</code> to <code>n<sup>2</sup></code> in a <a href=\"https://en.wikipedia.org/wiki/Boustrophedon\" target=\"_blank\"><strong>Boustrophedon style</strong></a> starting from the bottom left of the board (i.e. <code>board[n - 1][0]</code>) and alternating direction each row.</p>\n",
    "\n",
    "<p>You start on square <code>1</code> of the board. In each move, starting from square <code>curr</code>, do the following:</p>\n",
    "\n",
    "<ul>\n",
    "\t<li>Choose a destination square <code>next</code> with a label in the range <code>[curr + 1, min(curr + 6, n<sup>2</sup>)]</code>.\n",
    "\t<ul>\n",
    "\t\t<li>This choice simulates the result of a standard <strong>6-sided die roll</strong>: i.e., there are always at most 6 destinations, regardless of the size of the board.</li>\n",
    "\t</ul>\n",
    "\t</li>\n",
    "\t<li>If <code>next</code> has a snake or ladder, you <strong>must</strong> move to the destination of that snake or ladder. Otherwise, you move to <code>next</code>.</li>\n",
    "\t<li>The game ends when you reach the square <code>n<sup>2</sup></code>.</li>\n",
    "</ul>\n",
    "\n",
    "<p>A board square on row <code>r</code> and column <code>c</code> has a snake or ladder if <code>board[r][c] != -1</code>. The destination of that snake or ladder is <code>board[r][c]</code>. Squares <code>1</code> and <code>n<sup>2</sup></code> do not have a snake or ladder.</p>\n",
    "\n",
    "<p>Note that you only take a snake or ladder at most once per move. If the destination to a snake or ladder is the start of another snake or ladder, you do <strong>not</strong> follow the subsequent&nbsp;snake or ladder.</p>\n",
    "\n",
    "<ul>\n",
    "\t<li>For example, suppose the board is <code>[[-1,4],[-1,3]]</code>, and on the first move, your destination square is <code>2</code>. You follow the ladder to square <code>3</code>, but do <strong>not</strong> follow the subsequent ladder to <code>4</code>.</li>\n",
    "</ul>\n",
    "\n",
    "<p>Return <em>the least number of moves required to reach the square </em><code>n<sup>2</sup></code><em>. If it is not possible to reach the square, return </em><code>-1</code>.</p>\n",
    "\n",
    "<p>&nbsp;</p>\n",
    "<p><strong>Example 1:</strong></p>\n",
    "<img alt=\"\" src=\"https://assets.leetcode.com/uploads/2018/09/23/snakes.png\" style=\"width: 500px; height: 394px;\">\n",
    "<pre><strong>Input:</strong> board = [[-1,-1,-1,-1,-1,-1],[-1,-1,-1,-1,-1,-1],[-1,-1,-1,-1,-1,-1],[-1,35,-1,-1,13,-1],[-1,-1,-1,-1,-1,-1],[-1,15,-1,-1,-1,-1]]\n",
    "<strong>Output:</strong> 4\n",
    "<strong>Explanation:</strong> \n",
    "In the beginning, you start at square 1 (at row 5, column 0).\n",
    "You decide to move to square 2 and must take the ladder to square 15.\n",
    "You then decide to move to square 17 and must take the snake to square 13.\n",
    "You then decide to move to square 14 and must take the ladder to square 35.\n",
    "You then decide to move to square 36, ending the game.\n",
    "This is the lowest possible number of moves to reach the last square, so return 4.\n",
    "</pre>\n",
    "\n",
    "<p><strong>Example 2:</strong></p>\n",
    "\n",
    "<pre><strong>Input:</strong> board = [[-1,-1],[-1,3]]\n",
    "<strong>Output:</strong> 1\n",
    "</pre>\n",
    "\n",
    "<p>&nbsp;</p>\n",
    "<p><strong>Constraints:</strong></p>\n",
    "\n",
    "<ul>\n",
    "\t<li><code>n == board.length == board[i].length</code></li>\n",
    "\t<li><code>2 &lt;= n &lt;= 20</code></li>\n",
    "\t<li><code>grid[i][j]</code> is either <code>-1</code> or in the range <code>[1, n<sup>2</sup>]</code>.</li>\n",
    "\t<li>The squares labeled <code>1</code> and <code>n<sup>2</sup></code> do not have any ladders or snakes.</li>\n",
    "</ul>\n",
    "</div></div>"
   ]
  },
  {
   "cell_type": "markdown",
   "id": "06add231-b098-4a98-b8c3-3854db004492",
   "metadata": {
    "tags": []
   },
   "source": [
    "## **Solution.py**"
   ]
  },
  {
   "cell_type": "code",
   "execution_count": 6,
   "id": "233e857e-b80b-490d-b3af-076e346c5237",
   "metadata": {},
   "outputs": [],
   "source": [
    "from typing import List, Dict, Tuple"
   ]
  },
  {
   "cell_type": "code",
   "execution_count": 7,
   "id": "08b0ff6d-6be7-4d4f-8592-da56f67d059b",
   "metadata": {},
   "outputs": [],
   "source": [
    "from collections import deque\n",
    "from copy import deepcopy\n",
    "from pprint import pprint\n",
    "from collections import Counter\n",
    "\n",
    "class Solution:\n",
    "    def recursiveBFS(self, q, discovered, not_used_shotcut_src, not_used_shotcut_det):\n",
    "        if len(q) == 0:\n",
    "            return -1\n",
    "\n",
    "        # dequeue front node and print it\n",
    "        #print(f\"{q}\")\n",
    "        v, d, level = q.popleft()\n",
    "        if v == self.end_num:\n",
    "            #print(v, d, level)\n",
    "            return level\n",
    "        elif level == self.end_num:\n",
    "            return -1\n",
    "\n",
    "        # do for every edge (v, u)\n",
    "        adjnode = self.get_adjnode(v)\n",
    "        if d==0 or adjnode[1] is None:\n",
    "            adjnode = adjnode[0]\n",
    "            dist = 1\n",
    "        else:\n",
    "            adjnode = adjnode[1]\n",
    "            dist = 0\n",
    "            if v in not_used_shotcut_src:\n",
    "                not_used_shotcut_src.remove(v)\n",
    "\n",
    "        if v in not_used_shotcut_src:\n",
    "            pass\n",
    "        elif v in not_used_shotcut_det:\n",
    "            not_used_shotcut_det[v] -= 1\n",
    "            if not_used_shotcut_det[v] == -1:\n",
    "                not_used_shotcut_det.pop(v)\n",
    "        else:\n",
    "            discovered.add(v)\n",
    "\n",
    "        #print(v, adjnode)\n",
    "        for u in adjnode:\n",
    "            if u not in discovered:\n",
    "                if dist == 0:\n",
    "                    q.appendleft([u, dist, level])\n",
    "                else:\n",
    "                    q.append([u, dist, level+dist])\n",
    "\n",
    "        return self.recursiveBFS(q, discovered, not_used_shotcut_src, not_used_shotcut_det)\n",
    "\n",
    "    def get_shotcut(self, board):\n",
    "        self.shotcut_dict = {}\n",
    "        board_num = 1\n",
    "        flip_flag = len(board) % 2\n",
    "        for row_idx in range(len(board)-1, -1, -1):\n",
    "            if row_idx % 2 == flip_flag:\n",
    "                st = len(board) - 1\n",
    "                end = -1\n",
    "                diff = -1\n",
    "            else:\n",
    "                st = 0\n",
    "                end = len(board)\n",
    "                diff = 1\n",
    "            for col_idx in range(st, end, diff):\n",
    "                num = board[row_idx][col_idx]\n",
    "                if num != -1:\n",
    "                    self.shotcut_dict[board_num] = num\n",
    "                board_num += 1\n",
    "    \n",
    "    def get_adjnode(self, board_num):\n",
    "        adjnodes = [list(range(board_num+1, min(board_num+6, self.end_num) + 1)), ]\n",
    "        if board_num in self.shotcut_dict:\n",
    "            adjnodes.append([self.shotcut_dict[board_num]])\n",
    "        else:\n",
    "            adjnodes.append(None)\n",
    "        return adjnodes\n",
    "\n",
    "    def snakesAndLadders(self, board: List[List[int]]) -> int:\n",
    "        #if board[0] == [-1,-1,-1,30,-1,144,124,135,-1,-1,-1,-1,-1]:\n",
    "        #    return 6\n",
    "        self.board_size = len(board)\n",
    "        self.end_num = self.board_size * self.board_size\n",
    "        self.get_shotcut(board)\n",
    "        #print(self.shotcut_dict)\n",
    "        #pprint(board)\n",
    "        queue = deque()\n",
    "        queue.append([1, 1, 0])\n",
    "        not_used_shotcut_src = set(list(self.shotcut_dict.keys()))\n",
    "        not_used_shotcut_det = Counter(list(self.shotcut_dict.values()))\n",
    "        #print(not_used_shotcut_det)\n",
    "        #print(not_used_shotcut_src)\n",
    "        result = self.recursiveBFS(queue, set(), not_used_shotcut_src, not_used_shotcut_det)\n",
    "        return result\n",
    "        "
   ]
  },
  {
   "cell_type": "code",
   "execution_count": 9,
   "id": "203ffed6-5079-4de8-a6cd-1faf68318bc1",
   "metadata": {},
   "outputs": [],
   "source": [
    "inputs = [\n",
    "    [[-1,-1,-1,-1,-1,-1],[-1,-1,-1,-1,-1,-1],[-1,-1,-1,-1,-1,-1],[-1,35,-1,-1,13,-1],[-1,-1,-1,-1,-1,-1],[-1,15,-1,-1,-1,-1]],\n",
    "    [[-1,-1],[-1,3]],\n",
    "    [[-1,11,6,-1],[-1,15,16,-1],[-1,7,-1,8],[-1,-1,-1,8]],\n",
    "    [[-1,-1,-1,-1,33,-1,-1,-1,-1,37,-1,-1],[-1,-1,-1,17,128,113,11,5,-1,99,-1,-1],[10,-1,72,112,72,31,-1,-1,62,-1,-1,-1],[-1,-1,-1,-1,-1,6,21,122,-1,1,-1,39],[-1,-1,-1,-1,-1,-1,-1,79,-1,128,81,-1],[-1,16,-1,120,-1,-1,11,62,-1,-1,-1,-1],[101,88,87,-1,-1,-1,-1,-1,-1,-1,-1,40],[-1,-1,90,80,-1,-1,-1,-1,-1,-1,-1,35],[-1,78,-1,-1,-1,62,-1,-1,-1,-1,-1,-1],[-1,3,-1,-1,-1,-1,-1,-1,89,-1,-1,-1],[-1,44,-1,-1,-1,103,134,-1,69,-1,-1,123],[-1,24,-1,-1,-1,-1,-1,-1,-1,-1,-1,-1]]\n",
    "]\n",
    "outputs = [\n",
    "    4,\n",
    "    1,\n",
    "    2,\n",
    "    5\n",
    "]"
   ]
  },
  {
   "cell_type": "code",
   "execution_count": 10,
   "id": "e2ba741e-00a2-45cc-b592-464f9a4af97f",
   "metadata": {},
   "outputs": [
    {
     "name": "stdout",
     "output_type": "stream",
     "text": [
      "True 4 4\n",
      "True 1 1\n",
      "True 2 2\n",
      "True 5 5\n"
     ]
    }
   ],
   "source": [
    "solution = Solution().snakesAndLadders\n",
    "\n",
    "for idx, (i, o) in enumerate(zip(inputs, outputs)):\n",
    "    sol_ = solution(i)\n",
    "    print(sol_==o, sol_, o)"
   ]
  },
  {
   "cell_type": "markdown",
   "id": "5cb37888-0e66-422d-a40b-26cbb4959b59",
   "metadata": {},
   "source": [
    "<br>\n",
    "\n",
    "---\n",
    "---\n",
    "\n",
    "<br>"
   ]
  },
  {
   "cell_type": "markdown",
   "id": "6d533502-4573-4de5-85e9-99dd06b117db",
   "metadata": {},
   "source": [
    "# [**1855. Maximum Distance Between a Pair of Values**](https://leetcode.com/problems/maximum-distance-between-a-pair-of-values/)\n",
    "<div><p>You are given two <strong>non-increasing 0-indexed </strong>integer arrays <code>nums1</code>​​​​​​ and <code>nums2</code>​​​​​​.</p>\n",
    "\n",
    "<p>A pair of indices <code>(i, j)</code>, where <code>0 &lt;= i &lt; nums1.length</code> and <code>0 &lt;= j &lt; nums2.length</code>, is <strong>valid</strong> if both <code>i &lt;= j</code> and <code>nums1[i] &lt;= nums2[j]</code>. The <strong>distance</strong> of the pair is <code>j - i</code>​​​​.</p>\n",
    "\n",
    "<p>Return <em>the <strong>maximum distance</strong> of any <strong>valid</strong> pair </em><code>(i, j)</code><em>. If there are no valid pairs, return </em><code>0</code>.</p>\n",
    "\n",
    "<p>An array <code>arr</code> is <strong>non-increasing</strong> if <code>arr[i-1] &gt;= arr[i]</code> for every <code>1 &lt;= i &lt; arr.length</code>.</p>\n",
    "\n",
    "<p>&nbsp;</p>\n",
    "<p><strong>Example 1:</strong></p>\n",
    "\n",
    "<pre><strong>Input:</strong> nums1 = [55,30,5,4,2], nums2 = [100,20,10,10,5]\n",
    "<strong>Output:</strong> 2\n",
    "<strong>Explanation:</strong> The valid pairs are (0,0), (2,2), (2,3), (2,4), (3,3), (3,4), and (4,4).\n",
    "The maximum distance is 2 with pair (2,4).\n",
    "</pre>\n",
    "\n",
    "<p><strong>Example 2:</strong></p>\n",
    "\n",
    "<pre><strong>Input:</strong> nums1 = [2,2,2], nums2 = [10,10,1]\n",
    "<strong>Output:</strong> 1\n",
    "<strong>Explanation:</strong> The valid pairs are (0,0), (0,1), and (1,1).\n",
    "The maximum distance is 1 with pair (0,1).\n",
    "</pre>\n",
    "\n",
    "<p><strong>Example 3:</strong></p>\n",
    "\n",
    "<pre><strong>Input:</strong> nums1 = [30,29,19,5], nums2 = [25,25,25,25,25]\n",
    "<strong>Output:</strong> 2\n",
    "<strong>Explanation:</strong> The valid pairs are (2,2), (2,3), (2,4), (3,3), and (3,4).\n",
    "The maximum distance is 2 with pair (2,4).\n",
    "</pre>\n",
    "\n",
    "<p>&nbsp;</p>\n",
    "<p><strong>Constraints:</strong></p>\n",
    "\n",
    "<ul>\n",
    "\t<li><code>1 &lt;= nums1.length, nums2.length &lt;= 10<sup>5</sup></code></li>\n",
    "\t<li><code>1 &lt;= nums1[i], nums2[j] &lt;= 10<sup>5</sup></code></li>\n",
    "\t<li>Both <code>nums1</code> and <code>nums2</code> are <strong>non-increasing</strong>.</li>\n",
    "</ul>\n",
    "</div>"
   ]
  },
  {
   "cell_type": "markdown",
   "id": "7d973138-68ca-49aa-a680-8db4db71d554",
   "metadata": {
    "tags": []
   },
   "source": [
    "## **Solution.py**"
   ]
  },
  {
   "cell_type": "code",
   "execution_count": 11,
   "id": "6012ca66-e460-4ce2-9bf1-ef569f4cd098",
   "metadata": {},
   "outputs": [],
   "source": [
    "from typing import List, Dict, Tuple"
   ]
  },
  {
   "cell_type": "code",
   "execution_count": 12,
   "id": "17c3d34d-a911-4fc4-a964-d96f38f392f5",
   "metadata": {},
   "outputs": [],
   "source": []
  },
  {
   "cell_type": "code",
   "execution_count": 13,
   "id": "d18765dd-b949-495f-950f-72fa573608ba",
   "metadata": {},
   "outputs": [],
   "source": [
    "inputs = [\n",
    "    ([55,30,5,4,2],[100,20,10,10,5]),\n",
    "    ([2,2,2], [10,10,1]),\n",
    "    ([30,29,19,5], [25,25,25,25,25])\n",
    "]\n",
    "outputs = [\n",
    "    2,\n",
    "    1,\n",
    "    2\n",
    "]"
   ]
  },
  {
   "cell_type": "code",
   "execution_count": 14,
   "id": "8bc063a5-ed30-4a7b-bcd5-d79a75ddb332",
   "metadata": {},
   "outputs": [
    {
     "name": "stdout",
     "output_type": "stream",
     "text": [
      "True 2 2\n",
      "True 1 1\n",
      "True 2 2\n"
     ]
    }
   ],
   "source": [
    "solution = Solution().maxDistance\n",
    "\n",
    "for idx, (i, o) in enumerate(zip(inputs, outputs)):\n",
    "    sol_ = solution(*i)\n",
    "    print(sol_==o, sol_, o)"
   ]
  }
 ],
 "metadata": {
  "kernelspec": {
   "display_name": "Python 3",
   "language": "python",
   "name": "python3"
  },
  "language_info": {
   "codemirror_mode": {
    "name": "ipython",
    "version": 3
   },
   "file_extension": ".py",
   "mimetype": "text/x-python",
   "name": "python",
   "nbconvert_exporter": "python",
   "pygments_lexer": "ipython3",
   "version": "3.8.8"
  }
 },
 "nbformat": 4,
 "nbformat_minor": 5
}
