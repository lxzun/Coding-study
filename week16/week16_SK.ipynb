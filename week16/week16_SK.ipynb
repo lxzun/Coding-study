{
 "cells": [
  {
   "cell_type": "markdown",
   "id": "df5f6a66",
   "metadata": {},
   "source": [
    "# [**1475. Final Prices With a Special Discount in a Shop**](https://leetcode.com/problems/final-prices-with-a-special-discount-in-a-shop/)\n",
    "\n",
    "<div class=\"content__u3I1 question-content__JfgR\"><div><p>Given the array <code>prices</code> where <code>prices[i]</code> is the price of the <code>ith</code> item in a shop. There is a special discount for items in the shop, if you buy the <code>ith</code> item, then you will receive a discount equivalent to <code>prices[j]</code> where <code>j</code> is the <strong>minimum</strong>&nbsp;index such that <code>j &gt; i</code> and <code>prices[j] &lt;= prices[i]</code>, otherwise, you will not receive any discount at all.</p>\n",
    "\n",
    "<p><em>Return an array where the <code>ith</code> element is the final price you will pay for the <code>ith</code> item of the shop considering the special discount.</em></p>\n",
    "\n",
    "<p>&nbsp;</p>\n",
    "<p><strong>Example 1:</strong></p>\n",
    "\n",
    "<pre><strong>Input:</strong> prices = [8,4,6,2,3]\n",
    "<strong>Output:</strong> [4,2,4,2,3]\n",
    "<strong>Explanation:</strong>&nbsp;\n",
    "For item 0 with price[0]=8 you will receive a discount equivalent to prices[1]=4, therefore, the final price you will pay is 8 - 4 = 4.&nbsp;\n",
    "For item 1 with price[1]=4 you will receive a discount equivalent to prices[3]=2, therefore, the final price you will pay is 4 - 2 = 2.&nbsp;\n",
    "For item 2 with price[2]=6 you will receive a discount equivalent to prices[3]=2, therefore, the final price you will pay is 6 - 2 = 4.&nbsp;\n",
    "For items 3 and 4 you will not receive any discount at all.\n",
    "</pre>\n",
    "\n",
    "<p><strong>Example 2:</strong></p>\n",
    "\n",
    "<pre><strong>Input:</strong> prices = [1,2,3,4,5]\n",
    "<strong>Output:</strong> [1,2,3,4,5]\n",
    "<strong>Explanation:</strong> In this case, for all items, you will not receive any discount at all.\n",
    "</pre>\n",
    "\n",
    "<p><strong>Example 3:</strong></p>\n",
    "\n",
    "<pre><strong>Input:</strong> prices = [10,1,1,6]\n",
    "<strong>Output:</strong> [9,0,1,6]\n",
    "</pre>\n",
    "\n",
    "<p>&nbsp;</p>\n",
    "<p><strong>Constraints:</strong></p>\n",
    "\n",
    "<ul>\n",
    "\t<li><code>1 &lt;= prices.length &lt;= 500</code></li>\n",
    "\t<li><code>1 &lt;= prices[i] &lt;= 10^3</code></li>\n",
    "</ul>\n",
    "</div></div>\n"
   ]
  },
  {
   "cell_type": "markdown",
   "id": "7e2011b9-072b-4732-8a9f-aa8cb80160e3",
   "metadata": {},
   "source": [
    "---\n",
    "## **Solution.py**"
   ]
  },
  {
   "cell_type": "code",
   "execution_count": 1,
   "id": "f21e50c7-ae80-4e9d-a7e0-bbdcc164b597",
   "metadata": {},
   "outputs": [
    {
     "ename": "NameError",
     "evalue": "name 'List' is not defined",
     "output_type": "error",
     "traceback": [
      "\u001b[1;31m---------------------------------------------------------------------------\u001b[0m",
      "\u001b[1;31mNameError\u001b[0m                                 Traceback (most recent call last)",
      "\u001b[1;32m~\\AppData\\Local\\Temp/ipykernel_23924/4041021488.py\u001b[0m in \u001b[0;36m<module>\u001b[1;34m\u001b[0m\n\u001b[1;32m----> 1\u001b[1;33m \u001b[1;32mclass\u001b[0m \u001b[0mSolution\u001b[0m\u001b[1;33m:\u001b[0m\u001b[1;33m\u001b[0m\u001b[1;33m\u001b[0m\u001b[0m\n\u001b[0m\u001b[0;32m      2\u001b[0m     \u001b[1;32mdef\u001b[0m \u001b[0mfinalPrices\u001b[0m\u001b[1;33m(\u001b[0m\u001b[0mself\u001b[0m\u001b[1;33m,\u001b[0m \u001b[0mprices\u001b[0m\u001b[1;33m:\u001b[0m \u001b[0mList\u001b[0m\u001b[1;33m[\u001b[0m\u001b[0mint\u001b[0m\u001b[1;33m]\u001b[0m\u001b[1;33m)\u001b[0m \u001b[1;33m->\u001b[0m \u001b[0mList\u001b[0m\u001b[1;33m[\u001b[0m\u001b[0mint\u001b[0m\u001b[1;33m]\u001b[0m\u001b[1;33m:\u001b[0m\u001b[1;33m\u001b[0m\u001b[1;33m\u001b[0m\u001b[0m\n\u001b[0;32m      3\u001b[0m         \u001b[0manswer\u001b[0m \u001b[1;33m=\u001b[0m \u001b[1;33m[\u001b[0m\u001b[1;33m]\u001b[0m\u001b[1;33m\u001b[0m\u001b[1;33m\u001b[0m\u001b[0m\n\u001b[0;32m      4\u001b[0m         \u001b[0ml\u001b[0m \u001b[1;33m=\u001b[0m \u001b[0mlen\u001b[0m\u001b[1;33m(\u001b[0m\u001b[0mprices\u001b[0m\u001b[1;33m)\u001b[0m\u001b[1;33m\u001b[0m\u001b[1;33m\u001b[0m\u001b[0m\n\u001b[0;32m      5\u001b[0m         \u001b[1;32mfor\u001b[0m \u001b[0mi\u001b[0m \u001b[1;32min\u001b[0m \u001b[0mrange\u001b[0m\u001b[1;33m(\u001b[0m\u001b[0ml\u001b[0m\u001b[1;33m)\u001b[0m\u001b[1;33m:\u001b[0m\u001b[1;33m\u001b[0m\u001b[1;33m\u001b[0m\u001b[0m\n",
      "\u001b[1;32m~\\AppData\\Local\\Temp/ipykernel_23924/4041021488.py\u001b[0m in \u001b[0;36mSolution\u001b[1;34m()\u001b[0m\n\u001b[0;32m      1\u001b[0m \u001b[1;32mclass\u001b[0m \u001b[0mSolution\u001b[0m\u001b[1;33m:\u001b[0m\u001b[1;33m\u001b[0m\u001b[1;33m\u001b[0m\u001b[0m\n\u001b[1;32m----> 2\u001b[1;33m     \u001b[1;32mdef\u001b[0m \u001b[0mfinalPrices\u001b[0m\u001b[1;33m(\u001b[0m\u001b[0mself\u001b[0m\u001b[1;33m,\u001b[0m \u001b[0mprices\u001b[0m\u001b[1;33m:\u001b[0m \u001b[0mList\u001b[0m\u001b[1;33m[\u001b[0m\u001b[0mint\u001b[0m\u001b[1;33m]\u001b[0m\u001b[1;33m)\u001b[0m \u001b[1;33m->\u001b[0m \u001b[0mList\u001b[0m\u001b[1;33m[\u001b[0m\u001b[0mint\u001b[0m\u001b[1;33m]\u001b[0m\u001b[1;33m:\u001b[0m\u001b[1;33m\u001b[0m\u001b[1;33m\u001b[0m\u001b[0m\n\u001b[0m\u001b[0;32m      3\u001b[0m         \u001b[0manswer\u001b[0m \u001b[1;33m=\u001b[0m \u001b[1;33m[\u001b[0m\u001b[1;33m]\u001b[0m\u001b[1;33m\u001b[0m\u001b[1;33m\u001b[0m\u001b[0m\n\u001b[0;32m      4\u001b[0m         \u001b[0ml\u001b[0m \u001b[1;33m=\u001b[0m \u001b[0mlen\u001b[0m\u001b[1;33m(\u001b[0m\u001b[0mprices\u001b[0m\u001b[1;33m)\u001b[0m\u001b[1;33m\u001b[0m\u001b[1;33m\u001b[0m\u001b[0m\n\u001b[0;32m      5\u001b[0m         \u001b[1;32mfor\u001b[0m \u001b[0mi\u001b[0m \u001b[1;32min\u001b[0m \u001b[0mrange\u001b[0m\u001b[1;33m(\u001b[0m\u001b[0ml\u001b[0m\u001b[1;33m)\u001b[0m\u001b[1;33m:\u001b[0m\u001b[1;33m\u001b[0m\u001b[1;33m\u001b[0m\u001b[0m\n",
      "\u001b[1;31mNameError\u001b[0m: name 'List' is not defined"
     ]
    }
   ],
   "source": [
    "class Solution:\n",
    "    def finalPrices(self, prices: List[int]) -> List[int]:\n",
    "        answer = []\n",
    "        l = len(prices)\n",
    "        for i in range(l):\n",
    "            n = 0\n",
    "            for j in range(i+1,l):\n",
    "                if prices[i] >= prices[j]:\n",
    "                    n = prices[j]\n",
    "                    break\n",
    "                else:\n",
    "                    continue\n",
    "\n",
    "            answer.append(prices[i]-n)\n",
    "        return answer"
   ]
  },
  {
   "cell_type": "code",
   "execution_count": null,
   "id": "72ede3f3-fb13-4bb7-9d64-64d936a15c97",
   "metadata": {},
   "outputs": [],
   "source": [
    "inputs = [\n",
    "    [8,4,6,2,3],\n",
    "    [1,2,3,4,5],\n",
    "    [10,1,1,6]\n",
    "]\n",
    "outputs = [\n",
    "    [4,2,4,2,3],\n",
    "    [1,2,3,4,5],\n",
    "    [9,0,1,6]\n",
    "]"
   ]
  },
  {
   "cell_type": "code",
   "execution_count": 5,
   "id": "d9a7d5c0-fe3b-48d6-b54b-e9e1c6668bf7",
   "metadata": {},
   "outputs": [
    {
     "name": "stdout",
     "output_type": "stream",
     "text": [
      "True [4, 2, 4, 2, 3] [4, 2, 4, 2, 3]\n",
      "True [1, 2, 3, 4, 5] [1, 2, 3, 4, 5]\n",
      "True [9, 0, 1, 6] [9, 0, 1, 6]\n"
     ]
    }
   ],
   "source": [
    "solution = Solution().finalPrices\n",
    "\n",
    "for idx, (i, o) in enumerate(zip(inputs, outputs)):\n",
    "    sol_ = solution(i)\n",
    "    print(sol_==o, sol_, o)"
   ]
  },
  {
   "attachments": {
    "81c381ba-0105-47bd-8d7d-665421a4c773.png": {
     "image/png": "[encoded data removed]"
    }
   },
   "cell_type": "markdown",
   "id": "9d1db16b-f582-4e94-8495-17fcc96e70e2",
   "metadata": {},
   "source": [
    "![image.png](attachment:81c381ba-0105-47bd-8d7d-665421a4c773.png)"
   ]
  },
  {
   "cell_type": "markdown",
   "id": "30cd5633-fe90-4c81-998b-cf0c475d6274",
   "metadata": {},
   "source": [
    "<br>\n",
    "\n",
    "---\n",
    "---\n",
    "\n",
    "<br>"
   ]
  },
  {
   "cell_type": "markdown",
   "id": "ff49fb96-9c51-4fdc-a4b8-6a3cea4b148a",
   "metadata": {
    "tags": []
   },
   "source": [
    "# [**909. Snakes and Ladders**](https://leetcode.com/problems/snakes-and-ladders/)\n",
    "\n",
    "<p>You are given an <code>n x n</code> integer matrix <code>board</code> where the cells are labeled from <code>1</code> to <code>n<sup>2</sup></code> in a <a href=\"https://en.wikipedia.org/wiki/Boustrophedon\" target=\"_blank\"><strong>Boustrophedon style</strong></a> starting from the bottom left of the board (i.e. <code>board[n - 1][0]</code>) and alternating direction each row.</p>\n",
    "\n",
    "<p>You start on square <code>1</code> of the board. In each move, starting from square <code>curr</code>, do the following:</p>\n",
    "\n",
    "<ul>\n",
    "\t<li>Choose a destination square <code>next</code> with a label in the range <code>[curr + 1, min(curr + 6, n<sup>2</sup>)]</code>.\n",
    "\t<ul>\n",
    "\t\t<li>This choice simulates the result of a standard <strong>6-sided die roll</strong>: i.e., there are always at most 6 destinations, regardless of the size of the board.</li>\n",
    "\t</ul>\n",
    "\t</li>\n",
    "\t<li>If <code>next</code> has a snake or ladder, you <strong>must</strong> move to the destination of that snake or ladder. Otherwise, you move to <code>next</code>.</li>\n",
    "\t<li>The game ends when you reach the square <code>n<sup>2</sup></code>.</li>\n",
    "</ul>\n",
    "\n",
    "<p>A board square on row <code>r</code> and column <code>c</code> has a snake or ladder if <code>board[r][c] != -1</code>. The destination of that snake or ladder is <code>board[r][c]</code>. Squares <code>1</code> and <code>n<sup>2</sup></code> do not have a snake or ladder.</p>\n",
    "\n",
    "<p>Note that you only take a snake or ladder at most once per move. If the destination to a snake or ladder is the start of another snake or ladder, you do <strong>not</strong> follow the subsequent&nbsp;snake or ladder.</p>\n",
    "\n",
    "<ul>\n",
    "\t<li>For example, suppose the board is <code>[[-1,4],[-1,3]]</code>, and on the first move, your destination square is <code>2</code>. You follow the ladder to square <code>3</code>, but do <strong>not</strong> follow the subsequent ladder to <code>4</code>.</li>\n",
    "</ul>\n",
    "\n",
    "<p>Return <em>the least number of moves required to reach the square </em><code>n<sup>2</sup></code><em>. If it is not possible to reach the square, return </em><code>-1</code>.</p>\n",
    "\n",
    "<p>&nbsp;</p>\n",
    "<p><strong>Example 1:</strong></p>\n",
    "<img alt=\"\" src=\"https://assets.leetcode.com/uploads/2018/09/23/snakes.png\" style=\"width: 500px; height: 394px;\">\n",
    "<pre><strong>Input:</strong> board = [[-1,-1,-1,-1,-1,-1],[-1,-1,-1,-1,-1,-1],[-1,-1,-1,-1,-1,-1],[-1,35,-1,-1,13,-1],[-1,-1,-1,-1,-1,-1],[-1,15,-1,-1,-1,-1]]\n",
    "<strong>Output:</strong> 4\n",
    "<strong>Explanation:</strong> \n",
    "In the beginning, you start at square 1 (at row 5, column 0).\n",
    "You decide to move to square 2 and must take the ladder to square 15.\n",
    "You then decide to move to square 17 and must take the snake to square 13.\n",
    "You then decide to move to square 14 and must take the ladder to square 35.\n",
    "You then decide to move to square 36, ending the game.\n",
    "This is the lowest possible number of moves to reach the last square, so return 4.\n",
    "</pre>\n",
    "\n",
    "<p><strong>Example 2:</strong></p>\n",
    "\n",
    "<pre><strong>Input:</strong> board = [[-1,-1],[-1,3]]\n",
    "<strong>Output:</strong> 1\n",
    "</pre>\n",
    "\n",
    "<p>&nbsp;</p>\n",
    "<p><strong>Constraints:</strong></p>\n",
    "\n",
    "<ul>\n",
    "\t<li><code>n == board.length == board[i].length</code></li>\n",
    "\t<li><code>2 &lt;= n &lt;= 20</code></li>\n",
    "\t<li><code>grid[i][j]</code> is either <code>-1</code> or in the range <code>[1, n<sup>2</sup>]</code>.</li>\n",
    "\t<li>The squares labeled <code>1</code> and <code>n<sup>2</sup></code> do not have any ladders or snakes.</li>\n",
    "</ul>\n",
    "</div></div>"
   ]
  },
  {
   "cell_type": "markdown",
   "id": "06add231-b098-4a98-b8c3-3854db004492",
   "metadata": {
    "tags": []
   },
   "source": [
    "## **Solution.py**"
   ]
  },
  {
   "cell_type": "code",
   "execution_count": 2,
   "id": "08b0ff6d-6be7-4d4f-8592-da56f67d059b",
   "metadata": {},
   "outputs": [
    {
     "ename": "NameError",
     "evalue": "name 'List' is not defined",
     "output_type": "error",
     "traceback": [
      "\u001b[1;31m---------------------------------------------------------------------------\u001b[0m",
      "\u001b[1;31mNameError\u001b[0m                                 Traceback (most recent call last)",
      "\u001b[1;32m~\\AppData\\Local\\Temp/ipykernel_23924/3111486187.py\u001b[0m in \u001b[0;36m<module>\u001b[1;34m\u001b[0m\n\u001b[0;32m     53\u001b[0m \u001b[1;33m\u001b[0m\u001b[0m\n\u001b[0;32m     54\u001b[0m \u001b[1;33m\u001b[0m\u001b[0m\n\u001b[1;32m---> 55\u001b[1;33m \u001b[1;32mclass\u001b[0m \u001b[0mSolution\u001b[0m\u001b[1;33m:\u001b[0m\u001b[1;33m\u001b[0m\u001b[1;33m\u001b[0m\u001b[0m\n\u001b[0m\u001b[0;32m     56\u001b[0m     \u001b[1;32mdef\u001b[0m \u001b[0msnakesAndLadders\u001b[0m\u001b[1;33m(\u001b[0m\u001b[0mself\u001b[0m\u001b[1;33m,\u001b[0m \u001b[0mboard\u001b[0m\u001b[1;33m:\u001b[0m \u001b[0mList\u001b[0m\u001b[1;33m[\u001b[0m\u001b[0mList\u001b[0m\u001b[1;33m[\u001b[0m\u001b[0mint\u001b[0m\u001b[1;33m]\u001b[0m\u001b[1;33m]\u001b[0m\u001b[1;33m)\u001b[0m \u001b[1;33m->\u001b[0m \u001b[0mint\u001b[0m\u001b[1;33m:\u001b[0m\u001b[1;33m\u001b[0m\u001b[1;33m\u001b[0m\u001b[0m\n\u001b[0;32m     57\u001b[0m         \u001b[0mtree\u001b[0m \u001b[1;33m=\u001b[0m \u001b[0mTree\u001b[0m\u001b[1;33m(\u001b[0m\u001b[0mboard\u001b[0m\u001b[1;33m)\u001b[0m\u001b[1;33m\u001b[0m\u001b[1;33m\u001b[0m\u001b[0m\n",
      "\u001b[1;32m~\\AppData\\Local\\Temp/ipykernel_23924/3111486187.py\u001b[0m in \u001b[0;36mSolution\u001b[1;34m()\u001b[0m\n\u001b[0;32m     54\u001b[0m \u001b[1;33m\u001b[0m\u001b[0m\n\u001b[0;32m     55\u001b[0m \u001b[1;32mclass\u001b[0m \u001b[0mSolution\u001b[0m\u001b[1;33m:\u001b[0m\u001b[1;33m\u001b[0m\u001b[1;33m\u001b[0m\u001b[0m\n\u001b[1;32m---> 56\u001b[1;33m     \u001b[1;32mdef\u001b[0m \u001b[0msnakesAndLadders\u001b[0m\u001b[1;33m(\u001b[0m\u001b[0mself\u001b[0m\u001b[1;33m,\u001b[0m \u001b[0mboard\u001b[0m\u001b[1;33m:\u001b[0m \u001b[0mList\u001b[0m\u001b[1;33m[\u001b[0m\u001b[0mList\u001b[0m\u001b[1;33m[\u001b[0m\u001b[0mint\u001b[0m\u001b[1;33m]\u001b[0m\u001b[1;33m]\u001b[0m\u001b[1;33m)\u001b[0m \u001b[1;33m->\u001b[0m \u001b[0mint\u001b[0m\u001b[1;33m:\u001b[0m\u001b[1;33m\u001b[0m\u001b[1;33m\u001b[0m\u001b[0m\n\u001b[0m\u001b[0;32m     57\u001b[0m         \u001b[0mtree\u001b[0m \u001b[1;33m=\u001b[0m \u001b[0mTree\u001b[0m\u001b[1;33m(\u001b[0m\u001b[0mboard\u001b[0m\u001b[1;33m)\u001b[0m\u001b[1;33m\u001b[0m\u001b[1;33m\u001b[0m\u001b[0m\n\u001b[0;32m     58\u001b[0m         \u001b[1;32mreturn\u001b[0m \u001b[0mtree\u001b[0m\u001b[1;33m.\u001b[0m\u001b[0mbfs\u001b[0m\u001b[1;33m(\u001b[0m\u001b[1;33m)\u001b[0m\u001b[1;33m\u001b[0m\u001b[1;33m\u001b[0m\u001b[0m\n",
      "\u001b[1;31mNameError\u001b[0m: name 'List' is not defined"
     ]
    }
   ],
   "source": [
    "from collections import deque\n",
    "\n",
    "\n",
    "class Tree:\n",
    "\n",
    "    def __init__(self, board):\n",
    "        self.graph = board\n",
    "        self.map_len = len(self.graph)\n",
    "        self.map_idx()\n",
    "        # print(self.map_len, self.idx_dict, self.warps)\n",
    "\n",
    "    def map_idx(self):\n",
    "        self.warps = {}\n",
    "        for i in range(self.map_len):\n",
    "            for j in range(self.map_len):\n",
    "                if self.map_len%2==0:\n",
    "                    if (i+1)%2==0:\n",
    "                        glb_idx = 2*self.map_len*(self.map_len-1-i)//2+j+1 \n",
    "                    else:\n",
    "                        glb_idx = 2*self.map_len*((self.map_len-1-i)//2+1)-j\n",
    "                else:\n",
    "                    if (i+1)%2==1:\n",
    "                        glb_idx = 2*self.map_len*(self.map_len-1-i)//2+j+1\n",
    "                    else:\n",
    "                        glb_idx = 2*self.map_len*((self.map_len-1-i)//2+1)-j\n",
    "                if self.graph[i][j] != -1:\n",
    "                    self.warps[glb_idx] = self.graph[i][j]\n",
    "                        \n",
    "    def bfs(self):\n",
    "        queue = deque()\n",
    "        queue.append([1,0])\n",
    "        visited = set()\n",
    "        while queue:\n",
    "            node, d = queue.popleft()\n",
    "            visited.update([node])\n",
    "            # print(node, d , queue, visited)\n",
    "            \n",
    "            for i in range(1,7):\n",
    "                if node+i>self.map_len**2:\n",
    "                    next_node = self.map_len**2\n",
    "                else:\n",
    "                    if node+i in self.warps:\n",
    "                        next_node = self.warps[node+i]\n",
    "                    else:\n",
    "                        next_node = node+i\n",
    "                if next_node not in visited:\n",
    "                    queue.append([next_node, d+1])\n",
    "            \n",
    "            if node == self.map_len**2:\n",
    "                return d\n",
    "        return -1\n",
    "\n",
    " \n",
    "\n",
    "class Solution:\n",
    "    def snakesAndLadders(self, board: List[List[int]]) -> int: \n",
    "        tree = Tree(board)\n",
    "        return tree.bfs()"
   ]
  },
  {
   "attachments": {
    "111c102e-0960-4253-af13-438f215ff554.png": {
     "image/png": "[encoded data removed]"
    }
   },
   "cell_type": "markdown",
   "id": "d8cdbb6a-8478-4879-8a88-6947d386b721",
   "metadata": {},
   "source": [
    "![image.png](attachment:111c102e-0960-4253-af13-438f215ff554.png)"
   ]
  },
  {
   "cell_type": "code",
   "execution_count": 9,
   "id": "203ffed6-5079-4de8-a6cd-1faf68318bc1",
   "metadata": {},
   "outputs": [],
   "source": [
    "inputs = [\n",
    "    [[-1,-1,-1,-1,-1,-1],[-1,-1,-1,-1,-1,-1],[-1,-1,-1,-1,-1,-1],[-1,35,-1,-1,13,-1],[-1,-1,-1,-1,-1,-1],[-1,15,-1,-1,-1,-1]],\n",
    "    [[-1,-1],[-1,3]],\n",
    "    [[-1,11,6,-1],[-1,15,16,-1],[-1,7,-1,8],[-1,-1,-1,8]],\n",
    "    [[-1,-1,-1,-1,33,-1,-1,-1,-1,37,-1,-1],[-1,-1,-1,17,128,113,11,5,-1,99,-1,-1],[10,-1,72,112,72,31,-1,-1,62,-1,-1,-1],[-1,-1,-1,-1,-1,6,21,122,-1,1,-1,39],[-1,-1,-1,-1,-1,-1,-1,79,-1,128,81,-1],[-1,16,-1,120,-1,-1,11,62,-1,-1,-1,-1],[101,88,87,-1,-1,-1,-1,-1,-1,-1,-1,40],[-1,-1,90,80,-1,-1,-1,-1,-1,-1,-1,35],[-1,78,-1,-1,-1,62,-1,-1,-1,-1,-1,-1],[-1,3,-1,-1,-1,-1,-1,-1,89,-1,-1,-1],[-1,44,-1,-1,-1,103,134,-1,69,-1,-1,123],[-1,24,-1,-1,-1,-1,-1,-1,-1,-1,-1,-1]]\n",
    "]\n",
    "outputs = [\n",
    "    4,\n",
    "    1,\n",
    "    2,\n",
    "    5\n",
    "]"
   ]
  },
  {
   "cell_type": "code",
   "execution_count": 10,
   "id": "e2ba741e-00a2-45cc-b592-464f9a4af97f",
   "metadata": {},
   "outputs": [
    {
     "name": "stdout",
     "output_type": "stream",
     "text": [
      "True 4 4\n",
      "True 1 1\n",
      "True 2 2\n",
      "True 5 5\n"
     ]
    }
   ],
   "source": [
    "solution = Solution().snakesAndLadders\n",
    "\n",
    "for idx, (i, o) in enumerate(zip(inputs, outputs)):\n",
    "    sol_ = solution(i)\n",
    "    print(sol_==o, sol_, o)"
   ]
  },
  {
   "cell_type": "markdown",
   "id": "5cb37888-0e66-422d-a40b-26cbb4959b59",
   "metadata": {},
   "source": [
    "<br>\n",
    "\n",
    "---\n",
    "---\n",
    "\n",
    "<br>"
   ]
  },
  {
   "cell_type": "markdown",
   "id": "6d533502-4573-4de5-85e9-99dd06b117db",
   "metadata": {},
   "source": [
    "# [**1855. Maximum Distance Between a Pair of Values**](https://leetcode.com/problems/maximum-distance-between-a-pair-of-values/)\n",
    "<div><p>You are given two <strong>non-increasing 0-indexed </strong>integer arrays <code>nums1</code>​​​​​​ and <code>nums2</code>​​​​​​.</p>\n",
    "\n",
    "<p>A pair of indices <code>(i, j)</code>, where <code>0 &lt;= i &lt; nums1.length</code> and <code>0 &lt;= j &lt; nums2.length</code>, is <strong>valid</strong> if both <code>i &lt;= j</code> and <code>nums1[i] &lt;= nums2[j]</code>. The <strong>distance</strong> of the pair is <code>j - i</code>​​​​.</p>\n",
    "\n",
    "<p>Return <em>the <strong>maximum distance</strong> of any <strong>valid</strong> pair </em><code>(i, j)</code><em>. If there are no valid pairs, return </em><code>0</code>.</p>\n",
    "\n",
    "<p>An array <code>arr</code> is <strong>non-increasing</strong> if <code>arr[i-1] &gt;= arr[i]</code> for every <code>1 &lt;= i &lt; arr.length</code>.</p>\n",
    "\n",
    "<p>&nbsp;</p>\n",
    "<p><strong>Example 1:</strong></p>\n",
    "\n",
    "<pre><strong>Input:</strong> nums1 = [55,30,5,4,2], nums2 = [100,20,10,10,5]\n",
    "<strong>Output:</strong> 2\n",
    "<strong>Explanation:</strong> The valid pairs are (0,0), (2,2), (2,3), (2,4), (3,3), (3,4), and (4,4).\n",
    "The maximum distance is 2 with pair (2,4).\n",
    "</pre>\n",
    "\n",
    "<p><strong>Example 2:</strong></p>\n",
    "\n",
    "<pre><strong>Input:</strong> nums1 = [2,2,2], nums2 = [10,10,1]\n",
    "<strong>Output:</strong> 1\n",
    "<strong>Explanation:</strong> The valid pairs are (0,0), (0,1), and (1,1).\n",
    "The maximum distance is 1 with pair (0,1).\n",
    "</pre>\n",
    "\n",
    "<p><strong>Example 3:</strong></p>\n",
    "\n",
    "<pre><strong>Input:</strong> nums1 = [30,29,19,5], nums2 = [25,25,25,25,25]\n",
    "<strong>Output:</strong> 2\n",
    "<strong>Explanation:</strong> The valid pairs are (2,2), (2,3), (2,4), (3,3), and (3,4).\n",
    "The maximum distance is 2 with pair (2,4).\n",
    "</pre>\n",
    "\n",
    "<p>&nbsp;</p>\n",
    "<p><strong>Constraints:</strong></p>\n",
    "\n",
    "<ul>\n",
    "\t<li><code>1 &lt;= nums1.length, nums2.length &lt;= 10<sup>5</sup></code></li>\n",
    "\t<li><code>1 &lt;= nums1[i], nums2[j] &lt;= 10<sup>5</sup></code></li>\n",
    "\t<li>Both <code>nums1</code> and <code>nums2</code> are <strong>non-increasing</strong>.</li>\n",
    "</ul>\n",
    "</div>"
   ]
  },
  {
   "cell_type": "markdown",
   "id": "7d973138-68ca-49aa-a680-8db4db71d554",
   "metadata": {
    "tags": []
   },
   "source": [
    "## **Solution.py**"
   ]
  },
  {
   "cell_type": "code",
   "execution_count": 12,
   "id": "17c3d34d-a911-4fc4-a964-d96f38f392f5",
   "metadata": {},
   "outputs": [],
   "source": [
    "class Solution:\n",
    "    def binary_search(self, arr, target, low=None, high=None):\n",
    "        low, high = low or 0, high or len(arr) - 1\n",
    "        mid = (low + high) // 2\n",
    "        print(low, mid, high, arr, target)\n",
    "        if high == low:\n",
    "            return low if target <= arr[mid] else -1 \n",
    "        if arr[mid] >= target:\n",
    "            return self.binary_search(arr, target, mid+1, high)\n",
    "        if arr[mid] < target:\n",
    "            return self.binary_search(arr, target, low, mid)\n",
    "    \n",
    "    def maxDistance(self, nums1: List[int], nums2: List[int]) -> int:\n",
    "        for i, num1 in enumerate(nums1):\n",
    "            print(self.binary_search(nums2[i:],num1))"
   ]
  },
  {
   "cell_type": "code",
   "execution_count": 13,
   "id": "d18765dd-b949-495f-950f-72fa573608ba",
   "metadata": {},
   "outputs": [],
   "source": [
    "inputs = [\n",
    "    ([55,30,5,4,2],[100,20,10,10,5]),\n",
    "    ([2,2,2], [10,10,1]),\n",
    "    ([30,29,19,5], [25,25,25,25,25])\n",
    "]\n",
    "outputs = [\n",
    "    2,\n",
    "    1,\n",
    "    2\n",
    "]"
   ]
  },
  {
   "cell_type": "code",
   "execution_count": 14,
   "id": "8bc063a5-ed30-4a7b-bcd5-d79a75ddb332",
   "metadata": {},
   "outputs": [
    {
     "name": "stdout",
     "output_type": "stream",
     "text": [
      "True 2 2\n",
      "True 1 1\n",
      "True 2 2\n"
     ]
    }
   ],
   "source": [
    "solution = Solution().maxDistance\n",
    "\n",
    "for idx, (i, o) in enumerate(zip(inputs, outputs)):\n",
    "    sol_ = solution(*i)\n",
    "    print(sol_==o, sol_, o)"
   ]
  }
 ],
 "metadata": {
  "kernelspec": {
   "display_name": "Python 3 (ipykernel)",
   "language": "python",
   "name": "python3"
  },
  "language_info": {
   "codemirror_mode": {
    "name": "ipython",
    "version": 3
   },
   "file_extension": ".py",
   "mimetype": "text/x-python",
   "name": "python",
   "nbconvert_exporter": "python",
   "pygments_lexer": "ipython3",
   "version": "3.9.9"
  }
 },
 "nbformat": 4,
 "nbformat_minor": 5
}
