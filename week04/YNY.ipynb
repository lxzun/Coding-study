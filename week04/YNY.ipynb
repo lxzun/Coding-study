{
  "nbformat": 4,
  "nbformat_minor": 0,
  "metadata": {
    "colab": {
      "name": "tmp.ipynb",
      "provenance": [],
      "collapsed_sections": []
    },
    "kernelspec": {
      "name": "python3",
      "display_name": "Python 3"
    },
    "language_info": {
      "name": "python"
    }
  },
  "cells": [
    {
      "cell_type": "markdown",
      "metadata": {
        "id": "zIbyLT9Waf7g"
      },
      "source": [
        "## 모의고사"
      ]
    },
    {
      "cell_type": "code",
      "metadata": {
        "id": "bpratuj0aZjW"
      },
      "source": [
        "def solution(answers):\n",
        "    answer = []\n",
        "    count_correct = []\n",
        "\n",
        "    first = [1, 2, 3, 4, 5]  # len = 5\n",
        "    second = [2, 1, 2, 3, 2, 4, 2, 5]  # len = 8\n",
        "    third = [3, 3, 1, 1, 2, 2, 4, 4, 5, 5]  # len = 10\n",
        "\n",
        "    len_ans = len(answers)\n",
        "\n",
        "    f_answers = answers.copy()\n",
        "    s_answers = answers.copy()\n",
        "    t_answers = answers.copy()\n",
        "\n",
        "    # first\n",
        "    if 5 > len_ans:\n",
        "        for i in range(5 - len_ans):\n",
        "            f_answers.append(0)\n",
        "    else:\n",
        "        for i in range(5-(len_ans % 5)):\n",
        "            f_answers.append(0)\n",
        "\n",
        "    div_ans_first = len(f_answers) // 5\n",
        "\n",
        "    correct_first = [i for i, j in zip(f_answers, first * div_ans_first) if i == j]\n",
        "    count_correct.append(len(correct_first))\n",
        "\n",
        "    # second\n",
        "    if 8 > len_ans:\n",
        "        for i in range(8 - len_ans):\n",
        "            s_answers.append(0)\n",
        "    else:\n",
        "        for i in range(8-(len_ans % 8)):\n",
        "            s_answers.append(0)\n",
        "\n",
        "    div_ans_second = len(s_answers) // 8\n",
        "\n",
        "    correct_second = [i for i, j in zip(s_answers, second * div_ans_second) if i == j]\n",
        "    count_correct.append(len(correct_second))\n",
        "\n",
        "    # third\n",
        "    if 10 > len_ans:\n",
        "        for i in range(10 - len_ans):\n",
        "            t_answers.append(0)\n",
        "    else:\n",
        "        for i in range(10-(len_ans % 10)):\n",
        "            t_answers.append(0)\n",
        "\n",
        "    div_ans_third = len(t_answers) // 10\n",
        "\n",
        "    correct_third = [i for i, j in zip(t_answers, third * div_ans_third) if i == j]\n",
        "    count_correct.append(len(correct_third))\n",
        "\n",
        "    answer = [i+1 for i, cnt in enumerate(count_correct) if cnt == max(count_correct)]\n",
        "\n",
        "    return answer"
      ],
      "execution_count": null,
      "outputs": []
    },
    {
      "cell_type": "markdown",
      "metadata": {
        "id": "es_Kw8s5ahZ6"
      },
      "source": [
        "## 소수찾기"
      ]
    },
    {
      "cell_type": "code",
      "metadata": {
        "id": "xf-Jhnf6almW"
      },
      "source": [
        "from itertools import permutations\n",
        "# from primePy import primes\n",
        "\n",
        "def solution(numbers):\n",
        "    perm = []\n",
        "    answer = 0\n",
        "    for i in range(1, len(numbers) + 1):\n",
        "        perm.append(list(map(''.join, permutations(numbers, i))))\n",
        "\n",
        "    perm = sum(perm, [])\n",
        "    perm = list(set(int(k) for k in perm))\n",
        "    for j in perm:\n",
        "        if getPrimeNum(int(j)):\n",
        "            answer +=1\n",
        "        else:\n",
        "            pass\n",
        "\n",
        "    return answer\n",
        "\n",
        "\n",
        "def getPrimeNum(n):\n",
        "    if n <=1:\n",
        "        return False\n",
        "    elif n == 2:\n",
        "        return True\n",
        "    for i in range(2, n):\n",
        "        if n % i == 0:\n",
        "            return False\n",
        "    return True"
      ],
      "execution_count": null,
      "outputs": []
    },
    {
      "cell_type": "markdown",
      "metadata": {
        "id": "CmASMJ0Qapaq"
      },
      "source": [
        "## 카펫"
      ]
    },
    {
      "cell_type": "code",
      "metadata": {
        "id": "lPHI4LD3arZN"
      },
      "source": [
        "def solution(brown, yellow):\n",
        "    answer = []\n",
        "    div = []\n",
        "\n",
        "    for i in range(1, yellow + 1):  # 약수를 구하는데\n",
        "        if yellow % i == 0:    \n",
        "            div.append(i)\n",
        "            if yellow // i == i: # 제곱수는 두번 넣고\n",
        "                div.append(i)\n",
        "\n",
        "    for j in range(0, (len(div) // 2)):\n",
        "        expected_brown = 2 * (div[j]+1 + div[-(j+1)]+1)\n",
        "        if expected_brown == brown:\n",
        "            answer = [div[j] + 2, div[-(j+1)] + 2]\n",
        "        else:\n",
        "            pass\n",
        "\n",
        "    answer = sorted(answer,reverse=True)\n",
        "\n",
        "    return answer"
      ],
      "execution_count": null,
      "outputs": []
    }
  ]
}