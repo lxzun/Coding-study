{
 "cells": [
  {
   "cell_type": "markdown",
   "id": "e2529c81-85da-4f54-84c3-ddf7334c2c6f",
   "metadata": {},
   "source": [
    "# [**모의고사**](https://programmers.co.kr/learn/courses/30/lessons/42840)\n",
    "\n",
    "### **문제 설명**\n",
    "\n",
    "수포자는 수학을 포기한 사람의 준말입니다. 수포자 삼인방은 모의고사에 수학 문제를 전부 찍으려 합니다. 수포자는 1번 문제부터 마지막 문제까지 다음과 같이 찍습니다.\n",
    "```\n",
    "1번 수포자가 찍는 방식: 1, 2, 3, 4, 5, 1, 2, 3, 4, 5, ...\n",
    "2번 수포자가 찍는 방식: 2, 1, 2, 3, 2, 4, 2, 5, 2, 1, 2, 3, 2, 4, 2, 5, ...\n",
    "3번 수포자가 찍는 방식: 3, 3, 1, 1, 2, 2, 4, 4, 5, 5, 3, 3, 1, 1, 2, 2, 4, 4, 5, 5, ...\n",
    "```\n",
    "1번 문제부터 마지막 문제까지의 정답이 순서대로 들은 배열 answers가 주어졌을 때, 가장 많은 문제를 맞힌 사람이 누구인지 배열에 담아 return 하도록 solution 함수를 작성해주세요.\n",
    "\n",
    "<br>\n",
    "\n",
    "### **제한 조건**\n",
    "\n",
    "- 시험은 최대 10,000 문제로 구성되어있습니다.\n",
    "- 문제의 정답은 1, 2, 3, 4, 5중 하나입니다.\n",
    "- 가장 높은 점수를 받은 사람이 여럿일 경우, return하는 값을 오름차순 정렬해주세요.\n",
    "\n",
    "<br>\n",
    "\n",
    "#### **입출력 예**\n",
    "| answers\t| return |\n",
    "|:-:|:-:|\n",
    "|[1,2,3,4,5] | [1] | \n",
    "|[1,3,2,4,2] | [1,2,3] | \n",
    "\n",
    "<br>\n",
    "\n",
    "#### **입출력 예 설명**\n",
    "##### **입출력 예 #1**\n",
    "\n",
    "수포자 1은 모든 문제를 맞혔습니다.\n",
    "수포자 2는 모든 문제를 틀렸습니다.\n",
    "수포자 3은 모든 문제를 틀렸습니다.\n",
    "따라서 가장 문제를 많이 맞힌 사람은 수포자 1입니다.\n",
    "\n",
    "\n",
    "##### **입출력 예 #2**\n",
    "\n",
    "모든 사람이 2문제씩을 맞췄습니다."
   ]
  },
  {
   "cell_type": "markdown",
   "id": "cbf1a074-d38d-41b9-ad3f-7e2785a87e4d",
   "metadata": {},
   "source": [
    "---\n",
    "## **Solution.py**"
   ]
  },
  {
   "cell_type": "code",
   "execution_count": 1,
   "id": "290dfb34-c6a6-4c36-a410-7845f1909a25",
   "metadata": {},
   "outputs": [],
   "source": [
    "from pprint import pprint"
   ]
  },
  {
   "cell_type": "code",
   "execution_count": 13,
   "id": "7207a775-b05b-401b-82e4-f331b5dfb6c1",
   "metadata": {},
   "outputs": [],
   "source": [
    "import numpy as np\n",
    "\n",
    "def solution(answers):\n",
    "    len_answers = len(answers)\n",
    "    students = [\n",
    "        [1, 2, 3, 4, 5],\n",
    "        [2, 1, 2, 3, 2, 4, 2, 5],\n",
    "        [3, 3, 1, 1, 2, 2, 4, 4, 5, 5]\n",
    "    ]\n",
    "\n",
    "    correct_list = []\n",
    "    ans_array = np.array(answers)\n",
    "    for sol_student in students:\n",
    "        repeat_num = len(answers) // len(sol_student) + 1\n",
    "        prediction = sol_student * repeat_num\n",
    "        prediction = np.array(prediction[:len(answers)])\n",
    "        correct = np.sum(ans_array == prediction)\n",
    "        correct_list.append(correct)\n",
    "\n",
    "    max_num = max(correct_list)\n",
    "    ans = []\n",
    "    for i, cnt in enumerate(correct_list):\n",
    "        if cnt == max_num:\n",
    "            ans.append(i+1)\n",
    "\n",
    "    return ans"
   ]
  },
  {
   "cell_type": "code",
   "execution_count": 14,
   "id": "9978a789-1595-4f2d-8f59-a02f10ac323f",
   "metadata": {},
   "outputs": [],
   "source": [
    "inputs = [\n",
    "    [1,2,3,4,5]*2,\n",
    "    [1,3,2,4,2]\n",
    "]\n",
    "outputs = [\n",
    "    [1],\n",
    "    [1,2,3]\n",
    "]"
   ]
  },
  {
   "cell_type": "code",
   "execution_count": 15,
   "id": "130d4ac4-e5ae-414f-9f19-90e29a023c61",
   "metadata": {},
   "outputs": [
    {
     "name": "stdout",
     "output_type": "stream",
     "text": [
      "[1] [1]\n",
      "[1, 2, 3] [1, 2, 3]\n"
     ]
    }
   ],
   "source": [
    "for idx, (i, o) in enumerate(zip(inputs, outputs)):\n",
    "    print(solution(i), o)"
   ]
  },
  {
   "cell_type": "markdown",
   "id": "9c4b7d9c-6f31-4735-b1c9-499bd45d13e1",
   "metadata": {},
   "source": [
    "<br>\n",
    "\n",
    "---\n",
    "---\n",
    "\n",
    "<br>"
   ]
  },
  {
   "cell_type": "markdown",
   "id": "712f10f7-98a5-4636-8e67-50d66ae807de",
   "metadata": {},
   "source": [
    "# [**소수 찾기**](https://programmers.co.kr/learn/courses/30/lessons/42839)\n",
    "\n",
    "#### **문제 설명**\n",
    "\n",
    "한자리 숫자가 적힌 종이 조각이 흩어져있습니다. 흩어진 종이 조각을 붙여 소수를 몇 개 만들 수 있는지 알아내려 합니다.\n",
    "\n",
    "각 종이 조각에 적힌 숫자가 적힌 문자열 numbers가 주어졌을 때, 종이 조각으로 만들 수 있는 소수가 몇 개인지 return 하도록 solution 함수를 완성해주세요.\n",
    "\n",
    "<br>\n",
    "\n",
    "#### **제한사항**\n",
    "\n",
    "- numbers는 길이 1 이상 7 이하인 문자열입니다.\n",
    "- numbers는 0~9까지 숫자만으로 이루어져 있습니다.\n",
    "- \"013\"은 0, 1, 3 숫자가 적힌 종이 조각이 흩어져있다는 의미입니다.\n",
    "\n",
    "<br>\n",
    "\n",
    "#### **입출력 예**\n",
    "| numbers |\treturn |\n",
    "|:-:|:-:|\n",
    "| \"17\" |\t3 |\n",
    "| \"011\" |\t2 |\n",
    "\n",
    "<br>\n",
    "\n",
    "#### **입출력 예 설명**\n",
    "##### **예제 #1**\n",
    "[1, 7]으로는 소수 [7, 17, 71]를 만들 수 있습니다.\n",
    "\n",
    "##### **예제 #2**\n",
    "[0, 1, 1]으로는 소수 [11, 101]를 만들 수 있습니다.\n",
    "\n",
    "- 11과 011은 같은 숫자로 취급합니다.\n",
    "\n"
   ]
  },
  {
   "cell_type": "markdown",
   "id": "4aa7a063-3816-4a3b-9f09-50ca26561c45",
   "metadata": {},
   "source": [
    "---\n",
    "## **Solution.py**"
   ]
  },
  {
   "cell_type": "code",
   "execution_count": 49,
   "id": "ef9f5245-71cc-410a-8252-88de35e4df27",
   "metadata": {},
   "outputs": [],
   "source": [
    "from math import sqrt\n",
    "from itertools import permutations\n",
    "\n",
    "\n",
    "def check_prime(n):\n",
    "    prime_flag = 0\n",
    "\n",
    "    if(n > 1):\n",
    "        for i in range(2, int(sqrt(n)) + 1):\n",
    "            if (n % i == 0):\n",
    "                prime_flag = 1\n",
    "                break\n",
    "        if (prime_flag == 0):\n",
    "            return True\n",
    "        else:\n",
    "            return False\n",
    "    else:\n",
    "        return False\n",
    "\n",
    "\n",
    "def solution(numbers):\n",
    "    num_set = set()\n",
    "    for i in range(1, len(numbers)+1):\n",
    "        candi_nums = set([int(''.join(n)) for n in permutations(numbers, i)])\n",
    "        num_set = num_set | candi_nums\n",
    "    #print(num_set)\n",
    "    #print(list(map(check_prime, num_set)))\n",
    "    ans = sum(list(map(check_prime, num_set)))\n",
    "\n",
    "    return ans"
   ]
  },
  {
   "cell_type": "code",
   "execution_count": 50,
   "id": "ae9e5b42-a4b8-4813-8990-bb58e3059477",
   "metadata": {},
   "outputs": [],
   "source": [
    "inputs = [\n",
    "    \"17\",\n",
    "    \"011\"\n",
    "]\n",
    "outputs = [\n",
    "    3,\n",
    "    2\n",
    "]"
   ]
  },
  {
   "cell_type": "code",
   "execution_count": 51,
   "id": "48034ec3-5a75-4637-934f-8fdbd47773a2",
   "metadata": {},
   "outputs": [
    {
     "name": "stdout",
     "output_type": "stream",
     "text": [
      "{1, 71, 17, 7}\n",
      "[False, True, True, True]\n",
      "3 3\n",
      "{0, 1, 101, 10, 11, 110}\n",
      "[False, False, True, False, True, False]\n",
      "2 2\n"
     ]
    }
   ],
   "source": [
    "for idx, (i, o) in enumerate(zip(inputs, outputs)):\n",
    "    print(solution(i), o)"
   ]
  },
  {
   "cell_type": "markdown",
   "id": "2aa0554d-8053-4ec8-ac51-e31690830921",
   "metadata": {},
   "source": [
    "<br>\n",
    "\n",
    "---\n",
    "---\n",
    "\n",
    "<br>"
   ]
  },
  {
   "cell_type": "markdown",
   "id": "9ad6bfdb-4a8f-439e-9925-cf17f13d57ca",
   "metadata": {},
   "source": [
    "# [**카펫**](https://programmers.co.kr/learn/courses/30/lessons/42842)\n",
    "\n",
    "#### **문제 설명**\n",
    "Leo는 카펫을 사러 갔다가 아래 그림과 같이 중앙에는 노란색으로 칠해져 있고 테두리 1줄은 갈색으로 칠해져 있는 격자 모양 카펫을 봤습니다.\n",
    "\n",
    "<img src=\"https://grepp-programmers.s3.ap-northeast-2.amazonaws.com/files/production/b1ebb809-f333-4df2-bc81-02682900dc2d/carpet.png\" width=\"400\">\n",
    "\n",
    "Leo는 집으로 돌아와서 아까 본 카펫의 노란색과 갈색으로 색칠된 격자의 개수는 기억했지만, 전체 카펫의 크기는 기억하지 못했습니다.\n",
    "\n",
    "Leo가 본 카펫에서 갈색 격자의 수 brown, 노란색 격자의 수 yellow가 매개변수로 주어질 때 카펫의 가로, 세로 크기를 순서대로 배열에 담아 return 하도록 solution 함수를 작성해주세요.\n",
    "\n",
    "<br>\n",
    "\n",
    "#### **제한사항**\n",
    "\n",
    "- 갈색 격자의 수 brown은 8 이상 5,000 이하인 자연수입니다.\n",
    "- 노란색 격자의 수 yellow는 1 이상 2,000,000 이하인 자연수입니다.\n",
    "- 카펫의 가로 길이는 세로 길이와 같거나, 세로 길이보다 깁니다.\n",
    "\n",
    "<br>\n",
    "\n",
    "#### **입출력 예**\n",
    "| brown |\tyellow |\treturn |\n",
    "|:-:|:-:|:-:|\n",
    "| 10 |\t2 |\t[4, 3] |\n",
    "| 8 |\t1 |\t[3, 3] |\n",
    "| 24 |\t24 |\t[8, 6] |\n",
    "\n",
    "---\n",
    "## **Solution.py**\n"
   ]
  },
  {
   "cell_type": "code",
   "execution_count": 82,
   "id": "6cbbdfde-01eb-4e77-87bf-dae2ca3fe0b1",
   "metadata": {},
   "outputs": [],
   "source": [
    "\n",
    "def solution(brown, yellow):\n",
    "    yellow_candi = []\n",
    "    if(yellow > 1):\n",
    "        for i in range(1, int(yellow // 2) + 1):\n",
    "            if (yellow % i == 0):\n",
    "                #print([yellow // i, i])\n",
    "                yellow_candi.append([yellow // i, i])\n",
    "    else:\n",
    "        yellow_candi.append([1, 1])\n",
    "    #print(yellow_candi)\n",
    "    for y_candi in yellow_candi:\n",
    "        result_prediction = [y_candi[0] + 2, y_candi[1] + 2]\n",
    "        brown_predict = (result_prediction[0]*2) + (result_prediction[1]*2) - 4\n",
    "        #print(result_prediction, brown_predict)\n",
    "        \n",
    "        if brown_predict == brown:\n",
    "            return result_prediction\n"
   ]
  },
  {
   "cell_type": "code",
   "execution_count": 70,
   "id": "bcf9cda5-dbe1-4c53-a593-e2ab5a6455ae",
   "metadata": {},
   "outputs": [],
   "source": [
    "inputs = [\n",
    "    (10, 2),\n",
    "    (8, 1),\n",
    "    (24, 24)\n",
    "]\n",
    "outputs = [\n",
    "    [4, 3],\n",
    "    [3, 3],\n",
    "    [8, 6]\n",
    "]"
   ]
  },
  {
   "cell_type": "code",
   "execution_count": 77,
   "id": "956134c9-d3d5-40e6-9bf9-582137254043",
   "metadata": {},
   "outputs": [],
   "source": [
    "inputs = [\n",
    "    (10, 2),\n",
    "    (8, 1),\n",
    "    (24, 24),\n",
    "    (14, 4),\n",
    "    (12, 4)\n",
    "]\n",
    "outputs = [\n",
    "    [4, 3],\n",
    "    [3, 3],\n",
    "    [8, 6],\n",
    "    [6,3],\n",
    "    [4,4]\n",
    "]"
   ]
  },
  {
   "cell_type": "code",
   "execution_count": 83,
   "id": "5cdd0c3b-6d25-4d02-a589-d0304c9f438f",
   "metadata": {},
   "outputs": [
    {
     "name": "stdout",
     "output_type": "stream",
     "text": [
      "\n",
      "[4, 3] [4, 3]\n",
      "\n",
      "[3, 3] [3, 3]\n",
      "\n",
      "[8, 6] [8, 6]\n",
      "\n",
      "[6, 3] [6, 3]\n",
      "\n",
      "[4, 4] [4, 4]\n"
     ]
    }
   ],
   "source": [
    "for idx, (i, o) in enumerate(zip(inputs, outputs)):\n",
    "    print()\n",
    "    print(solution(*i), o)"
   ]
  }
 ],
 "metadata": {
  "kernelspec": {
   "display_name": "Python 3",
   "language": "python",
   "name": "python3"
  },
  "language_info": {
   "codemirror_mode": {
    "name": "ipython",
    "version": 3
   },
   "file_extension": ".py",
   "mimetype": "text/x-python",
   "name": "python",
   "nbconvert_exporter": "python",
   "pygments_lexer": "ipython3",
   "version": "3.8.8"
  }
 },
 "nbformat": 4,
 "nbformat_minor": 5
}
