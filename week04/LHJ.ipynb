{
 "cells": [
  {
   "cell_type": "markdown",
   "metadata": {
    "collapsed": true,
    "pycharm": {
     "name": "#%% md\n"
    }
   },
   "source": [
    "# 모의고사\n",
    "<div class=\"guide-section-description\">\n",
    "  <h6 class=\"guide-section-title\">문제 설명</h6>\n",
    "  <div class=\"markdown solarized-dark\"><p>수포자는 수학을 포기한 사람의 준말입니다. 수포자 삼인방은 모의고사에 수학 문제를 전부 찍으려 합니다. 수포자는 1번 문제부터 마지막 문제까지 다음과 같이 찍습니다.</p>\n",
    "\n",
    "<p>1번 수포자가 찍는 방식: 1, 2, 3, 4, 5, 1, 2, 3, 4, 5, ...<br>\n",
    "2번 수포자가 찍는 방식: 2, 1, 2, 3, 2, 4, 2, 5, 2, 1, 2, 3, 2, 4, 2, 5, ...<br>\n",
    "3번 수포자가 찍는 방식: 3, 3, 1, 1, 2, 2, 4, 4, 5, 5, 3, 3, 1, 1, 2, 2, 4, 4, 5, 5, ...</p>\n",
    "\n",
    "<p>1번 문제부터 마지막 문제까지의 정답이 순서대로 들은 배열 answers가 주어졌을 때, 가장 많은 문제를 맞힌 사람이 누구인지 배열에 담아 return 하도록 solution 함수를 작성해주세요.</p>\n",
    "\n",
    "<h5>제한 조건</h5>\n",
    "\n",
    "<ul>\n",
    "<li>시험은 최대 10,000 문제로 구성되어있습니다.</li>\n",
    "<li>문제의 정답은 1, 2, 3, 4, 5중 하나입니다.</li>\n",
    "<li>가장 높은 점수를 받은 사람이 여럿일 경우, return하는 값을 오름차순 정렬해주세요.</li>\n",
    "</ul>\n",
    "\n",
    "<h5>입출력 예</h5>\n",
    "<table class=\"table\">\n",
    "        <thead><tr>\n",
    "<th>answers</th>\n",
    "<th>return</th>\n",
    "</tr>\n",
    "</thead>\n",
    "        <tbody><tr>\n",
    "<td>[1,2,3,4,5]</td>\n",
    "<td>[1]</td>\n",
    "</tr>\n",
    "<tr>\n",
    "<td>[1,3,2,4,2]</td>\n",
    "<td>[1,2,3]</td>\n",
    "</tr>\n",
    "</tbody>\n",
    "      </table>\n",
    "<h5>입출력 예 설명</h5>\n",
    "\n",
    "<p>입출력 예 #1</p>\n",
    "\n",
    "<ul>\n",
    "<li>수포자 1은 모든 문제를 맞혔습니다.</li>\n",
    "<li>수포자 2는 모든 문제를 틀렸습니다.</li>\n",
    "<li>수포자 3은 모든 문제를 틀렸습니다.</li>\n",
    "</ul>\n",
    "\n",
    "<p>따라서 가장 문제를 많이 맞힌 사람은 수포자 1입니다.</p>\n",
    "\n",
    "<p>입출력 예 #2</p>\n",
    "\n",
    "<ul>\n",
    "<li>모든 사람이 2문제씩을 맞췄습니다.</li>\n",
    "</ul>\n",
    "</div>\n",
    "    </div>\n",
    "\n",
    "\n"
   ]
  },
  {
   "cell_type": "code",
   "execution_count": 21,
   "metadata": {
    "pycharm": {
     "name": "#%%\n"
    }
   },
   "outputs": [],
   "source": [
    "def solution(answers):\n",
    "    answer = [0, 0, 0]\n",
    "    one = [1, 2, 3, 4, 5]\n",
    "    two = [2, 1, 2, 3, 2, 4, 2, 5]\n",
    "    three = [3, 3, 1, 1, 2, 2, 4, 4, 5, 5]\n",
    "\n",
    "    for i, x in enumerate(answers):\n",
    "        if one[i%5] == x:\n",
    "            answer[0]+=1\n",
    "        if two[i%8] == x:\n",
    "            answer[1]+=1\n",
    "        if three[i%10] == x:\n",
    "            answer[2]+=1\n",
    "\n",
    "    ans = []\n",
    "    M = max(answer)\n",
    "    if M == 0:\n",
    "        return ans\n",
    "\n",
    "    for i, v in enumerate(answer, 1):\n",
    "        if v == M:\n",
    "            ans.append(i)\n",
    "    return ans"
   ]
  },
  {
   "cell_type": "code",
   "execution_count": 22,
   "metadata": {
    "pycharm": {
     "name": "#%%\n"
    }
   },
   "outputs": [
    {
     "name": "stdout",
     "output_type": "stream",
     "text": [
      "answers: [1, 2, 3, 4, 5], return: [1]\n",
      "ans: [1]\n",
      "\n",
      "answers: [1, 3, 2, 4, 2], return: [1, 2, 3]\n",
      "ans: [1, 2, 3]\n",
      "\n"
     ]
    }
   ],
   "source": [
    "case1 = [[1,2,3,4,5], [1]]\n",
    "case2 = [[1,3,2,4,2], [1,2,3]]\n",
    "for nums, target in [case1, case2]:\n",
    "    print(f'answers: {nums}, return: {target}')\n",
    "    print(f'ans: {solution(nums)}\\n')"
   ]
  },
  {
   "cell_type": "markdown",
   "metadata": {},
   "source": [
    "<img src='https://user-images.githubusercontent.com/41243762/144240256-79a4c57c-8e84-4800-994e-4eb98ac20e26.png' width='30%'>"
   ]
  },
  {
   "cell_type": "markdown",
   "metadata": {
    "pycharm": {
     "name": "#%% md\n"
    }
   },
   "source": [
    "# 소수 찾기\n",
    "\n",
    "<div class=\"guide-section-description\">\n",
    "  <h6 class=\"guide-section-title\">문제 설명</h6>\n",
    "  <div class=\"markdown solarized-dark\"><p>한자리 숫자가 적힌 종이 조각이 흩어져있습니다. 흩어진 종이 조각을 붙여 소수를 몇 개 만들 수 있는지 알아내려 합니다.</p>\n",
    "\n",
    "<p>각 종이 조각에 적힌 숫자가 적힌 문자열 numbers가 주어졌을 때, 종이 조각으로 만들 수 있는 소수가 몇 개인지 return 하도록 solution 함수를 완성해주세요.</p>\n",
    "\n",
    "<h5>제한사항</h5>\n",
    "\n",
    "<ul>\n",
    "<li>numbers는 길이 1 이상 7 이하인 문자열입니다.</li>\n",
    "<li>numbers는 0~9까지 숫자만으로 이루어져 있습니다.</li>\n",
    "<li>\"013\"은 0, 1, 3 숫자가 적힌 종이 조각이 흩어져있다는 의미입니다.</li>\n",
    "</ul>\n",
    "\n",
    "<h5>입출력 예</h5>\n",
    "<table class=\"table\">\n",
    "        <thead><tr>\n",
    "<th>numbers</th>\n",
    "<th>return</th>\n",
    "</tr>\n",
    "</thead>\n",
    "        <tbody><tr>\n",
    "<td>\"17\"</td>\n",
    "<td>3</td>\n",
    "</tr>\n",
    "<tr>\n",
    "<td>\"011\"</td>\n",
    "<td>2</td>\n",
    "</tr>\n",
    "</tbody>\n",
    "      </table>\n",
    "<h5>입출력 예 설명</h5>\n",
    "\n",
    "<p>예제 #1<br>\n",
    "[1, 7]으로는 소수 [7, 17, 71]를 만들 수 있습니다.</p>\n",
    "\n",
    "<p>예제 #2<br>\n",
    "[0, 1, 1]으로는 소수 [11, 101]를 만들 수 있습니다.</p>\n",
    "\n",
    "<ul>\n",
    "<li>11과 011은 같은 숫자로 취급합니다.</li>\n",
    "</ul>\n",
    "\n",
    "<p><a href=\"http://2009.nwerc.eu/results/nwerc09.pdf\" target=\"_blank\" rel=\"noopener\">출처</a></p>\n",
    "</div>\n",
    "\n",
   ]
  },
  {
   "cell_type": "code",
   "execution_count": 23,
   "metadata": {
    "pycharm": {
     "name": "#%%\n"
    }
   },
   "outputs": [],
   "source": [
    "from itertools import permutations\n",
    "\n",
    "def solution(numbers):\n",
    "    answer = 0\n",
    "    max_length = 10**len(numbers) + 1\n",
    "    pn = [True]*max_length\n",
    "    pn[0] = False\n",
    "    pn[1] = False\n",
    "    for i in range(2, max_length):\n",
    "        if pn[i] == True:\n",
    "            j = 2\n",
    "\n",
    "            while (i*j) <= max_length - 1:\n",
    "                pn[i*j]=False\n",
    "                j+=1\n",
    "\n",
    "    nums = set()\n",
    "    for i in range(1, len(numbers)+1):\n",
    "        nums.update([int(''.join(i)) for i in permutations(numbers, i)])\n",
    "\n",
    "    for j in nums:\n",
    "        if pn[j]:\n",
    "            answer+=1\n",
    "    return answer"
   ]
  },
  {
   "cell_type": "code",
   "execution_count": 24,
   "metadata": {
    "pycharm": {
     "name": "#%%\n"
    }
   },
   "outputs": [
    {
     "name": "stdout",
     "output_type": "stream",
     "text": [
      "numbers: 17, return: 3\n",
      "ans: 3\n",
      "\n",
      "numbers: 011, return: 2\n",
      "ans: 2\n",
      "\n"
     ]
    }
   ],
   "source": [
    "case1 = [\"17\", 3]\n",
    "case2 = [\"011\", 2]\n",
    "\n",
    "for numbers, target in [case1, case2]:\n",
    "    print(f'numbers: {numbers}, return: {target}')\n",
    "    print(f'ans: {solution(numbers)}\\n')"
   ]
  },
  {
   "cell_type": "markdown",
   "metadata": {},
   "source": [
    "<img src='https://user-images.githubusercontent.com/41243762/144247230-43b4aefb-2723-4d32-8cea-f61b9825314b.png' width='30%'>"
   ]
  },
  {
   "cell_type": "markdown",
   "metadata": {},
   "source": [
    "# 카펫\n",
    "\n",
    "<div class=\"guide-section\" id=\"tour2\" style=\"width: calc(40% - 12px);\">\n",
    "    <div class=\"guide-section-description\">\n",
    "      <h6 class=\"guide-section-title\">문제 설명</h6>\n",
    "      <div class=\"markdown solarized-dark\"><p>Leo는 카펫을 사러 갔다가 아래 그림과 같이 중앙에는 노란색으로 칠해져 있고 테두리 1줄은 갈색으로 칠해져 있는 격자 모양 카펫을 봤습니다.</p>\n",
    "\n",
    "<p><img src=\"https://grepp-programmers.s3.ap-northeast-2.amazonaws.com/files/production/b1ebb809-f333-4df2-bc81-02682900dc2d/carpet.png\" width=\"40%\" title=\"\" alt=\"carpet.png\"></p>\n",
    "\n",
    "<p>Leo는 집으로 돌아와서 아까 본 카펫의 노란색과 갈색으로 색칠된 격자의 개수는 기억했지만, 전체 카펫의 크기는 기억하지 못했습니다.</p>\n",
    "\n",
    "<p>Leo가 본 카펫에서 갈색 격자의 수 brown, 노란색 격자의 수 yellow가 매개변수로 주어질 때 카펫의 가로, 세로 크기를 순서대로 배열에 담아 return 하도록 solution 함수를 작성해주세요.</p>\n",
    "\n",
    "<h5>제한사항</h5>\n",
    "\n",
    "<ul>\n",
    "<li>갈색 격자의 수 brown은 8 이상 5,000 이하인 자연수입니다.</li>\n",
    "<li>노란색 격자의 수 yellow는 1 이상 2,000,000 이하인 자연수입니다.</li>\n",
    "<li>카펫의 가로 길이는 세로 길이와 같거나, 세로 길이보다 깁니다.</li>\n",
    "</ul>\n",
    "\n",
    "<h5>입출력 예</h5>\n",
    "<table class=\"table\">\n",
    "        <thead><tr>\n",
    "<th>brown</th>\n",
    "<th>yellow</th>\n",
    "<th>return</th>\n",
    "</tr>\n",
    "</thead>\n",
    "        <tbody><tr>\n",
    "<td>10</td>\n",
    "<td>2</td>\n",
    "<td>[4, 3]</td>\n",
    "</tr>\n",
    "<tr>\n",
    "<td>8</td>\n",
    "<td>1</td>\n",
    "<td>[3, 3]</td>\n",
    "</tr>\n",
    "<tr>\n",
    "<td>24</td>\n",
    "<td>24</td>\n",
    "<td>[8, 6]</td>\n",
    "</tr>\n",
    "</tbody>\n",
    "      </table>\n",
    "<p><a href=\"http://hsin.hr/coci/archive/2010_2011/contest4_tasks.pdf\" target=\"_blank\" rel=\"noopener\">출처</a></p>\n",
    "\n",
    "<p>※ 공지 - 2020년 2월 3일 테스트케이스가 추가되었습니다.<br>\n",
    "※ 공지 - 2020년 5월 11일 웹접근성을 고려하여 빨간색을 노란색으로 수정하였습니다.</p>\n",
    "</div>\n",
    "    </div>\n",
    "\n",
    "  </div>"
   ]
  },
  {
   "cell_type": "code",
   "execution_count": 25,
   "metadata": {
    "pycharm": {
     "name": "#%%\n"
    }
   },
   "outputs": [],
   "source": [
    "import math\n",
    "\n",
    "def solution(brown, yellow):\n",
    "    answer = []\n",
    "    a = 1\n",
    "    b = (brown+4)/2\n",
    "    c = brown+yellow\n",
    "    answer.append(int((b+math.sqrt(b**2-4*a*c))/2))\n",
    "    answer.append(int((b-math.sqrt(b**2-4*a*c))/2))\n",
    "    answer.sort(reverse=True)\n",
    "    return answer"
   ]
  },
  {
   "cell_type": "code",
   "execution_count": 26,
   "metadata": {
    "pycharm": {
     "name": "#%%\n"
    }
   },
   "outputs": [
    {
     "name": "stdout",
     "output_type": "stream",
     "text": [
      "brown: 10, yellow: 2, return: [4, 3]\n",
      "ans: [4, 3]\n",
      "\n",
      "brown: 8, yellow: 1, return: [3, 3]\n",
      "ans: [3, 3]\n",
      "\n",
      "brown: 24, yellow: 24, return: [8, 6]\n",
      "ans: [8, 6]\n",
      "\n"
     ]
    }
   ],
   "source": [
    "case1 = [10, 2, [4, 3]]\n",
    "case2 = [8, 1, [3, 3]]\n",
    "case3 = [24, 24, [8, 6]]\n",
    "for brown, yellow, target in [case1, case2, case3]:\n",
    "    print(f'brown: {brown}, yellow: {yellow}, return: {target}')\n",
    "    print(f'ans: {solution(brown, yellow)}\\n')"
   ]
  },
  {
   "cell_type": "markdown",
   "metadata": {},
   "source": [
    "<img src='https://user-images.githubusercontent.com/41243762/144254238-5e0c212f-1afe-4190-b3e9-ebe86b76dc42.png' width='30%'>"
   ]
  },
  {
   "cell_type": "code",
   "execution_count": null,
   "metadata": {
    "pycharm": {
     "name": "#%%\n"
    }
   },
   "outputs": [],
   "source": [
    "def solution(brown, yellow):\n",
    "    total = brown+yellow\n",
    "    for i in range(3, total//2 + 1):\n",
    "        if total % i == 0 and int((i-2)*(total//i-2))==yellow:\n",
    "            return [(total//i), i]"
   ]
  },
  {
   "cell_type": "code",
   "execution_count": null,
   "metadata": {
    "pycharm": {
     "name": "#%%\n"
    }
   },
   "outputs": [],
   "source": [
    "case1 = [10, 2, [4, 3]]\n",
    "case2 = [8, 1, [3, 3]]\n",
    "case3 = [24, 24, [8, 6]]\n",
    "for brown, yellow, target in [case1, case2, case3]:\n",
    "    print(f'brown: {brown}, yellow: {yellow}, return: {target}')\n",
    "    print(f'ans: {solution(brown, yellow)}\\n')\n"
   ]
  },
  {
   "cell_type": "markdown",
   "metadata": {},
   "source": [
    "<img src='https://user-images.githubusercontent.com/41243762/144256042-11e7de87-41cd-4a46-924c-9d765641581f.png' width='30%'>"
   ]
  }
 ],
 "metadata": {
  "kernelspec": {
   "display_name": "Python 3",
   "language": "python",
   "name": "python3"
  },
  "language_info": {
   "codemirror_mode": {
    "name": "ipython",
    "version": 3
   },
   "file_extension": ".py",
   "mimetype": "text/x-python",
   "name": "python",
   "nbconvert_exporter": "python",
   "pygments_lexer": "ipython3",
   "version": "3.8.5"
  }
 },
 "nbformat": 4,
 "nbformat_minor": 1
}
