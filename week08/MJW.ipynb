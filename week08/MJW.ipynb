{
 "cells": [
  {
   "cell_type": "markdown",
   "id": "e2529c81-85da-4f54-84c3-ddf7334c2c6f",
   "metadata": {
    "tags": []
   },
   "source": [
    "# [**행렬 테두리 회전하기**](https://programmers.co.kr/learn/courses/30/lessons/77485?language=python3)\n",
    "\n",
    "### **문제 설명**\n",
    "\n",
    "rows x columns 크기인 행렬이 있습니다. 행렬에는 1부터 rows x columns까지의 숫자가 한 줄씩 순서대로 적혀있습니다. 이 행렬에서 직사각형 모양의 범위를 여러 번 선택해, 테두리 부분에 있는 숫자들을 시계방향으로 회전시키려 합니다. 각 회전은 (x1, y1, x2, y2)인 정수 4개로 표현하며, 그 의미는 다음과 같습니다.\n",
    "\n",
    "- x1 행 y1 열부터 x2 행 y2 열까지의 영역에 해당하는 직사각형에서 테두리에 있는 숫자들을 한 칸씩 시계방향으로 회전합니다.\n",
    "\n",
    "다음은 6 x 6 크기 행렬의 예시입니다.\n",
    "\n",
    "<img width=\"400\" src=\"https://grepp-programmers.s3.ap-northeast-2.amazonaws.com/files/ybm/4c3c0fab-11f4-43b6-b290-6f4017e9379f/grid_example.png\">\n",
    "\n",
    "이 행렬에 (2, 2, 5, 4) 회전을 적용하면, 아래 그림과 같이 2행 2열부터 5행 4열까지 영역의 테두리가 시계방향으로 회전합니다. 이때, 중앙의 15와 21이 있는 영역은 회전하지 않는 것을 주의하세요.\n",
    "\n",
    "<img width=\"400\" src=\"https://grepp-programmers.s3.ap-northeast-2.amazonaws.com/files/ybm/962df137-5c71-4091-ad9f-8e322910c1ab/rotation_example.png\">\n",
    "\n",
    "행렬의 세로 길이(행 개수) rows, 가로 길이(열 개수) columns, 그리고 회전들의 목록 queries가 주어질 때, 각 회전들을 배열에 적용한 뒤, 그 회전에 의해 위치가 바뀐 숫자들 중 **<u>가장 작은 숫자들을 순서대로 배열에 담아</u>** return 하도록 solution 함수를 완성해주세요.\n",
    "\n",
    "\n",
    "\n",
    "<br>\n",
    "\n",
    "### **제한 조건**\n",
    "\n",
    "- rows는 2 이상 100 이하인 자연수입니다.\n",
    "- columns는 2 이상 100 이하인 자연수입니다.\n",
    "- 처음에 행렬에는 가로 방향으로 숫자가 1부터 하나씩 증가하면서 적혀있습니다.\n",
    "   - 즉, 아무 회전도 하지 않았을 때, i 행 j 열에 있는 숫자는 ((i-1) x columns + j)입니다.\n",
    "- queries의 행의 개수(회전의 개수)는 1 이상 10,000 이하입니다.\n",
    "- queries의 각 행은 4개의 정수 [x1, y1, x2, y2]입니다.\n",
    "   - x1 행 y1 열부터 x2 행 y2 열까지 영역의 테두리를 시계방향으로 회전한다는 뜻입니다.\n",
    "   - 1 ≤ x1 < x2 ≤ rows, 1 ≤ y1 < y2 ≤ columns입니다.\n",
    "   - 모든 회전은 순서대로 이루어집니다.\n",
    "   - 예를 들어, 두 번째 회전에 대한 답은 첫 번째 회전을 실행한 다음, 그 상태에서 두 번째 회전을 실행했을 때 이동한 숫자 중 최솟값을 구하면 됩니다.\n",
    "   \n",
    "<br>\n",
    "\n",
    "#### **입출력 예**\n",
    "rows | columns | queries | result\n",
    "-- | -- | -- | --\n",
    "6 | 6 | [[2,2,5,4],[3,3,6,6],[5,1,6,3]] | [8, 10, 25]\n",
    "3 | 3 | [[1,1,2,2],[1,2,2,3],[2,1,3,2],[2,2,3,3]] | [1, 1, 5, 3]\n",
    "100 | 97 | [[1,1,100,97]] | [1]\n",
    "\n",
    "\n",
    "<br>\n",
    "\n",
    "#### **입출력 예 설명**\n",
    "##### **입출력 예 #1**\n",
    "\n",
    "- 회전을 수행하는 과정을 그림으로 표현하면 다음과 같습니다.\n",
    "<img width=\"700\" src=\"https://grepp-programmers.s3.ap-northeast-2.amazonaws.com/files/ybm/8c8cdd84-d0ec-4b9d-bdf7-f100d0098c5e/example1.png\">\n",
    "\n",
    "\n",
    "##### **입출력 예 #2**\n",
    "- 회전을 수행하는 과정을 그림으로 표현하면 다음과 같습니다.\n",
    "<img width=\"700\" src=\"https://grepp-programmers.s3.ap-northeast-2.amazonaws.com/files/ybm/e3fce2bf-9da9-41e4-926a-5d19b4f31188/example2.png\">\n",
    "\n",
    "\n",
    "##### **입출력 예 #3**\n",
    "- 이 예시에서는 행렬의 테두리에 위치한 모든 칸들이 움직입니다. 따라서, 행렬의 테두리에 있는 수 중 가장 작은 숫자인 1이 바로 답이 됩니다.\n",
    "\n"
   ]
  },
  {
   "cell_type": "markdown",
   "id": "cbf1a074-d38d-41b9-ad3f-7e2785a87e4d",
   "metadata": {},
   "source": [
    "---\n",
    "## **Solution.py**"
   ]
  },
  {
   "cell_type": "code",
   "execution_count": 1,
   "id": "290dfb34-c6a6-4c36-a410-7845f1909a25",
   "metadata": {},
   "outputs": [],
   "source": [
    "from pprint import pprint"
   ]
  },
  {
   "cell_type": "code",
   "execution_count": 2,
   "id": "7207a775-b05b-401b-82e4-f331b5dfb6c1",
   "metadata": {},
   "outputs": [],
   "source": [
    "import numpy as np\n",
    "\n",
    "def rotate(arr, query):\n",
    "    x1, y1, x2, y2 = map(lambda q: q-1, query) \n",
    "    tmp = arr[x1:x2+1, y1:y2+1].copy()\n",
    "\n",
    "    tmp[0, 1:] = arr[x1, y1:y2]\n",
    "    tmp[1:, -1] = arr[x1:x2, y2]\n",
    "    tmp[-1, :-1] = arr[x2, (y1+1):(y2+1)]\n",
    "    tmp[:-1, 0] =  arr[(x1+1):(x2+1), y1]\n",
    "    \n",
    "    arr[x1:x2+1, y1:y2+1] = tmp\n",
    "    min_values = [min(tmp[0, 1:]), min(tmp[1:, -1]), min(tmp[-1, :-1]), min(tmp[:-1, 0])]\n",
    "    return arr, int(min(min_values))\n",
    "\n",
    "\n",
    "def solution(rows, columns, queries):\n",
    "    arr = np.arange(1, rows*columns+1).reshape(rows, columns)\n",
    "    \n",
    "    ans = list()\n",
    "    for query in queries:\n",
    "        arr, min_ = rotate(arr, query)\n",
    "        ans.append(min_)\n",
    "    \n",
    "    return ans\n"
   ]
  },
  {
   "cell_type": "code",
   "execution_count": 3,
   "id": "9978a789-1595-4f2d-8f59-a02f10ac323f",
   "metadata": {},
   "outputs": [],
   "source": [
    "inputs = [\n",
    "    (6, 6, [[2,2,5,4],[3,3,6,6],[5,1,6,3]]),\n",
    "    (3, 3, [[1,1,2,2],[1,2,2,3],[2,1,3,2],[2,2,3,3]]),\n",
    "    (100, 97, [[1,1,100,97]])\n",
    "]\n",
    "outputs = [\n",
    "    [8, 10, 25],\n",
    "    [1, 1, 5, 3],\n",
    "    [1]\n",
    "]"
   ]
  },
  {
   "cell_type": "code",
   "execution_count": 4,
   "id": "130d4ac4-e5ae-414f-9f19-90e29a023c61",
   "metadata": {},
   "outputs": [
    {
     "name": "stdout",
     "output_type": "stream",
     "text": [
      "True [8, 10, 25] [8, 10, 25]\n",
      "True [1, 1, 5, 3] [1, 1, 5, 3]\n",
      "True [1] [1]\n"
     ]
    }
   ],
   "source": [
    "for idx, (i, o) in enumerate(zip(inputs, outputs)):\n",
    "    print(solution(*i)==o, solution(*i), o)"
   ]
  },
  {
   "cell_type": "markdown",
   "id": "4303ebb7-2542-4a54-9bfe-08dab686ec34",
   "metadata": {},
   "source": [
    "<img width=\"800\" src=\"https://user-images.githubusercontent.com/42428487/148080391-5cb1562c-ed3f-4f02-b256-22ce1b72a575.png\">"
   ]
  },
  {
   "cell_type": "markdown",
   "id": "d892032a",
   "metadata": {},
   "source": [
    "<br>\n",
    "\n",
    "---\n",
    "---\n",
    "\n",
    "<br>\n"
   ]
  },
  {
   "cell_type": "markdown",
   "id": "df5f6a66",
   "metadata": {},
   "source": [
    "# [**합승 택시 요금**](https://programmers.co.kr/learn/courses/30/lessons/72413)\n",
    "\n",
    "### **문제 설명**\n",
    "\n",
    "**[본 문제는 정확성과 효율성 테스트 각각 점수가 있는 문제입니다.]**\n",
    "\n",
    "밤늦게 귀가할 때 안전을 위해 항상 택시를 이용하던 `무지`는 최근 야근이 잦아져 택시를 더 많이 이용하게 되어 택시비를 아낄 수 있는 방법을 고민하고 있습니다. \"무지\"는 자신이 택시를 이용할 때 동료인 `어피치` 역시 자신과 비슷한 방향으로 가는 택시를 종종 이용하는 것을 알게 되었습니다. \"무지\"는 \"어피치\"와 귀가 방향이 비슷하여 택시 합승을 적절히 이용하면 택시요금을 얼마나 아낄 수 있을 지 계산해 보고 \"어피치\"에게 합승을 제안해 보려고 합니다.\n",
    "\n",
    "<img width=\"400\" src=\"https://grepp-programmers.s3.ap-northeast-2.amazonaws.com/files/production/715ff493-d1a0-44d8-9273-a785280b3f1e/2021_kakao_taxi_01.png\">\n",
    "\n",
    "위 예시 그림은 택시가 이동 가능한 반경에 있는 6개 지점 사이의 이동 가능한 택시노선과 예상요금을 보여주고 있습니다.\n",
    "그림에서 `A`와 `B` 두 사람은 출발지점인 4번 지점에서 출발해서 택시를 타고 귀가하려고 합니다. `A`의 집은 6번 지점에 있으며 `B`의 집은 2번 지점에 있고 두 사람이 모두 귀가하는 데 소요되는 예상 최저 택시요금이 얼마인 지 계산하려고 합니다.\n",
    "\n",
    "- 그림의 원은 지점을 나타내며 원 안의 숫자는 지점 번호를 나타냅니다.\n",
    "   - 지점이 n개일 때, 지점 번호는 1부터 n까지 사용됩니다.\n",
    "- 지점 간에 택시가 이동할 수 있는 경로를 간선이라 하며, 간선에 표시된 숫자는 두 지점 사이의 예상 택시요금을 나타냅니다.\n",
    "   - 간선은 편의 상 직선으로 표시되어 있습니다.\n",
    "   - 위 그림 예시에서, 4번 지점에서 1번 지점으로(4→1) 가거나, 1번 지점에서 4번 지점으로(1→4) 갈 때 예상 택시요금은 `10`원으로 동일하며 이동 방향에 따라 달라지지 않습니다.\n",
    "- 예상되는 최저 택시요금은 다음과 같이 계산됩니다.\n",
    "   - 4→1→5 : `A`, `B`가 합승하여 택시를 이용합니다. 예상 택시요금은 `10 + 24 = 34`원 입니다.\n",
    "   - 5→6 : `A`가 혼자 택시를 이용합니다. 예상 택시요금은 `2`원 입니다.\n",
    "   - 5→3→2 : `B`가 혼자 택시를 이용합니다. 예상 택시요금은 `24 + 22 = 46`원 입니다.\n",
    "   - `A`, `B` 모두 귀가 완료까지 예상되는 최저 택시요금은 `34 + 2 + 46 = 82`원 입니다.\n",
    "\n",
    "\n",
    "<br>\n",
    "\n",
    "### **[문제]**\n",
    "\n",
    "지점의 개수 n, 출발지점을 나타내는 s, `A`의 도착지점을 나타내는 a, `B`의 도착지점을 나타내는 b, 지점 사이의 예상 택시요금을 나타내는 fares가 매개변수로 주어집니다. 이때, `A`, `B` 두 사람이 s에서 출발해서 각각의 도착 지점까지 택시를 타고 간다고 가정할 때, 최저 예상 택시요금을 계산해서 return 하도록 solution 함수를 완성해 주세요.\n",
    "만약, 아예 합승을 하지 않고 각자 이동하는 경우의 예상 택시요금이 더 낮다면, 합승을 하지 않아도 됩니다.\n",
    "\n",
    "<br>\n",
    "\n",
    "### **[제한사항]**\n",
    "\n",
    "- 지점갯수 n은 3 이상 200 이하인 자연수입니다.\n",
    "- 지점 s, a, b는 1 이상 n 이하인 자연수이며, 각기 서로 다른 값입니다.\n",
    "   - 즉, 출발지점, `A`의 도착지점, `B`의 도착지점은 서로 겹치지 않습니다.\n",
    "- fares는 2차원 정수 배열입니다.\n",
    "- fares 배열의 크기는 2 이상 `n x (n-1) / 2` 이하입니다.\n",
    "   - 예를들어, n = 6이라면 fares 배열의 크기는 2 이상 15 이하입니다. (`6 x 5 / 2 = 15`)\n",
    "   - fares 배열의 각 행은 [c, d, f] 형태입니다.\n",
    "   - c지점과 d지점 사이의 예상 택시요금이 `f`원이라는 뜻입니다.\n",
    "   - 지점 c, d는 1 이상 n 이하인 자연수이며, 각기 서로 다른 값입니다.\n",
    "   - 요금 f는 1 이상 100,000 이하인 자연수입니다.\n",
    "   - fares 배열에 두 지점 간 예상 택시요금은 1개만 주어집니다. 즉, [c, d, f]가 있다면 [d, c, f]는 주어지지 않습니다.\n",
    "- 출발지점 s에서 도착지점 a와 b로 가는 경로가 존재하는 경우만 입력으로 주어집니다.\n",
    "\n",
    "<br>\n",
    "\n",
    "#### **입출력 예**\n",
    "\n",
    "n | s | a | b | fares | result\n",
    "-- | -- | -- | -- | -- | --\n",
    "6 | 4 | 6 | 2 | [[4, 1, 10], [3, 5, 24], [5, 6, 2], [3, 1, 41], [5, 1, 24], [4, 6, 50], [2, 4, 66], [2, 3, 22], [1, 6, 25]] | 82\n",
    "7 | 3 | 4 | 1 | [[5, 7, 9], [4, 6, 4], [3, 6, 1], [3, 2, 3], [2, 1, 6]] | 14\n",
    "6 | 4 | 5 | 6 | [[2,6,6], [6,3,7], [4,6,7], [6,5,11], [2,5,12], [5,3,20], [2,4,8], [4,3,9]] | 18\n",
    "\n",
    "<br>\n",
    "\n",
    "#### **입출력 예에 대한 설명**\n",
    "\n",
    "##### **입출력 예#1**\n",
    "문제 예시와 같습니다.\n",
    "\n",
    "\n",
    "##### **입출력 예#2**\n",
    "\n",
    "<img width=\"400\" src=\"https://grepp-programmers.s3.ap-northeast-2.amazonaws.com/files/production/934fcb5a-f844-4b02-b7fa-46198123be05/2021_kakao_taxi_02.png\">\n",
    "\n",
    "- 합승을 하지 않고, `B`는 `3→2→1`, `A`는 `3→6→4` 경로로 각자 택시를 타고 가는 것이 최저 예상 택시요금입니다.\n",
    "- 따라서 최저 예상 택시요금은 `(3 + 6) + (1 + 4) = 14`원 입니다.\n",
    "\n",
    "##### **입출력 예#3**\n",
    "\n",
    "<img width=\"400\" src=\"https://grepp-programmers.s3.ap-northeast-2.amazonaws.com/files/production/179cc8ad-73d2-46c9-95e9-2363f3cb345d/2021_kakao_taxi_03.png\">\n",
    "\n",
    "- `A`와 `B`가 `4→6` 구간을 합승하고 `B`가 6번 지점에서 내린 후, `A`가 `6→5` 구간을 혼자 타고 가는 것이 최저 예상 택시요금입니다.\n",
    "- 따라서 최저 예상 택시요금은 `7 + 11 = 18`원 입니다."
   ]
  },
  {
   "cell_type": "markdown",
   "id": "7e2011b9-072b-4732-8a9f-aa8cb80160e3",
   "metadata": {},
   "source": [
    "---\n",
    "## **Solution.py**"
   ]
  },
  {
   "cell_type": "code",
   "execution_count": 5,
   "id": "d798ed87-58c4-409a-b864-9cc766ff7f16",
   "metadata": {},
   "outputs": [],
   "source": [
    "from collections import defaultdict\n",
    "from copy import deepcopy\n",
    "\n",
    "\n",
    "def dfs_alone(cur_node, graph, visited, goal, cur_fare, min_fare):\n",
    "    if cur_node == goal:\n",
    "        return cur_fare\n",
    "    \n",
    "    nearby_nodes = set(graph[cur_node].keys()) - visited\n",
    "    if not nearby_nodes:\n",
    "        return -1\n",
    "    \n",
    "    for new_node in sorted(nearby_nodes, key=lambda x: graph[cur_node][x]):\n",
    "        new_fare = cur_fare + graph[cur_node][new_node]\n",
    "        if new_fare > min_fare:\n",
    "            continue\n",
    "        fare = dfs_alone(new_node, graph, visited|{new_node}, goal, new_fare, min_fare)\n",
    "        min_fare = min(fare, min_fare) if fare > 0 else min_fare\n",
    "    return min_fare\n",
    "\n",
    "\n",
    "def dfs_both(cur_node, graph, visited, goals, share_fare, total_min_fare):\n",
    "    # each\n",
    "    fare_ab = [0, 0]\n",
    "    for i in range(2):\n",
    "        if cur_node == goals[i]:\n",
    "            fare_ab[i] = 0\n",
    "        else:\n",
    "            fare_ab[i] = dfs_alone(cur_node, graph, deepcopy(visited), goal=goals[i], cur_fare=0, min_fare=total_min_fare)\n",
    "        if fare_ab[i] == -1:\n",
    "            return -1\n",
    "    total_min_fare = min(sum([share_fare]+fare_ab), total_min_fare)\n",
    "    \n",
    "    # both\n",
    "    nearby_nodes = set(graph[cur_node].keys()) - visited\n",
    "    for new_node in sorted(nearby_nodes, key=lambda x: graph[cur_node][x]):\n",
    "        new_fare = share_fare + graph[cur_node][new_node]\n",
    "        if new_fare > total_min_fare:\n",
    "            continue\n",
    "        total_fare = dfs_both(new_node, graph, visited|{new_node}, goals, new_fare, total_min_fare)\n",
    "        total_min_fare = min(total_fare, total_min_fare) if total_fare > 0 else total_min_fare\n",
    "    \n",
    "    return total_min_fare\n",
    "\n",
    "\n",
    "def solution(n, s, a, b, fares):\n",
    "    graph = defaultdict(dict)\n",
    "    for x, y, fare in fares:\n",
    "        graph[x][y] = graph[y][x] = fare\n",
    "    return dfs_both(s, graph, visited={s}, goals=[a, b], share_fare=0, total_min_fare=(10**5)*len(fares))"
   ]
  },
  {
   "cell_type": "code",
   "execution_count": 6,
   "id": "ca131a2e-e470-4762-a3ee-0f36cf4844ce",
   "metadata": {},
   "outputs": [
    {
     "data": {
      "text/plain": [
       "defaultdict(dict,\n",
       "            {4: {1: 10, 6: 50, 2: 66},\n",
       "             1: {4: 10, 3: 41, 5: 24, 6: 25},\n",
       "             3: {5: 24, 1: 41, 2: 22},\n",
       "             5: {3: 24, 6: 2, 1: 24},\n",
       "             6: {5: 2, 4: 50, 1: 25},\n",
       "             2: {4: 66, 3: 22}})"
      ]
     },
     "execution_count": 6,
     "metadata": {},
     "output_type": "execute_result"
    }
   ],
   "source": [
    "# mk graph\n",
    "n, s, a, b, fares = 6, 4, 6, 2, [[4, 1, 10], [3, 5, 24], [5, 6, 2], [3, 1, 41], [5, 1, 24], [4, 6, 50], [2, 4, 66], [2, 3, 22], [1, 6, 25]]\n",
    "\n",
    "graph = defaultdict(dict)\n",
    "for x, y, fare in fares:\n",
    "    graph[x][y] = graph[y][x] = fare\n",
    "\n",
    "graph"
   ]
  },
  {
   "cell_type": "code",
   "execution_count": 7,
   "id": "72ede3f3-fb13-4bb7-9d64-64d936a15c97",
   "metadata": {},
   "outputs": [],
   "source": [
    "inputs = [\n",
    "    (6,4,6,2,[[4, 1, 10], [3, 5, 24], [5, 6, 2], [3, 1, 41], [5, 1, 24], [4, 6, 50], [2, 4, 66], [2, 3, 22], [1, 6, 25]]),\n",
    "    (7,3,4,1,[[5, 7, 9], [4, 6, 4], [3, 6, 1], [3, 2, 3], [2, 1, 6]]),\n",
    "    (6,4,5,6,[[2,6,6], [6,3,7], [4,6,7], [6,5,11], [2,5,12], [5,3,20], [2,4,8], [4,3,9]])\n",
    "]\n",
    "outputs = [\n",
    "    82,\n",
    "    14,\n",
    "    18\n",
    "]"
   ]
  },
  {
   "cell_type": "code",
   "execution_count": 8,
   "id": "d9a7d5c0-fe3b-48d6-b54b-e9e1c6668bf7",
   "metadata": {},
   "outputs": [
    {
     "name": "stdout",
     "output_type": "stream",
     "text": [
      "True 82 82\n",
      "True 14 14\n",
      "True 18 18\n"
     ]
    }
   ],
   "source": [
    "for idx, (i, o) in enumerate(zip(inputs, outputs)):\n",
    "    print(solution(*i)==o, solution(*i), o)"
   ]
  },
  {
   "cell_type": "markdown",
   "id": "888069d2-8592-496c-8c05-e4505c2c1a6f",
   "metadata": {},
   "source": [
    "<img src=\"https://user-images.githubusercontent.com/42428487/148119584-34eb32bb-5564-451a-93b3-ba6cfddd2435.png\">\n",
    "\n",
    "##### **포기!**"
   ]
  }
 ],
 "metadata": {
  "kernelspec": {
   "display_name": "Python 3 (ipykernel)",
   "language": "python",
   "name": "python3"
  },
  "language_info": {
   "codemirror_mode": {
    "name": "ipython",
    "version": 3
   },
   "file_extension": ".py",
   "mimetype": "text/x-python",
   "name": "python",
   "nbconvert_exporter": "python",
   "pygments_lexer": "ipython3",
   "version": "3.7.0"
  }
 },
 "nbformat": 4,
 "nbformat_minor": 5
}
