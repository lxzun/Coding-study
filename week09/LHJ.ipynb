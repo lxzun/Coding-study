{
 "cells": [
  {
   "cell_type": "markdown",
   "source": [
    "# [**가장 먼 노드**](https://programmers.co.kr/learn/courses/30/lessons/49189)\n",
    "\n",
    "<div class=\"guide-section-description\">\n",
    "      <h6 class=\"guide-section-title\">문제 설명</h6>\n",
    "      <div class=\"markdown solarized-dark\"><p>n개의 노드가 있는 그래프가 있습니다. 각 노드는 1부터 n까지 번호가 적혀있습니다. 1번 노드에서 가장 멀리 떨어진 노드의 갯수를 구하려고 합니다. 가장 멀리 떨어진 노드란 최단경로로 이동했을 때 간선의 개수가 가장 많은 노드들을 의미합니다.</p>\n",
    "\n",
    "<p>노드의 개수 n, 간선에 대한 정보가 담긴 2차원 배열 vertex가 매개변수로 주어질 때, 1번 노드로부터 가장 멀리 떨어진 노드가 몇 개인지를 return 하도록 solution 함수를 작성해주세요.</p>\n",
    "\n",
    "<h5>제한사항</h5>\n",
    "\n",
    "<ul>\n",
    "<li>노드의 개수 n은 2 이상 20,000 이하입니다.</li>\n",
    "<li>간선은 양방향이며 총 1개 이상 50,000개 이하의 간선이 있습니다.</li>\n",
    "<li>vertex 배열 각 행 [a, b]는 a번 노드와 b번 노드 사이에 간선이 있다는 의미입니다.</li>\n",
    "</ul>\n",
    "\n",
    "<h5>입출력 예</h5>\n",
    "<table class=\"table\">\n",
    "        <thead><tr>\n",
    "<th>n</th>\n",
    "<th>vertex</th>\n",
    "<th>return</th>\n",
    "</tr>\n",
    "</thead>\n",
    "        <tbody><tr>\n",
    "<td>6</td>\n",
    "<td>[[3, 6], [4, 3], [3, 2], [1, 3], [1, 2], [2, 4], [5, 2]]</td>\n",
    "<td>3</td>\n",
    "</tr>\n",
    "</tbody>\n",
    "      </table>\n",
    "<h5>입출력 예 설명</h5>\n",
    "\n",
    "<p>예제의 그래프를 표현하면 아래 그림과 같고, 1번 노드에서 가장 멀리 떨어진 노드는 4,5,6번 노드입니다.</p>\n",
    "\n",
    "<p><img src=\"https://grepp-programmers.s3.amazonaws.com/files/ybm/fadbae38bb/dec85ab5-0273-47b3-ba73-fc0b5f6be28a.png\" title=\"\" alt=\"image.png\" width=\"50%\"></p>\n",
    "</div>\n",
    "    </div>\n",
    "\n",
    "\n",
    "---"
   ],
   "metadata": {
    "collapsed": false
   }
  },
  {
   "cell_type": "code",
   "execution_count": 1,
   "outputs": [],
   "source": [
    "from collections import defaultdict, deque, Counter\n",
    "\n",
    "def solution(n, edge):\n",
    "    graph = defaultdict(list)\n",
    "\n",
    "    for i, j in edge:\n",
    "        graph[i].append(j)\n",
    "        graph[j].append(i)\n",
    "\n",
    "    queue = deque([1])\n",
    "    visited = set()\n",
    "    cost = defaultdict(int)\n",
    "    while queue:\n",
    "        node = queue.popleft()\n",
    "        if not node in visited:\n",
    "            visited.add(node)\n",
    "            nexts = graph[node]\n",
    "            queue.extend(nexts)\n",
    "            for n in nexts:\n",
    "                if not n in visited and (cost[n] > (cost[node]+1) or cost[n]==0):\n",
    "                    cost[n] = cost[node]+1\n",
    "    costs = cost.values()\n",
    "    costs = Counter(costs)\n",
    "    answer = costs[max(costs)]\n",
    "    return answer"
   ],
   "metadata": {
    "collapsed": false,
    "pycharm": {
     "name": "#%%\n"
    }
   }
  },
  {
   "cell_type": "code",
   "execution_count": 2,
   "outputs": [
    {
     "name": "stdout",
     "output_type": "stream",
     "text": [
      "n: 6, edge: [[3, 6], [4, 3], [3, 2], [1, 3], [1, 2], [2, 4], [5, 2]], ans: 3\n",
      "Ans: True\n",
      "\n"
     ]
    }
   ],
   "source": [
    "case1 = [6, [[3, 6], [4, 3], [3, 2], [1, 3], [1, 2], [2, 4], [5, 2]], 3]\n",
    "for n, edge, ans in [case1]:\n",
    "    print(f'n: {n}, edge: {edge}, ans: {ans}')\n",
    "    print(f'Ans: {solution(n, edge)==ans}\\n')\n",
    "    "
   ],
   "metadata": {
    "collapsed": false,
    "pycharm": {
     "name": "#%%\n"
    }
   }
  },
  {
   "cell_type": "markdown",
   "source": [
    "<img src='https://user-images.githubusercontent.com/41243762/148343475-0df32bea-800a-462b-b9b0-f82d60baa690.png' width='50%'>"
   ],
   "metadata": {
    "collapsed": false,
    "pycharm": {
     "name": "#%% md\n"
    }
   }
  },
  {
   "cell_type": "markdown",
   "source": [
    "# [**메뉴 리뉴얼**](https://programmers.co.kr/learn/courses/30/lessons/72411)\n",
    "\n",
    "<div class=\"guide-section-description\">\n",
    "      <h6 class=\"guide-section-title\">문제 설명</h6>\n",
    "      <div class=\"markdown solarized-dark\"><p>레스토랑을 운영하던 <code>스카피</code>는 코로나19로 인한 불경기를 극복하고자 메뉴를 새로 구성하려고 고민하고 있습니다.<br>\n",
    "기존에는 단품으로만 제공하던 메뉴를 조합해서 코스요리 형태로 재구성해서 새로운 메뉴를 제공하기로 결정했습니다. 어떤 단품메뉴들을 조합해서 코스요리 메뉴로 구성하면 좋을 지 고민하던 \"스카피\"는 이전에 각 손님들이 주문할 때 가장 많이 함께 주문한 단품메뉴들을 코스요리 메뉴로 구성하기로 했습니다.<br>\n",
    "단, 코스요리 메뉴는 최소 2가지 이상의 단품메뉴로 구성하려고 합니다. 또한, 최소 2명 이상의 손님으로부터 주문된 단품메뉴 조합에 대해서만 코스요리 메뉴 후보에 포함하기로 했습니다.</p>\n",
    "\n",
    "<p>예를 들어, 손님 6명이 주문한 단품메뉴들의 조합이 다음과 같다면,<br>\n",
    "(각 손님은 단품메뉴를 2개 이상 주문해야 하며, 각 단품메뉴는 A ~ Z의 알파벳 대문자로 표기합니다.)</p>\n",
    "<table class=\"table\">\n",
    "        <thead><tr>\n",
    "<th>손님 번호</th>\n",
    "<th>주문한 단품메뉴 조합</th>\n",
    "</tr>\n",
    "</thead>\n",
    "        <tbody><tr>\n",
    "<td>1번 손님</td>\n",
    "<td>A, B, C, F, G</td>\n",
    "</tr>\n",
    "<tr>\n",
    "<td>2번 손님</td>\n",
    "<td>A, C</td>\n",
    "</tr>\n",
    "<tr>\n",
    "<td>3번 손님</td>\n",
    "<td>C, D, E</td>\n",
    "</tr>\n",
    "<tr>\n",
    "<td>4번 손님</td>\n",
    "<td>A, C, D, E</td>\n",
    "</tr>\n",
    "<tr>\n",
    "<td>5번 손님</td>\n",
    "<td>B, C, F, G</td>\n",
    "</tr>\n",
    "<tr>\n",
    "<td>6번 손님</td>\n",
    "<td>A, C, D, E, H</td>\n",
    "</tr>\n",
    "</tbody>\n",
    "      </table>\n",
    "<p>가장 많이 함께 주문된 단품메뉴 조합에 따라 \"스카피\"가 만들게 될 코스요리 메뉴 구성 후보는 다음과 같습니다.</p>\n",
    "<table class=\"table\">\n",
    "        <thead><tr>\n",
    "<th>코스 종류</th>\n",
    "<th>메뉴 구성</th>\n",
    "<th>설명</th>\n",
    "</tr>\n",
    "</thead>\n",
    "        <tbody><tr>\n",
    "<td>요리 2개 코스</td>\n",
    "<td>A, C</td>\n",
    "<td>1번, 2번, 4번, 6번 손님으로부터 총 4번 주문됐습니다.</td>\n",
    "</tr>\n",
    "<tr>\n",
    "<td>요리 3개 코스</td>\n",
    "<td>C, D, E</td>\n",
    "<td>3번, 4번, 6번 손님으로부터 총 3번 주문됐습니다.</td>\n",
    "</tr>\n",
    "<tr>\n",
    "<td>요리 4개 코스</td>\n",
    "<td>B, C, F, G</td>\n",
    "<td>1번, 5번 손님으로부터 총 2번 주문됐습니다.</td>\n",
    "</tr>\n",
    "<tr>\n",
    "<td>요리 4개 코스</td>\n",
    "<td>A, C, D, E</td>\n",
    "<td>4번, 6번 손님으로부터 총 2번 주문됐습니다.</td>\n",
    "</tr>\n",
    "</tbody>\n",
    "      </table>\n",
    "<hr>\n",
    "\n",
    "<h4><strong>[문제]</strong></h4>\n",
    "\n",
    "<p>각 손님들이 주문한 단품메뉴들이 문자열 형식으로 담긴 배열 orders, \"스카피\"가 <code>추가하고 싶어하는</code> 코스요리를 구성하는 단품메뉴들의 갯수가 담긴 배열 course가 매개변수로 주어질 때, \"스카피\"가 새로 추가하게 될 코스요리의 메뉴 구성을 문자열 형태로 배열에 담아 return 하도록 solution 함수를 완성해 주세요.</p>\n",
    "\n",
    "<h4><strong>[제한사항]</strong></h4>\n",
    "\n",
    "<ul>\n",
    "<li>orders 배열의 크기는 2 이상 20 이하입니다.</li>\n",
    "<li>orders 배열의 각 원소는 크기가 2 이상 10 이하인 문자열입니다.\n",
    "\n",
    "<ul>\n",
    "<li>각 문자열은 알파벳 대문자로만 이루어져 있습니다.</li>\n",
    "<li>각 문자열에는 같은 알파벳이 중복해서 들어있지 않습니다.</li>\n",
    "</ul></li>\n",
    "<li>course 배열의 크기는 1 이상 10 이하입니다.\n",
    "\n",
    "<ul>\n",
    "<li>course 배열의 각 원소는 2 이상 10 이하인 자연수가 <code>오름차순</code>으로 정렬되어 있습니다.</li>\n",
    "<li>course 배열에는 같은 값이 중복해서 들어있지 않습니다.</li>\n",
    "</ul></li>\n",
    "<li>정답은 각 코스요리 메뉴의 구성을 문자열 형식으로 배열에 담아 사전 순으로 <code>오름차순</code> 정렬해서 return 해주세요.\n",
    "\n",
    "<ul>\n",
    "<li>배열의 각 원소에 저장된 문자열 또한 알파벳 <code>오름차순</code>으로 정렬되어야 합니다.</li>\n",
    "<li>만약 가장 많이 함께 주문된 메뉴 구성이 여러 개라면, 모두 배열에 담아 return 하면 됩니다.</li>\n",
    "<li>orders와 course 매개변수는 return 하는 배열의 길이가 1 이상이 되도록 주어집니다.</li>\n",
    "</ul></li>\n",
    "</ul>\n",
    "\n",
    "<hr>\n",
    "\n",
    "<h5><strong>[입출력 예]</strong></h5>\n",
    "<table class=\"table\">\n",
    "        <thead><tr>\n",
    "<th>orders</th>\n",
    "<th>course</th>\n",
    "<th>result</th>\n",
    "</tr>\n",
    "</thead>\n",
    "        <tbody><tr>\n",
    "<td><code>[\"ABCFG\", \"AC\", \"CDE\", \"ACDE\", \"BCFG\", \"ACDEH\"]</code></td>\n",
    "<td>[2,3,4]</td>\n",
    "<td><code>[\"AC\", \"ACDE\", \"BCFG\", \"CDE\"]</code></td>\n",
    "</tr>\n",
    "<tr>\n",
    "<td><code>[\"ABCDE\", \"AB\", \"CD\", \"ADE\", \"XYZ\", \"XYZ\", \"ACD\"]</code></td>\n",
    "<td>[2,3,5]</td>\n",
    "<td><code>[\"ACD\", \"AD\", \"ADE\", \"CD\", \"XYZ\"]</code></td>\n",
    "</tr>\n",
    "<tr>\n",
    "<td><code>[\"XYZ\", \"XWY\", \"WXA\"]</code></td>\n",
    "<td>[2,3,4]</td>\n",
    "<td><code>[\"WX\", \"XY\"]</code></td>\n",
    "</tr>\n",
    "</tbody>\n",
    "      </table>\n",
    "<h5><strong>입출력 예에 대한 설명</strong></h5>\n",
    "\n",
    "<hr>\n",
    "\n",
    "<p><strong>입출력 예 #1</strong><br>\n",
    "문제의 예시와 같습니다.</p>\n",
    "\n",
    "<p><strong>입출력 예 #2</strong><br>\n",
    "AD가 세 번, CD가 세 번, ACD가 두 번, ADE가 두 번, XYZ 가 두 번 주문됐습니다.<br>\n",
    "요리 5개를 주문한 손님이 1명 있지만, 최소 2명 이상의 손님에게서 주문된 구성만 코스요리 후보에 들어가므로, 요리 5개로 구성된 코스요리는 새로 추가하지 않습니다.</p>\n",
    "\n",
    "<p><strong>입출력 예 #3</strong><br>\n",
    "WX가 두 번, XY가 두 번 주문됐습니다.<br>\n",
    "3명의 손님 모두 단품메뉴를 3개씩 주문했지만, 최소 2명 이상의 손님에게서 주문된 구성만 코스요리 후보에 들어가므로, 요리 3개로 구성된 코스요리는 새로 추가하지 않습니다.<br>\n",
    "또, 단품메뉴를 4개 이상 주문한 손님은 없으므로, 요리 4개로 구성된 코스요리 또한 새로 추가하지 않습니다.</p>\n",
    "</div>\n",
    "    </div>\n",
    "\n",
    "---"
   ],
   "metadata": {
    "collapsed": false
   }
  },
  {
   "cell_type": "code",
   "execution_count": 3,
   "outputs": [],
   "source": [
    "from collections import defaultdict, Counter\n",
    "from itertools import combinations\n",
    "\n",
    "def solution(orders, course):\n",
    "    answer = []\n",
    "    menu = [set(i) for i in orders]\n",
    "    course = {k:0 for k in course}\n",
    "    count = defaultdict(int)\n",
    "    one_menu = Counter(\"\".join(orders))\n",
    "\n",
    "    for k, v in list(one_menu.items()):\n",
    "        if v == 1:\n",
    "            del(one_menu[k])\n",
    "\n",
    "    for i in course.keys():\n",
    "        for j in menu:\n",
    "            for k in combinations(j, i):\n",
    "                k = set(k)\n",
    "                k2 = \"\".join(sorted(k))\n",
    "                if k2 not in count:\n",
    "                    for z in range(len(orders)):\n",
    "                        if k & menu[z] == k:\n",
    "                            count[k2] += 1\n",
    "\n",
    "    for i, v in count.items():\n",
    "        if v > course[len(i)] and v > 1:\n",
    "            course[len(i)] = v\n",
    "\n",
    "    for i, v in count.items():\n",
    "        if v == course[len(i)]:\n",
    "            answer.append(i)\n",
    "\n",
    "    return sorted(answer)\n"
   ],
   "metadata": {
    "collapsed": false,
    "pycharm": {
     "name": "#%%\n"
    }
   }
  },
  {
   "cell_type": "code",
   "execution_count": 4,
   "outputs": [
    {
     "name": "stdout",
     "output_type": "stream",
     "text": [
      "orders: ['ABCFG', 'AC', 'CDE', 'ACDE', 'BCFG', 'ACDEH'], course: [2, 3, 4], ans:[['XYZ', 'XWY', 'WXA'], [2, 3, 4], ['WX', 'XY']]\n",
      "Ans: True\n",
      "\n",
      "orders: ['ABCDE', 'AB', 'CD', 'ADE', 'XYZ', 'XYZ', 'ACD'], course: [2, 3, 5], ans:[['XYZ', 'XWY', 'WXA'], [2, 3, 4], ['WX', 'XY']]\n",
      "Ans: True\n",
      "\n",
      "orders: ['XYZ', 'XWY', 'WXA'], course: [2, 3, 4], ans:[['XYZ', 'XWY', 'WXA'], [2, 3, 4], ['WX', 'XY']]\n",
      "Ans: True\n",
      "\n"
     ]
    }
   ],
   "source": [
    "case1 = [[\"ABCFG\", \"AC\", \"CDE\", \"ACDE\", \"BCFG\", \"ACDEH\"], [2, 3, 4], [\"AC\", \"ACDE\", \"BCFG\", \"CDE\"]]\n",
    "case2 = [[\"ABCDE\", \"AB\", \"CD\", \"ADE\", \"XYZ\", \"XYZ\", \"ACD\"], [2, 3, 5], [\"ACD\", \"AD\", \"ADE\", \"CD\", \"XYZ\"]]\n",
    "case3 = [[\"XYZ\", \"XWY\", \"WXA\"], [2, 3, 4], [\"WX\", \"XY\"]]\n",
    "for orders, course, ans in [case1, case2, case3]:\n",
    "    print(f'orders: {orders}, course: {course}, ans:{case3}')\n",
    "    print(f'Ans: {solution(orders, course) == ans}\\n')\n"
   ],
   "metadata": {
    "collapsed": false,
    "pycharm": {
     "name": "#%%\n"
    }
   }
  },
  {
   "cell_type": "markdown",
   "source": [
    "<img src='https://user-images.githubusercontent.com/41243762/148342398-d1dd97b1-f241-483f-a387-a024cfa41223.png' width='50%'>"
   ],
   "metadata": {
    "collapsed": false
   }
  },
  {
   "cell_type": "markdown",
   "source": [
    "# [**합승 택시 요금**](https://programmers.co.kr/learn/courses/30/lessons/72413)\n",
    "\n",
    "### **문제 설명**\n",
    "\n",
    "**[본 문제는 정확성과 효율성 테스트 각각 점수가 있는 문제입니다.]**\n",
    "\n",
    "밤늦게 귀가할 때 안전을 위해 항상 택시를 이용하던 `무지`는 최근 야근이 잦아져 택시를 더 많이 이용하게 되어 택시비를 아낄 수 있는 방법을 고민하고 있습니다. \"무지\"는 자신이 택시를 이용할 때 동료인 `어피치` 역시 자신과 비슷한 방향으로 가는 택시를 종종 이용하는 것을 알게 되었습니다. \"무지\"는 \"어피치\"와 귀가 방향이 비슷하여 택시 합승을 적절히 이용하면 택시요금을 얼마나 아낄 수 있을 지 계산해 보고 \"어피치\"에게 합승을 제안해 보려고 합니다.\n",
    "\n",
    "<img width=\"400\" src=\"https://grepp-programmers.s3.ap-northeast-2.amazonaws.com/files/production/715ff493-d1a0-44d8-9273-a785280b3f1e/2021_kakao_taxi_01.png\">\n",
    "\n",
    "위 예시 그림은 택시가 이동 가능한 반경에 있는 6개 지점 사이의 이동 가능한 택시노선과 예상요금을 보여주고 있습니다.\n",
    "그림에서 `A`와 `B` 두 사람은 출발지점인 4번 지점에서 출발해서 택시를 타고 귀가하려고 합니다. `A`의 집은 6번 지점에 있으며 `B`의 집은 2번 지점에 있고 두 사람이 모두 귀가하는 데 소요되는 예상 최저 택시요금이 얼마인 지 계산하려고 합니다.\n",
    "\n",
    "- 그림의 원은 지점을 나타내며 원 안의 숫자는 지점 번호를 나타냅니다.\n",
    "   - 지점이 n개일 때, 지점 번호는 1부터 n까지 사용됩니다.\n",
    "- 지점 간에 택시가 이동할 수 있는 경로를 간선이라 하며, 간선에 표시된 숫자는 두 지점 사이의 예상 택시요금을 나타냅니다.\n",
    "   - 간선은 편의 상 직선으로 표시되어 있습니다.\n",
    "   - 위 그림 예시에서, 4번 지점에서 1번 지점으로(4→1) 가거나, 1번 지점에서 4번 지점으로(1→4) 갈 때 예상 택시요금은 `10`원으로 동일하며 이동 방향에 따라 달라지지 않습니다.\n",
    "- 예상되는 최저 택시요금은 다음과 같이 계산됩니다.\n",
    "   - 4→1→5 : `A`, `B`가 합승하여 택시를 이용합니다. 예상 택시요금은 `10 + 24 = 34`원 입니다.\n",
    "   - 5→6 : `A`가 혼자 택시를 이용합니다. 예상 택시요금은 `2`원 입니다.\n",
    "   - 5→3→2 : `B`가 혼자 택시를 이용합니다. 예상 택시요금은 `24 + 22 = 46`원 입니다.\n",
    "   - `A`, `B` 모두 귀가 완료까지 예상되는 최저 택시요금은 `34 + 2 + 46 = 82`원 입니다.\n",
    "\n",
    "\n",
    "<br>\n",
    "\n",
    "### **[문제]**\n",
    "\n",
    "지점의 개수 n, 출발지점을 나타내는 s, `A`의 도착지점을 나타내는 a, `B`의 도착지점을 나타내는 b, 지점 사이의 예상 택시요금을 나타내는 fares가 매개변수로 주어집니다. 이때, `A`, `B` 두 사람이 s에서 출발해서 각각의 도착 지점까지 택시를 타고 간다고 가정할 때, 최저 예상 택시요금을 계산해서 return 하도록 solution 함수를 완성해 주세요.\n",
    "만약, 아예 합승을 하지 않고 각자 이동하는 경우의 예상 택시요금이 더 낮다면, 합승을 하지 않아도 됩니다.\n",
    "\n",
    "<br>\n",
    "\n",
    "### **[제한사항]**\n",
    "\n",
    "- 지점갯수 n은 3 이상 200 이하인 자연수입니다.\n",
    "- 지점 s, a, b는 1 이상 n 이하인 자연수이며, 각기 서로 다른 값입니다.\n",
    "   - 즉, 출발지점, `A`의 도착지점, `B`의 도착지점은 서로 겹치지 않습니다.\n",
    "- fares는 2차원 정수 배열입니다.\n",
    "- fares 배열의 크기는 2 이상 `n x (n-1) / 2` 이하입니다.\n",
    "   - 예를들어, n = 6이라면 fares 배열의 크기는 2 이상 15 이하입니다. (`6 x 5 / 2 = 15`)\n",
    "   - fares 배열의 각 행은 [c, d, f] 형태입니다.\n",
    "   - c지점과 d지점 사이의 예상 택시요금이 `f`원이라는 뜻입니다.\n",
    "   - 지점 c, d는 1 이상 n 이하인 자연수이며, 각기 서로 다른 값입니다.\n",
    "   - 요금 f는 1 이상 100,000 이하인 자연수입니다.\n",
    "   - fares 배열에 두 지점 간 예상 택시요금은 1개만 주어집니다. 즉, [c, d, f]가 있다면 [d, c, f]는 주어지지 않습니다.\n",
    "- 출발지점 s에서 도착지점 a와 b로 가는 경로가 존재하는 경우만 입력으로 주어집니다.\n",
    "\n",
    "<br>\n",
    "\n",
    "#### **입출력 예**\n",
    "\n",
    "n | s | a | b | fares | result\n",
    "-- | -- | -- | -- | -- | --\n",
    "6 | 4 | 6 | 2 | [[4, 1, 10], [3, 5, 24], [5, 6, 2], [3, 1, 41], [5, 1, 24], [4, 6, 50], [2, 4, 66], [2, 3, 22], [1, 6, 25]] | 82\n",
    "7 | 3 | 4 | 1 | [[5, 7, 9], [4, 6, 4], [3, 6, 1], [3, 2, 3], [2, 1, 6]] | 14\n",
    "6 | 4 | 5 | 6 | [[2,6,6], [6,3,7], [4,6,7], [6,5,11], [2,5,12], [5,3,20], [2,4,8], [4,3,9]] | 18\n",
    "\n",
    "<br>\n",
    "\n",
    "#### **입출력 예에 대한 설명**\n",
    "\n",
    "##### **입출력 예#1**\n",
    "문제 예시와 같습니다.\n",
    "\n",
    "\n",
    "##### **입출력 예#2**\n",
    "\n",
    "<img width=\"400\" src=\"https://grepp-programmers.s3.ap-northeast-2.amazonaws.com/files/production/934fcb5a-f844-4b02-b7fa-46198123be05/2021_kakao_taxi_02.png\">\n",
    "\n",
    "- 합승을 하지 않고, `B`는 `3→2→1`, `A`는 `3→6→4` 경로로 각자 택시를 타고 가는 것이 최저 예상 택시요금입니다.\n",
    "- 따라서 최저 예상 택시요금은 `(3 + 6) + (1 + 4) = 14`원 입니다.\n",
    "\n",
    "##### **입출력 예#3**\n",
    "\n",
    "<img width=\"400\" src=\"https://grepp-programmers.s3.ap-northeast-2.amazonaws.com/files/production/179cc8ad-73d2-46c9-95e9-2363f3cb345d/2021_kakao_taxi_03.png\">\n",
    "\n",
    "- `A`와 `B`가 `4→6` 구간을 합승하고 `B`가 6번 지점에서 내린 후, `A`가 `6→5` 구간을 혼자 타고 가는 것이 최저 예상 택시요금입니다.\n",
    "- 따라서 최저 예상 택시요금은 `7 + 11 = 18`원 입니다."
   ],
   "metadata": {
    "collapsed": false
   }
  },
  {
   "cell_type": "markdown",
   "source": [
    "---\n",
    "## **Solution.py**"
   ],
   "metadata": {
    "collapsed": false
   }
  },
  {
   "cell_type": "code",
   "execution_count": 5,
   "outputs": [],
   "source": [
    "def solution(n, s, a, b, fares):\n",
    "    inf = 100000*200\n",
    "    answer = inf\n",
    "\n",
    "    maps = []\n",
    "    for i in range(n):\n",
    "        tmp = []\n",
    "        for j in range(n):\n",
    "            if i == j:\n",
    "                tmp.append(0)\n",
    "            else:\n",
    "                tmp.append(inf)\n",
    "        maps.append(tmp)\n",
    "\n",
    "    for i, j, w in fares:\n",
    "        maps[i-1][j-1] = w\n",
    "        maps[j-1][i-1] = w\n",
    "\n",
    "    for k in range(n):\n",
    "        for i in range(n):\n",
    "            for j in range(n):\n",
    "                tmp = min(maps[i][j], maps[i][k]+maps[k][j])\n",
    "                maps[i][j]=tmp\n",
    "\n",
    "    for k in range(n):\n",
    "        answer = min(answer, maps[s-1][k]+maps[k][a-1]+maps[k][b-1])\n",
    "\n",
    "    return answer"
   ],
   "metadata": {
    "collapsed": false,
    "pycharm": {
     "name": "#%%\n"
    }
   }
  },
  {
   "cell_type": "code",
   "execution_count": 6,
   "outputs": [],
   "source": [
    "inputs = [\n",
    "    (6,4,6,2,[[4, 1, 10], [3, 5, 24], [5, 6, 2], [3, 1, 41], [5, 1, 24], [4, 6, 50], [2, 4, 66], [2, 3, 22], [1, 6, 25]]),\n",
    "    (7,3,4,1,[[5, 7, 9], [4, 6, 4], [3, 6, 1], [3, 2, 3], [2, 1, 6]]),\n",
    "    (6,4,5,6,[[2,6,6], [6,3,7], [4,6,7], [6,5,11], [2,5,12], [5,3,20], [2,4,8], [4,3,9]])\n",
    "]\n",
    "outputs = [\n",
    "    82,\n",
    "    14,\n",
    "    18\n",
    "]"
   ],
   "metadata": {
    "collapsed": false,
    "pycharm": {
     "name": "#%%\n"
    }
   }
  },
  {
   "cell_type": "code",
   "execution_count": 7,
   "outputs": [
    {
     "name": "stdout",
     "output_type": "stream",
     "text": [
      "True 82 82\n",
      "True 14 14\n",
      "True 18 18\n"
     ]
    }
   ],
   "source": [
    "for idx, (i, o) in enumerate(zip(inputs, outputs)):\n",
    "    print(solution(*i)==o, solution(*i), o)"
   ],
   "metadata": {
    "collapsed": false,
    "pycharm": {
     "name": "#%%\n"
    }
   }
  },
  {
   "cell_type": "markdown",
   "source": [
    "<img src=\"https://user-images.githubusercontent.com/41243762/148317298-3f7f75c5-4131-42dc-ab5d-22c287feed9e.png\">"
   ],
   "metadata": {
    "collapsed": false
   }
  }
 ],
 "metadata": {
  "kernelspec": {
   "display_name": "Python 3",
   "language": "python",
   "name": "python3"
  },
  "language_info": {
   "codemirror_mode": {
    "name": "ipython",
    "version": 2
   },
   "file_extension": ".py",
   "mimetype": "text/x-python",
   "name": "python",
   "nbconvert_exporter": "python",
   "pygments_lexer": "ipython2",
   "version": "2.7.6"
  }
 },
 "nbformat": 4,
 "nbformat_minor": 0
}