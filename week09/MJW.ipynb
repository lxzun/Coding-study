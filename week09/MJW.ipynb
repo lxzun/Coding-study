{
 "cells": [
  {
   "cell_type": "markdown",
   "id": "e2529c81-85da-4f54-84c3-ddf7334c2c6f",
   "metadata": {
    "tags": []
   },
   "source": [
    "# [**가장 먼 노드**](https://programmers.co.kr/learn/courses/30/lessons/49189)\n",
    "\n",
    "### **문제 설명**\n",
    "n개의 노드가 있는 그래프가 있습니다. 각 노드는 1부터 n까지 번호가 적혀있습니다. 1번 노드에서 가장 멀리 떨어진 노드의 갯수를 구하려고 합니다. 가장 멀리 떨어진 노드란 최단경로로 이동했을 때 간선의 개수가 가장 많은 노드들을 의미합니다.\n",
    "\n",
    "노드의 개수 n, 간선에 대한 정보가 담긴 2차원 배열 vertex가 매개변수로 주어질 때, 1번 노드로부터 가장 멀리 떨어진 노드가 몇 개인지를 return 하도록 solution 함수를 작성해주세요.\n",
    "\n",
    "\n",
    "\n",
    "<br>\n",
    "\n",
    "### **제한 사항**\n",
    "\n",
    "- 노드의 개수 n은 2 이상 20,000 이하입니다.\n",
    "- 간선은 양방향이며 총 1개 이상 50,000개 이하의 간선이 있습니다.\n",
    "- vertex 배열 각 행 [a, b]는 a번 노드와 b번 노드 사이에 간선이 있다는 의미입니다.\n",
    "   \n",
    "<br>\n",
    "\n",
    "#### **입출력 예**\n",
    "n | vertex | return\n",
    "-- | -- | --\n",
    "6 | [[3, 6], [4, 3], [3, 2], [1, 3], [1, 2], [2, 4], [5, 2]] | 3\n",
    "\n",
    "<br>\n",
    "\n",
    "#### **입출력 예 설명**\n",
    "예제의 그래프를 표현하면 아래 그림과 같고, 1번 노드에서 가장 멀리 떨어진 노드는 4,5,6번 노드입니다.\n",
    "\n",
    "<img width=\"400\" src=\"https://grepp-programmers.s3.amazonaws.com/files/ybm/fadbae38bb/dec85ab5-0273-47b3-ba73-fc0b5f6be28a.png\">\n",
    "\n"
   ]
  },
  {
   "cell_type": "markdown",
   "id": "cbf1a074-d38d-41b9-ad3f-7e2785a87e4d",
   "metadata": {},
   "source": [
    "---\n",
    "## **Solution.py**"
   ]
  },
  {
   "cell_type": "code",
   "execution_count": 1,
   "id": "290dfb34-c6a6-4c36-a410-7845f1909a25",
   "metadata": {},
   "outputs": [],
   "source": [
    "from pprint import pprint"
   ]
  },
  {
   "cell_type": "code",
   "execution_count": 2,
   "id": "7207a775-b05b-401b-82e4-f331b5dfb6c1",
   "metadata": {},
   "outputs": [],
   "source": [
    "from collections import defaultdict, deque\n",
    "\n",
    "def solution(n, edge):\n",
    "    graph = defaultdict(set)\n",
    "    for x, y in edge:\n",
    "        graph[x].add(y)\n",
    "        graph[y].add(x)\n",
    "    \n",
    "    queue = deque()\n",
    "    queue.append((1, 0))\n",
    "    visited = {1}\n",
    "    \n",
    "    max_depth = 0\n",
    "    ans = set()\n",
    "    while queue:\n",
    "        x, depth = queue.popleft()\n",
    "        if max_depth < depth:\n",
    "            max_depth = depth\n",
    "            ans = {x}\n",
    "        elif max_depth == depth:\n",
    "            ans.add(x)\n",
    "                   \n",
    "        nodes = graph[x] - visited\n",
    "        queue.extend([(n, depth+1) for n in nodes])\n",
    "        visited |= nodes\n",
    "    return len(ans)"
   ]
  },
  {
   "cell_type": "code",
   "execution_count": 3,
   "id": "12660412-f7aa-4de4-bd6f-d1d39e544380",
   "metadata": {},
   "outputs": [
    {
     "data": {
      "text/plain": [
       "defaultdict(set,\n",
       "            {3: {1, 2, 4, 6},\n",
       "             6: {3},\n",
       "             4: {2, 3},\n",
       "             2: {1, 3, 4, 5},\n",
       "             1: {2, 3},\n",
       "             5: {2}})"
      ]
     },
     "execution_count": 3,
     "metadata": {},
     "output_type": "execute_result"
    }
   ],
   "source": [
    "n, edge = 6, [[3, 6], [4, 3], [3, 2], [1, 3], [1, 2], [2, 4], [5, 2]]\n",
    "\n",
    "graph = defaultdict(set)\n",
    "for x, y in edge:\n",
    "    graph[x].add(y)\n",
    "    graph[y].add(x)\n",
    "graph"
   ]
  },
  {
   "cell_type": "code",
   "execution_count": 4,
   "id": "9978a789-1595-4f2d-8f59-a02f10ac323f",
   "metadata": {},
   "outputs": [],
   "source": [
    "inputs = [\n",
    "    (6, [[3, 6], [4, 3], [3, 2], [1, 3], [1, 2], [2, 4], [5, 2]])\n",
    "]\n",
    "outputs = [\n",
    "    3\n",
    "]"
   ]
  },
  {
   "cell_type": "code",
   "execution_count": 5,
   "id": "130d4ac4-e5ae-414f-9f19-90e29a023c61",
   "metadata": {},
   "outputs": [
    {
     "name": "stdout",
     "output_type": "stream",
     "text": [
      "True 3 3\n"
     ]
    }
   ],
   "source": [
    "for idx, (i, o) in enumerate(zip(inputs, outputs)):\n",
    "    print(solution(*i)==o, solution(*i), o)"
   ]
  },
  {
   "cell_type": "markdown",
   "id": "4303ebb7-2542-4a54-9bfe-08dab686ec34",
   "metadata": {},
   "source": [
    "<img width=\"400\" alt=\"image\" src=\"https://user-images.githubusercontent.com/42428487/148797075-e7032e00-2c83-4ad2-9ed3-e90be3af9a38.png\">\n"
   ]
  },
  {
   "cell_type": "markdown",
   "id": "d892032a",
   "metadata": {},
   "source": [
    "<br>\n",
    "\n",
    "---\n",
    "---\n",
    "\n",
    "<br>\n"
   ]
  },
  {
   "cell_type": "markdown",
   "id": "df5f6a66",
   "metadata": {},
   "source": [
    "# [**메뉴 리뉴얼**](https://programmers.co.kr/learn/courses/30/lessons/72411)\n",
    "\n",
    "### **문제 설명**\n",
    "\n",
    "레스토랑을 운영하던 `스카피`는 코로나19로 인한 불경기를 극복하고자 메뉴를 새로 구성하려고 고민하고 있습니다.\n",
    "기존에는 단품으로만 제공하던 메뉴를 조합해서 코스요리 형태로 재구성해서 새로운 메뉴를 제공하기로 결정했습니다. 어떤 단품메뉴들을 조합해서 코스요리 메뉴로 구성하면 좋을 지 고민하던 \"스카피\"는 이전에 각 손님들이 주문할 때 가장 많이 함께 주문한 단품메뉴들을 코스요리 메뉴로 구성하기로 했습니다.\n",
    "단, 코스요리 메뉴는 최소 2가지 이상의 단품메뉴로 구성하려고 합니다. 또한, 최소 2명 이상의 손님으로부터 주문된 단품메뉴 조합에 대해서만 코스요리 메뉴 후보에 포함하기로 했습니다.\n",
    "\n",
    "예를 들어, 손님 6명이 주문한 단품메뉴들의 조합이 다음과 같다면,\n",
    "(각 손님은 단품메뉴를 2개 이상 주문해야 하며, 각 단품메뉴는 A ~ Z의 알파벳 대문자로 표기합니다.)\n",
    "\n",
    "\n",
    "손님 번호 | 주문한 단품메뉴 조합\n",
    "-- | --\n",
    "1번 손님 | A, B, C, F, G\n",
    "2번 손님 | A, C\n",
    "3번 손님 | C, D, E\n",
    "4번 손님 | A, C, D, E\n",
    "5번 손님 | B, C, F, G\n",
    "6번 손님 | A, C, D, E, H\n",
    "\n",
    "가장 많이 함께 주문된 단품메뉴 조합에 따라 \"스카피\"가 만들게 될 코스요리 메뉴 구성 후보는 다음과 같습니다.\n",
    "\n",
    "코스 종류 | 메뉴 구성 | 설명\n",
    "-- | -- | --\n",
    "요리 2개 코스 | A, C | 1번, 2번, 4번, 6번 손님으로부터 총 4번 주문됐습니다.\n",
    "요리 3개 코스 | C, D, E | 3번, 4번, 6번 손님으로부터 총 3번 주문됐습니다.\n",
    "요리 4개 코스 | B, C, F, G | 1번, 5번 손님으로부터 총 2번 주문됐습니다.\n",
    "요리 4개 코스 | A, C, D, E | 4번, 6번 손님으로부터 총 2번 주문됐습니다.\n",
    "\n",
    "\n",
    "<br>\n",
    "\n",
    "### **[문제]**\n",
    "\n",
    "각 손님들이 주문한 단품메뉴들이 문자열 형식으로 담긴 배열 orders, \"스카피\"가 `추가하고 싶어하는` 코스요리를 구성하는 단품메뉴들의 갯수가 담긴 배열 course가 매개변수로 주어질 때, \"스카피\"가 새로 추가하게 될 코스요리의 메뉴 구성을 문자열 형태로 배열에 담아 return 하도록 solution 함수를 완성해 주세요.\n",
    "\n",
    "<br>\n",
    "\n",
    "### **[제한사항]**\n",
    "\n",
    "- orders 배열의 크기는 2 이상 20 이하입니다.\n",
    "- orders 배열의 각 원소는 크기가 2 이상 10 이하인 문자열입니다.\n",
    "   - 각 문자열은 알파벳 대문자로만 이루어져 있습니다.\n",
    "   - 각 문자열에는 같은 알파벳이 중복해서 들어있지 않습니다.\n",
    "- course 배열의 크기는 1 이상 10 이하입니다.\n",
    "   - course 배열의 각 원소는 2 이상 10 이하인 자연수가 `오름차순`으로 정렬되어 있습니다.\n",
    "   - course 배열에는 같은 값이 중복해서 들어있지 않습니다.\n",
    "- 정답은 각 코스요리 메뉴의 구성을 문자열 형식으로 배열에 담아 사전 순으로 `오름차순` 정렬해서 return 해주세요.\n",
    "   - 배열의 각 원소에 저장된 문자열 또한 알파벳 `오름차순`으로 정렬되어야 합니다.\n",
    "   - 만약 가장 많이 함께 주문된 메뉴 구성이 여러 개라면, 모두 배열에 담아 return 하면 됩니다.\n",
    "   - orders와 course 매개변수는 return 하는 배열의 길이가 1 이상이 되도록 주어집니다.\n",
    "\n",
    "<br>\n",
    "\n",
    "#### **입출력 예**\n",
    "\n",
    "orders | course | result\n",
    "-- | -- | --\n",
    "[\"ABCFG\", \"AC\", \"CDE\", \"ACDE\", \"BCFG\", \"ACDEH\"] | [2,3,4] | [\"AC\", \"ACDE\", \"BCFG\", \"CDE\"]\n",
    "[\"ABCDE\", \"AB\", \"CD\", \"ADE\", \"XYZ\", \"XYZ\", \"ACD\"] | [2,3,5] | [\"ACD\", \"AD\", \"ADE\", \"CD\", \"XYZ\"]\n",
    "[\"XYZ\", \"XWY\", \"WXA\"] | [2,3,4] | [\"WX\", \"XY\"]\n",
    "\n",
    "<br>\n",
    "\n",
    "#### **입출력 예에 대한 설명**\n",
    "\n",
    "##### **입출력 예#1**\n",
    "문제 예시와 같습니다.\n",
    "\n",
    "\n",
    "##### **입출력 예#2**\n",
    "\n",
    "AD가 세 번, CD가 세 번, ACD가 두 번, ADE가 두 번, XYZ 가 두 번 주문됐습니다.\n",
    "요리 5개를 주문한 손님이 1명 있지만, 최소 2명 이상의 손님에게서 주문된 구성만 코스요리 후보에 들어가므로, 요리 5개로 구성된 코스요리는 새로 추가하지 않습니다.\n",
    "\n",
    "##### **입출력 예#3**\n",
    "\n",
    "WX가 두 번, XY가 두 번 주문됐습니다.\n",
    "3명의 손님 모두 단품메뉴를 3개씩 주문했지만, 최소 2명 이상의 손님에게서 주문된 구성만 코스요리 후보에 들어가므로, 요리 3개로 구성된 코스요리는 새로 추가하지 않습니다.\n",
    "또, 단품메뉴를 4개 이상 주문한 손님은 없으므로, 요리 4개로 구성된 코스요리 또한 새로 추가하지 않습니다."
   ]
  },
  {
   "cell_type": "markdown",
   "id": "7e2011b9-072b-4732-8a9f-aa8cb80160e3",
   "metadata": {},
   "source": [
    "---\n",
    "## **Solution.py**"
   ]
  },
  {
   "cell_type": "code",
   "execution_count": 6,
   "id": "d798ed87-58c4-409a-b864-9cc766ff7f16",
   "metadata": {},
   "outputs": [],
   "source": [
    "from collections import defaultdict\n",
    "from itertools import combinations\n",
    "\n",
    "def solution(orders, course):\n",
    "    count_order = {i:defaultdict(int) for i in course}\n",
    "    for order in orders:\n",
    "        for i in course:\n",
    "            if len(order) >= i:\n",
    "                for c in [''.join(sorted(x)) for x in combinations(order, i)]:\n",
    "                    count_order[i][c] +=1\n",
    "\n",
    "    ans = list()                \n",
    "    for i in course:\n",
    "        ans.extend([k for k,v in count_order[i].items() if max(count_order[i].values()) == v and v > 1])\n",
    "    return sorted(ans)"
   ]
  },
  {
   "cell_type": "code",
   "execution_count": 7,
   "id": "72ede3f3-fb13-4bb7-9d64-64d936a15c97",
   "metadata": {},
   "outputs": [],
   "source": [
    "inputs = [\n",
    "    ([\"ABCFG\", \"AC\", \"CDE\", \"ACDE\", \"BCFG\", \"ACDEH\"], [2,3,4]),\n",
    "    ([\"ABCDE\", \"AB\", \"CD\", \"ADE\", \"XYZ\", \"XYZ\", \"ACD\"], [2,3,5]),\n",
    "    ([\"XYZ\", \"XWY\", \"WXA\"], [2,3,4])\n",
    "]\n",
    "outputs = [\n",
    "    [\"AC\", \"ACDE\", \"BCFG\", \"CDE\"],\n",
    "    [\"ACD\", \"AD\", \"ADE\", \"CD\", \"XYZ\"],\n",
    "    [\"WX\", \"XY\"]\n",
    "]"
   ]
  },
  {
   "cell_type": "code",
   "execution_count": 8,
   "id": "d9a7d5c0-fe3b-48d6-b54b-e9e1c6668bf7",
   "metadata": {},
   "outputs": [
    {
     "name": "stdout",
     "output_type": "stream",
     "text": [
      "True ['AC', 'ACDE', 'BCFG', 'CDE'] ['AC', 'ACDE', 'BCFG', 'CDE']\n",
      "True ['ACD', 'AD', 'ADE', 'CD', 'XYZ'] ['ACD', 'AD', 'ADE', 'CD', 'XYZ']\n",
      "True ['WX', 'XY'] ['WX', 'XY']\n"
     ]
    }
   ],
   "source": [
    "for idx, (i, o) in enumerate(zip(inputs, outputs)):\n",
    "    print(solution(*i)==o, solution(*i), o)"
   ]
  },
  {
   "cell_type": "markdown",
   "id": "888069d2-8592-496c-8c05-e4505c2c1a6f",
   "metadata": {},
   "source": [
    "<img width=\"400\" alt=\"image\" src=\"https://user-images.githubusercontent.com/42428487/148802822-a6564b47-1d7d-4130-85a6-f659819713c5.png\">\n"
   ]
  }
 ],
 "metadata": {
  "kernelspec": {
   "display_name": "Python 3 (ipykernel)",
   "language": "python",
   "name": "python3"
  },
  "language_info": {
   "codemirror_mode": {
    "name": "ipython",
    "version": 3
   },
   "file_extension": ".py",
   "mimetype": "text/x-python",
   "name": "python",
   "nbconvert_exporter": "python",
   "pygments_lexer": "ipython3",
   "version": "3.7.0"
  }
 },
 "nbformat": 4,
 "nbformat_minor": 5
}
