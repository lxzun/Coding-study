{
 "cells": [
  {
   "cell_type": "markdown",
   "id": "e2529c81-85da-4f54-84c3-ddf7334c2c6f",
   "metadata": {},
   "source": [
    "# [**단어 변환**](https://programmers.co.kr/learn/courses/30/lessons/43163)\n",
    "\n",
    "### **문제 설명**\n",
    "\n",
    "두 개의 단어 begin, target과 단어의 집합 words가 있습니다. 아래와 같은 규칙을 이용하여 begin에서 target으로 변환하는 가장 짧은 변환 과정을 찾으려고 합니다.\n",
    "```\n",
    "1. 한 번에 한 개의 알파벳만 바꿀 수 있습니다.\n",
    "2. words에 있는 단어로만 변환할 수 있습니다.\n",
    "```\n",
    "예를 들어 begin이 \"hit\", target가 \"cog\", words가 [\"hot\",\"dot\",\"dog\",\"lot\",\"log\",\"cog\"]라면 \"hit\" -> \"hot\" -> \"dot\" -> \"dog\" -> \"cog\"와 같이 4단계를 거쳐 변환할 수 있습니다.\n",
    "\n",
    "두 개의 단어 begin, target과 단어의 집합 words가 매개변수로 주어질 때, 최소 몇 단계의 과정을 거쳐 begin을 target으로 변환할 수 있는지 return 하도록 solution 함수를 작성해주세요.\n",
    "\n",
    "<br>\n",
    "\n",
    "### **제한 조건**\n",
    "\n",
    "- 각 단어는 알파벳 소문자로만 이루어져 있습니다.\n",
    "- 각 단어의 길이는 3 이상 10 이하이며 모든 단어의 길이는 같습니다.\n",
    "- words에는 3개 이상 50개 이하의 단어가 있으며 중복되는 단어는 없습니다.\n",
    "- begin과 target은 같지 않습니다.\n",
    "- 변환할 수 없는 경우에는 0를 return 합니다.\n",
    "\n",
    "<br>\n",
    "\n",
    "#### **입출력 예**\n",
    "begin | target | words | return\n",
    "-- | -- | -- | --\n",
    "\"hit\" | \"cog\" | [\"hot\", \"dot\", \"dog\", \"lot\", \"log\", \"cog\"] | 4\n",
    "\"hit\" | \"cog\" | [\"hot\", \"dot\", \"dog\", \"lot\", \"log\"] | 0\n",
    "\n",
    "<br>\n",
    "\n",
    "#### **입출력 예 설명**\n",
    "##### **예제 #1**\n",
    "\n",
    "문제에 나온 예와 같습니다.\n",
    "\n",
    "\n",
    "##### **예제 #2**\n",
    "target인 \"cog\"는 words 안에 없기 때문에 변환할 수 없습니다"
   ]
  },
  {
   "cell_type": "markdown",
   "id": "cbf1a074-d38d-41b9-ad3f-7e2785a87e4d",
   "metadata": {},
   "source": [
    "---\n",
    "## **Solution.py**"
   ]
  },
  {
   "cell_type": "code",
   "execution_count": 1,
   "id": "290dfb34-c6a6-4c36-a410-7845f1909a25",
   "metadata": {},
   "outputs": [],
   "source": [
    "from pprint import pprint"
   ]
  },
  {
   "cell_type": "code",
   "execution_count": 2,
   "id": "7207a775-b05b-401b-82e4-f331b5dfb6c1",
   "metadata": {},
   "outputs": [],
   "source": [
    "from collections import defaultdict, deque\n",
    "\n",
    "def bfs(graph, begin, target):\n",
    "    queue = deque()\n",
    "    visited = set()\n",
    "    count = defaultdict(int)\n",
    "    \n",
    "    queue.append(begin)\n",
    "    count[begin] = 0\n",
    "    \n",
    "    while queue:\n",
    "        w = queue.popleft()\n",
    "        visited.add(w)\n",
    "        connected = graph[w] - visited\n",
    "        for c in connected:\n",
    "            count[c] = count[w] + 1\n",
    "        if target in connected:\n",
    "            break\n",
    "        queue.extend(list(connected))\n",
    "        visited = visited | connected\n",
    "    return count[target]\n",
    "    \n",
    "def check_str(string_1, string_2):\n",
    "    count = 0\n",
    "    for s1, s2 in zip(string_1, string_2):\n",
    "        if s1 != s2:\n",
    "            count += 1\n",
    "    res = True if count == 1 else False\n",
    "    return res\n",
    "\n",
    "def solution(begin, target, words):\n",
    "    if target not in words:\n",
    "        return 0\n",
    "    # mk graph\n",
    "    graph = defaultdict(set)\n",
    "    graph[begin] = set([x for x in words if check_str(begin, x)])\n",
    "    for i, w1 in enumerate(words):\n",
    "        tmp = set([x for x in words[i+1:] if check_str(w1, x)])\n",
    "        graph[w1] |= tmp\n",
    "        for w in tmp:\n",
    "            graph[w].add(w1)\n",
    "    # bfs\n",
    "    return bfs(graph, begin, target)"
   ]
  },
  {
   "cell_type": "code",
   "execution_count": 3,
   "id": "8bf47abb-1b7b-4397-86c5-4abdbc280d61",
   "metadata": {},
   "outputs": [
    {
     "data": {
      "text/plain": [
       "defaultdict(set,\n",
       "            {'hit': {'hot'},\n",
       "             'hot': {'dot', 'lot'},\n",
       "             'lot': {'dot', 'hot', 'log'},\n",
       "             'dot': {'dog', 'hot', 'lot'},\n",
       "             'dog': {'cog', 'dot', 'log'},\n",
       "             'cog': {'dog', 'log'},\n",
       "             'log': {'cog', 'dog', 'lot'}})"
      ]
     },
     "execution_count": 3,
     "metadata": {},
     "output_type": "execute_result"
    }
   ],
   "source": [
    "begin, target, words = \"hit\" , \"cog\" , [\"hot\", \"dot\", \"dog\", \"lot\", \"log\", \"cog\"]\n",
    "\n",
    "graph = defaultdict(set)\n",
    "graph[begin] = set([x for x in words if check_str(begin, x)])\n",
    "for i, w1 in enumerate(words):\n",
    "    tmp = set([x for x in words[i+1:] if check_str(w1, x)])\n",
    "    graph[w1] |= tmp\n",
    "    for w in tmp:\n",
    "        graph[w].add(w1)\n",
    "graph"
   ]
  },
  {
   "cell_type": "code",
   "execution_count": 4,
   "id": "9978a789-1595-4f2d-8f59-a02f10ac323f",
   "metadata": {},
   "outputs": [],
   "source": [
    "inputs = [\n",
    "    (\"hit\" , \"cog\" , [\"hot\", \"dot\", \"dog\", \"lot\", \"log\", \"cog\"]),\n",
    "    (\"hit\" , \"cog\" , [\"hot\", \"dot\", \"dog\", \"lot\", \"log\"])\n",
    "]\n",
    "outputs = [\n",
    "    4,\n",
    "    0\n",
    "]"
   ]
  },
  {
   "cell_type": "code",
   "execution_count": 5,
   "id": "130d4ac4-e5ae-414f-9f19-90e29a023c61",
   "metadata": {},
   "outputs": [
    {
     "name": "stdout",
     "output_type": "stream",
     "text": [
      "4 4\n",
      "0 0\n"
     ]
    }
   ],
   "source": [
    "for idx, (i, o) in enumerate(zip(inputs, outputs)):\n",
    "    print(solution(*i), o)"
   ]
  },
  {
   "cell_type": "markdown",
   "id": "4303ebb7-2542-4a54-9bfe-08dab686ec34",
   "metadata": {},
   "source": [
    "<img src=\"https://user-images.githubusercontent.com/42428487/146060282-c1452fcb-4314-4d3b-a83f-749ce410fbf7.png\" width=\"600;\">"
   ]
  },
  {
   "cell_type": "markdown",
   "id": "6fc2f43d-19d1-4b7c-b754-66b583cf4846",
   "metadata": {},
   "source": [
    "---\n",
    "---"
   ]
  },
  {
   "cell_type": "markdown",
   "id": "cdcdd91b-b8ce-48b6-b579-9a7f8119a3e7",
   "metadata": {},
   "source": [
    "# [**여행경로**](https://programmers.co.kr/learn/courses/30/lessons/43164?language=python3)\n",
    "\n",
    "### **문제 설명**\n",
    "\n",
    "주어진 항공권을 모두 이용하여 여행경로를 짜려고 합니다. 항상 \"ICN\" 공항에서 출발합니다.\n",
    "\n",
    "항공권 정보가 담긴 2차원 배열 tickets가 매개변수로 주어질 때, 방문하는 공항 경로를 배열에 담아 return 하도록 solution 함수를 작성해주세요.\n",
    "\n",
    "<br>\n",
    "\n",
    "### **제한 조건**\n",
    "\n",
    "- 모든 공항은 알파벳 대문자 3글자로 이루어집니다.\n",
    "- 주어진 공항 수는 3개 이상 10,000개 이하입니다.\n",
    "- tickets의 각 행 [a, b]는 a 공항에서 b 공항으로 가는 항공권이 있다는 의미입니다.\n",
    "- 주어진 항공권은 모두 사용해야 합니다.\n",
    "- 만일 가능한 경로가 2개 이상일 경우 알파벳 순서가 앞서는 경로를 return 합니다.\n",
    "- 모든 도시를 방문할 수 없는 경우는 주어지지 않습니다.\n",
    "\n",
    "<br>\n",
    "\n",
    "#### **입출력 예**\n",
    "tickets | return\n",
    "-- | --\n",
    "[[\"ICN\", \"JFK\"], [\"HND\", \"IAD\"], [\"JFK\", \"HND\"]] | [\"ICN\", \"JFK\", \"HND\", \"IAD\"]\n",
    "[[\"ICN\", \"SFO\"], [\"ICN\", \"ATL\"], [\"SFO\", \"ATL\"], [\"ATL\", \"ICN\"], [\"ATL\",\"SFO\"]] | [\"ICN\", \"ATL\", \"ICN\", \"SFO\", \"ATL\", \"SFO\"]\n",
    "\n",
    "<br>\n",
    "\n",
    "#### **입출력 예 설명**\n",
    "##### **예제 #1**\n",
    "\n",
    "[\"ICN\", \"JFK\", \"HND\", \"IAD\"] 순으로 방문할 수 있습니다.\n",
    "\n",
    "\n",
    "##### **예제 #2**\n",
    "[\"ICN\", \"SFO\", \"ATL\", \"ICN\", \"ATL\", \"SFO\"] 순으로 방문할 수도 있지만 [\"ICN\", \"ATL\", \"ICN\", \"SFO\", \"ATL\", \"SFO\"] 가 알파벳 순으로 앞섭니다.\n",
    "\n",
    "---\n",
    "## **Solution.py**"
   ]
  },
  {
   "cell_type": "code",
   "execution_count": 6,
   "id": "110a5123-0059-4c65-bc89-c1ad93b156a7",
   "metadata": {},
   "outputs": [],
   "source": [
    "from collections import defaultdict\n",
    "from copy import deepcopy\n",
    "\n",
    "def dfs(graph, route, all_routes):\n",
    "    now = route[-1]\n",
    "    if len(graph[now]) == 0:\n",
    "        if sum(map(lambda x: len(graph[x]), graph)) == 0:\n",
    "            all_routes.append(route)\n",
    "        return all_routes\n",
    "    \n",
    "    routes = list()\n",
    "    for dest in graph[now]:\n",
    "        graph_tmp = deepcopy(graph)\n",
    "        graph_tmp[now].remove(dest)\n",
    "        routes.extend( dfs(graph_tmp, route+[dest], []) )\n",
    "    return routes\n",
    "        \n",
    "\n",
    "def solution(tickets):\n",
    "    # mk graph\n",
    "    graph = defaultdict(list)\n",
    "    for s, e in tickets:\n",
    "        graph[s].append(e)\n",
    "    \n",
    "    # dfs\n",
    "    routes = dfs(graph.copy(), ['ICN'], [])\n",
    "    return sorted(routes)[0]"
   ]
  },
  {
   "cell_type": "code",
   "execution_count": 7,
   "id": "9ec09fcb-8307-40ed-afe1-566ff3e41824",
   "metadata": {},
   "outputs": [
    {
     "name": "stdout",
     "output_type": "stream",
     "text": [
      "defaultdict(<class 'list'>,\n",
      "            {'ATL': ['ICN', 'SFO'],\n",
      "             'ICN': ['SFO', 'ATL'],\n",
      "             'SFO': ['ATL']})\n"
     ]
    }
   ],
   "source": [
    "tickets = [[\"ICN\", \"SFO\"], [\"ICN\", \"ATL\"], [\"SFO\", \"ATL\"], [\"ATL\", \"ICN\"], [\"ATL\",\"SFO\"]]\n",
    "\n",
    "graph = defaultdict(list)\n",
    "for departure, arrival in tickets:\n",
    "    graph[departure].append(arrival)\n",
    "pprint(graph)"
   ]
  },
  {
   "cell_type": "code",
   "execution_count": 8,
   "id": "3638d1f8-4952-48dd-bc66-38f854a8b41e",
   "metadata": {},
   "outputs": [],
   "source": [
    "inputs = [\n",
    "    [[\"ICN\", \"JFK\"], [\"HND\", \"IAD\"], [\"JFK\", \"HND\"]],\n",
    "    [[\"ICN\", \"SFO\"], [\"ICN\", \"ATL\"], [\"SFO\", \"ATL\"], [\"ATL\", \"ICN\"], [\"ATL\",\"SFO\"]],\n",
    "]\n",
    "outputs = [\n",
    "    [\"ICN\", \"JFK\", \"HND\", \"IAD\"],\n",
    "    [\"ICN\", \"ATL\", \"ICN\", \"SFO\", \"ATL\", \"SFO\"],\n",
    "]"
   ]
  },
  {
   "cell_type": "code",
   "execution_count": 9,
   "id": "392fa534-5e6a-43eb-aaee-cb96658282bb",
   "metadata": {},
   "outputs": [
    {
     "name": "stdout",
     "output_type": "stream",
     "text": [
      "True ['ICN', 'JFK', 'HND', 'IAD'] ['ICN', 'JFK', 'HND', 'IAD']\n",
      "True ['ICN', 'ATL', 'ICN', 'SFO', 'ATL', 'SFO'] ['ICN', 'ATL', 'ICN', 'SFO', 'ATL', 'SFO']\n"
     ]
    }
   ],
   "source": [
    "for idx, (i, o) in enumerate(zip(inputs, outputs)):\n",
    "    print(solution(i)==o, solution(i), o)"
   ]
  },
  {
   "cell_type": "markdown",
   "id": "9d85521c-f61b-4333-873a-79f38f76a426",
   "metadata": {},
   "source": [
    "<img src=\"https://user-images.githubusercontent.com/42428487/146154974-66b5a016-669d-44c7-b454-04f85df285ea.png\">"
   ]
  }
 ],
 "metadata": {
  "kernelspec": {
   "display_name": "Python 3 (ipykernel)",
   "language": "python",
   "name": "python3"
  },
  "language_info": {
   "codemirror_mode": {
    "name": "ipython",
    "version": 3
   },
   "file_extension": ".py",
   "mimetype": "text/x-python",
   "name": "python",
   "nbconvert_exporter": "python",
   "pygments_lexer": "ipython3",
   "version": "3.7.0"
  }
 },
 "nbformat": 4,
 "nbformat_minor": 5
}
