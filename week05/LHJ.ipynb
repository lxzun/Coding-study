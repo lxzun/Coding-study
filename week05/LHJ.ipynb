{
 "cells": [
  {
   "cell_type": "markdown",
   "source": [
    "# 단어 변환\n",
    "<div class=\"guide-section-description\">\n",
    "      <h6 class=\"guide-section-title\">문제 설명</h6>\n",
    "      <div class=\"markdown solarized-dark\"><p>두 개의 단어 begin, target과 단어의 집합 words가 있습니다. 아래와 같은 규칙을 이용하여 begin에서 target으로 변환하는 가장 짧은 변환 과정을 찾으려고 합니다.</p>\n",
    "<div class=\"highlight\"><pre class=\"codehilite\"><code>1. 한 번에 한 개의 알파벳만 바꿀 수 있습니다.\n",
    "2. words에 있는 단어로만 변환할 수 있습니다.\n",
    "</code></pre></div>\n",
    "<p>예를 들어 begin이 \"hit\", target가 \"cog\", words가 [\"hot\",\"dot\",\"dog\",\"lot\",\"log\",\"cog\"]라면 \"hit\" -&gt; \"hot\" -&gt; \"dot\" -&gt; \"dog\" -&gt; \"cog\"와 같이 4단계를 거쳐 변환할 수 있습니다.</p>\n",
    "\n",
    "<p>두 개의 단어 begin, target과 단어의 집합 words가 매개변수로 주어질 때, 최소 몇 단계의 과정을 거쳐 begin을 target으로 변환할 수 있는지 return 하도록 solution 함수를 작성해주세요.</p>\n",
    "\n",
    "<h5>제한사항</h5>\n",
    "\n",
    "<ul>\n",
    "<li>각 단어는 알파벳 소문자로만 이루어져 있습니다.</li>\n",
    "<li>각 단어의 길이는 3 이상 10 이하이며 모든 단어의 길이는 같습니다.</li>\n",
    "<li>words에는 3개 이상 50개 이하의 단어가 있으며 중복되는 단어는 없습니다.</li>\n",
    "<li>begin과 target은 같지 않습니다.</li>\n",
    "<li>변환할 수 없는 경우에는 0를 return 합니다.</li>\n",
    "</ul>\n",
    "\n",
    "<h5>입출력 예</h5>\n",
    "<table class=\"table\">\n",
    "        <thead><tr>\n",
    "<th>begin</th>\n",
    "<th>target</th>\n",
    "<th>words</th>\n",
    "<th>return</th>\n",
    "</tr>\n",
    "</thead>\n",
    "        <tbody><tr>\n",
    "<td>\"hit\"</td>\n",
    "<td>\"cog\"</td>\n",
    "<td>[\"hot\", \"dot\", \"dog\", \"lot\", \"log\", \"cog\"]</td>\n",
    "<td>4</td>\n",
    "</tr>\n",
    "<tr>\n",
    "<td>\"hit\"</td>\n",
    "<td>\"cog\"</td>\n",
    "<td>[\"hot\", \"dot\", \"dog\", \"lot\", \"log\"]</td>\n",
    "<td>0</td>\n",
    "</tr>\n",
    "</tbody>\n",
    "      </table>\n",
    "<h5>입출력 예 설명</h5>\n",
    "\n",
    "<p>예제 #1<br>\n",
    "문제에 나온 예와 같습니다.</p>\n",
    "\n",
    "<p>예제 #2<br>\n",
    "target인 \"cog\"는 words 안에 없기 때문에 변환할 수 없습니다.</p>\n",
    "</div>\n",
    "    </div>\n"
   ],
   "metadata": {
    "collapsed": false
   }
  },
  {
   "cell_type": "code",
   "execution_count": null,
   "outputs": [],
   "source": [],
   "metadata": {
    "collapsed": false,
    "pycharm": {
     "name": "#%%\n"
    }
   }
  },
  {
   "cell_type": "code",
   "execution_count": null,
   "outputs": [],
   "source": [],
   "metadata": {
    "collapsed": false,
    "pycharm": {
     "name": "#%%\n"
    }
   }
  },
  {
   "cell_type": "markdown",
   "source": [],
   "metadata": {
    "collapsed": false
   }
  },
  {
   "cell_type": "markdown",
   "source": [
    "# 여행 경로\n",
    "<div class=\"guide-section-description\">\n",
    "      <h6 class=\"guide-section-title\">문제 설명</h6>\n",
    "      <div class=\"markdown solarized-dark\"><p>주어진 항공권을 모두 이용하여 여행경로를 짜려고 합니다. 항상 \"ICN\" 공항에서 출발합니다.</p>\n",
    "\n",
    "<p>항공권 정보가 담긴 2차원 배열 tickets가 매개변수로 주어질 때, 방문하는 공항 경로를 배열에 담아 return 하도록 solution 함수를 작성해주세요.</p>\n",
    "\n",
    "<h5>제한사항</h5>\n",
    "\n",
    "<ul>\n",
    "<li>모든 공항은 알파벳 대문자 3글자로 이루어집니다.</li>\n",
    "<li>주어진 공항 수는 3개 이상 10,000개 이하입니다.</li>\n",
    "<li>tickets의 각 행 [a, b]는 a 공항에서 b 공항으로 가는 항공권이 있다는 의미입니다.</li>\n",
    "<li>주어진 항공권은 모두 사용해야 합니다.</li>\n",
    "<li>만일 가능한 경로가 2개 이상일 경우 알파벳 순서가 앞서는 경로를 return 합니다.</li>\n",
    "<li>모든 도시를 방문할 수 없는 경우는 주어지지 않습니다.</li>\n",
    "</ul>\n",
    "\n",
    "<h5>입출력 예</h5>\n",
    "<table class=\"table\">\n",
    "        <thead><tr>\n",
    "<th>tickets</th>\n",
    "<th>return</th>\n",
    "</tr>\n",
    "</thead>\n",
    "        <tbody><tr>\n",
    "<td>[[\"ICN\", \"JFK\"], [\"HND\", \"IAD\"], [\"JFK\", \"HND\"]]</td>\n",
    "<td>[\"ICN\", \"JFK\", \"HND\", \"IAD\"]</td>\n",
    "</tr>\n",
    "<tr>\n",
    "<td>[[\"ICN\", \"SFO\"], [\"ICN\", \"ATL\"], [\"SFO\", \"ATL\"], [\"ATL\", \"ICN\"], [\"ATL\",\"SFO\"]]</td>\n",
    "<td>[\"ICN\", \"ATL\", \"ICN\", \"SFO\", \"ATL\", \"SFO\"]</td>\n",
    "</tr>\n",
    "</tbody>\n",
    "      </table>\n",
    "<h5>입출력 예 설명</h5>\n",
    "\n",
    "<p>예제 #1</p>\n",
    "\n",
    "<p>[\"ICN\", \"JFK\", \"HND\", \"IAD\"] 순으로 방문할 수 있습니다.</p>\n",
    "\n",
    "<p>예제 #2</p>\n",
    "\n",
    "<p>[\"ICN\", \"SFO\", \"ATL\", \"ICN\", \"ATL\", \"SFO\"] 순으로 방문할 수도 있지만 [\"ICN\", \"ATL\", \"ICN\", \"SFO\", \"ATL\", \"SFO\"] 가 알파벳 순으로 앞섭니다.</p>\n",
    "</div>\n",
    "    </div>"
   ],
   "metadata": {
    "collapsed": false
   }
  },
  {
   "cell_type": "code",
   "execution_count": null,
   "outputs": [],
   "source": [],
   "metadata": {
    "collapsed": false,
    "pycharm": {
     "name": "#%%\n"
    }
   }
  },
  {
   "cell_type": "code",
   "execution_count": null,
   "outputs": [],
   "source": [],
   "metadata": {
    "collapsed": false,
    "pycharm": {
     "name": "#%%\n"
    }
   }
  },
  {
   "cell_type": "markdown",
   "source": [],
   "metadata": {
    "collapsed": false
   }
  }
 ],
 "metadata": {
  "kernelspec": {
   "display_name": "Python 3",
   "language": "python",
   "name": "python3"
  },
  "language_info": {
   "codemirror_mode": {
    "name": "ipython",
    "version": 3
   },
   "file_extension": ".py",
   "mimetype": "text/x-python",
   "name": "python",
   "nbconvert_exporter": "python",
   "pygments_lexer": "ipython3",
   "version": "3.8.5"
  }
 },
 "nbformat": 4,
 "nbformat_minor": 4
}