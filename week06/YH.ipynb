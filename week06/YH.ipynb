{
 "cells": [
  {
   "cell_type": "markdown",
   "id": "e2529c81-85da-4f54-84c3-ddf7334c2c6f",
   "metadata": {
    "tags": []
   },
   "source": [
    "# [**프린터**](https://programmers.co.kr/learn/courses/30/lessons/42587)\n",
    "\n",
    "### **문제 설명**\n",
    "\n",
    "일반적인 프린터는 인쇄 요청이 들어온 순서대로 인쇄합니다. 그렇기 때문에 중요한 문서가 나중에 인쇄될 수 있습니다. 이런 문제를 보완하기 위해 중요도가 높은 문서를 먼저 인쇄하는 프린터를 개발했습니다. 이 새롭게 개발한 프린터는 아래와 같은 방식으로 인쇄 작업을 수행합니다.\n",
    "\n",
    "```\n",
    "1. 인쇄 대기목록의 가장 앞에 있는 문서(J)를 대기목록에서 꺼냅니다.\n",
    "2. 나머지 인쇄 대기목록에서 J보다 중요도가 높은 문서가 한 개라도 존재하면 J를 대기목록의 가장 마지막에 넣습니다.\n",
    "3. 그렇지 않으면 J를 인쇄합니다.\n",
    "```\n",
    "예를 들어, 4개의 문서(A, B, C, D)가 순서대로 인쇄 대기목록에 있고 중요도가 2 1 3 2 라면 C D A B 순으로 인쇄하게 됩니다.\n",
    "\n",
    "내가 인쇄를 요청한 문서가 몇 번째로 인쇄되는지 알고 싶습니다. 위의 예에서 C는 1번째로, A는 3번째로 인쇄됩니다.\n",
    "\n",
    "현재 대기목록에 있는 문서의 중요도가 순서대로 담긴 배열 priorities와 내가 인쇄를 요청한 문서가 현재 대기목록의 어떤 위치에 있는지를 알려주는 location이 매개변수로 주어질 때, 내가 인쇄를 요청한 문서가 몇 번째로 인쇄되는지 return 하도록 solution 함수를 작성해주세요.\n",
    "\n",
    "<br>\n",
    "\n",
    "### **제한 조건**\n",
    "\n",
    "- 현재 대기목록에는 1개 이상 100개 이하의 문서가 있습니다.\n",
    "- 인쇄 작업의 중요도는 1~9로 표현하며 숫자가 클수록 중요하다는 뜻입니다.\n",
    "- location은 0 이상 (현재 대기목록에 있는 작업 수 - 1) 이하의 값을 가지며 대기목록의 가장 앞에 있으면 0, 두 번째에 있으면 1로 표현합니다.\n",
    "<br>\n",
    "\n",
    "#### **입출력 예**\n",
    "priorities | location | return\n",
    "-- | -- | --\n",
    "[2, 1, 3, 2] | 2 | 1\n",
    "[1, 1, 9, 1, 1, 1] | 0 | 5\n",
    "\n",
    "<br>\n",
    "\n",
    "#### **입출력 예 설명**\n",
    "##### **예제 #1**\n",
    "\n",
    "문제에 나온 예와 같습니다.\n",
    "\n",
    "\n",
    "##### **예제 #2**\n",
    "6개의 문서(A, B, C, D, E, F)가 인쇄 대기목록에 있고 중요도가 1 1 9 1 1 1 이므로 C D E F A B 순으로 인쇄합니다."
   ]
  },
  {
   "cell_type": "markdown",
   "id": "cbf1a074-d38d-41b9-ad3f-7e2785a87e4d",
   "metadata": {},
   "source": [
    "---\n",
    "## **Solution.py**"
   ]
  },
  {
   "cell_type": "code",
   "execution_count": 1,
   "id": "290dfb34-c6a6-4c36-a410-7845f1909a25",
   "metadata": {},
   "outputs": [],
   "source": [
    "from pprint import pprint"
   ]
  },
  {
   "cell_type": "code",
   "execution_count": 43,
   "id": "7207a775-b05b-401b-82e4-f331b5dfb6c1",
   "metadata": {},
   "outputs": [],
   "source": [
    "def solution(priorities, location):\n",
    "    sorted_priorities = [-1] + sorted(priorities)\n",
    "    result_order = [0] * len(priorities)\n",
    "    #print(f\"priorities : {priorities}\\nsorted_priorities : {sorted_priorities}\")\n",
    "    cursor = 0\n",
    "    print_cnt = 1\n",
    "    max_prior = sorted_priorities.pop()\n",
    "    while max_prior != -1:\n",
    "        cursor = cursor % len(priorities)\n",
    "        if result_order[cursor] != 0:\n",
    "            pass\n",
    "        else:\n",
    "            if priorities[cursor] < max_prior:\n",
    "                pass\n",
    "            else:\n",
    "                result_order[cursor] = print_cnt\n",
    "                print_cnt += 1\n",
    "                max_prior = sorted_priorities.pop()\n",
    "                if cursor == location: break\n",
    "        cursor += 1\n",
    "    #print(result_order)\n",
    "    #print()\n",
    "    return result_order[location]\n"
   ]
  },
  {
   "cell_type": "code",
   "execution_count": 44,
   "id": "9978a789-1595-4f2d-8f59-a02f10ac323f",
   "metadata": {},
   "outputs": [],
   "source": [
    "inputs = [\n",
    "    ([2, 1, 3, 2], 2),\n",
    "    ([1, 1, 9, 1, 1, 1], 0),\n",
    "]\n",
    "outputs = [\n",
    "    1,\n",
    "    5,\n",
    "]"
   ]
  },
  {
   "cell_type": "code",
   "execution_count": 45,
   "id": "130d4ac4-e5ae-414f-9f19-90e29a023c61",
   "metadata": {},
   "outputs": [
    {
     "name": "stdout",
     "output_type": "stream",
     "text": [
      "priorities : [2, 1, 3, 2]\n",
      "sorted_priorities : [-1, 1, 2, 2, 3]\n",
      "[3, 4, 1, 2]\n",
      "\n",
      "priorities : [2, 1, 3, 2]\n",
      "sorted_priorities : [-1, 1, 2, 2, 3]\n",
      "[3, 4, 1, 2]\n",
      "\n",
      "True 1 1\n",
      "priorities : [1, 1, 9, 1, 1, 1]\n",
      "sorted_priorities : [-1, 1, 1, 1, 1, 1, 9]\n",
      "[5, 6, 1, 2, 3, 4]\n",
      "\n",
      "priorities : [1, 1, 9, 1, 1, 1]\n",
      "sorted_priorities : [-1, 1, 1, 1, 1, 1, 9]\n",
      "[5, 6, 1, 2, 3, 4]\n",
      "\n",
      "True 5 5\n"
     ]
    }
   ],
   "source": [
    "for idx, (i, o) in enumerate(zip(inputs, outputs)):\n",
    "    print(solution(*i)==o, solution(*i), o)"
   ]
  },
  {
   "cell_type": "markdown",
   "id": "4303ebb7-2542-4a54-9bfe-08dab686ec34",
   "metadata": {},
   "source": [
    "<img src=\"https://user-images.githubusercontent.com/31677483/147062183-b51e696d-c435-4309-9d4b-6c3011567cfa.png\" width=\"30%\">\n",
    "\n"
   ]
  },
  {
   "cell_type": "markdown",
   "id": "d892032a",
   "metadata": {},
   "source": [
    "<br>\n",
    "\n",
    "---\n",
    "---\n",
    "\n",
    "<br>\n"
   ]
  },
  {
   "cell_type": "markdown",
   "id": "df5f6a66",
   "metadata": {},
   "source": [
    "# [**주식가격**](https://programmers.co.kr/learn/courses/30/lessons/42584)\n",
    "\n",
    "### **문제 설명**\n",
    "\n",
    "초 단위로 기록된 주식가격이 담긴 배열 prices가 매개변수로 주어질 때, 가격이 떨어지지 않은 기간은 몇 초인지를 return 하도록 solution 함수를 완성하세요.\n",
    "<br>\n",
    "\n",
    "### **제한 조건**\n",
    "\n",
    "- prices의 각 가격은 1 이상 10,000 이하인 자연수입니다.\n",
    "- prices의 길이는 2 이상 100,000 이하입니다.\n",
    "\n",
    "<br>\n",
    "\n",
    "#### **입출력 예**\n",
    "prices | return\n",
    "-- | --\n",
    "[1, 2, 3, 2, 3] | [4, 3, 1, 1, 0]\n",
    "\n",
    "<br>\n",
    "\n",
    "#### **입출력 예 설명**\n",
    "- 1초 시점의 ₩1은 끝까지 가격이 떨어지지 않았습니다.\n",
    "- 2초 시점의 ₩2은 끝까지 가격이 떨어지지 않았습니다.\n",
    "- 3초 시점의 ₩3은 1초뒤에 가격이 떨어집니다. 따라서 1초간 가격이 떨어지지 않은 것으로 봅니다.\n",
    "- 4초 시점의 ₩2은 1초간 가격이 떨어지지 않았습니다.\n",
    "- 5초 시점의 ₩3은 0초간 가격이 떨어지지 않았습니다.\n",
    "\n"
   ]
  },
  {
   "cell_type": "markdown",
   "id": "7e2011b9-072b-4732-8a9f-aa8cb80160e3",
   "metadata": {},
   "source": [
    "---\n",
    "## **Solution.py**"
   ]
  },
  {
   "cell_type": "code",
   "execution_count": 61,
   "id": "b7824209-51f3-47b1-a020-a1258191df8e",
   "metadata": {},
   "outputs": [],
   "source": [
    "from collections import deque\n",
    "\n",
    "def solution(prices):\n",
    "    result = []\n",
    "    for idx, p_price in enumerate(prices[:-2]):\n",
    "        life_time = 0\n",
    "        for life_time, t_price in enumerate(prices[idx+1:]):\n",
    "            if p_price > t_price:\n",
    "                break\n",
    "        result.append(life_time+1)\n",
    "    result += [1,0]\n",
    "\n",
    "    return result"
   ]
  },
  {
   "cell_type": "code",
   "execution_count": 12,
   "id": "0c0c08f9-c454-4846-93c3-7b51dcff76a0",
   "metadata": {},
   "outputs": [],
   "source": [
    "def solution(prices):\n",
    "    p_stack = [(prices[0], 0)]\n",
    "    result = list(range(len(prices)-1, -1, -1))\n",
    "    \n",
    "    for idx, p_price in enumerate(prices[1:-2]):\n",
    "        if p_price >= p_stack[-1][0]:\n",
    "            p_stack.append((p_price, idx+1))\n",
    "        else:\n",
    "            for xx in range(len(p_stack)-1, -1, -1):\n",
    "                if p_price < p_stack[xx][0]:\n",
    "                    \n",
    "                    end_price, gidx = p_stack.pop()\n",
    "                    result[gidx] = idx - gidx + 1\n",
    "                else:\n",
    "                    break\n",
    "                    \n",
    "        print(p_stack)\n",
    "    result += [1,0]\n",
    "\n",
    "    return result"
   ]
  },
  {
   "cell_type": "code",
   "execution_count": 65,
   "id": "ad7846d8-dc8d-4b0f-972e-0198636bac14",
   "metadata": {},
   "outputs": [
    {
     "data": {
      "text/plain": [
       "[]"
      ]
     },
     "execution_count": 65,
     "metadata": {},
     "output_type": "execute_result"
    }
   ],
   "source": [
    "[0] * 0"
   ]
  },
  {
   "cell_type": "code",
   "execution_count": 70,
   "id": "0828367e-fb1d-493a-b89c-8bbfde58aa0f",
   "metadata": {},
   "outputs": [
    {
     "data": {
      "text/plain": [
       "[6, 5, 4, 3, 2, 1, 0]"
      ]
     },
     "execution_count": 70,
     "metadata": {},
     "output_type": "execute_result"
    }
   ],
   "source": [
    "list(range(6, -1, -1))"
   ]
  },
  {
   "cell_type": "code",
   "execution_count": 10,
   "id": "72ede3f3-fb13-4bb7-9d64-64d936a15c97",
   "metadata": {},
   "outputs": [],
   "source": [
    "inputs = [\n",
    "    [1, 2, 3, 2, 3],\n",
    "    [1, 2, 3, 2, 3, 1],\n",
    "    [2, 1, 2, 3, 2],\n",
    "    [2, 2, 1, 2, 2, 1],\n",
    "    [3, 1]\n",
    "]\n",
    "outputs = [\n",
    "    [4, 3, 1, 1, 0],\n",
    "    [5, 4, 1, 2, 1, 0],\n",
    "    [1, 3, 2, 1, 0],\n",
    "    [2, 1, 3, 2, 1, 0],\n",
    "    [1, 0]\n",
    "]"
   ]
  },
  {
   "cell_type": "code",
   "execution_count": 13,
   "id": "d9a7d5c0-fe3b-48d6-b54b-e9e1c6668bf7",
   "metadata": {},
   "outputs": [
    {
     "name": "stdout",
     "output_type": "stream",
     "text": [
      "[(1, 0), (2, 1)]\n",
      "[(1, 0), (2, 1), (3, 2)]\n",
      "[(1, 0), (2, 1)]\n",
      "[(1, 0), (2, 1), (3, 2)]\n",
      "False [4, 3, 2, 1, 0, 1, 0] [4, 3, 1, 1, 0]\n",
      "[(1, 0), (2, 1)]\n",
      "[(1, 0), (2, 1), (3, 2)]\n",
      "[(1, 0), (2, 1)]\n",
      "[(1, 0), (2, 1)]\n",
      "[(1, 0), (2, 1), (3, 2)]\n",
      "[(1, 0), (2, 1)]\n",
      "False [5, 4, 1, 2, 1, 0, 1, 0] [5, 4, 1, 2, 1, 0]\n",
      "[]\n"
     ]
    },
    {
     "ename": "IndexError",
     "evalue": "list index out of range",
     "output_type": "error",
     "traceback": [
      "\u001b[0;31m---------------------------------------------------------------------------\u001b[0m",
      "\u001b[0;31mIndexError\u001b[0m                                Traceback (most recent call last)",
      "\u001b[0;32m<ipython-input-13-9314cc6b8c0d>\u001b[0m in \u001b[0;36m<module>\u001b[0;34m\u001b[0m\n\u001b[1;32m      1\u001b[0m \u001b[0;32mfor\u001b[0m \u001b[0midx\u001b[0m\u001b[0;34m,\u001b[0m \u001b[0;34m(\u001b[0m\u001b[0mi\u001b[0m\u001b[0;34m,\u001b[0m \u001b[0mo\u001b[0m\u001b[0;34m)\u001b[0m \u001b[0;32min\u001b[0m \u001b[0menumerate\u001b[0m\u001b[0;34m(\u001b[0m\u001b[0mzip\u001b[0m\u001b[0;34m(\u001b[0m\u001b[0minputs\u001b[0m\u001b[0;34m,\u001b[0m \u001b[0moutputs\u001b[0m\u001b[0;34m)\u001b[0m\u001b[0;34m)\u001b[0m\u001b[0;34m:\u001b[0m\u001b[0;34m\u001b[0m\u001b[0;34m\u001b[0m\u001b[0m\n\u001b[0;32m----> 2\u001b[0;31m     \u001b[0mprint\u001b[0m\u001b[0;34m(\u001b[0m\u001b[0msolution\u001b[0m\u001b[0;34m(\u001b[0m\u001b[0mi\u001b[0m\u001b[0;34m)\u001b[0m\u001b[0;34m==\u001b[0m\u001b[0mo\u001b[0m\u001b[0;34m,\u001b[0m \u001b[0msolution\u001b[0m\u001b[0;34m(\u001b[0m\u001b[0mi\u001b[0m\u001b[0;34m)\u001b[0m\u001b[0;34m,\u001b[0m \u001b[0mo\u001b[0m\u001b[0;34m)\u001b[0m\u001b[0;34m\u001b[0m\u001b[0;34m\u001b[0m\u001b[0m\n\u001b[0m",
      "\u001b[0;32m<ipython-input-12-ab370ea77401>\u001b[0m in \u001b[0;36msolution\u001b[0;34m(prices)\u001b[0m\n\u001b[1;32m      4\u001b[0m \u001b[0;34m\u001b[0m\u001b[0m\n\u001b[1;32m      5\u001b[0m     \u001b[0;32mfor\u001b[0m \u001b[0midx\u001b[0m\u001b[0;34m,\u001b[0m \u001b[0mp_price\u001b[0m \u001b[0;32min\u001b[0m \u001b[0menumerate\u001b[0m\u001b[0;34m(\u001b[0m\u001b[0mprices\u001b[0m\u001b[0;34m[\u001b[0m\u001b[0;36m1\u001b[0m\u001b[0;34m:\u001b[0m\u001b[0;34m-\u001b[0m\u001b[0;36m2\u001b[0m\u001b[0;34m]\u001b[0m\u001b[0;34m)\u001b[0m\u001b[0;34m:\u001b[0m\u001b[0;34m\u001b[0m\u001b[0;34m\u001b[0m\u001b[0m\n\u001b[0;32m----> 6\u001b[0;31m         \u001b[0;32mif\u001b[0m \u001b[0mp_price\u001b[0m \u001b[0;34m>=\u001b[0m \u001b[0mp_stack\u001b[0m\u001b[0;34m[\u001b[0m\u001b[0;34m-\u001b[0m\u001b[0;36m1\u001b[0m\u001b[0;34m]\u001b[0m\u001b[0;34m[\u001b[0m\u001b[0;36m0\u001b[0m\u001b[0;34m]\u001b[0m\u001b[0;34m:\u001b[0m\u001b[0;34m\u001b[0m\u001b[0;34m\u001b[0m\u001b[0m\n\u001b[0m\u001b[1;32m      7\u001b[0m             \u001b[0mp_stack\u001b[0m\u001b[0;34m.\u001b[0m\u001b[0mappend\u001b[0m\u001b[0;34m(\u001b[0m\u001b[0;34m(\u001b[0m\u001b[0mp_price\u001b[0m\u001b[0;34m,\u001b[0m \u001b[0midx\u001b[0m\u001b[0;34m+\u001b[0m\u001b[0;36m1\u001b[0m\u001b[0;34m)\u001b[0m\u001b[0;34m)\u001b[0m\u001b[0;34m\u001b[0m\u001b[0;34m\u001b[0m\u001b[0m\n\u001b[1;32m      8\u001b[0m         \u001b[0;32melse\u001b[0m\u001b[0;34m:\u001b[0m\u001b[0;34m\u001b[0m\u001b[0;34m\u001b[0m\u001b[0m\n",
      "\u001b[0;31mIndexError\u001b[0m: list index out of range"
     ]
    }
   ],
   "source": [
    "for idx, (i, o) in enumerate(zip(inputs, outputs)):\n",
    "    print(solution(i)==o, solution(i), o)"
   ]
  },
  {
   "cell_type": "markdown",
   "id": "888069d2-8592-496c-8c05-e4505c2c1a6f",
   "metadata": {},
   "source": [
    "<img src=\"https://user-images.githubusercontent.com/42428487/146741065-8b8c1fc5-17a4-457f-8f66-21442679d9fd.png\">"
   ]
  }
 ],
 "metadata": {
  "kernelspec": {
   "display_name": "Python 3",
   "language": "python",
   "name": "python3"
  },
  "language_info": {
   "codemirror_mode": {
    "name": "ipython",
    "version": 3
   },
   "file_extension": ".py",
   "mimetype": "text/x-python",
   "name": "python",
   "nbconvert_exporter": "python",
   "pygments_lexer": "ipython3",
   "version": "3.8.8"
  }
 },
 "nbformat": 4,
 "nbformat_minor": 5
}
