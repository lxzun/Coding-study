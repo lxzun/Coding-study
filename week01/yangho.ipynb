{
 "cells": [
  {
   "cell_type": "markdown",
   "id": "d7f24c32-7153-4717-9586-0e85fda8b511",
   "metadata": {},
   "source": [
    "# 완주하지 못한 선수\n",
    "<html>\n",
    "<body>\n",
    "<!--StartFragment--><h6 class=\"guide-section-title\" style=\"box-sizing: border-box; margin-top: 0px; margin-bottom: 1rem; font-weight: 700; line-height: 1.5; font-size: 14px; font-family: Inter, NotoSansKR, &quot;Helvetica Neue&quot;, Helvetica, Arial, &quot;맑은 고딕&quot;, &quot;malgun gothic&quot;, 돋움, Dotum, sans-serif, &quot;Apple Color Emoji&quot;, &quot;Noto Color Emoji&quot;; color: white; -webkit-font-smoothing: antialiased; font-style: normal; font-variant-ligatures: normal; font-variant-caps: normal; letter-spacing: normal; orphans: 2; text-align: left; text-indent: 0px; text-transform: none; white-space: normal; widows: 2; word-spacing: 0px; -webkit-text-stroke-width: 0px; background-color: rgb(38, 55, 71); text-decoration-thickness: initial; text-decoration-style: initial; text-decoration-color: initial;\">문제 설명</h6><div class=\"markdown solarized-dark\" style=\"box-sizing: border-box; background-color: rgb(38, 55, 71); word-break: normal; overflow-wrap: break-word; color: rgb(178, 192, 204); font-family: Inter, NotoSansKR, &quot;Helvetica Neue&quot;, Helvetica, Arial, &quot;맑은 고딕&quot;, &quot;malgun gothic&quot;, 돋움, Dotum, sans-serif, &quot;Apple Color Emoji&quot;, &quot;Noto Color Emoji&quot;; font-size: 16px; font-style: normal; font-variant-ligatures: normal; font-variant-caps: normal; font-weight: 400; letter-spacing: normal; orphans: 2; text-align: left; text-indent: 0px; text-transform: none; white-space: normal; widows: 2; word-spacing: 0px; -webkit-text-stroke-width: 0px; text-decoration-thickness: initial; text-decoration-style: initial; text-decoration-color: initial;\"><p style=\"box-sizing: border-box; margin: 0px; font-family: Inter, NotoSansKR, &quot;Helvetica Neue&quot;, Helvetica, Arial, &quot;맑은 고딕&quot;, &quot;malgun gothic&quot;, 돋움, Dotum, sans-serif, &quot;Apple Color Emoji&quot;, &quot;Noto Color Emoji&quot;; font-weight: 400; letter-spacing: -0.1px; line-height: 1.8; overflow-wrap: break-word;\">수많은 마라톤 선수들이 마라톤에 참여하였습니다. 단 한 명의 선수를 제외하고는 모든 선수가 마라톤을 완주하였습니다.</p><p style=\"box-sizing: border-box; margin: 0.75rem 0px 0px; font-family: Inter, NotoSansKR, &quot;Helvetica Neue&quot;, Helvetica, Arial, &quot;맑은 고딕&quot;, &quot;malgun gothic&quot;, 돋움, Dotum, sans-serif, &quot;Apple Color Emoji&quot;, &quot;Noto Color Emoji&quot;; font-weight: 400; letter-spacing: -0.1px; line-height: 1.8; overflow-wrap: break-word;\">마라톤에 참여한 선수들의 이름이 담긴 배열 participant와 완주한 선수들의 이름이 담긴 배열 completion이 주어질 때, 완주하지 못한 선수의 이름을 return 하도록 solution 함수를 작성해주세요.</p><h5 style=\"box-sizing: border-box; margin: 1.5rem 0px 0px; font-weight: 400; line-height: 1.5; font-size: 15px; font-family: Inter, NotoSansKR, &quot;Helvetica Neue&quot;, Helvetica, Arial, &quot;맑은 고딕&quot;, &quot;malgun gothic&quot;, 돋움, Dotum, sans-serif, &quot;Apple Color Emoji&quot;, &quot;Noto Color Emoji&quot;; color: white; letter-spacing: -0.009em;\">제한사항</h5><ul style=\"box-sizing: border-box; margin: 0.75rem 0px 0px;\"><li style=\"box-sizing: border-box; font-size: 16px; letter-spacing: -0.009em; line-height: 1.6;\">마라톤 경기에 참여한 선수의 수는 1명 이상 100,000명 이하입니다.</li><li style=\"box-sizing: border-box; font-size: 16px; letter-spacing: -0.009em; line-height: 1.6; margin-top: 0.5rem;\">completion의 길이는 participant의 길이보다 1 작습니다.</li><li style=\"box-sizing: border-box; font-size: 16px; letter-spacing: -0.009em; line-height: 1.6; margin-top: 0.5rem;\">참가자의 이름은 1개 이상 20개 이하의 알파벳 소문자로 이루어져 있습니다.</li><li style=\"box-sizing: border-box; font-size: 16px; letter-spacing: -0.009em; line-height: 1.6; margin-top: 0.5rem;\">참가자 중에는 동명이인이 있을 수 있습니다.</li></ul><h5 style=\"box-sizing: border-box; margin: 1.5rem 0px 0px; font-weight: 400; line-height: 1.5; font-size: 15px; font-family: Inter, NotoSansKR, &quot;Helvetica Neue&quot;, Helvetica, Arial, &quot;맑은 고딕&quot;, &quot;malgun gothic&quot;, 돋움, Dotum, sans-serif, &quot;Apple Color Emoji&quot;, &quot;Noto Color Emoji&quot;; color: white; letter-spacing: -0.009em;\">입출력 예</h5>\n",
    "\n",
    "participant | completion | return\n",
    "-- | -- | --\n",
    "[\"leo\", \"kiki\", \"eden\"] | [\"eden\", \"kiki\"] | \"leo\"\n",
    "[\"marina\", \"josipa\", \"nikola\", \"vinko\", \"filipa\"] | [\"josipa\", \"filipa\", \"marina\", \"nikola\"] | \"vinko\"\n",
    "[\"mislav\", \"stanko\", \"mislav\", \"ana\"] | [\"stanko\", \"ana\", \"mislav\"] | \"mislav\"\n",
    "\n",
    "<h5 style=\"box-sizing: border-box; margin: 1.5rem 0px 0px; font-weight: 400; line-height: 1.5; font-size: 15px; font-family: Inter, NotoSansKR, &quot;Helvetica Neue&quot;, Helvetica, Arial, &quot;맑은 고딕&quot;, &quot;malgun gothic&quot;, 돋움, Dotum, sans-serif, &quot;Apple Color Emoji&quot;, &quot;Noto Color Emoji&quot;; color: white; letter-spacing: -0.009em;\">입출력 예 설명</h5><p style=\"box-sizing: border-box; margin: 0.75rem 0px 0px; font-family: Inter, NotoSansKR, &quot;Helvetica Neue&quot;, Helvetica, Arial, &quot;맑은 고딕&quot;, &quot;malgun gothic&quot;, 돋움, Dotum, sans-serif, &quot;Apple Color Emoji&quot;, &quot;Noto Color Emoji&quot;; font-weight: 400; letter-spacing: -0.1px; line-height: 1.8; overflow-wrap: break-word;\">예제 1<br style=\"box-sizing: border-box;\">\"leo\"는 참여자 명단에는 있지만, 완주자 명단에는 없기 때문에 완주하지 못했습니다.</p><p style=\"box-sizing: border-box; margin: 0.75rem 0px 0px; font-family: Inter, NotoSansKR, &quot;Helvetica Neue&quot;, Helvetica, Arial, &quot;맑은 고딕&quot;, &quot;malgun gothic&quot;, 돋움, Dotum, sans-serif, &quot;Apple Color Emoji&quot;, &quot;Noto Color Emoji&quot;; font-weight: 400; letter-spacing: -0.1px; line-height: 1.8; overflow-wrap: break-word;\">예제 2<br style=\"box-sizing: border-box;\">\"vinko\"는 참여자 명단에는 있지만, 완주자 명단에는 없기 때문에 완주하지 못했습니다.</p><p style=\"box-sizing: border-box; margin: 0.75rem 0px 0px; font-family: Inter, NotoSansKR, &quot;Helvetica Neue&quot;, Helvetica, Arial, &quot;맑은 고딕&quot;, &quot;malgun gothic&quot;, 돋움, Dotum, sans-serif, &quot;Apple Color Emoji&quot;, &quot;Noto Color Emoji&quot;; font-weight: 400; letter-spacing: -0.1px; line-height: 1.8; overflow-wrap: break-word;\">예제 3<br style=\"box-sizing: border-box;\">\"mislav\"는 참여자 명단에는 두 명이 있지만, 완주자 명단에는 한 명밖에 없기 때문에 한명은 완주하지 못했습니다.</p><p style=\"box-sizing: border-box; margin: 0.75rem 0px 0px; font-family: Inter, NotoSansKR, &quot;Helvetica Neue&quot;, Helvetica, Arial, &quot;맑은 고딕&quot;, &quot;malgun gothic&quot;, 돋움, Dotum, sans-serif, &quot;Apple Color Emoji&quot;, &quot;Noto Color Emoji&quot;; font-weight: 400; letter-spacing: -0.1px; line-height: 1.8; overflow-wrap: break-word;\"><a href=\"http://hsin.hr/coci/archive/2014_2015/contest2_tasks.pdf\" target=\"_blank\" rel=\"noopener\" style=\"box-sizing: border-box; color: rgb(0, 120, 255); text-decoration: none; background-color: transparent; transition-delay: initial; transition-duration: 0.08s; transition-property: all; transition-timing-function: ease-in-out; cursor: pointer;\">출처</a></p></div><!--EndFragment-->\n",
    "</body>\n",
    "</html>\n",
    "\n",
    "### comment\n",
    "\n",
    "- 다양한 복잡도의 해법을 생각해보자\n",
    "   * N^2 ~ N\n"
   ]
  },
  {
   "cell_type": "code",
   "execution_count": 8,
   "id": "28c49f22-3a89-4440-9db0-1044a2219b0a",
   "metadata": {},
   "outputs": [
    {
     "name": "stdout",
     "output_type": "stream",
     "text": [
      "participant : ['leo', 'kiki', 'eden']\tcompletion : ['eden', 'kiki']\n",
      "sol : vinko\t\n",
      "return leo\n",
      "\n",
      "participant : ['marina', 'josipa', 'nikola', 'vinko', 'filipa']\tcompletion : ['josipa', 'filipa', 'marina', 'nikola']\n",
      "sol : vinko\t\n",
      "return vinko\n",
      "\n",
      "participant : ['mislav', 'stanko', 'mislav', 'ana']\tcompletion : ['stanko', 'ana', 'mislav']\n",
      "sol : mislav\t\n",
      "return mislav\n",
      "\n"
     ]
    }
   ],
   "source": [
    "from pprint import pprint\n",
    "\n",
    "input1 = [[\"leo\", \"kiki\", \"eden\"], [\"eden\", \"kiki\"], \"vinko\"]\n",
    "input2 = [[\"marina\", \"josipa\", \"nikola\", \"vinko\", \"filipa\"], [\"josipa\", \"filipa\", \"marina\", \"nikola\"], \"vinko\"]\n",
    "input3 = [[\"mislav\", \"stanko\", \"mislav\", \"ana\"], [\"stanko\", \"ana\", \"mislav\"], \"mislav\"]\n",
    "\n",
    "def sol(participant, completion):\n",
    "    \n",
    "    p_dict = dict()\n",
    "    for name in participant:\n",
    "        if name in p_dict:\n",
    "            p_dict[name] += 1\n",
    "        else:\n",
    "            p_dict[name] = 1\n",
    "    \n",
    "    for name in completion:\n",
    "        if p_dict[name] == 1:\n",
    "            p_dict.pop(name)\n",
    "        else:\n",
    "            p_dict[name] -= 1\n",
    "    #pprint(p_dict)\n",
    "    return list(p_dict.keys())[0]\n",
    "\n",
    "for input_ in [input1, input2, input3]:\n",
    "    print(f\"participant : {input_[0]}\\tcompletion : {input_[1]}\\nsol : {input_[2]}\\t\")\n",
    "    print(f\"return {sol(input_[0], input_[1])}\\n\")"
   ]
  },
  {
   "cell_type": "markdown",
   "id": "63653dcd-ff80-42ef-8acd-997fa41d052a",
   "metadata": {},
   "source": [
    "# 전화번호 목록\n",
    "<html>\n",
    "<body>\n",
    "<!--StartFragment--><h6 class=\"guide-section-title\" style=\"box-sizing: border-box; margin-top: 0px; margin-bottom: 1rem; font-weight: 700; line-height: 1.5; font-size: 14px; font-family: Inter, NotoSansKR, &quot;Helvetica Neue&quot;, Helvetica, Arial, &quot;맑은 고딕&quot;, &quot;malgun gothic&quot;, 돋움, Dotum, sans-serif, &quot;Apple Color Emoji&quot;, &quot;Noto Color Emoji&quot;; color: white; -webkit-font-smoothing: antialiased; font-style: normal; font-variant-ligatures: normal; font-variant-caps: normal; letter-spacing: normal; orphans: 2; text-align: left; text-indent: 0px; text-transform: none; white-space: normal; widows: 2; word-spacing: 0px; -webkit-text-stroke-width: 0px; background-color: rgb(38, 55, 71); text-decoration-thickness: initial; text-decoration-style: initial; text-decoration-color: initial;\">문제 설명</h6><div class=\"markdown solarized-dark\" style=\"box-sizing: border-box; background-color: rgb(38, 55, 71); word-break: normal; overflow-wrap: break-word; color: rgb(178, 192, 204); font-family: Inter, NotoSansKR, &quot;Helvetica Neue&quot;, Helvetica, Arial, &quot;맑은 고딕&quot;, &quot;malgun gothic&quot;, 돋움, Dotum, sans-serif, &quot;Apple Color Emoji&quot;, &quot;Noto Color Emoji&quot;; font-size: 16px; font-style: normal; font-variant-ligatures: normal; font-variant-caps: normal; font-weight: 400; letter-spacing: normal; orphans: 2; text-align: left; text-indent: 0px; text-transform: none; white-space: normal; widows: 2; word-spacing: 0px; -webkit-text-stroke-width: 0px; text-decoration-thickness: initial; text-decoration-style: initial; text-decoration-color: initial;\"><p style=\"box-sizing: border-box; margin: 0px; font-family: Inter, NotoSansKR, &quot;Helvetica Neue&quot;, Helvetica, Arial, &quot;맑은 고딕&quot;, &quot;malgun gothic&quot;, 돋움, Dotum, sans-serif, &quot;Apple Color Emoji&quot;, &quot;Noto Color Emoji&quot;; font-weight: 400; letter-spacing: -0.1px; line-height: 1.8; overflow-wrap: break-word;\">전화번호부에 적힌 전화번호 중, 한 번호가 다른 번호의 접두어인 경우가 있는지 확인하려 합니다.<br style=\"box-sizing: border-box;\">전화번호가 다음과 같을 경우, 구조대 전화번호는 영석이의 전화번호의 접두사입니다.</p><ul style=\"box-sizing: border-box; margin: 1rem 0px 0px;\"><li style=\"box-sizing: border-box; font-size: 16px; letter-spacing: -0.009em; line-height: 1.6;\">구조대 : 119</li><li style=\"box-sizing: border-box; font-size: 16px; letter-spacing: -0.009em; line-height: 1.6; margin-top: 0.5rem;\">박준영 : 97 674 223</li><li style=\"box-sizing: border-box; font-size: 16px; letter-spacing: -0.009em; line-height: 1.6; margin-top: 0.5rem;\">지영석 : 11 9552 4421</li></ul><p style=\"box-sizing: border-box; margin: 0.75rem 0px 0px; font-family: Inter, NotoSansKR, &quot;Helvetica Neue&quot;, Helvetica, Arial, &quot;맑은 고딕&quot;, &quot;malgun gothic&quot;, 돋움, Dotum, sans-serif, &quot;Apple Color Emoji&quot;, &quot;Noto Color Emoji&quot;; font-weight: 400; letter-spacing: -0.1px; line-height: 1.8; overflow-wrap: break-word;\">전화번호부에 적힌 전화번호를 담은 배열 phone_book 이 solution 함수의 매개변수로 주어질 때, 어떤 번호가 다른 번호의 접두어인 경우가 있으면 false를 그렇지 않으면 true를 return 하도록 solution 함수를 작성해주세요.</p><h5 style=\"box-sizing: border-box; margin: 1.5rem 0px 0px; font-weight: 400; line-height: 1.5; font-size: 15px; font-family: Inter, NotoSansKR, &quot;Helvetica Neue&quot;, Helvetica, Arial, &quot;맑은 고딕&quot;, &quot;malgun gothic&quot;, 돋움, Dotum, sans-serif, &quot;Apple Color Emoji&quot;, &quot;Noto Color Emoji&quot;; color: white; letter-spacing: -0.009em;\">제한 사항</h5><ul style=\"box-sizing: border-box; margin: 0.75rem 0px 0px;\"><li style=\"box-sizing: border-box; font-size: 16px; letter-spacing: -0.009em; line-height: 1.6;\">phone_book의 길이는 1 이상 1,000,000 이하입니다.<ul style=\"box-sizing: border-box; margin: 0.5rem 0px 0px; padding-left: 2rem;\"><li style=\"box-sizing: border-box; font-size: 16px; letter-spacing: -0.009em; line-height: 1.6;\">각 전화번호의 길이는 1 이상 20 이하입니다.</li><li style=\"box-sizing: border-box; font-size: 16px; letter-spacing: -0.009em; line-height: 1.6; margin-top: 0.5rem;\">같은 전화번호가 중복해서 들어있지 않습니다.</li></ul></li></ul><h5 style=\"box-sizing: border-box; margin: 1.5rem 0px 0px; font-weight: 400; line-height: 1.5; font-size: 15px; font-family: Inter, NotoSansKR, &quot;Helvetica Neue&quot;, Helvetica, Arial, &quot;맑은 고딕&quot;, &quot;malgun gothic&quot;, 돋움, Dotum, sans-serif, &quot;Apple Color Emoji&quot;, &quot;Noto Color Emoji&quot;; color: white; letter-spacing: -0.009em;\">입출력 예제</h5>\n",
    "\n",
    "phone_book | return\n",
    "-- | --\n",
    "[\"119\", \"97674223\", \"1195524421\"] | false\n",
    "[\"123\",\"456\",\"789\"] | true\n",
    "[\"12\",\"123\",\"1235\",\"567\",\"88\"] | false\n",
    "\n",
    "<h5 style=\"box-sizing: border-box; margin: 1.5rem 0px 0px; font-weight: 400; line-height: 1.5; font-size: 15px; font-family: Inter, NotoSansKR, &quot;Helvetica Neue&quot;, Helvetica, Arial, &quot;맑은 고딕&quot;, &quot;malgun gothic&quot;, 돋움, Dotum, sans-serif, &quot;Apple Color Emoji&quot;, &quot;Noto Color Emoji&quot;; color: white; letter-spacing: -0.009em;\">입출력 예 설명</h5><p style=\"box-sizing: border-box; margin: 0.75rem 0px 0px; font-family: Inter, NotoSansKR, &quot;Helvetica Neue&quot;, Helvetica, Arial, &quot;맑은 고딕&quot;, &quot;malgun gothic&quot;, 돋움, Dotum, sans-serif, &quot;Apple Color Emoji&quot;, &quot;Noto Color Emoji&quot;; font-weight: 400; letter-spacing: -0.1px; line-height: 1.8; overflow-wrap: break-word;\">입출력 예 1<br style=\"box-sizing: border-box;\">앞에서 설명한 예와 같습니다.</p><p style=\"box-sizing: border-box; margin: 0.75rem 0px 0px; font-family: Inter, NotoSansKR, &quot;Helvetica Neue&quot;, Helvetica, Arial, &quot;맑은 고딕&quot;, &quot;malgun gothic&quot;, 돋움, Dotum, sans-serif, &quot;Apple Color Emoji&quot;, &quot;Noto Color Emoji&quot;; font-weight: 400; letter-spacing: -0.1px; line-height: 1.8; overflow-wrap: break-word;\">입출력 예 2<br style=\"box-sizing: border-box;\">한 번호가 다른 번호의 접두사인 경우가 없으므로, 답은 true입니다.</p><p style=\"box-sizing: border-box; margin: 0.75rem 0px 0px; font-family: Inter, NotoSansKR, &quot;Helvetica Neue&quot;, Helvetica, Arial, &quot;맑은 고딕&quot;, &quot;malgun gothic&quot;, 돋움, Dotum, sans-serif, &quot;Apple Color Emoji&quot;, &quot;Noto Color Emoji&quot;; font-weight: 400; letter-spacing: -0.1px; line-height: 1.8; overflow-wrap: break-word;\">입출력 예 3<br style=\"box-sizing: border-box;\">첫 번째 전화번호, “12”가 두 번째 전화번호 “123”의 접두사입니다. 따라서 답은 false입니다.</p><hr style=\"box-sizing: content-box; height: 0px; overflow: visible; margin: 1.5rem 0px; border-width: 0.0625rem 0px 0px; border-right-style: initial; border-bottom-style: initial; border-left-style: initial; border-color: rgb(23, 35, 52); border-image: initial; border-top-style: solid;\"><p style=\"box-sizing: border-box; margin: 0.75rem 0px 0px; font-family: Inter, NotoSansKR, &quot;Helvetica Neue&quot;, Helvetica, Arial, &quot;맑은 고딕&quot;, &quot;malgun gothic&quot;, 돋움, Dotum, sans-serif, &quot;Apple Color Emoji&quot;, &quot;Noto Color Emoji&quot;; font-weight: 400; letter-spacing: -0.1px; line-height: 1.8; overflow-wrap: break-word;\"><strong style=\"box-sizing: border-box; font-weight: bolder; -webkit-font-smoothing: antialiased;\">알림</strong></p><p style=\"box-sizing: border-box; margin: 0.75rem 0px 0px; font-family: Inter, NotoSansKR, &quot;Helvetica Neue&quot;, Helvetica, Arial, &quot;맑은 고딕&quot;, &quot;malgun gothic&quot;, 돋움, Dotum, sans-serif, &quot;Apple Color Emoji&quot;, &quot;Noto Color Emoji&quot;; font-weight: 400; letter-spacing: -0.1px; line-height: 1.8; overflow-wrap: break-word;\">2021년 3월 4일, 테스트 케이스가 변경되었습니다. 이로 인해 이전에 통과하던 코드가 더 이상 통과하지 않을 수 있습니다.</p><p style=\"box-sizing: border-box; margin: 0.75rem 0px 0px; font-family: Inter, NotoSansKR, &quot;Helvetica Neue&quot;, Helvetica, Arial, &quot;맑은 고딕&quot;, &quot;malgun gothic&quot;, 돋움, Dotum, sans-serif, &quot;Apple Color Emoji&quot;, &quot;Noto Color Emoji&quot;; font-weight: 400; letter-spacing: -0.1px; line-height: 1.8; overflow-wrap: break-word;\"><a href=\"https://ncpc.idi.ntnu.no/ncpc2007/ncpc2007problems.pdf\" target=\"_blank\" rel=\"noopener\" style=\"box-sizing: border-box; color: rgb(0, 120, 255); text-decoration: none; background-color: transparent; transition-delay: initial; transition-duration: 0.08s; transition-property: all; transition-timing-function: ease-in-out; cursor: pointer;\">출처</a></p></div><!--EndFragment-->\n",
    "</body>\n",
    "</html>\n",
    "\n",
    "\n",
    "### comment\n",
    "\n",
    "- hash(dict or set)을 적절히 사용하면 더 최적의 결과가 있을까?\n",
    "- N^2 알고리즘이 최선일까?\n"
   ]
  },
  {
   "cell_type": "code",
   "execution_count": 12,
   "id": "5fb3a617-8206-4aaa-bd97-02e1ffde97b5",
   "metadata": {},
   "outputs": [
    {
     "name": "stdout",
     "output_type": "stream",
     "text": [
      "phone_book : ['119', '97674223', '1195524421']\n",
      "sol : False\t\n",
      "return False\n",
      "\n",
      "phone_book : ['123', '456', '789']\n",
      "sol : True\t\n",
      "return True\n",
      "\n",
      "phone_book : ['12', '123', '1235', '567', '88']\n",
      "sol : False\t\n",
      "return False\n",
      "\n"
     ]
    }
   ],
   "source": [
    "\n",
    "input1 = [[\"119\", \"97674223\", \"1195524421\"], False]\n",
    "input2 = [[\"123\",\"456\",\"789\"], True]\n",
    "input3 = [[\"12\",\"123\",\"1235\",\"567\",\"88\"], False]\n",
    "\n",
    "def sol(phone_book):\n",
    "    p_dict = dict()\n",
    "    for num in phone_book:\n",
    "        num_len = len(num)\n",
    "        if num_len in p_dict:\n",
    "            p_dict[num_len].append(num)\n",
    "        else:\n",
    "            p_dict[num_len] = [num]\n",
    "    \n",
    "    len_list = sorted(list(p_dict.keys()))\n",
    "    #print(len_list)\n",
    "    \n",
    "    result = False\n",
    "    for idx, num_len in enumerate(len_list[:-1]):\n",
    "        base_list = p_dict[num_len]\n",
    "        \n",
    "        for base_num in base_list:\n",
    "            for target_len in len_list[idx+1:]:\n",
    "                target_num_list = p_dict[target_len]\n",
    "                for target_num in target_num_list:\n",
    "                    result = target_num.startswith(base_num)\n",
    "                    if result:\n",
    "                        return not(result)\n",
    "    return not(result)\n",
    "\n",
    "\n",
    "for input_ in [input1, input2, input3]:\n",
    "    print(f\"phone_book : {input_[0]}\\nsol : {input_[1]}\\t\")\n",
    "    print(f\"return {sol(input_[0])}\\n\")"
   ]
  },
  {
   "cell_type": "code",
   "execution_count": null,
   "id": "542eae19-0d8a-46a2-af37-e158f08aef3c",
   "metadata": {},
   "outputs": [],
   "source": []
  }
 ],
 "metadata": {
  "kernelspec": {
   "display_name": "Python 3",
   "language": "python",
   "name": "python3"
  },
  "language_info": {
   "codemirror_mode": {
    "name": "ipython",
    "version": 3
   },
   "file_extension": ".py",
   "mimetype": "text/x-python",
   "name": "python",
   "nbconvert_exporter": "python",
   "pygments_lexer": "ipython3",
   "version": "3.6.9"
  }
 },
 "nbformat": 4,
 "nbformat_minor": 5
}
