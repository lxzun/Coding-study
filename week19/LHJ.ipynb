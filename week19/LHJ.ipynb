{
 "cells": [
  {
   "cell_type": "markdown",
   "id": "df5f6a66",
   "metadata": {
    "tags": []
   },
   "source": [
    "# [**661. Image Smoother**](https://leetcode.com/problems/image-smoother/)\n",
    "\n",
    "<div class=\"content__u3I1 question-content__JfgR\"><div><p>An <strong>image smoother</strong> is a filter of the size <code>3 x 3</code> that can be applied to each cell of an image by rounding down the average of the cell and the eight surrounding cells (i.e., the average of the nine cells in the blue smoother). If one or more of the surrounding cells of a cell is not present, we do not consider it in the average (i.e., the average of the four cells in the red smoother).</p>\n",
    "<img alt=\"\" src=\"https://assets.leetcode.com/uploads/2021/05/03/smoother-grid.jpg\" style=\"width: 493px; height: 493px;\">\n",
    "<p>Given an <code>m x n</code> integer matrix <code>img</code> representing the grayscale of an image, return <em>the image after applying the smoother on each cell of it</em>.</p>\n",
    "\n",
    "<p>&nbsp;</p>\n",
    "<p><strong>Example 1:</strong></p>\n",
    "<img alt=\"\" src=\"https://assets.leetcode.com/uploads/2021/05/03/smooth-grid.jpg\" style=\"width: 613px; height: 253px;\">\n",
    "<pre><strong>Input:</strong> img = [[1,1,1],[1,0,1],[1,1,1]]\n",
    "<strong>Output:</strong> [[0,0,0],[0,0,0],[0,0,0]]\n",
    "<strong>Explanation:</strong>\n",
    "For the points (0,0), (0,2), (2,0), (2,2): floor(3/4) = floor(0.75) = 0\n",
    "For the points (0,1), (1,0), (1,2), (2,1): floor(5/6) = floor(0.83333333) = 0\n",
    "For the point (1,1): floor(8/9) = floor(0.88888889) = 0\n",
    "</pre>\n",
    "\n",
    "<p><strong>Example 2:</strong></p>\n",
    "<img alt=\"\" src=\"https://assets.leetcode.com/uploads/2021/05/03/smooth2-grid.jpg\" style=\"width: 613px; height: 253px;\">\n",
    "<pre><strong>Input:</strong> img = [[100,200,100],[200,50,200],[100,200,100]]\n",
    "<strong>Output:</strong> [[137,141,137],[141,138,141],[137,141,137]]\n",
    "<strong>Explanation:</strong>\n",
    "For the points (0,0), (0,2), (2,0), (2,2): floor((100+200+200+50)/4) = floor(137.5) = 137\n",
    "For the points (0,1), (1,0), (1,2), (2,1): floor((200+200+50+200+100+100)/6) = floor(141.666667) = 141\n",
    "For the point (1,1): floor((50+200+200+200+200+100+100+100+100)/9) = floor(138.888889) = 138\n",
    "</pre>\n",
    "\n",
    "<p>&nbsp;</p>\n",
    "<p><strong>Constraints:</strong></p>\n",
    "\n",
    "<ul>\n",
    "\t<li><code>m == img.length</code></li>\n",
    "\t<li><code>n == img[i].length</code></li>\n",
    "\t<li><code>1 &lt;= m, n &lt;= 200</code></li>\n",
    "\t<li><code>0 &lt;= img[i][j] &lt;= 255</code></li>\n",
    "</ul>\n",
    "</div></div>"
   ]
  },
  {
   "cell_type": "markdown",
   "id": "7e2011b9-072b-4732-8a9f-aa8cb80160e3",
   "metadata": {
    "tags": []
   },
   "source": [
    "---\n",
    "## **Solution.py**"
   ]
  },
  {
   "cell_type": "code",
   "execution_count": 1,
   "id": "47179035-f285-487c-831d-6a838c9d6f44",
   "metadata": {},
   "outputs": [],
   "source": [
    "from pprint import pprint"
   ]
  },
  {
   "cell_type": "code",
   "execution_count": 2,
   "id": "290dfb34-c6a6-4c36-a410-7845f1909a25",
   "metadata": {},
   "outputs": [],
   "source": [
    "from typing import List, Dict, Tuple"
   ]
  },
  {
   "cell_type": "code",
   "execution_count": 3,
   "id": "f21e50c7-ae80-4e9d-a7e0-bbdcc164b597",
   "metadata": {},
   "outputs": [],
   "source": [
    "from math import floor\n",
    "\n",
    "class Solution:\n",
    "    def imageSmoother(self, img: List[List[int]]) -> List[List[int]]:\n",
    "        m, n = len(img), len(img[0])\n",
    "        ans = [[0]*n for _ in range(m)]\n",
    "        \n",
    "        for i in range(m):\n",
    "            for j in range(n):\n",
    "                adj_cells = [img[ii][max(0,j-1):min(j+2,n)] for ii in range(max(0,i-1),min(i+2,m))]\n",
    "                ans[i][j] = floor(sum([sum(a) for a in adj_cells])/(len(adj_cells)*len(adj_cells[0])))\n",
    "        return ans"
   ]
  },
  {
   "cell_type": "code",
   "execution_count": 4,
   "id": "72ede3f3-fb13-4bb7-9d64-64d936a15c97",
   "metadata": {},
   "outputs": [],
   "source": [
    "inputs = [\n",
    "    [[1,1,1],[1,0,1],[1,1,1]],\n",
    "    [[100,200,100],[200,50,200],[100,200,100]]\n",
    "]\n",
    "outputs = [\n",
    "    [[0,0,0],[0,0,0],[0,0,0]],\n",
    "    [[137,141,137],[141,138,141],[137,141,137]]\n",
    "]"
   ]
  },
  {
   "cell_type": "code",
   "execution_count": 5,
   "id": "d9a7d5c0-fe3b-48d6-b54b-e9e1c6668bf7",
   "metadata": {},
   "outputs": [
    {
     "name": "stdout",
     "output_type": "stream",
     "text": [
      "True [[0, 0, 0], [0, 0, 0], [0, 0, 0]] [[0, 0, 0], [0, 0, 0], [0, 0, 0]]\n",
      "True [[137, 141, 137], [141, 138, 141], [137, 141, 137]] [[137, 141, 137], [141, 138, 141], [137, 141, 137]]\n"
     ]
    }
   ],
   "source": [
    "solution = Solution().imageSmoother\n",
    "\n",
    "for idx, (i, o) in enumerate(zip(inputs, outputs)):\n",
    "    sol_ = solution(i)\n",
    "    print(sol_==o, sol_, o)"
   ]
  },
  {
   "cell_type": "markdown",
   "id": "9d1db16b-f582-4e94-8495-17fcc96e70e2",
   "metadata": {},
   "source": [
    "<img width=\"330\" alt=\"image\" src=\"https://user-images.githubusercontent.com/42428487/162021836-e075f6cb-1964-4f39-bdea-d14bc2cf382e.png\">\n"
   ]
  },
  {
   "cell_type": "markdown",
   "id": "30cd5633-fe90-4c81-998b-cf0c475d6274",
   "metadata": {},
   "source": [
    "<br>\n",
    "\n",
    "---\n",
    "---\n",
    "\n",
    "<br>"
   ]
  },
  {
   "cell_type": "markdown",
   "id": "ff49fb96-9c51-4fdc-a4b8-6a3cea4b148a",
   "metadata": {
    "tags": []
   },
   "source": [
    "# [**947. Most Stones Removed with Same Row or Column**](https://leetcode.com/problems/most-stones-removed-with-same-row-or-column/)\n",
    "\n",
    "<div class=\"content__u3I1 question-content__JfgR\"><div><p>On a 2D plane, we place <code>n</code> stones at some integer coordinate points. Each coordinate point may have at most one stone.</p>\n",
    "\n",
    "<p>A stone can be removed if it shares either <strong>the same row or the same column</strong> as another stone that has not been removed.</p>\n",
    "\n",
    "<p>Given an array <code>stones</code> of length <code>n</code> where <code>stones[i] = [x<sub>i</sub>, y<sub>i</sub>]</code> represents the location of the <code>i<sup>th</sup></code> stone, return <em>the largest possible number of stones that can be removed</em>.</p>\n",
    "\n",
    "<p>&nbsp;</p>\n",
    "<p><strong>Example 1:</strong></p>\n",
    "\n",
    "<pre><strong>Input:</strong> stones = [[0,0],[0,1],[1,0],[1,2],[2,1],[2,2]]\n",
    "<strong>Output:</strong> 5\n",
    "<strong>Explanation:</strong> One way to remove 5 stones is as follows:\n",
    "1. Remove stone [2,2] because it shares the same row as [2,1].\n",
    "2. Remove stone [2,1] because it shares the same column as [0,1].\n",
    "3. Remove stone [1,2] because it shares the same row as [1,0].\n",
    "4. Remove stone [1,0] because it shares the same column as [0,0].\n",
    "5. Remove stone [0,1] because it shares the same row as [0,0].\n",
    "Stone [0,0] cannot be removed since it does not share a row/column with another stone still on the plane.\n",
    "</pre>\n",
    "\n",
    "<p><strong>Example 2:</strong></p>\n",
    "\n",
    "<pre><strong>Input:</strong> stones = [[0,0],[0,2],[1,1],[2,0],[2,2]]\n",
    "<strong>Output:</strong> 3\n",
    "<strong>Explanation:</strong> One way to make 3 moves is as follows:\n",
    "1. Remove stone [2,2] because it shares the same row as [2,0].\n",
    "2. Remove stone [2,0] because it shares the same column as [0,0].\n",
    "3. Remove stone [0,2] because it shares the same row as [0,0].\n",
    "Stones [0,0] and [1,1] cannot be removed since they do not share a row/column with another stone still on the plane.\n",
    "</pre>\n",
    "\n",
    "<p><strong>Example 3:</strong></p>\n",
    "\n",
    "<pre><strong>Input:</strong> stones = [[0,0]]\n",
    "<strong>Output:</strong> 0\n",
    "<strong>Explanation:</strong> [0,0] is the only stone on the plane, so you cannot remove it.\n",
    "</pre>\n",
    "\n",
    "<p>&nbsp;</p>\n",
    "<p><strong>Constraints:</strong></p>\n",
    "\n",
    "<ul>\n",
    "\t<li><code>1 &lt;= stones.length &lt;= 1000</code></li>\n",
    "\t<li><code>0 &lt;= x<sub>i</sub>, y<sub>i</sub> &lt;= 10<sup>4</sup></code></li>\n",
    "\t<li>No two stones are at the same coordinate point.</li>\n",
    "</ul>\n",
    "</div></div>"
   ]
  },
  {
   "cell_type": "markdown",
   "id": "06add231-b098-4a98-b8c3-3854db004492",
   "metadata": {
    "tags": []
   },
   "source": [
    "## **Solution.py**"
   ]
  },
  {
   "cell_type": "code",
   "execution_count": 6,
   "id": "233e857e-b80b-490d-b3af-076e346c5237",
   "metadata": {},
   "outputs": [],
   "source": [
    "from typing import List, Dict, Tuple"
   ]
  },
  {
   "cell_type": "code",
   "execution_count": 7,
   "id": "8255bd4e-f6cc-4db1-829c-077c5c8dd400",
   "metadata": {},
   "outputs": [],
   "source": [
    "import numpy as np\n",
    "\n",
    "class Solution:\n",
    "    def imageSmoother(self, img: List[List[int]]) -> List[List[int]]:\n",
    "        img = np.array(img)\n",
    "        img_ = np.pad(img, 1, constant_values=(-1,))\n",
    "        for i in range(len(img_)-2):\n",
    "            for j in range(len(img_[0])-2):\n",
    "                img[i, j] = np.sum(img_[i:3+i, j:3+j]*(img_[i:3+i, j:3+j]>=0))/np.sum(img_[i:3+i, j:3+j]>=0)\n",
    "\n",
    "        return img.tolist()"
   ]
  },
  {
   "cell_type": "code",
   "execution_count": 8,
   "id": "203ffed6-5079-4de8-a6cd-1faf68318bc1",
   "metadata": {},
   "outputs": [],
   "source": [
    "inputs = [\n",
    "    [[0,0],[0,1],[1,0],[1,2],[2,1],[2,2]],\n",
    "    [[0,0],[0,2],[1,1],[2,0],[2,2]],\n",
    "    [[0,0]],\n",
    "    [[3,2],[3,1],[4,4],[1,1],[0,2],[4,0]],\n",
    "    [[8,3],[6,8],[4,3],[8,0],[2,2],[2,1],[7,4],[8,7],[1,7],[3,7],[8,4]]\n",
    "]\n",
    "outputs = [\n",
    "    5,\n",
    "    3,\n",
    "    0,\n",
    "    4,\n",
    "    8\n",
    "]"
   ]
  },
  {
   "cell_type": "code",
   "execution_count": 9,
   "id": "e2ba741e-00a2-45cc-b592-464f9a4af97f",
   "metadata": {
    "tags": []
   },
   "outputs": [
    {
     "name": "stdout",
     "output_type": "stream",
     "text": [
      "True 5 5\n",
      "True 3 3\n",
      "True 0 0\n",
      "True 4 4\n",
      "True 8 8\n"
     ]
    }
   ],
   "source": [
    "solution = Solution().removeStones\n",
    "\n",
    "for idx, (i, o) in enumerate(zip(inputs, outputs)):\n",
    "    sol_ = solution(i)\n",
    "    print(sol_==o, sol_, o)"
   ]
  },
  {
   "cell_type": "markdown",
   "id": "cdf67edf-5b0f-446a-a306-91672c0026fb",
   "metadata": {},
   "source": [
    "<div><div class=\"ant-table-wrapper table__1sPX\"><div class=\"ant-spin-nested-loading\"><div class=\"ant-spin-container\"><div class=\"ant-table ant-table-default ant-table-scroll-position-left\"><div class=\"ant-table-content\"><div class=\"ant-table-body\"><table class=\"\"><colgroup><col><col><col><col><col></colgroup><thead class=\"ant-table-thead\"><tr><th class=\"time-column__1guG\"><span class=\"ant-table-header-column\"><div><span class=\"ant-table-column-title\">Time Submitted</span><span class=\"ant-table-column-sorter\"></span></div></span></th><th class=\"status-column__3SUg\"><span class=\"ant-table-header-column\"><div><span class=\"ant-table-column-title\">Status</span><span class=\"ant-table-column-sorter\"></span></div></span></th><th class=\"runtime-column__1ka_\"><span class=\"ant-table-header-column\"><div><span class=\"ant-table-column-title\">Runtime</span><span class=\"ant-table-column-sorter\"></span></div></span></th><th class=\"memory-column__1dxp\"><span class=\"ant-table-header-column\"><div><span class=\"ant-table-column-title\">Memory</span><span class=\"ant-table-column-sorter\"></span></div></span></th><th class=\"lang-column__tR-8\"><span class=\"ant-table-header-column\"><div><span class=\"ant-table-column-title\">Language</span><span class=\"ant-table-column-sorter\"></span></div></span></th></tr></thead><tbody class=\"ant-table-tbody\"><tr class=\"ant-table-row ant-table-row-level-0\" data-row-key=\"679552555\"><td class=\"time-column__1guG\">04/13/2022 19:38</td><td class=\"status-column__3SUg\"><a href=\"/submissions/detail/679552555/\" target=\"_blank\" class=\"ac__35gz\" data-submission-id=\"679552555\">Accepted</a></td><td class=\"runtime-column__1ka_\">2733 ms</td><td class=\"memory-column__1dxp\">33 MB</td><td class=\"lang-column__tR-8\">python3</td></tr></tbody></table></div></div></div></div></div></div></div>"
   ]
  }
 ],
 "metadata": {
  "kernelspec": {
   "display_name": "Python 3 (ipykernel)",
   "language": "python",
   "name": "python3"
  },
  "language_info": {
   "codemirror_mode": {
    "name": "ipython",
    "version": 3
   },
   "file_extension": ".py",
   "mimetype": "text/x-python",
   "name": "python",
   "nbconvert_exporter": "python",
   "pygments_lexer": "ipython3",
   "version": "3.7.0"
  }
 },
 "nbformat": 4,
 "nbformat_minor": 5
}