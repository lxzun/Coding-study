{
 "cells": [
  {
   "cell_type": "markdown",
   "id": "df5f6a66",
   "metadata": {
    "tags": []
   },
   "source": [
    "# [**661. Image Smoother**](https://leetcode.com/problems/image-smoother/)\n",
    "\n",
    "<div class=\"content__u3I1 question-content__JfgR\"><div><p>An <strong>image smoother</strong> is a filter of the size <code>3 x 3</code> that can be applied to each cell of an image by rounding down the average of the cell and the eight surrounding cells (i.e., the average of the nine cells in the blue smoother). If one or more of the surrounding cells of a cell is not present, we do not consider it in the average (i.e., the average of the four cells in the red smoother).</p>\n",
    "<img alt=\"\" src=\"https://assets.leetcode.com/uploads/2021/05/03/smoother-grid.jpg\" style=\"width: 493px; height: 493px;\">\n",
    "<p>Given an <code>m x n</code> integer matrix <code>img</code> representing the grayscale of an image, return <em>the image after applying the smoother on each cell of it</em>.</p>\n",
    "\n",
    "<p>&nbsp;</p>\n",
    "<p><strong>Example 1:</strong></p>\n",
    "<img alt=\"\" src=\"https://assets.leetcode.com/uploads/2021/05/03/smooth-grid.jpg\" style=\"width: 613px; height: 253px;\">\n",
    "<pre><strong>Input:</strong> img = [[1,1,1],[1,0,1],[1,1,1]]\n",
    "<strong>Output:</strong> [[0,0,0],[0,0,0],[0,0,0]]\n",
    "<strong>Explanation:</strong>\n",
    "For the points (0,0), (0,2), (2,0), (2,2): floor(3/4) = floor(0.75) = 0\n",
    "For the points (0,1), (1,0), (1,2), (2,1): floor(5/6) = floor(0.83333333) = 0\n",
    "For the point (1,1): floor(8/9) = floor(0.88888889) = 0\n",
    "</pre>\n",
    "\n",
    "<p><strong>Example 2:</strong></p>\n",
    "<img alt=\"\" src=\"https://assets.leetcode.com/uploads/2021/05/03/smooth2-grid.jpg\" style=\"width: 613px; height: 253px;\">\n",
    "<pre><strong>Input:</strong> img = [[100,200,100],[200,50,200],[100,200,100]]\n",
    "<strong>Output:</strong> [[137,141,137],[141,138,141],[137,141,137]]\n",
    "<strong>Explanation:</strong>\n",
    "For the points (0,0), (0,2), (2,0), (2,2): floor((100+200+200+50)/4) = floor(137.5) = 137\n",
    "For the points (0,1), (1,0), (1,2), (2,1): floor((200+200+50+200+100+100)/6) = floor(141.666667) = 141\n",
    "For the point (1,1): floor((50+200+200+200+200+100+100+100+100)/9) = floor(138.888889) = 138\n",
    "</pre>\n",
    "\n",
    "<p>&nbsp;</p>\n",
    "<p><strong>Constraints:</strong></p>\n",
    "\n",
    "<ul>\n",
    "\t<li><code>m == img.length</code></li>\n",
    "\t<li><code>n == img[i].length</code></li>\n",
    "\t<li><code>1 &lt;= m, n &lt;= 200</code></li>\n",
    "\t<li><code>0 &lt;= img[i][j] &lt;= 255</code></li>\n",
    "</ul>\n",
    "</div></div>"
   ]
  },
  {
   "cell_type": "markdown",
   "id": "7e2011b9-072b-4732-8a9f-aa8cb80160e3",
   "metadata": {
    "tags": []
   },
   "source": [
    "---\n",
    "## **Solution.py**"
   ]
  },
  {
   "cell_type": "code",
   "execution_count": 1,
   "id": "47179035-f285-487c-831d-6a838c9d6f44",
   "metadata": {},
   "outputs": [],
   "source": [
    "from pprint import pprint"
   ]
  },
  {
   "cell_type": "code",
   "execution_count": 2,
   "id": "290dfb34-c6a6-4c36-a410-7845f1909a25",
   "metadata": {},
   "outputs": [],
   "source": [
    "from typing import List, Dict, Tuple"
   ]
  },
  {
   "cell_type": "code",
   "execution_count": 3,
   "id": "f21e50c7-ae80-4e9d-a7e0-bbdcc164b597",
   "metadata": {},
   "outputs": [],
   "source": [
    "class Solution:\n",
    "    def imageSmoother(self, img: List[List[int]]) -> List[List[int]]:\n",
    "        m = len(img)\n",
    "        n = len(img[0])\n",
    "        result = []\n",
    "        window_list = [[-1, -1], [-1, 0], [-1, 1],\n",
    "                 [0, -1], [0, 0], [0, 1],\n",
    "                 [1, -1], [1, 0], [1, 1],]\n",
    "        for row in range(m):\n",
    "            one_row = []\n",
    "            for col in range(n):\n",
    "                sum_num = 0\n",
    "                cnt = 0\n",
    "                for add_r, add_c in window_list:\n",
    "                    r = row + add_r\n",
    "                    c = col + add_c\n",
    "                    if r > -1 and c > -1:\n",
    "                        if r < m and c < n:\n",
    "                            sum_num += img[r][c]\n",
    "                            cnt += 1\n",
    "                avg = int(sum_num / cnt)\n",
    "                one_row.append(avg)\n",
    "            result.append(one_row)\n",
    "        #print(result)\n",
    "        return result"
   ]
  },
  {
   "cell_type": "code",
   "execution_count": 4,
   "id": "72ede3f3-fb13-4bb7-9d64-64d936a15c97",
   "metadata": {},
   "outputs": [],
   "source": [
    "inputs = [\n",
    "    [[1,1,1],[1,0,1],[1,1,1]],\n",
    "    [[100,200,100],[200,50,200],[100,200,100]]\n",
    "]\n",
    "outputs = [\n",
    "    [[0,0,0],[0,0,0],[0,0,0]],\n",
    "    [[137,141,137],[141,138,141],[137,141,137]]\n",
    "]"
   ]
  },
  {
   "cell_type": "code",
   "execution_count": 5,
   "id": "d9a7d5c0-fe3b-48d6-b54b-e9e1c6668bf7",
   "metadata": {},
   "outputs": [
    {
     "name": "stdout",
     "output_type": "stream",
     "text": [
      "True [[0, 0, 0], [0, 0, 0], [0, 0, 0]] [[0, 0, 0], [0, 0, 0], [0, 0, 0]]\n",
      "True [[137, 141, 137], [141, 138, 141], [137, 141, 137]] [[137, 141, 137], [141, 138, 141], [137, 141, 137]]\n"
     ]
    }
   ],
   "source": [
    "solution = Solution().imageSmoother\n",
    "\n",
    "for idx, (i, o) in enumerate(zip(inputs, outputs)):\n",
    "    sol_ = solution(i)\n",
    "    print(sol_==o, sol_, o)"
   ]
  },
  {
   "cell_type": "markdown",
   "id": "9d1db16b-f582-4e94-8495-17fcc96e70e2",
   "metadata": {},
   "source": [
    "Time Submitted | Status | Runtime | Memory | Language\n",
    "-- | -- | -- | -- | --\n",
    "04/13/2022 16:22 | Accepted | 600 ms | 14.6 MB | python3\n"
   ]
  },
  {
   "cell_type": "markdown",
   "id": "30cd5633-fe90-4c81-998b-cf0c475d6274",
   "metadata": {},
   "source": [
    "<br>\n",
    "\n",
    "---\n",
    "---\n",
    "\n",
    "<br>"
   ]
  },
  {
   "cell_type": "markdown",
   "id": "ff49fb96-9c51-4fdc-a4b8-6a3cea4b148a",
   "metadata": {
    "tags": []
   },
   "source": [
    "# [**947. Most Stones Removed with Same Row or Column**](https://leetcode.com/problems/most-stones-removed-with-same-row-or-column/)\n",
    "\n",
    "<div class=\"content__u3I1 question-content__JfgR\"><div><p>On a 2D plane, we place <code>n</code> stones at some integer coordinate points. Each coordinate point may have at most one stone.</p>\n",
    "\n",
    "<p>A stone can be removed if it shares either <strong>the same row or the same column</strong> as another stone that has not been removed.</p>\n",
    "\n",
    "<p>Given an array <code>stones</code> of length <code>n</code> where <code>stones[i] = [x<sub>i</sub>, y<sub>i</sub>]</code> represents the location of the <code>i<sup>th</sup></code> stone, return <em>the largest possible number of stones that can be removed</em>.</p>\n",
    "\n",
    "<p>&nbsp;</p>\n",
    "<p><strong>Example 1:</strong></p>\n",
    "\n",
    "<pre><strong>Input:</strong> stones = [[0,0],[0,1],[1,0],[1,2],[2,1],[2,2]]\n",
    "<strong>Output:</strong> 5\n",
    "<strong>Explanation:</strong> One way to remove 5 stones is as follows:\n",
    "1. Remove stone [2,2] because it shares the same row as [2,1].\n",
    "2. Remove stone [2,1] because it shares the same column as [0,1].\n",
    "3. Remove stone [1,2] because it shares the same row as [1,0].\n",
    "4. Remove stone [1,0] because it shares the same column as [0,0].\n",
    "5. Remove stone [0,1] because it shares the same row as [0,0].\n",
    "Stone [0,0] cannot be removed since it does not share a row/column with another stone still on the plane.\n",
    "</pre>\n",
    "\n",
    "<p><strong>Example 2:</strong></p>\n",
    "\n",
    "<pre><strong>Input:</strong> stones = [[0,0],[0,2],[1,1],[2,0],[2,2]]\n",
    "<strong>Output:</strong> 3\n",
    "<strong>Explanation:</strong> One way to make 3 moves is as follows:\n",
    "1. Remove stone [2,2] because it shares the same row as [2,0].\n",
    "2. Remove stone [2,0] because it shares the same column as [0,0].\n",
    "3. Remove stone [0,2] because it shares the same row as [0,0].\n",
    "Stones [0,0] and [1,1] cannot be removed since they do not share a row/column with another stone still on the plane.\n",
    "</pre>\n",
    "\n",
    "<p><strong>Example 3:</strong></p>\n",
    "\n",
    "<pre><strong>Input:</strong> stones = [[0,0]]\n",
    "<strong>Output:</strong> 0\n",
    "<strong>Explanation:</strong> [0,0] is the only stone on the plane, so you cannot remove it.\n",
    "</pre>\n",
    "\n",
    "<p>&nbsp;</p>\n",
    "<p><strong>Constraints:</strong></p>\n",
    "\n",
    "<ul>\n",
    "\t<li><code>1 &lt;= stones.length &lt;= 1000</code></li>\n",
    "\t<li><code>0 &lt;= x<sub>i</sub>, y<sub>i</sub> &lt;= 10<sup>4</sup></code></li>\n",
    "\t<li>No two stones are at the same coordinate point.</li>\n",
    "</ul>\n",
    "</div></div>"
   ]
  },
  {
   "cell_type": "markdown",
   "id": "06add231-b098-4a98-b8c3-3854db004492",
   "metadata": {
    "tags": []
   },
   "source": [
    "## **Solution.py**"
   ]
  },
  {
   "cell_type": "code",
   "execution_count": 6,
   "id": "233e857e-b80b-490d-b3af-076e346c5237",
   "metadata": {},
   "outputs": [],
   "source": [
    "from typing import List, Dict, Tuple"
   ]
  },
  {
   "cell_type": "code",
   "execution_count": 7,
   "id": "8255bd4e-f6cc-4db1-829c-077c5c8dd400",
   "metadata": {},
   "outputs": [],
   "source": [
    "from collections import defaultdict\n",
    "\n",
    "class Solution:\n",
    "    def get_adj_node(self, stones, coordi):\n",
    "        adj_nodes = []\n",
    "\n",
    "        for idx, (row, col) in enumerate(stones):\n",
    "            if [row, col] == coordi:\n",
    "                continue\n",
    "            if row == coordi[0] or col == coordi[1]:\n",
    "                adj_nodes.append(idx)\n",
    "        return adj_nodes\n",
    "\n",
    "    def removeStones(self, stones: List[List[int]]) -> int:\n",
    "        #print(self.get_adj_node(stones, [2, 1]))\n",
    "        result = 0\n",
    "        while 1:\n",
    "            adj_nodes_dict = defaultdict(list)\n",
    "            for idx, (row, col) in enumerate(stones):\n",
    "                adj_nodes = self.get_adj_node(stones, [row, col])\n",
    "                adj_nodes_dict[len(adj_nodes)].append(idx)\n",
    "                if len(adj_nodes) == 1:\n",
    "                    break\n",
    "            print(f\"adj_nodes_dict : {adj_nodes_dict}\")\n",
    "            if len(adj_nodes_dict.keys()) == 1 and 0 in adj_nodes_dict:\n",
    "                break\n",
    "\n",
    "            for cnt in sorted(adj_nodes_dict.keys()):\n",
    "                if cnt == 0:\n",
    "                    continue\n",
    "                else:\n",
    "                    remove_idx = adj_nodes_dict[cnt][0]\n",
    "                    print(f\"remove : {stones[remove_idx]}\")\n",
    "                    stones.pop(remove_idx)\n",
    "                    print(f\"stones : {stones}\")\n",
    "                    result += 1\n",
    "                    \n",
    "                    break\n",
    "\n",
    "        print(result)\n",
    "        return result\n",
    "            \n",
    "            "
   ]
  },
  {
   "cell_type": "code",
   "execution_count": 12,
   "id": "203ffed6-5079-4de8-a6cd-1faf68318bc1",
   "metadata": {},
   "outputs": [],
   "source": [
    "# inputs = [\n",
    "#     [[0,0],[0,1],[1,0],[1,2],[2,1],[2,2]],\n",
    "#     [[0,0],[0,2],[1,1],[2,0],[2,2]],\n",
    "#     [[0,0]],\n",
    "#     [[3,2],[3,1],[4,4],[1,1],[0,2],[4,0]],\n",
    "#     [[8,3],[6,8],[4,3],[8,0],[2,2],[2,1],[7,4],[8,7],[1,7],[3,7],[8,4]]\n",
    "# ]\n",
    "inputs = [[[5,9],[9,0],[0,0],[7,0],[4,3],[8,5],[5,8],[1,1],[0,6],[7,5],[1,6],[1,9],[9,4],[2,8],[1,3],[4,2],[2,5],[4,1],[0,2],[6,5]], ]\n",
    "# outputs = [\n",
    "#     5,\n",
    "#     3,\n",
    "#     0,\n",
    "#     4,\n",
    "#     8\n",
    "# ]\n",
    "outputs = [19]"
   ]
  },
  {
   "cell_type": "code",
   "execution_count": 13,
   "id": "e2ba741e-00a2-45cc-b592-464f9a4af97f",
   "metadata": {
    "tags": []
   },
   "outputs": [
    {
     "name": "stdout",
     "output_type": "stream",
     "text": [
      "adj_nodes_dict : defaultdict(<class 'list'>, {2: [0, 6], 3: [1, 3, 4, 5, 8], 4: [2, 7, 9, 10, 11], 1: [12]})\n",
      "remove : [9, 4]\n",
      "stones : [[5, 9], [9, 0], [0, 0], [7, 0], [4, 3], [8, 5], [5, 8], [1, 1], [0, 6], [7, 5], [1, 6], [1, 9], [2, 8], [1, 3], [4, 2], [2, 5], [4, 1], [0, 2], [6, 5]]\n",
      "adj_nodes_dict : defaultdict(<class 'list'>, {2: [0, 1, 6, 12], 4: [2, 7, 9, 10, 11, 13, 15], 3: [3, 4, 5, 8, 14, 16, 17, 18]})\n",
      "remove : [5, 9]\n",
      "stones : [[9, 0], [0, 0], [7, 0], [4, 3], [8, 5], [5, 8], [1, 1], [0, 6], [7, 5], [1, 6], [1, 9], [2, 8], [1, 3], [4, 2], [2, 5], [4, 1], [0, 2], [6, 5]]\n",
      "adj_nodes_dict : defaultdict(<class 'list'>, {2: [0], 4: [1], 3: [2, 3, 4], 1: [5]})\n",
      "remove : [5, 8]\n",
      "stones : [[9, 0], [0, 0], [7, 0], [4, 3], [8, 5], [1, 1], [0, 6], [7, 5], [1, 6], [1, 9], [2, 8], [1, 3], [4, 2], [2, 5], [4, 1], [0, 2], [6, 5]]\n",
      "adj_nodes_dict : defaultdict(<class 'list'>, {2: [0], 4: [1, 5, 7, 8], 3: [2, 3, 4, 6, 9], 1: [10]})\n",
      "remove : [2, 8]\n",
      "stones : [[9, 0], [0, 0], [7, 0], [4, 3], [8, 5], [1, 1], [0, 6], [7, 5], [1, 6], [1, 9], [1, 3], [4, 2], [2, 5], [4, 1], [0, 2], [6, 5]]\n",
      "adj_nodes_dict : defaultdict(<class 'list'>, {2: [0], 4: [1, 5, 7, 8, 10], 3: [2, 3, 4, 6, 9, 11, 12, 13, 14, 15]})\n",
      "remove : [9, 0]\n",
      "stones : [[0, 0], [7, 0], [4, 3], [8, 5], [1, 1], [0, 6], [7, 5], [1, 6], [1, 9], [1, 3], [4, 2], [2, 5], [4, 1], [0, 2], [6, 5]]\n",
      "adj_nodes_dict : defaultdict(<class 'list'>, {3: [0, 2, 3, 5, 8, 10, 11, 12, 13, 14], 2: [1], 4: [4, 6, 7, 9]})\n",
      "remove : [7, 0]\n",
      "stones : [[0, 0], [4, 3], [8, 5], [1, 1], [0, 6], [7, 5], [1, 6], [1, 9], [1, 3], [4, 2], [2, 5], [4, 1], [0, 2], [6, 5]]\n",
      "adj_nodes_dict : defaultdict(<class 'list'>, {2: [0], 3: [1, 2, 4, 5, 7, 9, 10, 11, 12, 13], 4: [3, 6, 8]})\n",
      "remove : [0, 0]\n",
      "stones : [[4, 3], [8, 5], [1, 1], [0, 6], [7, 5], [1, 6], [1, 9], [1, 3], [4, 2], [2, 5], [4, 1], [0, 2], [6, 5]]\n",
      "adj_nodes_dict : defaultdict(<class 'list'>, {3: [0, 1, 4, 6, 8, 9, 10, 12], 4: [2, 5, 7], 2: [3, 11]})\n",
      "remove : [0, 6]\n",
      "stones : [[4, 3], [8, 5], [1, 1], [7, 5], [1, 6], [1, 9], [1, 3], [4, 2], [2, 5], [4, 1], [0, 2], [6, 5]]\n",
      "adj_nodes_dict : defaultdict(<class 'list'>, {3: [0, 1, 3, 4, 5, 7, 8, 9], 4: [2, 6], 1: [10]})\n",
      "remove : [0, 2]\n",
      "stones : [[4, 3], [8, 5], [1, 1], [7, 5], [1, 6], [1, 9], [1, 3], [4, 2], [2, 5], [4, 1], [6, 5]]\n",
      "adj_nodes_dict : defaultdict(<class 'list'>, {3: [0, 1, 3, 4, 5, 8, 9, 10], 4: [2, 6], 2: [7]})\n",
      "remove : [4, 2]\n",
      "stones : [[4, 3], [8, 5], [1, 1], [7, 5], [1, 6], [1, 9], [1, 3], [2, 5], [4, 1], [6, 5]]\n",
      "adj_nodes_dict : defaultdict(<class 'list'>, {2: [0, 8], 3: [1, 3, 4, 5, 7, 9], 4: [2, 6]})\n",
      "remove : [4, 3]\n",
      "stones : [[8, 5], [1, 1], [7, 5], [1, 6], [1, 9], [1, 3], [2, 5], [4, 1], [6, 5]]\n",
      "adj_nodes_dict : defaultdict(<class 'list'>, {3: [0, 2, 3, 4, 5, 6], 4: [1], 1: [7]})\n",
      "remove : [4, 1]\n",
      "stones : [[8, 5], [1, 1], [7, 5], [1, 6], [1, 9], [1, 3], [2, 5], [6, 5]]\n",
      "adj_nodes_dict : defaultdict(<class 'list'>, {3: [0, 1, 2, 3, 4, 5, 6, 7]})\n",
      "remove : [8, 5]\n",
      "stones : [[1, 1], [7, 5], [1, 6], [1, 9], [1, 3], [2, 5], [6, 5]]\n",
      "adj_nodes_dict : defaultdict(<class 'list'>, {3: [0, 2, 3, 4], 2: [1, 5, 6]})\n",
      "remove : [7, 5]\n",
      "stones : [[1, 1], [1, 6], [1, 9], [1, 3], [2, 5], [6, 5]]\n",
      "adj_nodes_dict : defaultdict(<class 'list'>, {3: [0, 1, 2, 3], 1: [4]})\n",
      "remove : [2, 5]\n",
      "stones : [[1, 1], [1, 6], [1, 9], [1, 3], [6, 5]]\n",
      "adj_nodes_dict : defaultdict(<class 'list'>, {3: [0, 1, 2, 3], 0: [4]})\n",
      "remove : [1, 1]\n",
      "stones : [[1, 6], [1, 9], [1, 3], [6, 5]]\n",
      "adj_nodes_dict : defaultdict(<class 'list'>, {2: [0, 1, 2], 0: [3]})\n",
      "remove : [1, 6]\n",
      "stones : [[1, 9], [1, 3], [6, 5]]\n",
      "adj_nodes_dict : defaultdict(<class 'list'>, {1: [0]})\n",
      "remove : [1, 9]\n",
      "stones : [[1, 3], [6, 5]]\n",
      "adj_nodes_dict : defaultdict(<class 'list'>, {0: [0, 1]})\n",
      "18\n",
      "False 18 19\n"
     ]
    }
   ],
   "source": [
    "solution = Solution().removeStones\n",
    "\n",
    "for idx, (i, o) in enumerate(zip(inputs, outputs)):\n",
    "    sol_ = solution(i)\n",
    "    print(sol_==o, sol_, o)"
   ]
  },
  {
   "cell_type": "code",
   "execution_count": 14,
   "id": "93d20cec-e258-4bca-9929-8369c46502a4",
   "metadata": {},
   "outputs": [
    {
     "ename": "SyntaxError",
     "evalue": "invalid syntax (<ipython-input-14-a0cef1e9afbe>, line 2)",
     "output_type": "error",
     "traceback": [
      "\u001b[0;36m  File \u001b[0;32m\"<ipython-input-14-a0cef1e9afbe>\"\u001b[0;36m, line \u001b[0;32m2\u001b[0m\n\u001b[0;31m    adj_nodes_dict : defaultdict(<class 'list'>, {3: [0, 2, 3, 5, 8, 10, 11, 12, 13, 14], 2: [1], 4: [4, 6, 7, 9]})\u001b[0m\n\u001b[0m                                 ^\u001b[0m\n\u001b[0;31mSyntaxError\u001b[0m\u001b[0;31m:\u001b[0m invalid syntax\n"
     ]
    }
   ],
   "source": [
    "stones : [[0, 0], [7, 0], [4, 3], [8, 5], [1, 1], [0, 6], [7, 5], [1, 6], [1, 9], [1, 3], [4, 2], [2, 5], [4, 1], [0, 2], [6, 5]]\n",
    "adj_nodes_dict : defaultdict(<class 'list'>, {3: [0, 2, 3, 5, 8, 10, 11, 12, 13, 14], 2: [1], 4: [4, 6, 7, 9]})\n",
    "remove : [7, 0]\n",
    "\n",
    "[[8, 5], [7, 5] [2, 5], [6, 5]]\n",
    "\n",
    "[7, 0]\n",
    "\n",
    "[1, 1], , [1, 6], [1, 9], [1, 3], [4, 1] [4, 3] [4, 2] [0, 2] [0, 6] [0, 0] "
   ]
  },
  {
   "cell_type": "markdown",
   "id": "cdf67edf-5b0f-446a-a306-91672c0026fb",
   "metadata": {},
   "source": [
    "Time Submitted | Status | Runtime | Memory | Language\n",
    "-- | -- | -- | -- | --\n",
    "04/13/2022 17:29 | Wrong Answer | N/A | N/A | python3"
   ]
  },
  {
   "cell_type": "code",
   "execution_count": null,
   "id": "1cf6172a-e0c2-4897-8e22-a1aff81c2e32",
   "metadata": {},
   "outputs": [],
   "source": []
  }
 ],
 "metadata": {
  "kernelspec": {
   "display_name": "Python 3",
   "language": "python",
   "name": "python3"
  },
  "language_info": {
   "codemirror_mode": {
    "name": "ipython",
    "version": 3
   },
   "file_extension": ".py",
   "mimetype": "text/x-python",
   "name": "python",
   "nbconvert_exporter": "python",
   "pygments_lexer": "ipython3",
   "version": "3.8.8"
  }
 },
 "nbformat": 4,
 "nbformat_minor": 5
}
