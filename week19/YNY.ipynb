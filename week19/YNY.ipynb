{
  "nbformat": 4,
  "nbformat_minor": 0,
  "metadata": {
    "colab": {
      "name": "Untitled0.ipynb",
      "provenance": [],
      "collapsed_sections": []
    },
    "kernelspec": {
      "name": "python3",
      "display_name": "Python 3"
    },
    "language_info": {
      "name": "python"
    }
  },
  "cells": [
    {
      "cell_type": "code",
      "execution_count": null,
      "metadata": {
        "id": "NmZQshX8PyyS"
      },
      "outputs": [],
      "source": [
        "class Solution:\n",
        "    def imageSmoother(self, img: List[List[int]]) -> List[List[int]]:\n",
        "        len_x = len(img)\n",
        "        len_y = len(img[0])\n",
        "        ans = [[0]*len_y for _ in range(len_x)]\n",
        "        for idx_x, x in enumerate(img):\n",
        "            for idx_y, y in enumerate(x):\n",
        "                tmp = 0\n",
        "                cnt = 0\n",
        "                for dx in range(-1, 2):\n",
        "                    for dy in range(-1, 2):\n",
        "                        if 0<=idx_y+dy<len_y and 0<=idx_x+dx<len_x:\n",
        "                            tmp += img[idx_x+dx][idx_y+dy]\n",
        "                            cnt += 1\n",
        "                ans[idx_x][idx_y] = tmp//cnt\n",
        "\n",
        "        return ans"
      ]
    },
    {
      "cell_type": "code",
      "source": [
        "class Solution:\n",
        "    def removeStones(self, stones: List[List[int]]) -> int:\n",
        "        ans = 0\n",
        "        stones.sort(key=lambda x:(x[0],x[1]), reverse= True)\n",
        "        q = deque(stones)\n",
        "\n",
        "        while q:\n",
        "            current = q.popleft()\n",
        "            x, y = current[0], current[1]\n",
        "            for query in q:\n",
        "                if x==query[0] and y>query[1]:\n",
        "                    ans+=1\n",
        "                    break\n",
        "                elif y==query[1] and x>query[0]:\n",
        "                    ans += 1\n",
        "                    break\n",
        "        return ans"
      ],
      "metadata": {
        "id": "_zrqCzjJP_I3"
      },
      "execution_count": null,
      "outputs": []
    }
  ]
}