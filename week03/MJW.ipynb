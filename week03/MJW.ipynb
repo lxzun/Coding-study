{
 "cells": [
  {
   "cell_type": "markdown",
   "id": "e68f3a94-ad57-425b-939b-e238bd8793d4",
   "metadata": {
    "tags": []
   },
   "source": [
    "## [타겟 넘버](https://programmers.co.kr/learn/courses/30/lessons/43165)\n",
    "\n",
    "### **문제 설명**\n",
    "n개의 음이 아닌 정수가 있습니다. 이 수를 적절히 더하거나 빼서 타겟 넘버를 만들려고 합니다. 예를 들어 [1, 1, 1, 1, 1]로 숫자 3을 만들려면 다음 다섯 방법을 쓸 수 있습니다.\n",
    "\n",
    "```\n",
    "-1+1+1+1+1 = 3\n",
    "+1-1+1+1+1 = 3\n",
    "+1+1-1+1+1 = 3\n",
    "+1+1+1-1+1 = 3\n",
    "+1+1+1+1-1 = 3\n",
    "```\n",
    "\n",
    "사용할 수 있는 숫자가 담긴 배열 numbers, 타겟 넘버 target이 매개변수로 주어질 때 숫자를 적절히 더하고 빼서 타겟 넘버를 만드는 방법의 수를 return 하도록 solution 함수를 작성해주세요.\n",
    "\n",
    "<br>\n",
    "\n",
    "#### **제한사항**\n",
    "- 주어지는 숫자의 개수는 2개 이상 20개 이하입니다.\n",
    "- 각 숫자는 1 이상 50 이하인 자연수입니다.\n",
    "- 타겟 넘버는 1 이상 1000 이하인 자연수입니다.\n",
    "\n",
    "<br>\n",
    "\n",
    "#### **입출력 예**\n",
    "|numbers|target|return|\n",
    "|:--:|:--:|:--:|\n",
    "|[1, 1, 1, 1, 1]|3|5|from pprint import pprint\n",
    "\n",
    "#### **입출력 예 설명**\n",
    "문제에 나온 예와 같습니다."
   ]
  },
  {
   "cell_type": "markdown",
   "id": "d5769c67-0058-4d5d-a6b6-c2aae998c204",
   "metadata": {
    "tags": []
   },
   "source": [
    "---\n",
    "## Solution.py\n",
    "##### DFS  | 재귀함수 이용"
   ]
  },
  {
   "cell_type": "code",
   "execution_count": 1,
   "id": "fd6fa282-fefa-4c9b-9422-95d2120dbc65",
   "metadata": {},
   "outputs": [],
   "source": [
    "from pprint import pprint"
   ]
  },
  {
   "cell_type": "code",
   "execution_count": 2,
   "id": "c95362f8-5e5a-47e3-a2ea-0b80c058cfa1",
   "metadata": {},
   "outputs": [],
   "source": [
    "def dfs(numbers, idx):\n",
    "    ans = 0\n",
    "    if idx == len(numbers)-1:\n",
    "        # print(numbers)\n",
    "        if sum(numbers) == 0:\n",
    "            return 1\n",
    "        return 0\n",
    "    \n",
    "    ans += dfs(numbers, idx+1)\n",
    "    ans += dfs(numbers[:idx+1] + [(-1)*numbers[idx+1]] + numbers[idx+2:], idx+1)\n",
    "    return ans\n",
    "    \n",
    "\n",
    "def solution(numbers, target):\n",
    "    numbers=[target]+numbers\n",
    "    answer = dfs(numbers, 0)\n",
    "    return answer"
   ]
  },
  {
   "cell_type": "markdown",
   "id": "8cf1b708-99a0-4e06-afc0-e1cd79a83fe4",
   "metadata": {},
   "source": [
    "```\n",
    "[3, 1, 1, 1, 1, 1]\n",
    "[3, 1, 1, 1, 1, -1]\n",
    "[3, 1, 1, 1, -1, 1]\n",
    "[3, 1, 1, 1, -1, -1]\n",
    "[3, 1, 1, -1, 1, 1]\n",
    "[3, 1, 1, -1, 1, -1]\n",
    "[3, 1, 1, -1, -1, 1]\n",
    "[3, 1, 1, -1, -1, -1]\n",
    "[3, 1, -1, 1, 1, 1]\n",
    "...\n",
    "```"
   ]
  },
  {
   "cell_type": "code",
   "execution_count": 3,
   "id": "5ecdd486-95fd-434e-ae1e-db98cb39f1ba",
   "metadata": {},
   "outputs": [],
   "source": [
    "inputs = [\n",
    "    ([1, 1, 1, 1, 1], 3)\n",
    "]\n",
    "outputs = [\n",
    "    5\n",
    "]"
   ]
  },
  {
   "cell_type": "code",
   "execution_count": 4,
   "id": "b1f6cb5f-3c46-42f5-91c2-2eda6ec3cf53",
   "metadata": {},
   "outputs": [
    {
     "name": "stdout",
     "output_type": "stream",
     "text": [
      "5 5\n"
     ]
    }
   ],
   "source": [
    "for idx, (i, o) in enumerate(zip(inputs, outputs)):\n",
    "    print(solution(*i), o)"
   ]
  },
  {
   "cell_type": "markdown",
   "id": "590dc257-fd41-43f7-8fc3-f10b013b4ef5",
   "metadata": {},
   "source": [
    "<img src=\"https://user-images.githubusercontent.com/42428487/144084643-1620d12d-d956-43e0-88d8-b6bca5fa4209.png\" width=\"600;\">"
   ]
  },
  {
   "cell_type": "markdown",
   "id": "f5d28775-3fbf-4aad-9da2-d87d11a46992",
   "metadata": {},
   "source": [
    "<br>\n",
    "\n",
    "---\n",
    "---\n",
    "\n",
    "<br>"
   ]
  },
  {
   "cell_type": "markdown",
   "id": "fd6a327f-d1fc-4ac9-a63b-0b83df487df8",
   "metadata": {},
   "source": [
    "## [네트워크](https://programmers.co.kr/learn/courses/30/lessons/43162)\n",
    "\n",
    "#### **문제 설명**\n",
    "네트워크란 컴퓨터 상호 간에 정보를 교환할 수 있도록 연결된 형태를 의미합니다. 예를 들어, 컴퓨터 A와 컴퓨터 B가 직접적으로 연결되어있고, 컴퓨터 B와 컴퓨터 C가 직접적으로 연결되어 있을 때 컴퓨터 A와 컴퓨터 C도 간접적으로 연결되어 정보를 교환할 수 있습니다. 따라서 컴퓨터 A, B, C는 모두 같은 네트워크 상에 있다고 할 수 있습니다.\n",
    "\n",
    "컴퓨터의 개수 n, 연결에 대한 정보가 담긴 2차원 배열 computers가 매개변수로 주어질 때, 네트워크의 개수를 return 하도록 solution 함수를 작성하시오.\n",
    "\n",
    "<br>\n",
    "\n",
    "#### **제한사항**\n",
    "- 컴퓨터의 개수 n은 1 이상 200 이하인 자연수입니다.\n",
    "- 각 컴퓨터는 0부터 n-1인 정수로 표현합니다.\n",
    "- i번 컴퓨터와 j번 컴퓨터가 연결되어 있으면 `computers[i][j]`를 1로 표현합니다.\n",
    "- `computer[i][i]`는 항상 1입니다.\n",
    "\n",
    "<br>\n",
    "\n",
    "#### **입출력 예**\n",
    "|n|computers|return|\n",
    "|:-:|:-:|:-:|\n",
    "|3|[[1, 1, 0], [1, 1, 0], [0, 0, 1]]|2|\n",
    "|3|[[1, 1, 0], [1, 1, 1], [0, 1, 1]]|1|\n",
    "\n",
    "<br>\n",
    "\n",
    "#### **입출력 예 설명**\n",
    "##### **예제 #1**\n",
    "아래와 같이 2개의 네트워크가 있습니다.\n",
    "\n",
    "<img width=\"300\" src=\"https://grepp-programmers.s3.amazonaws.com/files/ybm/5b61d6ca97/cc1e7816-b6d7-4649-98e0-e95ea2007fd7.png\" title=\"\" alt=\"image0.png\">\n",
    "\n",
    "\n",
    "\n",
    "##### **예제 #2**\n",
    "아래와 같이 1개의 네트워크가 있습니다.\n",
    "\n",
    "<img width=\"300\" src=\"https://grepp-programmers.s3.amazonaws.com/files/ybm/7554746da2/edb61632-59f4-4799-9154-de9ca98c9e55.png\" title=\"\" alt=\"image1.png\">"
   ]
  },
  {
   "cell_type": "markdown",
   "id": "c44fcf2a-e6e7-42c1-a323-d82dabcbc717",
   "metadata": {},
   "source": [
    "---\n",
    "## Solution.py\n",
    "##### BFS | Queue 이용"
   ]
  },
  {
   "cell_type": "code",
   "execution_count": 5,
   "id": "247b9b3f-a544-4164-8264-4ad0c4b05fe2",
   "metadata": {},
   "outputs": [],
   "source": [
    "from pprint import pprint"
   ]
  },
  {
   "cell_type": "code",
   "execution_count": 6,
   "id": "a9edbbb0-20f0-46b7-be3a-b30b16fba0d8",
   "metadata": {},
   "outputs": [],
   "source": [
    "from collections import deque, defaultdict\n",
    "\n",
    "\n",
    "def bfs(n, graph):\n",
    "    queue = deque()\n",
    "    visited = set()\n",
    "    \n",
    "    ans = 0\n",
    "    while len(visited) < n:\n",
    "        queue.append(list( set(range(n)) - visited )[0])\n",
    "        ans += 1\n",
    "        while queue:\n",
    "            node = queue.popleft()\n",
    "            visited.add(node)\n",
    "            connected = set(graph[node]) - set(visited)\n",
    "            queue.extend(list(connected))\n",
    "            visited = visited | connected\n",
    "    return ans\n",
    "\n",
    "\n",
    "def solution(n, computers):     # [[1, 1, 0], [1, 1, 0], [0, 0, 1]]\n",
    "    graph = defaultdict(set)    # {0: {1}, 1: {0}, 2: set()}\n",
    "    \n",
    "    for i, connections in enumerate(computers):\n",
    "        graph[i] = set([idx for idx, c in enumerate(connections) if i!=idx and c==1])\n",
    "    \n",
    "    return bfs(n, graph)"
   ]
  },
  {
   "cell_type": "code",
   "execution_count": 7,
   "id": "abfcba67-8619-411b-aa00-30f7793ac3ce",
   "metadata": {},
   "outputs": [],
   "source": [
    "inputs = [\n",
    "    (3, [[1, 1, 0], [1, 1, 0], [0, 0, 1]]),\n",
    "    (3, [[1, 1, 0], [1, 1, 1], [0, 1, 1]])\n",
    "]\n",
    "outputs = [\n",
    "    2,\n",
    "    1\n",
    "]"
   ]
  },
  {
   "cell_type": "code",
   "execution_count": 8,
   "id": "b4378cfe-e705-4ff6-a79d-5e8bbdbe164f",
   "metadata": {},
   "outputs": [
    {
     "name": "stdout",
     "output_type": "stream",
     "text": [
      "2 2\n",
      "1 1\n"
     ]
    }
   ],
   "source": [
    "for idx, (i, o) in enumerate(zip(inputs, outputs)):\n",
    "    print(solution(*i), o)"
   ]
  },
  {
   "cell_type": "markdown",
   "id": "382f2939-e17c-49b6-af2b-7b95d71fae74",
   "metadata": {},
   "source": [
    "<img src=\"https://user-images.githubusercontent.com/42428487/144100379-91af78d0-0786-4b13-ac99-5184d3472d89.png\" width=\"600;\">\n"
   ]
  }
 ],
 "metadata": {
  "kernelspec": {
   "display_name": "Python 3 (ipykernel)",
   "language": "python",
   "name": "python3"
  },
  "language_info": {
   "codemirror_mode": {
    "name": "ipython",
    "version": 3
   },
   "file_extension": ".py",
   "mimetype": "text/x-python",
   "name": "python",
   "nbconvert_exporter": "python",
   "pygments_lexer": "ipython3",
   "version": "3.7.0"
  }
 },
 "nbformat": 4,
 "nbformat_minor": 5
}
