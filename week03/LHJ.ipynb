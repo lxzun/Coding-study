{
 "cells": [
  {
   "cell_type": "markdown",
   "metadata": {
    "collapsed": true,
    "pycharm": {
     "name": "#%% md\n"
    }
   },
   "source": [
    "# 타겟 넘버\n",
    "\n",
    "<div class=\"guide-section-description\">\n",
    "      <h6 class=\"guide-section-title\">문제 설명</h6>\n",
    "      <div class=\"markdown solarized-dark\"><p>n개의 음이 아닌 정수가 있습니다. 이 수를 적절히 더하거나 빼서 타겟 넘버를 만들려고 합니다. 예를 들어 [1, 1, 1, 1, 1]로 숫자 3을 만들려면 다음 다섯 방법을 쓸 수 있습니다.</p>\n",
    "<div class=\"highlight\"><pre class=\"codehilite\"><code>-1+1+1+1+1 = 3\n",
    "+1-1+1+1+1 = 3\n",
    "+1+1-1+1+1 = 3\n",
    "+1+1+1-1+1 = 3\n",
    "+1+1+1+1-1 = 3\n",
    "</code></pre></div>\n",
    "<p>사용할 수 있는 숫자가 담긴 배열 numbers, 타겟 넘버 target이 매개변수로 주어질 때 숫자를 적절히 더하고 빼서 타겟 넘버를 만드는 방법의 수를 return 하도록 solution 함수를 작성해주세요.</p>\n",
    "\n",
    "<h5>제한사항</h5>\n",
    "\n",
    "<ul>\n",
    "<li>주어지는 숫자의 개수는 2개 이상 20개 이하입니다.</li>\n",
    "<li>각 숫자는 1 이상 50 이하인 자연수입니다.</li>\n",
    "<li>타겟 넘버는 1 이상 1000 이하인 자연수입니다.</li>\n",
    "</ul>\n",
    "\n",
    "<h5>입출력 예</h5>\n",
    "<table class=\"table\">\n",
    "        <thead><tr>\n",
    "<th>numbers</th>\n",
    "<th>target</th>\n",
    "<th>return</th>\n",
    "</tr>\n",
    "</thead>\n",
    "        <tbody><tr>\n",
    "<td>[1, 1, 1, 1, 1]</td>\n",
    "<td>3</td>\n",
    "<td>5</td>\n",
    "</tr>\n",
    "</tbody>\n",
    "      </table>\n",
    "<h5>입출력 예 설명</h5>\n",
    "\n",
    "<p>문제에 나온 예와 같습니다.</p>\n",
    "</div>\n",
    "    </div>"
   ]
  },
  {
   "cell_type": "code",
   "execution_count": 18,
   "metadata": {
    "pycharm": {
     "name": "#%%\n"
    }
   },
   "outputs": [],
   "source": [
    "def dfs(nums, target, prev):\n",
    "    if len(nums)==0:\n",
    "        if sum(prev)==target:\n",
    "            return 1\n",
    "        else:\n",
    "            return 0\n",
    "\n",
    "    ans = 0\n",
    "    nums = nums.copy()\n",
    "    n = nums.pop()\n",
    "    prev.append(n)\n",
    "    ans += dfs(nums, target, prev)\n",
    "    prev.pop()\n",
    "    prev.append(-n)\n",
    "    ans += dfs(nums, target, prev)\n",
    "    prev.pop()\n",
    "\n",
    "    return ans\n",
    "\n",
    "def solution(numbers, target):\n",
    "    answer = 0\n",
    "    prev_nums = []\n",
    "    answer = dfs(numbers, target, prev_nums)\n",
    "    return answer"
   ]
  },
  {
   "cell_type": "code",
   "execution_count": 19,
   "metadata": {
    "pycharm": {
     "name": "#%%\n"
    }
   },
   "outputs": [
    {
     "name": "stdout",
     "output_type": "stream",
     "text": [
      "numbers: [1, 1, 1, 1, 1]\t target: 3\t answer: 5\n",
      "return 5 is True\n"
     ]
    }
   ],
   "source": [
    "numbers = [1, 1, 1, 1, 1]\n",
    "target = 3\n",
    "ans = 5\n",
    "answer = solution(numbers, target)\n",
    "print(f'numbers: {numbers}\\t target: {target}\\t answer: {ans}')\n",
    "print(f'return {answer} is {ans==answer}')"
   ]
  },
  {
   "cell_type": "markdown",
   "source": [
    "<img src='https://user-images.githubusercontent.com/41243762/143593771-c0d30cfc-f2c2-4097-b1eb-01f4f374622e.png' width='50%'>"
   ],
   "metadata": {
    "collapsed": false,
    "pycharm": {
     "name": "#%% md\n"
    }
   }
  },
  {
   "cell_type": "markdown",
   "metadata": {
    "pycharm": {
     "name": "#%% md\n"
    }
   },
   "source": [
    "# 네트워크\n",
    "\n",
    "<div class=\"guide-section-description\">\n",
    "      <h6 class=\"guide-section-title\">문제 설명</h6>\n",
    "      <div class=\"markdown solarized-dark\"><p>네트워크란 컴퓨터 상호 간에 정보를 교환할 수 있도록 연결된 형태를 의미합니다. 예를 들어, 컴퓨터 A와 컴퓨터 B가 직접적으로 연결되어있고, 컴퓨터 B와 컴퓨터 C가 직접적으로 연결되어 있을 때 컴퓨터 A와 컴퓨터 C도 간접적으로 연결되어 정보를 교환할 수 있습니다. 따라서 컴퓨터 A, B, C는 모두 같은 네트워크 상에 있다고 할 수 있습니다.</p>\n",
    "\n",
    "<p>컴퓨터의 개수 n, 연결에 대한 정보가 담긴 2차원 배열 computers가 매개변수로 주어질 때, 네트워크의 개수를 return 하도록 solution 함수를 작성하시오.</p>\n",
    "\n",
    "<h5>제한사항</h5>\n",
    "\n",
    "<ul>\n",
    "<li>컴퓨터의 개수 n은 1 이상 200 이하인 자연수입니다.</li>\n",
    "<li>각 컴퓨터는 0부터 <code>n-1</code>인 정수로 표현합니다.</li>\n",
    "<li>i번 컴퓨터와 j번 컴퓨터가 연결되어 있으면 computers[i][j]를 1로 표현합니다.</li>\n",
    "<li>computer[i][i]는 항상 1입니다.</li>\n",
    "</ul>\n",
    "\n",
    "<h5>입출력 예</h5>\n",
    "<table class=\"table\">\n",
    "        <thead><tr>\n",
    "<th>n</th>\n",
    "<th>computers</th>\n",
    "<th>return</th>\n",
    "</tr>\n",
    "</thead>\n",
    "        <tbody><tr>\n",
    "<td>3</td>\n",
    "<td>[[1, 1, 0], [1, 1, 0], [0, 0, 1]]</td>\n",
    "<td>2</td>\n",
    "</tr>\n",
    "<tr>\n",
    "<td>3</td>\n",
    "<td>[[1, 1, 0], [1, 1, 1], [0, 1, 1]]</td>\n",
    "<td>1</td>\n",
    "</tr>\n",
    "</tbody>\n",
    "      </table>\n",
    "<h5>입출력 예 설명</h5>\n",
    "\n",
    "<p>예제 #1<br>\n",
    "아래와 같이 2개의 네트워크가 있습니다.<br>\n",
    "  <img src=\"https://grepp-programmers.s3.amazonaws.com/files/ybm/5b61d6ca97/cc1e7816-b6d7-4649-98e0-e95ea2007fd7.png\" width=\"50%\" title=\"\" alt=\"image0.png\"></p>\n",
    "\n",
    "<p>예제 #2<br>\n",
    "아래와 같이 1개의 네트워크가 있습니다.<br>\n",
    "  <img src=\"https://grepp-programmers.s3.amazonaws.com/files/ybm/7554746da2/edb61632-59f4-4799-9154-de9ca98c9e55.png\" width=\"50%\" title=\"\" alt=\"image1.png\"></p>\n",
    "</div>\n",
    "    </div>"
   ]
  },
  {
   "cell_type": "code",
   "execution_count": 20,
   "outputs": [],
   "source": [
    "import collections\n",
    "def solution(n, computers):\n",
    "    answer = 0\n",
    "    maps = collections.defaultdict(list)\n",
    "    for i, x in enumerate(computers):\n",
    "        for j, xx in enumerate(x):\n",
    "            if xx == 1:\n",
    "                maps[i].append(j)\n",
    "\n",
    "    visited = set()\n",
    "    for i in range(n):\n",
    "        if not i in visited:\n",
    "            stack = [i]\n",
    "            answer += 1\n",
    "        while stack:\n",
    "            node = stack.pop()\n",
    "            if not node in visited:\n",
    "                stack.extend(maps[node])\n",
    "                visited.add(node)\n",
    "    return answer"
   ],
   "metadata": {
    "collapsed": false,
    "pycharm": {
     "name": "#%%\n"
    }
   }
  },
  {
   "cell_type": "code",
   "source": [
    "case1 = [3, [[1, 1, 0], [1, 1, 0], [0, 0, 1]], 2]\n",
    "case2 = [3, [[1, 1, 0], [1, 1, 1], [0, 1, 1]], 1]\n",
    "for case in [case1, case2]:\n",
    "    n, computers, ans = case\n",
    "    answer = solution(n, computers)\n",
    "    print(f'n: {n}\\t computers: {computers}\\t answer: {ans}')\n",
    "    print(f'return {answer} is {ans==answer}\\n')"
   ],
   "metadata": {
    "collapsed": false,
    "pycharm": {
     "name": "#%%\n"
    }
   },
   "execution_count": 21,
   "outputs": [
    {
     "name": "stdout",
     "output_type": "stream",
     "text": [
      "n: 3\t computers: [[1, 1, 0], [1, 1, 0], [0, 0, 1]]\t answer: 2\n",
      "return 2 is True\n",
      "\n",
      "n: 3\t computers: [[1, 1, 0], [1, 1, 1], [0, 1, 1]]\t answer: 1\n",
      "return 1 is True\n",
      "\n"
     ]
    }
   ]
  },
  {
   "cell_type": "markdown",
   "source": [
    "<img src='https://user-images.githubusercontent.com/41243762/143599030-0a06d643-66a5-49f7-b5f9-bb512ce84323.png' width='50%'>"
   ],
   "metadata": {
    "collapsed": false,
    "pycharm": {
     "name": "#%% md\n"
    }
   }
  }
 ],
 "metadata": {
  "kernelspec": {
   "display_name": "Python 3",
   "language": "python",
   "name": "python3"
  },
  "language_info": {
   "codemirror_mode": {
    "name": "ipython",
    "version": 3
   },
   "file_extension": ".py",
   "mimetype": "text/x-python",
   "name": "python",
   "nbconvert_exporter": "python",
   "pygments_lexer": "ipython3",
   "version": "3.8.5"
  }
 },
 "nbformat": 4,
 "nbformat_minor": 1
}