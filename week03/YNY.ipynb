{
  "nbformat": 4,
  "nbformat_minor": 0,
  "metadata": {
    "colab": {
      "name": "Untitled2.ipynb",
      "provenance": []
    },
    "kernelspec": {
      "name": "python3",
      "display_name": "Python 3"
    },
    "language_info": {
      "name": "python"
    }
  },
  "cells": [
    {
      "cell_type": "markdown",
      "metadata": {
        "id": "wHs0g4HwabXc"
      },
      "source": [
        "## 타겟 넘버"
      ]
    },
    {
      "cell_type": "code",
      "metadata": {
        "id": "7lzmfHspaZ5K"
      },
      "source": [
        "def solution(numbers, target):\n",
        "    len_nums = len(numbers)\n",
        "    global cnt \n",
        "    cnt = 0\n",
        "    ans = dfs(numbers, len_nums, target, idx=0)\n",
        "    return ans\n",
        "\n",
        "def dfs(numbers, len_nums, target, idx):\n",
        "    global cnt \n",
        "\n",
        "    if idx < len_nums:\n",
        "        numbers[idx] *= 1\n",
        "        dfs(numbers, len_nums, target, idx+1)\n",
        "        \n",
        "        numbers[idx] *= -1\n",
        "        dfs(numbers, len_nums, target, idx+1)\n",
        "        \n",
        "    elif sum(numbers) == target:\n",
        "        cnt += 1\n",
        "    return cnt"
      ],
      "execution_count": null,
      "outputs": []
    },
    {
      "cell_type": "code",
      "metadata": {
        "id": "CuHZ2AwIbA4F"
      },
      "source": [
        "from itertools import product\n",
        "def solution(numbers, target):\n",
        "    nums = [(x, -x) for x in numbers]\n",
        "    sums = list(map(sum, product(*nums)))\n",
        "    return sums.count(target)\n",
        "\n",
        "\n",
        "if __name__ == '__main__':\n",
        "  ans = solution([1, 1, 1, 1, 1],\t3)\n",
        "  print(ans)"
      ],
      "execution_count": null,
      "outputs": []
    },
    {
      "cell_type": "markdown",
      "metadata": {
        "id": "3on0VoZPby_N"
      },
      "source": [
        "## 네트워크"
      ]
    },
    {
      "cell_type": "code",
      "metadata": {
        "id": "kGf8GW5ab1uF"
      },
      "source": [
        "def solution(n, computers):\n",
        "    answer = 0\n",
        "    \n",
        "    global computer\n",
        "    computer = computers\n",
        "    \n",
        "    global m\n",
        "    m = n\n",
        "    \n",
        "    for i in range(n):\n",
        "        for j in range(n):\n",
        "            if dfs(i,j) == True:\n",
        "                answer +=1\n",
        "    return answer\n",
        "    \n",
        "    \n",
        "def dfs(x,y):    \n",
        "    if x<=-1 or x>=m or y<=-1 or y>=m:\n",
        "        return False\n",
        "    \n",
        "    if computer[x][y] == 1:\n",
        "        computer[x][y] = 0\n",
        "        \n",
        "        dfs(x-1,y)\n",
        "        dfs(x,y-1)\n",
        "        dfs(x+1,y)\n",
        "        dfs(x,y+1)\n",
        "        return True\n",
        "        \n",
        "    return False\n",
        "            "
      ],
      "execution_count": null,
      "outputs": []
    }
  ]
}