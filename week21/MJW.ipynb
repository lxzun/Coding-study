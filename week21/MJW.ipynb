{
 "cells": [
  {
   "cell_type": "markdown",
   "id": "df5f6a66",
   "metadata": {
    "tags": []
   },
   "source": [
    "# [**696. Count Binary Substrings**](https://leetcode.com/problems/count-binary-substrings/)\n",
    "\n",
    "<div class=\"content__u3I1 question-content__JfgR\"><div><p>Give a binary string <code>s</code>, return the number of non-empty substrings that have the same number of <code>0</code>'s and <code>1</code>'s, and all the <code>0</code>'s and all the <code>1</code>'s in these substrings are grouped consecutively.</p>\n",
    "\n",
    "<p>Substrings that occur multiple times are counted the number of times they occur.</p>\n",
    "\n",
    "<p>&nbsp;</p>\n",
    "<p><strong>Example 1:</strong></p>\n",
    "\n",
    "<pre><strong>Input:</strong> s = \"00110011\"\n",
    "<strong>Output:</strong> 6\n",
    "<strong>Explanation:</strong> There are 6 substrings that have equal number of consecutive 1's and 0's: \"0011\", \"01\", \"1100\", \"10\", \"0011\", and \"01\".\n",
    "Notice that some of these substrings repeat and are counted the number of times they occur.\n",
    "Also, \"00110011\" is not a valid substring because all the 0's (and 1's) are not grouped together.\n",
    "</pre>\n",
    "\n",
    "<p><strong>Example 2:</strong></p>\n",
    "\n",
    "<pre><strong>Input:</strong> s = \"10101\"\n",
    "<strong>Output:</strong> 4\n",
    "<strong>Explanation:</strong> There are 4 substrings: \"10\", \"01\", \"10\", \"01\" that have equal number of consecutive 1's and 0's.\n",
    "</pre>\n",
    "\n",
    "<p>&nbsp;</p>\n",
    "<p><strong>Constraints:</strong></p>\n",
    "\n",
    "<ul>\n",
    "\t<li><code>1 &lt;= s.length &lt;= 10<sup>5</sup></code></li>\n",
    "\t<li><code>s[i]</code> is either <code>'0'</code> or <code>'1'</code>.</li>\n",
    "</ul>\n",
    "</div></div>"
   ]
  },
  {
   "cell_type": "markdown",
   "id": "7e2011b9-072b-4732-8a9f-aa8cb80160e3",
   "metadata": {
    "tags": []
   },
   "source": [
    "---\n",
    "## **Solution.py**"
   ]
  },
  {
   "cell_type": "code",
   "execution_count": 1,
   "id": "47179035-f285-487c-831d-6a838c9d6f44",
   "metadata": {},
   "outputs": [],
   "source": [
    "from pprint import pprint"
   ]
  },
  {
   "cell_type": "code",
   "execution_count": 2,
   "id": "290dfb34-c6a6-4c36-a410-7845f1909a25",
   "metadata": {},
   "outputs": [],
   "source": [
    "from typing import List, Dict, Tuple"
   ]
  },
  {
   "cell_type": "code",
   "execution_count": 3,
   "id": "f21e50c7-ae80-4e9d-a7e0-bbdcc164b597",
   "metadata": {},
   "outputs": [],
   "source": [
    "class Solution:\n",
    "    def countBinarySubstrings(self, s: str) -> int:\n",
    "        ans = 0\n",
    "        cnt, prev_cnt = 1, 0\n",
    "        for i in range(1, len(s)):\n",
    "            if s[i-1] == s[i]:\n",
    "                cnt += 1\n",
    "            else:\n",
    "                ans += min( cnt, prev_cnt )\n",
    "                prev_cnt, cnt = cnt, 1\n",
    "        ans += min( cnt, prev_cnt )\n",
    "        return ans"
   ]
  },
  {
   "cell_type": "code",
   "execution_count": 4,
   "id": "72ede3f3-fb13-4bb7-9d64-64d936a15c97",
   "metadata": {},
   "outputs": [],
   "source": [
    "inputs = [\n",
    "    \"00110011\",\n",
    "    \"10101\"\n",
    "]\n",
    "outputs = [\n",
    "    6,\n",
    "    4\n",
    "]"
   ]
  },
  {
   "cell_type": "code",
   "execution_count": 5,
   "id": "d9a7d5c0-fe3b-48d6-b54b-e9e1c6668bf7",
   "metadata": {},
   "outputs": [
    {
     "name": "stdout",
     "output_type": "stream",
     "text": [
      "True 6 6\n",
      "True 4 4\n"
     ]
    }
   ],
   "source": [
    "solution = Solution().countBinarySubstrings\n",
    "\n",
    "for idx, (i, o) in enumerate(zip(inputs, outputs)):\n",
    "    sol_ = solution(i)\n",
    "    print(sol_==o, sol_, o)"
   ]
  },
  {
   "cell_type": "markdown",
   "id": "9d1db16b-f582-4e94-8495-17fcc96e70e2",
   "metadata": {},
   "source": [
    "<img width=\"330\" alt=\"image\" src=\"https://user-images.githubusercontent.com/42428487/165085315-3ae1f18e-3d99-42b5-b7dd-f6e9d18d2457.png\">\n"
   ]
  },
  {
   "cell_type": "markdown",
   "id": "30cd5633-fe90-4c81-998b-cf0c475d6274",
   "metadata": {},
   "source": [
    "<br>\n",
    "\n",
    "---\n",
    "---\n",
    "\n",
    "<br>"
   ]
  },
  {
   "cell_type": "markdown",
   "id": "ff49fb96-9c51-4fdc-a4b8-6a3cea4b148a",
   "metadata": {
    "tags": []
   },
   "source": [
    "# [**2171. Removing Minimum Number of Magic Beans**](https://leetcode.com/problems/removing-minimum-number-of-magic-beans/)\n",
    "\n",
    "<div class=\"content__u3I1 question-content__JfgR\"><div><p>You are given an array of <strong>positive</strong> integers <code>beans</code>, where each integer represents the number of magic beans found in a particular magic bag.</p>\n",
    "\n",
    "<p><strong>Remove</strong> any number of beans (<strong>possibly none</strong>) from each bag such that the number of beans in each remaining <strong>non-empty</strong> bag (still containing <strong>at least one</strong> bean) is <strong>equal</strong>. Once a bean has been removed from a bag, you are <strong>not</strong> allowed to return it to any of the bags.</p>\n",
    "\n",
    "<p>Return <em>the <strong>minimum</strong> number of magic beans that you have to remove</em>.</p>\n",
    "\n",
    "<p>&nbsp;</p>\n",
    "<p><strong>Example 1:</strong></p>\n",
    "\n",
    "<pre><strong>Input:</strong> beans = [4,<u><strong>1</strong></u>,6,5]\n",
    "<strong>Output:</strong> 4\n",
    "<strong>Explanation:</strong> \n",
    "- We remove 1 bean from the bag with only 1 bean.\n",
    "  This results in the remaining bags: [4,<b><u>0</u></b>,6,5]\n",
    "- Then we remove 2 beans from the bag with 6 beans.\n",
    "  This results in the remaining bags: [4,0,<strong><u>4</u></strong>,5]\n",
    "- Then we remove 1 bean from the bag with 5 beans.\n",
    "  This results in the remaining bags: [4,0,4,<b><u>4</u></b>]\n",
    "We removed a total of 1 + 2 + 1 = 4 beans to make the remaining non-empty bags have an equal number of beans.\n",
    "There are no other solutions that remove 4 beans or fewer.\n",
    "</pre>\n",
    "\n",
    "<p><strong>Example 2:</strong></p>\n",
    "\n",
    "<pre><strong>Input:</strong> beans = [<strong><u>2</u></strong>,10,<u><strong>3</strong></u>,<strong><u>2</u></strong>]\n",
    "<strong>Output:</strong> 7\n",
    "<strong>Explanation:</strong>\n",
    "- We remove 2 beans from one of the bags with 2 beans.\n",
    "  This results in the remaining bags: [<u><strong>0</strong></u>,10,3,2]\n",
    "- Then we remove 2 beans from the other bag with 2 beans.\n",
    "  This results in the remaining bags: [0,10,3,<u><strong>0</strong></u>]\n",
    "- Then we remove 3 beans from the bag with 3 beans. \n",
    "  This results in the remaining bags: [0,10,<u><strong>0</strong></u>,0]\n",
    "We removed a total of 2 + 2 + 3 = 7 beans to make the remaining non-empty bags have an equal number of beans.\n",
    "There are no other solutions that removes 7 beans or fewer.\n",
    "</pre>\n",
    "\n",
    "<p>&nbsp;</p>\n",
    "<p><strong>Constraints:</strong></p>\n",
    "\n",
    "<ul>\n",
    "\t<li><code>1 &lt;= beans.length &lt;= 10<sup>5</sup></code></li>\n",
    "\t<li><code>1 &lt;= beans[i] &lt;= 10<sup>5</sup></code></li>\n",
    "</ul>\n",
    "</div></div>"
   ]
  },
  {
   "cell_type": "markdown",
   "id": "06add231-b098-4a98-b8c3-3854db004492",
   "metadata": {
    "tags": []
   },
   "source": [
    "## **Solution.py**"
   ]
  },
  {
   "cell_type": "code",
   "execution_count": 6,
   "id": "233e857e-b80b-490d-b3af-076e346c5237",
   "metadata": {},
   "outputs": [],
   "source": [
    "from typing import List, Dict, Tuple"
   ]
  },
  {
   "cell_type": "code",
   "execution_count": 7,
   "id": "8255bd4e-f6cc-4db1-829c-077c5c8dd400",
   "metadata": {},
   "outputs": [],
   "source": [
    "class Solution:\n",
    "    def minimumRemoval(self, beans: List[int]) -> int:\n",
    "        beans.sort()\n",
    "        \n",
    "        total_beans = sum(beans)\n",
    "        prev = beans.pop()\n",
    "        more, less = 0, total_beans - prev\n",
    "        min_rm = less\n",
    "        \n",
    "        i = 1\n",
    "        while beans:\n",
    "            cur = beans.pop()\n",
    "            less -= cur\n",
    "            more += (prev-cur)*i\n",
    "            min_rm = min( more + less , min_rm )\n",
    "            i += 1\n",
    "            prev = cur\n",
    "        return min_rm"
   ]
  },
  {
   "cell_type": "code",
   "execution_count": 8,
   "id": "203ffed6-5079-4de8-a6cd-1faf68318bc1",
   "metadata": {},
   "outputs": [],
   "source": [
    "inputs = [\n",
    "    [4,1,6,5],\n",
    "    [2,10,3,2]\n",
    "]\n",
    "outputs = [\n",
    "    4,\n",
    "    7\n",
    "]"
   ]
  },
  {
   "cell_type": "code",
   "execution_count": 9,
   "id": "e2ba741e-00a2-45cc-b592-464f9a4af97f",
   "metadata": {
    "tags": []
   },
   "outputs": [
    {
     "name": "stdout",
     "output_type": "stream",
     "text": [
      "True 4 4\n",
      "True 7 7\n"
     ]
    }
   ],
   "source": [
    "solution = Solution().minimumRemoval\n",
    "\n",
    "for idx, (i, o) in enumerate(zip(inputs, outputs)):\n",
    "    sol_ = solution(i)\n",
    "    print(sol_==o, sol_, o)"
   ]
  },
  {
   "cell_type": "markdown",
   "id": "cdf67edf-5b0f-446a-a306-91672c0026fb",
   "metadata": {},
   "source": [
    "<img width=\"330\" alt=\"image\" src=\"https://user-images.githubusercontent.com/42428487/165091725-9116626d-7e42-4491-8d67-eb591dc2db04.png\">"
   ]
  }
 ],
 "metadata": {
  "kernelspec": {
   "display_name": "Python 3 (ipykernel)",
   "language": "python",
   "name": "python3"
  },
  "language_info": {
   "codemirror_mode": {
    "name": "ipython",
    "version": 3
   },
   "file_extension": ".py",
   "mimetype": "text/x-python",
   "name": "python",
   "nbconvert_exporter": "python",
   "pygments_lexer": "ipython3",
   "version": "3.7.0"
  }
 },
 "nbformat": 4,
 "nbformat_minor": 5
}
