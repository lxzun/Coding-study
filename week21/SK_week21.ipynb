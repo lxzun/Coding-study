{
 "cells": [
  {
   "cell_type": "markdown",
   "metadata": {
    "tags": []
   },
   "source": [
    "# [**696. Count Binary Substrings**](https://leetcode.com/problems/count-binary-substrings/)\n",
    "\n",
    "<div class=\"content__u3I1 question-content__JfgR\"><div><p>Give a binary string <code>s</code>, return the number of non-empty substrings that have the same number of <code>0</code>'s and <code>1</code>'s, and all the <code>0</code>'s and all the <code>1</code>'s in these substrings are grouped consecutively.</p>\n",
    "\n",
    "<p>Substrings that occur multiple times are counted the number of times they occur.</p>\n",
    "\n",
    "<p>&nbsp;</p>\n",
    "<p><strong>Example 1:</strong></p>\n",
    "\n",
    "<pre><strong>Input:</strong> s = \"00110011\"\n",
    "<strong>Output:</strong> 6\n",
    "<strong>Explanation:</strong> There are 6 substrings that have equal number of consecutive 1's and 0's: \"0011\", \"01\", \"1100\", \"10\", \"0011\", and \"01\".\n",
    "Notice that some of these substrings repeat and are counted the number of times they occur.\n",
    "Also, \"00110011\" is not a valid substring because all the 0's (and 1's) are not grouped together.\n",
    "</pre>\n",
    "\n",
    "<p><strong>Example 2:</strong></p>\n",
    "\n",
    "<pre><strong>Input:</strong> s = \"10101\"\n",
    "<strong>Output:</strong> 4\n",
    "<strong>Explanation:</strong> There are 4 substrings: \"10\", \"01\", \"10\", \"01\" that have equal number of consecutive 1's and 0's.\n",
    "</pre>\n",
    "\n",
    "<p>&nbsp;</p>\n",
    "<p><strong>Constraints:</strong></p>\n",
    "\n",
    "<ul>\n",
    "\t<li><code>1 &lt;= s.length &lt;= 10<sup>5</sup></code></li>\n",
    "\t<li><code>s[i]</code> is either <code>'0'</code> or <code>'1'</code>.</li>\n",
    "</ul>\n",
    "</div></div>"
   ]
  },
  {
   "cell_type": "markdown",
   "metadata": {
    "tags": []
   },
   "source": [
    "---\n",
    "## **Solution.py**"
   ]
  },
  {
   "cell_type": "code",
   "execution_count": 1,
   "metadata": {},
   "outputs": [],
   "source": [
    "from pprint import pprint"
   ]
  },
  {
   "cell_type": "code",
   "execution_count": 1,
   "metadata": {},
   "outputs": [],
   "source": [
    "from typing import List, Dict, Tuple"
   ]
  },
  {
   "cell_type": "code",
   "execution_count": 2,
   "metadata": {},
   "outputs": [],
   "source": [
    "class Solution:\n",
    "    def countBinarySubstrings(self, s: str) -> int:\n",
    "        answer = 0\n",
    "        for i in range(len(s)):\n",
    "            start = s[i]\n",
    "            consecutive = 1\n",
    "            ss = None\n",
    "\n",
    "            for j in range(i+1, len(s)):\n",
    "                if start != s[j]:\n",
    "                    ss = start*(j-i)+s[j]*(j-i)\n",
    "                    break\n",
    "            if ss and ss == s[i:2*j-i]:\n",
    "                # print(s[i:3*j-2*i])\n",
    "                answer += 1\n",
    "        \n",
    "        return answer"
   ]
  },
  {
   "attachments": {
    "image.png": {
     "image/png": "[encoded data removed]"
    }
   },
   "cell_type": "markdown",
   "metadata": {},
   "source": [
    "![image.png](attachment:image.png)"
   ]
  },
  {
   "cell_type": "code",
   "execution_count": 3,
   "metadata": {},
   "outputs": [],
   "source": [
    "class Solution:\n",
    "    def countBinarySubstrings(self, s: str) -> int:\n",
    "        diff_idxs = []\n",
    "        s_length = len(s)\n",
    "        for i, c in enumerate(s):\n",
    "            if c != s[i-1] and i != 0:\n",
    "                diff_idxs.append(i)\n",
    "        # print(diff_idxs)\n",
    "        \n",
    "        answer = 0\n",
    "        if len(diff_idxs) == 1:\n",
    "            answer += min(diff_idxs[0], s_length-diff_idxs[0])\n",
    "        else:\n",
    "            for i, idx in enumerate(diff_idxs):\n",
    "                if i == 0:\n",
    "                    answer += min(idx, diff_idxs[i+1]-idx)\n",
    "                elif i == len(diff_idxs)-1:\n",
    "                    answer += min(idx - diff_idxs[i-1], s_length-idx)\n",
    "                else:\n",
    "                    answer += min(idx-diff_idxs[i-1], diff_idxs[i+1] - idx)\n",
    "                \n",
    "        return answer\n",
    "                "
   ]
  },
  {
   "cell_type": "code",
   "execution_count": 4,
   "metadata": {},
   "outputs": [],
   "source": [
    "inputs = [\n",
    "    \"00110011\",\n",
    "    \"10101\"\n",
    "]\n",
    "outputs = [\n",
    "    6,\n",
    "    4\n",
    "]"
   ]
  },
  {
   "cell_type": "code",
   "execution_count": 5,
   "metadata": {},
   "outputs": [
    {
     "name": "stdout",
     "output_type": "stream",
     "text": [
      "True 6 6\n",
      "True 4 4\n"
     ]
    }
   ],
   "source": [
    "solution = Solution().countBinarySubstrings\n",
    "\n",
    "for idx, (i, o) in enumerate(zip(inputs, outputs)):\n",
    "    sol_ = solution(i)\n",
    "    print(sol_==o, sol_, o)"
   ]
  },
  {
   "attachments": {
    "image.png": {
     "image/png": "[encoded data removed]"
    }
   },
   "cell_type": "markdown",
   "metadata": {},
   "source": [
    "![image.png](attachment:image.png)"
   ]
  },
  {
   "cell_type": "markdown",
   "metadata": {},
   "source": [
    "<br>\n",
    "\n",
    "---\n",
    "---\n",
    "\n",
    "<br>"
   ]
  },
  {
   "cell_type": "markdown",
   "metadata": {
    "tags": []
   },
   "source": [
    "# [**2171. Removing Minimum Number of Magic Beans**](https://leetcode.com/problems/removing-minimum-number-of-magic-beans/)\n",
    "\n",
    "<div class=\"content__u3I1 question-content__JfgR\"><div><p>You are given an array of <strong>positive</strong> integers <code>beans</code>, where each integer represents the number of magic beans found in a particular magic bag.</p>\n",
    "\n",
    "<p><strong>Remove</strong> any number of beans (<strong>possibly none</strong>) from each bag such that the number of beans in each remaining <strong>non-empty</strong> bag (still containing <strong>at least one</strong> bean) is <strong>equal</strong>. Once a bean has been removed from a bag, you are <strong>not</strong> allowed to return it to any of the bags.</p>\n",
    "\n",
    "<p>Return <em>the <strong>minimum</strong> number of magic beans that you have to remove</em>.</p>\n",
    "\n",
    "<p>&nbsp;</p>\n",
    "<p><strong>Example 1:</strong></p>\n",
    "\n",
    "<pre><strong>Input:</strong> beans = [4,<u><strong>1</strong></u>,6,5]\n",
    "<strong>Output:</strong> 4\n",
    "<strong>Explanation:</strong> \n",
    "- We remove 1 bean from the bag with only 1 bean.\n",
    "  This results in the remaining bags: [4,<b><u>0</u></b>,6,5]\n",
    "- Then we remove 2 beans from the bag with 6 beans.\n",
    "  This results in the remaining bags: [4,0,<strong><u>4</u></strong>,5]\n",
    "- Then we remove 1 bean from the bag with 5 beans.\n",
    "  This results in the remaining bags: [4,0,4,<b><u>4</u></b>]\n",
    "We removed a total of 1 + 2 + 1 = 4 beans to make the remaining non-empty bags have an equal number of beans.\n",
    "There are no other solutions that remove 4 beans or fewer.\n",
    "</pre>\n",
    "\n",
    "<p><strong>Example 2:</strong></p>\n",
    "\n",
    "<pre><strong>Input:</strong> beans = [<strong><u>2</u></strong>,10,<u><strong>3</strong></u>,<strong><u>2</u></strong>]\n",
    "<strong>Output:</strong> 7\n",
    "<strong>Explanation:</strong>\n",
    "- We remove 2 beans from one of the bags with 2 beans.\n",
    "  This results in the remaining bags: [<u><strong>0</strong></u>,10,3,2]\n",
    "- Then we remove 2 beans from the other bag with 2 beans.\n",
    "  This results in the remaining bags: [0,10,3,<u><strong>0</strong></u>]\n",
    "- Then we remove 3 beans from the bag with 3 beans. \n",
    "  This results in the remaining bags: [0,10,<u><strong>0</strong></u>,0]\n",
    "We removed a total of 2 + 2 + 3 = 7 beans to make the remaining non-empty bags have an equal number of beans.\n",
    "There are no other solutions that removes 7 beans or fewer.\n",
    "</pre>\n",
    "\n",
    "<p>&nbsp;</p>\n",
    "<p><strong>Constraints:</strong></p>\n",
    "\n",
    "<ul>\n",
    "\t<li><code>1 &lt;= beans.length &lt;= 10<sup>5</sup></code></li>\n",
    "\t<li><code>1 &lt;= beans[i] &lt;= 10<sup>5</sup></code></li>\n",
    "</ul>\n",
    "</div></div>"
   ]
  },
  {
   "cell_type": "markdown",
   "metadata": {
    "tags": []
   },
   "source": [
    "## **Solution.py**"
   ]
  },
  {
   "cell_type": "code",
   "execution_count": 6,
   "metadata": {},
   "outputs": [],
   "source": [
    "from typing import List, Dict, Tuple"
   ]
  },
  {
   "cell_type": "code",
   "execution_count": 7,
   "metadata": {},
   "outputs": [],
   "source": [
    "class Solution:\n",
    "    def minimumRemoval(self, beans: List[int]) -> int:\n",
    "        sorted_idxs = sorted(range(len(beans)), key=lambda k: beans[k])\n",
    "        total_beans = sum(beans)\n",
    "        bean_length = len(beans)\n",
    "        min_beans = total_beans\n",
    "        \n",
    "        for i, idx in enumerate(sorted_idxs):\n",
    "            left_bean_idxs = bean_length - i \n",
    "            # print(total_beans, beans[idx] * left_bean_idxs)\n",
    "            throwout_beans = total_beans - beans[idx] * left_bean_idxs\n",
    "            min_beans = min(min_beans, throwout_beans)\n",
    "        \n",
    "        return min_beans\n"
   ]
  },
  {
   "cell_type": "code",
   "execution_count": 8,
   "metadata": {},
   "outputs": [],
   "source": [
    "inputs = [\n",
    "    [4,1,6,5],\n",
    "    [2,10,3,2]\n",
    "]\n",
    "outputs = [\n",
    "    4,\n",
    "    7\n",
    "]"
   ]
  },
  {
   "cell_type": "code",
   "execution_count": 9,
   "metadata": {
    "tags": []
   },
   "outputs": [
    {
     "name": "stdout",
     "output_type": "stream",
     "text": [
      "True 4 4\n",
      "True 7 7\n"
     ]
    }
   ],
   "source": [
    "solution = Solution().minimumRemoval\n",
    "\n",
    "for idx, (i, o) in enumerate(zip(inputs, outputs)):\n",
    "    sol_ = solution(i)\n",
    "    print(sol_==o, sol_, o)"
   ]
  },
  {
   "attachments": {
    "image.png": {
     "image/png": "[encoded data removed]"
    }
   },
   "cell_type": "markdown",
   "metadata": {},
   "source": [
    "![image.png](attachment:image.png)"
   ]
  },
  {
   "cell_type": "code",
   "execution_count": null,
   "metadata": {},
   "outputs": [],
   "source": []
  }
 ],
 "metadata": {
  "kernelspec": {
   "display_name": "Python 3",
   "language": "python",
   "name": "python3"
  },
  "language_info": {
   "codemirror_mode": {
    "name": "ipython",
    "version": 3
   },
   "file_extension": ".py",
   "mimetype": "text/x-python",
   "name": "python",
   "nbconvert_exporter": "python",
   "pygments_lexer": "ipython3",
   "version": "3.7.7"
  }
 },
 "nbformat": 4,
 "nbformat_minor": 5
}
