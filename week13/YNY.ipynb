{
 "cells": [
  {
   "cell_type": "code",
   "execution_count": null,
   "id": "4c941b09-cbc6-495b-841a-0a0f8ca9ad03",
   "metadata": {},
   "outputs": [],
   "source": [
    "from itertools import combinations_with_replacement\n",
    "from collections import Counter\n",
    "\n",
    "def solution(n, info):\n",
    "    max_subs = 0\n",
    "    max_count = {}\n",
    "    for lion_shoots in combinations_with_replacement(range(11), n):\n",
    "        lion_count = Counter(lion_shoots)\n",
    "        app,lion=0,0\n",
    "        for i in range(1,11):\n",
    "            if info[10-i] < lion_count[i]:\n",
    "                app += i\n",
    "            elif info[10-i] > 0:\n",
    "                lion += i\n",
    "\n",
    "        subs = app-lion\n",
    "        if subs > max_subs:\n",
    "            max_subs = subs\n",
    "            max_count = lion_count\n",
    "    if max_subs > 0:\n",
    "        answer = [0]*11\n",
    "        for i in max_count:\n",
    "            answer[10-i] = max_count[i]\n",
    "        return answer\n",
    "    else: return [-1]"
   ]
  },
  {
   "cell_type": "code",
   "execution_count": null,
   "id": "8b149ee9-05c4-41d2-aa55-8f0e70b864df",
   "metadata": {},
   "outputs": [],
   "source": [
    "import numpy as np\n",
    "def solution(board, skill):\n",
    "    board = np.array(board)\n",
    "    for one_skill in skill:\n",
    "        r1, r2 = one_skill[1],one_skill[2]\n",
    "        c1, c2 = one_skill[3], one_skill[4]\n",
    "\n",
    "        if one_skill[0] == 1:\n",
    "            board[r1:c1+1,r2:c2+1]-=one_skill[5]\n",
    "\n",
    "        else:\n",
    "            board[r1:c1+1,r2:c2+1]+=one_skill[5]\n",
    "    board = np.where(board < 0, 0, board)\n",
    "    board = np.where(board > 0, 1, board)\n",
    "    answer = int(board.sum())\n",
    "    return answer"
   ]
  }
 ],
 "metadata": {
  "kernelspec": {
   "display_name": "Python 3 (ipykernel)",
   "language": "python",
   "name": "python3"
  },
  "language_info": {
   "codemirror_mode": {
    "name": "ipython",
    "version": 3
   },
   "file_extension": ".py",
   "mimetype": "text/x-python",
   "name": "python",
   "nbconvert_exporter": "python",
   "pygments_lexer": "ipython3",
   "version": "3.8.12"
  }
 },
 "nbformat": 4,
 "nbformat_minor": 5
}
