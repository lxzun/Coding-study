{
 "cells": [
  {
   "cell_type": "markdown",
   "metadata": {},
   "source": [
    "# [*1572. Matrix Diagonal Sum*](https://leetcode.com/problems/matrix-diagonal-sum/)\n",
    "<div><p>Given a&nbsp;square&nbsp;matrix&nbsp;<code>mat</code>, return the sum of the matrix diagonals.</p>\n",
    "\n",
    "<p>Only include the sum of all the elements on the primary diagonal and all the elements on the secondary diagonal that are not part of the primary diagonal.</p>\n",
    "\n",
    "<p>&nbsp;</p>\n",
    "<p><strong>Example 1:</strong></p>\n",
    "<img alt=\"\" src=\"https://assets.leetcode.com/uploads/2020/08/14/sample_1911.png\" style=\"width: 336px; height: 174px;\">\n",
    "<pre><strong>Input:</strong> mat = [[<strong>1</strong>,2,<strong>3</strong>],\n",
    "&nbsp;             [4,<strong>5</strong>,6],\n",
    "&nbsp;             [<strong>7</strong>,8,<strong>9</strong>]]\n",
    "<strong>Output:</strong> 25\n",
    "<strong>Explanation: </strong>Diagonals sum: 1 + 5 + 9 + 3 + 7 = 25\n",
    "Notice that element mat[1][1] = 5 is counted only once.\n",
    "</pre>\n",
    "\n",
    "<p><strong>Example 2:</strong></p>\n",
    "\n",
    "<pre><strong>Input:</strong> mat = [[<strong>1</strong>,1,1,<strong>1</strong>],\n",
    "&nbsp;             [1,<strong>1</strong>,<strong>1</strong>,1],\n",
    "&nbsp;             [1,<strong>1</strong>,<strong>1</strong>,1],\n",
    "&nbsp;             [<strong>1</strong>,1,1,<strong>1</strong>]]\n",
    "<strong>Output:</strong> 8\n",
    "</pre>\n",
    "\n",
    "<p><strong>Example 3:</strong></p>\n",
    "\n",
    "<pre><strong>Input:</strong> mat = [[<strong>5</strong>]]\n",
    "<strong>Output:</strong> 5\n",
    "</pre>\n",
    "\n",
    "<p>&nbsp;</p>\n",
    "<p><strong>Constraints:</strong></p>\n",
    "\n",
    "<ul>\n",
    "\t<li><code>n == mat.length == mat[i].length</code></li>\n",
    "\t<li><code>1 &lt;= n &lt;= 100</code></li>\n",
    "\t<li><code>1 &lt;= mat[i][j] &lt;= 100</code></li>\n",
    "</ul>\n",
    "</div>"
   ]
  },
  {
   "cell_type": "code",
   "execution_count": 1,
   "metadata": {
    "pycharm": {
     "name": "#%%\n"
    }
   },
   "outputs": [],
   "source": [
    "from typing import List, Dict, Tuple\n",
    "\n",
    "class Solution:\n",
    "    def diagonalSum(self, mat: List[List[int]]) -> int:\n",
    "        pass"
   ]
  },
  {
   "cell_type": "code",
   "execution_count": 2,
   "metadata": {
    "pycharm": {
     "name": "#%%\n"
    }
   },
   "outputs": [
    {
     "name": "stdout",
     "output_type": "stream",
     "text": [
      "Prices: [8, 4, 6, 2, 3]\n",
      "Ans: [4, 2, 4, 2, 3]\tTrue\n",
      "\n",
      "Prices: [1, 2, 3, 4, 5]\n",
      "Ans: [1, 2, 3, 4, 5]\tTrue\n",
      "\n"
     ]
    }
   ],
   "source": [
    "case1 = [[[1,2,3],[4,5,6],[7,8,9]], 25]\n",
    "case2 = [[[1,1,1,1], [1,1,1,1], [1,1,1,1], [1,1,1,1]], 8]\n",
    "case3 = [[[5]], 5]\n",
    "func = Solution()\n",
    "for mat, ans in [case1, case2, case3]:\n",
    "    print(f'Mat: {mat}')\n",
    "    print(f'Ans: {ans}\\t{func.diagonalSum(mat)==ans}\\n')\n",
    "    "
   ]
  },
  {
   "cell_type": "markdown",
   "metadata": {
    "pycharm": {
     "name": "#%% md\n"
    }
   },
   "source": [
    "\n",
    "---"
   ]
  },
  {
   "cell_type": "markdown",
   "metadata": {},
   "source": [
    "# [*623. Add One Row to Tree*](https://leetcode.com/problems/add-one-row-to-tree/)\n",
    "<div><p>Given the <code>root</code> of a binary tree and two integers <code>val</code> and <code>depth</code>, add a row of nodes with value <code>val</code> at the given depth <code>depth</code>.</p>\n",
    "\n",
    "<p>Note that the <code>root</code> node is at depth <code>1</code>.</p>\n",
    "\n",
    "<p>The adding rule is:</p>\n",
    "\n",
    "<ul>\n",
    "\t<li>Given the integer <code>depth</code>, for each not None tree node <code>cur</code> at the depth <code>depth - 1</code>, create two tree nodes with value <code>val</code> as <code>cur</code>'s left subtree root and right subtree root.</li>\n",
    "\t<li><code>cur</code>'s original left subtree should be the left subtree of the new left subtree root.</li>\n",
    "\t<li><code>cur</code>'s original right subtree should be the right subtree of the new right subtree root.</li>\n",
    "\t<li>If <code>depth == 1</code> that means there is no depth <code>depth - 1</code> at all, then create a tree node with value <code>val</code> as the new root of the whole original tree, and the original tree is the new root's left subtree.</li>\n",
    "</ul>\n",
    "\n",
    "<p>&nbsp;</p>\n",
    "<p><strong>Example 1:</strong></p>\n",
    "<img alt=\"\" src=\"https://assets.leetcode.com/uploads/2021/03/15/addrow-tree.jpg\" style=\"width: 500px; height: 231px;\">\n",
    "<pre><strong>Input:</strong> root = [4,2,6,3,1,5], val = 1, depth = 2\n",
    "<strong>Output:</strong> [4,1,1,2,None,None,6,3,1,5]\n",
    "</pre>\n",
    "\n",
    "<p><strong>Example 2:</strong></p>\n",
    "<img alt=\"\" src=\"https://assets.leetcode.com/uploads/2021/03/11/add2-tree.jpg\" style=\"width: 500px; height: 277px;\">\n",
    "<pre><strong>Input:</strong> root = [4,2,None,3,1], val = 1, depth = 3\n",
    "<strong>Output:</strong> [4,2,None,1,1,3,None,None,1]\n",
    "</pre>\n",
    "\n",
    "<p>&nbsp;</p>\n",
    "<p><strong>Constraints:</strong></p>\n",
    "\n",
    "<ul>\n",
    "\t<li>The number of nodes in the tree is in the range <code>[1, 10<sup>4</sup>]</code>.</li>\n",
    "\t<li>The depth of the tree is in the range <code>[1, 10<sup>4</sup>]</code>.</li>\n",
    "\t<li><code>-100 &lt;= Node.val &lt;= 100</code></li>\n",
    "\t<li><code>-10<sup>5</sup> &lt;= val &lt;= 10<sup>5</sup></code></li>\n",
    "\t<li><code>1 &lt;= depth &lt;= the depth of tree + 1</code></li>\n",
    "</ul>\n",
    "</div>"
   ]
  },
  {
   "cell_type": "code",
   "execution_count": 3,
   "metadata": {
    "pycharm": {
     "name": "#%%\n"
    }
   },
   "outputs": [],
   "source": [
    "from typing import List, Dict, Tuple\n",
    "\n",
    "# Definition for a binary tree node.\n",
    "# class TreeNode:\n",
    "#     def __init__(self, val=0, left=None, right=None):\n",
    "#         self.val = val\n",
    "#         self.left = left\n",
    "#         self.right = right\n",
    "class Solution:\n",
    "    def addOneRow(self, root: Optional[TreeNode], val: int, depth: int) -> Optional[TreeNode]:\n",
    "        pass"
   ]
  },
  {
   "cell_type": "code",
   "execution_count": 4,
   "metadata": {
    "pycharm": {
     "name": "#%%\n"
    }
   },
   "outputs": [
    {
     "name": "stdout",
     "output_type": "stream",
     "text": [
      "Inputs: board = [[-1, -1, -1, -1, -1, -1], [-1, -1, -1, -1, -1, -1], [-1, -1, -1, -1, -1, -1], [-1, 35, -1, -1, 13, -1], [-1, -1, -1, -1, -1, -1], [-1, 15, -1, -1, -1, -1]]\n",
      "Output: 4 True\n",
      "\n",
      "Inputs: board = [[-1, -1], [-1, 3]]\n",
      "Output: 1 True\n",
      "\n"
     ]
    }
   ],
   "source": [
    "case1 = [[4,2,6,3,1,5], 1, 2, [4,1,1,2,None,None,6,3,1,5]]\n",
    "case2 = [[4,2,None,3,1], 1, 3, [4,2,None,1,1,3,None,None,1]]\n",
    "func = Solution()\n",
    "for root, val, depth, ans in [case1, case2]:\n",
    "    print(f'Inputs: root = {root}, val = {val},  depth = {depth}')\n",
    "    print(f'Output: {ans} {func.addOneRow(root, val, depth)==ans}\\n')\n"
   ]
  },
  {
   "cell_type": "markdown",
   "metadata": {
    "pycharm": {
     "name": "#%% md\n"
    }
   },
   "source": []
  }
 ],
 "metadata": {
  "kernelspec": {
   "name": "pycharm-763154ad",
   "language": "python",
   "display_name": "PyCharm (Coding-study)"
  },
  "language_info": {
   "codemirror_mode": {
    "name": "ipython",
    "version": 3
   },
   "file_extension": ".py",
   "mimetype": "text/x-python",
   "name": "python",
   "nbconvert_exporter": "python",
   "pygments_lexer": "ipython3",
   "version": "3.8.5"
  }
 },
 "nbformat": 4,
 "nbformat_minor": 1
}