{
 "cells": [
  {
   "cell_type": "markdown",
   "id": "df5f6a66",
   "metadata": {},
   "source": [
    "# [**1572. Matrix Diagonal Sum**](https://leetcode.com/problems/matrix-diagonal-sum/)\n",
    "<div><p>Given a&nbsp;square&nbsp;matrix&nbsp;<code>mat</code>, return the sum of the matrix diagonals.</p>\n",
    "\n",
    "<p>Only include the sum of all the elements on the primary diagonal and all the elements on the secondary diagonal that are not part of the primary diagonal.</p>\n",
    "\n",
    "<p>&nbsp;</p>\n",
    "<p><strong>Example 1:</strong></p>\n",
    "<img alt=\"\" src=\"https://assets.leetcode.com/uploads/2020/08/14/sample_1911.png\" style=\"width: 336px; height: 174px;\">\n",
    "<pre><strong>Input:</strong> mat = [[<strong>1</strong>,2,<strong>3</strong>],\n",
    "&nbsp;             [4,<strong>5</strong>,6],\n",
    "&nbsp;             [<strong>7</strong>,8,<strong>9</strong>]]\n",
    "<strong>Output:</strong> 25\n",
    "<strong>Explanation: </strong>Diagonals sum: 1 + 5 + 9 + 3 + 7 = 25\n",
    "Notice that element mat[1][1] = 5 is counted only once.\n",
    "</pre>\n",
    "\n",
    "<p><strong>Example 2:</strong></p>\n",
    "\n",
    "<pre><strong>Input:</strong> mat = [[<strong>1</strong>,1,1,<strong>1</strong>],\n",
    "&nbsp;             [1,<strong>1</strong>,<strong>1</strong>,1],\n",
    "&nbsp;             [1,<strong>1</strong>,<strong>1</strong>,1],\n",
    "&nbsp;             [<strong>1</strong>,1,1,<strong>1</strong>]]\n",
    "<strong>Output:</strong> 8\n",
    "</pre>\n",
    "\n",
    "<p><strong>Example 3:</strong></p>\n",
    "\n",
    "<pre><strong>Input:</strong> mat = [[<strong>5</strong>]]\n",
    "<strong>Output:</strong> 5\n",
    "</pre>\n",
    "\n",
    "<p>&nbsp;</p>\n",
    "<p><strong>Constraints:</strong></p>\n",
    "\n",
    "<ul>\n",
    "\t<li><code>n == mat.length == mat[i].length</code></li>\n",
    "\t<li><code>1 &lt;= n &lt;= 100</code></li>\n",
    "\t<li><code>1 &lt;= mat[i][j] &lt;= 100</code></li>\n",
    "</ul>\n",
    "</div>\n"
   ]
  },
  {
   "cell_type": "markdown",
   "id": "7e2011b9-072b-4732-8a9f-aa8cb80160e3",
   "metadata": {
    "tags": []
   },
   "source": [
    "---\n",
    "## **Solution.py**"
   ]
  },
  {
   "cell_type": "code",
   "execution_count": 1,
   "id": "47179035-f285-487c-831d-6a838c9d6f44",
   "metadata": {},
   "outputs": [],
   "source": [
    "from pprint import pprint"
   ]
  },
  {
   "cell_type": "code",
   "execution_count": 2,
   "id": "290dfb34-c6a6-4c36-a410-7845f1909a25",
   "metadata": {},
   "outputs": [],
   "source": [
    "from typing import List, Dict, Tuple"
   ]
  },
  {
   "cell_type": "code",
   "execution_count": 2,
   "id": "f21e50c7-ae80-4e9d-a7e0-bbdcc164b597",
   "metadata": {},
   "outputs": [
    {
     "ename": "NameError",
     "evalue": "name 'List' is not defined",
     "output_type": "error",
     "traceback": [
      "\u001b[1;31m---------------------------------------------------------------------------\u001b[0m",
      "\u001b[1;31mNameError\u001b[0m                                 Traceback (most recent call last)",
      "\u001b[1;32m~\\AppData\\Local\\Temp/ipykernel_2184/988012912.py\u001b[0m in \u001b[0;36m<module>\u001b[1;34m\u001b[0m\n\u001b[1;32m----> 1\u001b[1;33m \u001b[1;32mclass\u001b[0m \u001b[0mSolution\u001b[0m\u001b[1;33m:\u001b[0m\u001b[1;33m\u001b[0m\u001b[1;33m\u001b[0m\u001b[0m\n\u001b[0m\u001b[0;32m      2\u001b[0m     \u001b[1;32mdef\u001b[0m \u001b[0mdiagonalSum\u001b[0m\u001b[1;33m(\u001b[0m\u001b[0mself\u001b[0m\u001b[1;33m,\u001b[0m \u001b[0mmat\u001b[0m\u001b[1;33m:\u001b[0m \u001b[0mList\u001b[0m\u001b[1;33m[\u001b[0m\u001b[0mList\u001b[0m\u001b[1;33m[\u001b[0m\u001b[0mint\u001b[0m\u001b[1;33m]\u001b[0m\u001b[1;33m]\u001b[0m\u001b[1;33m)\u001b[0m \u001b[1;33m->\u001b[0m \u001b[0mint\u001b[0m\u001b[1;33m:\u001b[0m\u001b[1;33m\u001b[0m\u001b[1;33m\u001b[0m\u001b[0m\n\u001b[0;32m      3\u001b[0m         \u001b[0mlen_mat\u001b[0m \u001b[1;33m=\u001b[0m \u001b[0mlen\u001b[0m\u001b[1;33m(\u001b[0m\u001b[0mmat\u001b[0m\u001b[1;33m)\u001b[0m\u001b[1;33m\u001b[0m\u001b[1;33m\u001b[0m\u001b[0m\n\u001b[0;32m      4\u001b[0m         \u001b[0mcnt\u001b[0m \u001b[1;33m=\u001b[0m \u001b[1;36m0\u001b[0m\u001b[1;33m\u001b[0m\u001b[1;33m\u001b[0m\u001b[0m\n\u001b[0;32m      5\u001b[0m         \u001b[0midx\u001b[0m \u001b[1;33m=\u001b[0m \u001b[1;36m0\u001b[0m\u001b[1;33m\u001b[0m\u001b[1;33m\u001b[0m\u001b[0m\n",
      "\u001b[1;32m~\\AppData\\Local\\Temp/ipykernel_2184/988012912.py\u001b[0m in \u001b[0;36mSolution\u001b[1;34m()\u001b[0m\n\u001b[0;32m      1\u001b[0m \u001b[1;32mclass\u001b[0m \u001b[0mSolution\u001b[0m\u001b[1;33m:\u001b[0m\u001b[1;33m\u001b[0m\u001b[1;33m\u001b[0m\u001b[0m\n\u001b[1;32m----> 2\u001b[1;33m     \u001b[1;32mdef\u001b[0m \u001b[0mdiagonalSum\u001b[0m\u001b[1;33m(\u001b[0m\u001b[0mself\u001b[0m\u001b[1;33m,\u001b[0m \u001b[0mmat\u001b[0m\u001b[1;33m:\u001b[0m \u001b[0mList\u001b[0m\u001b[1;33m[\u001b[0m\u001b[0mList\u001b[0m\u001b[1;33m[\u001b[0m\u001b[0mint\u001b[0m\u001b[1;33m]\u001b[0m\u001b[1;33m]\u001b[0m\u001b[1;33m)\u001b[0m \u001b[1;33m->\u001b[0m \u001b[0mint\u001b[0m\u001b[1;33m:\u001b[0m\u001b[1;33m\u001b[0m\u001b[1;33m\u001b[0m\u001b[0m\n\u001b[0m\u001b[0;32m      3\u001b[0m         \u001b[0mlen_mat\u001b[0m \u001b[1;33m=\u001b[0m \u001b[0mlen\u001b[0m\u001b[1;33m(\u001b[0m\u001b[0mmat\u001b[0m\u001b[1;33m)\u001b[0m\u001b[1;33m\u001b[0m\u001b[1;33m\u001b[0m\u001b[0m\n\u001b[0;32m      4\u001b[0m         \u001b[0mcnt\u001b[0m \u001b[1;33m=\u001b[0m \u001b[1;36m0\u001b[0m\u001b[1;33m\u001b[0m\u001b[1;33m\u001b[0m\u001b[0m\n\u001b[0;32m      5\u001b[0m         \u001b[0midx\u001b[0m \u001b[1;33m=\u001b[0m \u001b[1;36m0\u001b[0m\u001b[1;33m\u001b[0m\u001b[1;33m\u001b[0m\u001b[0m\n",
      "\u001b[1;31mNameError\u001b[0m: name 'List' is not defined"
     ]
    }
   ],
   "source": [
    "class Solution:\n",
    "    def diagonalSum(self, mat: List[List[int]]) -> int:\n",
    "        len_mat = len(mat)\n",
    "        cnt = 0\n",
    "        idx = 0\n",
    "        for i in mat:\n",
    "            if idx == len_mat-idx-1:\n",
    "                cnt += i[idx]\n",
    "                # print(mat[i][idx])\n",
    "            else:\n",
    "                cnt += i[idx]\n",
    "                cnt += i[len_mat-idx-1]\n",
    "                # print(mat[i][idx], mat[i][len_mat-idx-1])\n",
    "            idx += 1\n",
    "        return cnt\n",
    "                            "
   ]
  },
  {
   "cell_type": "code",
   "execution_count": 3,
   "id": "72ede3f3-fb13-4bb7-9d64-64d936a15c97",
   "metadata": {},
   "outputs": [],
   "source": [
    "inputs = [\n",
    "    [[1,2,3],[4,5,6],[7,8,9]],\n",
    "    [[1,1,1,1],[1,1,1,1],[1,1,1,1],[1,1,1,1]],\n",
    "    [[5]]\n",
    "]\n",
    "outputs = [\n",
    "    25,\n",
    "    8,\n",
    "    5\n",
    "]"
   ]
  },
  {
   "cell_type": "code",
   "execution_count": 4,
   "id": "d9a7d5c0-fe3b-48d6-b54b-e9e1c6668bf7",
   "metadata": {},
   "outputs": [
    {
     "ename": "NameError",
     "evalue": "name 'Solution' is not defined",
     "output_type": "error",
     "traceback": [
      "\u001b[1;31m---------------------------------------------------------------------------\u001b[0m",
      "\u001b[1;31mNameError\u001b[0m                                 Traceback (most recent call last)",
      "\u001b[1;32m~\\AppData\\Local\\Temp/ipykernel_2184/1861900382.py\u001b[0m in \u001b[0;36m<module>\u001b[1;34m\u001b[0m\n\u001b[1;32m----> 1\u001b[1;33m \u001b[0msolution\u001b[0m \u001b[1;33m=\u001b[0m \u001b[0mSolution\u001b[0m\u001b[1;33m(\u001b[0m\u001b[1;33m)\u001b[0m\u001b[1;33m.\u001b[0m\u001b[0mdiagonalSum\u001b[0m\u001b[1;33m\u001b[0m\u001b[1;33m\u001b[0m\u001b[0m\n\u001b[0m\u001b[0;32m      2\u001b[0m \u001b[1;33m\u001b[0m\u001b[0m\n\u001b[0;32m      3\u001b[0m \u001b[1;32mfor\u001b[0m \u001b[0midx\u001b[0m\u001b[1;33m,\u001b[0m \u001b[1;33m(\u001b[0m\u001b[0mi\u001b[0m\u001b[1;33m,\u001b[0m \u001b[0mo\u001b[0m\u001b[1;33m)\u001b[0m \u001b[1;32min\u001b[0m \u001b[0menumerate\u001b[0m\u001b[1;33m(\u001b[0m\u001b[0mzip\u001b[0m\u001b[1;33m(\u001b[0m\u001b[0minputs\u001b[0m\u001b[1;33m,\u001b[0m \u001b[0moutputs\u001b[0m\u001b[1;33m)\u001b[0m\u001b[1;33m)\u001b[0m\u001b[1;33m:\u001b[0m\u001b[1;33m\u001b[0m\u001b[1;33m\u001b[0m\u001b[0m\n\u001b[0;32m      4\u001b[0m     \u001b[0msol_\u001b[0m \u001b[1;33m=\u001b[0m \u001b[0msolution\u001b[0m\u001b[1;33m(\u001b[0m\u001b[0mi\u001b[0m\u001b[1;33m)\u001b[0m\u001b[1;33m\u001b[0m\u001b[1;33m\u001b[0m\u001b[0m\n\u001b[0;32m      5\u001b[0m     \u001b[0mprint\u001b[0m\u001b[1;33m(\u001b[0m\u001b[0msol_\u001b[0m\u001b[1;33m==\u001b[0m\u001b[0mo\u001b[0m\u001b[1;33m,\u001b[0m \u001b[0msol_\u001b[0m\u001b[1;33m,\u001b[0m \u001b[0mo\u001b[0m\u001b[1;33m)\u001b[0m\u001b[1;33m\u001b[0m\u001b[1;33m\u001b[0m\u001b[0m\n",
      "\u001b[1;31mNameError\u001b[0m: name 'Solution' is not defined"
     ]
    }
   ],
   "source": [
    "solution = Solution().diagonalSum\n",
    "\n",
    "for idx, (i, o) in enumerate(zip(inputs, outputs)):\n",
    "    sol_ = solution(i)\n",
    "    print(sol_==o, sol_, o)"
   ]
  },
  {
   "attachments": {
    "39d95f64-e59a-46a2-b44c-5119a5b33910.png": {
     "image/png": "[encoded data removed]"
    }
   },
   "cell_type": "markdown",
   "id": "9d1db16b-f582-4e94-8495-17fcc96e70e2",
   "metadata": {},
   "source": [
    "![image.png](attachment:39d95f64-e59a-46a2-b44c-5119a5b33910.png)"
   ]
  },
  {
   "cell_type": "markdown",
   "id": "30cd5633-fe90-4c81-998b-cf0c475d6274",
   "metadata": {},
   "source": [
    "<br>\n",
    "\n",
    "---\n",
    "---\n",
    "\n",
    "<br>"
   ]
  },
  {
   "cell_type": "markdown",
   "id": "ff49fb96-9c51-4fdc-a4b8-6a3cea4b148a",
   "metadata": {
    "tags": []
   },
   "source": [
    "# [**623. Add One Row to Tree**](https://leetcode.com/problems/add-one-row-to-tree/)\n",
    "<div><p>Given the <code>root</code> of a binary tree and two integers <code>val</code> and <code>depth</code>, add a row of nodes with value <code>val</code> at the given depth <code>depth</code>.</p>\n",
    "\n",
    "<p>Note that the <code>root</code> node is at depth <code>1</code>.</p>\n",
    "\n",
    "<p>The adding rule is:</p>\n",
    "\n",
    "<ul>\n",
    "\t<li>Given the integer <code>depth</code>, for each not null tree node <code>cur</code> at the depth <code>depth - 1</code>, create two tree nodes with value <code>val</code> as <code>cur</code>'s left subtree root and right subtree root.</li>\n",
    "\t<li><code>cur</code>'s original left subtree should be the left subtree of the new left subtree root.</li>\n",
    "\t<li><code>cur</code>'s original right subtree should be the right subtree of the new right subtree root.</li>\n",
    "\t<li>If <code>depth == 1</code> that means there is no depth <code>depth - 1</code> at all, then create a tree node with value <code>val</code> as the new root of the whole original tree, and the original tree is the new root's left subtree.</li>\n",
    "</ul>\n",
    "\n",
    "<p>&nbsp;</p>\n",
    "<p><strong>Example 1:</strong></p>\n",
    "<img alt=\"\" src=\"https://assets.leetcode.com/uploads/2021/03/15/addrow-tree.jpg\" style=\"width: 500px; height: 231px;\">\n",
    "<pre><strong>Input:</strong> root = [4,2,6,3,1,5], val = 1, depth = 2\n",
    "<strong>Output:</strong> [4,1,1,2,null,null,6,3,1,5]\n",
    "</pre>\n",
    "\n",
    "<p><strong>Example 2:</strong></p>\n",
    "<img alt=\"\" src=\"https://assets.leetcode.com/uploads/2021/03/11/add2-tree.jpg\" style=\"width: 500px; height: 277px;\">\n",
    "<pre><strong>Input:</strong> root = [4,2,null,3,1], val = 1, depth = 3\n",
    "<strong>Output:</strong> [4,2,null,1,1,3,null,null,1]\n",
    "</pre>\n",
    "\n",
    "<p>&nbsp;</p>\n",
    "<p><strong>Constraints:</strong></p>\n",
    "\n",
    "<ul>\n",
    "\t<li>The number of nodes in the tree is in the range <code>[1, 10<sup>4</sup>]</code>.</li>\n",
    "\t<li>The depth of the tree is in the range <code>[1, 10<sup>4</sup>]</code>.</li>\n",
    "\t<li><code>-100 &lt;= Node.val &lt;= 100</code></li>\n",
    "\t<li><code>-10<sup>5</sup> &lt;= val &lt;= 10<sup>5</sup></code></li>\n",
    "\t<li><code>1 &lt;= depth &lt;= the depth of tree + 1</code></li>\n",
    "</ul>\n",
    "</div>"
   ]
  },
  {
   "cell_type": "markdown",
   "id": "06add231-b098-4a98-b8c3-3854db004492",
   "metadata": {
    "tags": []
   },
   "source": [
    "## **Solution.py**"
   ]
  },
  {
   "cell_type": "code",
   "execution_count": 6,
   "id": "233e857e-b80b-490d-b3af-076e346c5237",
   "metadata": {},
   "outputs": [],
   "source": [
    "from typing import List, Dict, Tuple"
   ]
  },
  {
   "cell_type": "code",
   "execution_count": 7,
   "id": "29e9c103-58bd-4add-9d60-7837736dde64",
   "metadata": {},
   "outputs": [],
   "source": [
    "from collections import deque\n",
    "from copy import deepcopy\n",
    "\n",
    "class TreeNode:\n",
    "    def __init__(self, val=0, left=None, right=None):\n",
    "        self.val = val\n",
    "        self.left = left\n",
    "        self.right = right\n",
    "    \n",
    "def insert_by_depth(root, depth, val):\n",
    "    if depth == 1:\n",
    "        tmp = deepcopy(root)\n",
    "        return TreeNode(val, left=tmp)\n",
    "\n",
    "    queue = deque( [(1, root)] )\n",
    "    while queue:\n",
    "        d, node = queue.popleft()\n",
    "        if d == depth-1 and node:\n",
    "            l_tmp = deepcopy(node.left)\n",
    "            r_tmp = deepcopy(node.right)\n",
    "            node.left = TreeNode(val, left=l_tmp)\n",
    "            node.right = TreeNode(val, right=r_tmp)\n",
    "        if node:\n",
    "            queue.append((d+1, node.left))\n",
    "            queue.append((d+1, node.right))\n",
    "        if d >= depth or all( (not x for x in queue) ):\n",
    "            break\n",
    "    return root\n",
    "\n",
    "class Solution:\n",
    "    def addOneRow(self, root: TreeNode, val: int, depth: int) -> TreeNode:\n",
    "        root = insert_by_depth(root, depth, val)\n",
    "        return root"
   ]
  },
  {
   "cell_type": "markdown",
   "id": "cdf67edf-5b0f-446a-a306-91672c0026fb",
   "metadata": {},
   "source": [
    "<img width=\"330\" alt=\"image\" src=\"https://user-images.githubusercontent.com/42428487/161006130-17be91e9-5079-452f-ab34-c93b3d073225.png\">"
   ]
  },
  {
   "cell_type": "code",
   "execution_count": 8,
   "id": "08b0ff6d-6be7-4d4f-8592-da56f67d059b",
   "metadata": {},
   "outputs": [],
   "source": [
    "from collections import deque\n",
    "from copy import deepcopy\n",
    "\n",
    "class TreeNode:\n",
    "    def __init__(self, val=0, left=None, right=None):\n",
    "        self.val = val\n",
    "        self.left = left\n",
    "        self.right = right\n",
    "\n",
    "class BinarySearchTree:\n",
    "    def __init__(self, root=None):\n",
    "        self.root = root\n",
    "    \n",
    "    def creatBTree(self, arr, idx=0):\n",
    "        pNode = None\n",
    "        if idx < len(arr):\n",
    "            if arr[idx] == None:\n",
    "                return\n",
    "            pNode = TreeNode(arr[idx])\n",
    "            pNode.left  = self.creatBTree(arr, 2 * idx + 1)  # [1, 3, 7, 15, ...]\n",
    "            pNode.right = self.creatBTree(arr, 2 * idx + 2)  # [2, 5, 12, 25, ...]\n",
    "        self.root = pNode\n",
    "        return pNode\n",
    "    \n",
    "    def insert_by_depth(self, depth, val):\n",
    "        if depth == 1:\n",
    "            tmp = deepcopy(self.root)\n",
    "            self.root = TreeNode(val, left=tmp)\n",
    "        \n",
    "        else:\n",
    "            queue = deque( [(1, self.root)] )\n",
    "            while queue:\n",
    "                d, node = queue.popleft()\n",
    "                if d == depth-1 and node:\n",
    "                    l_tmp = deepcopy(node.left)\n",
    "                    r_tmp = deepcopy(node.right)\n",
    "                    node.left = TreeNode(val, left=l_tmp)\n",
    "                    node.right = TreeNode(val, right=r_tmp)\n",
    "                if node:\n",
    "                    queue.append((d+1, node.left))\n",
    "                    queue.append((d+1, node.right))\n",
    "                if d >= depth or all( (not x for x in queue) ):\n",
    "                    break\n",
    "\n",
    "    def BTree2List(self):\n",
    "        arr = []\n",
    "        queue = deque( [self.root] )\n",
    "        while queue:\n",
    "            node = queue.popleft()\n",
    "            if node:\n",
    "                arr.append(node.val)\n",
    "                queue.append(node.left)\n",
    "                queue.append(node.right)\n",
    "            else:\n",
    "                arr.append(None)\n",
    "            if all( (not x for x in queue) ):\n",
    "                break\n",
    "        return arr\n",
    "        \n",
    "class Solution:\n",
    "    def addOneRow(self, root: List, val: int, depth: int) -> List:\n",
    "        bst = BinarySearchTree()\n",
    "        bst.creatBTree(root)\n",
    "        bst.insert_by_depth(depth, val)\n",
    "        return bst.BTree2List()"
   ]
  },
  {
   "cell_type": "code",
   "execution_count": 9,
   "id": "203ffed6-5079-4de8-a6cd-1faf68318bc1",
   "metadata": {},
   "outputs": [],
   "source": [
    "inputs = [\n",
    "    ([4,2,6,3,1,5], 1, 2),\n",
    "    ([4,2,None,3,1], 1, 3),\n",
    "]\n",
    "outputs = [\n",
    "    [4,1,1,2,None,None,6,3,1,5],\n",
    "    [4,2,None,1,1,3,None,None,1]\n",
    "]"
   ]
  },
  {
   "cell_type": "code",
   "execution_count": 10,
   "id": "e2ba741e-00a2-45cc-b592-464f9a4af97f",
   "metadata": {
    "tags": []
   },
   "outputs": [
    {
     "name": "stdout",
     "output_type": "stream",
     "text": [
      "True [4, 1, 1, 2, None, None, 6, 3, 1, 5] [4, 1, 1, 2, None, None, 6, 3, 1, 5]\n",
      "True [4, 2, None, 1, 1, 3, None, None, 1] [4, 2, None, 1, 1, 3, None, None, 1]\n"
     ]
    }
   ],
   "source": [
    "solution = Solution().addOneRow\n",
    "\n",
    "for idx, (i, o) in enumerate(zip(inputs, outputs)):\n",
    "    sol_ = solution(*i)\n",
    "    print(sol_==o, sol_, o)"
   ]
  }
 ],
 "metadata": {
  "kernelspec": {
   "display_name": "Python 3 (ipykernel)",
   "language": "python",
   "name": "python3"
  },
  "language_info": {
   "codemirror_mode": {
    "name": "ipython",
    "version": 3
   },
   "file_extension": ".py",
   "mimetype": "text/x-python",
   "name": "python",
   "nbconvert_exporter": "python",
   "pygments_lexer": "ipython3",
   "version": "3.9.9"
  }
 },
 "nbformat": 4,
 "nbformat_minor": 5
}
