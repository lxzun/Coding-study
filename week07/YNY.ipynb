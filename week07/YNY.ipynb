{
 "cells": [
  {
   "cell_type": "code",
   "execution_count": null,
   "id": "63b7eb09-68f4-4189-bedf-d97ef6d7a38e",
   "metadata": {},
   "outputs": [],
   "source": [
    "def solution(lottos, win_nums):\n",
    "    answer = []\n",
    "    num_zero = lottos.count(0)\n",
    "\n",
    "    lottos = set(lottos) \n",
    "    win_nums = set(win_nums)\n",
    "\n",
    "    corrcet = lottos & win_nums\n",
    "\n",
    "    best = len(corrcet)+num_zero\n",
    "    worst = len(corrcet)\n",
    "\n",
    "    best_rank = min(7-best,6)    # best=0 -> rank=7 될 수 있어서\n",
    "    worst_rank = min(7-worst,6)  # worst=0 -> rank=7 될 수 있어서\n",
    "\n",
    "    answer.append(best_rank)\n",
    "    answer.append(worst_rank)\n",
    "    return answer"
   ]
  },
  {
   "cell_type": "code",
   "execution_count": 20,
   "id": "c65649b7-0290-4b12-8414-a5001ceec9bb",
   "metadata": {},
   "outputs": [],
   "source": [
    "from collections import defaultdict\n",
    "def solution(enroll, referral, seller, amount):\n",
    "    state_dict = dict(zip(enroll,referral))  # {'john': '-', 'mary': '-', 'edward': 'mary', 'sam': 'edward', 'emily': 'mary', 'jaimie': 'mary', 'tod': 'jaimie', 'young': 'edward'}\n",
    "    profit_dict = defaultdict(int)           # {'john': 0, 'mary': 0, 'edward': 0, 'sam': 0, 'emily': 0, 'jaimie': 0, 'tod': 0, 'young': 0}\n",
    "    answer = []\n",
    "\n",
    "    for _ in enroll:\n",
    "        profit_dict[_]=0 \n",
    "        \n",
    "    for idx, money in enumerate(amount):\n",
    "        current_seller = seller[idx]     # 현재 계산하고자 하는 판매원\n",
    "        recommend = state_dict[current_seller]   # 그 판매원을 소개한 사람\n",
    "        \n",
    "        seller_money = money*100         # 판매원이 번 돈\n",
    "        recommend_profit = int(seller_money*0.1) # 소개한 사람한테 줄 돈\n",
    "        sellers_profit = seller_money - recommend_profit \n",
    "        \n",
    "        profit_dict[current_seller] += sellers_profit\n",
    "        \n",
    "        while recommend != '-' and recommend_profit >=1:  # 더 이상의 소개한 사람이 없거나 1원 단위 이하로 내려가면 탈출\n",
    "            seller_money = recommend_profit \n",
    "            recommend_profit = int(seller_money*0.1)\n",
    "            seller_profit = seller_money - recommend_profit\n",
    "            \n",
    "            current_seller, recommend = state_dict[current_seller], state_dict[recommend] # 한단계 위 트리로 이동\n",
    "            profit_dict[current_seller] += seller_profit \n",
    "    \n",
    "    answer.append(profit_dict.values())\n",
    "\n",
    "    \n",
    "    return answer\n"
   ]
  },
  {
   "cell_type": "code",
   "execution_count": 21,
   "id": "ea4e5aeb-6e18-47bb-8d8b-d1609b400e49",
   "metadata": {},
   "outputs": [
    {
     "name": "stdout",
     "output_type": "stream",
     "text": [
      "enroll: ['john', 'mary', 'edward', 'sam', 'emily', 'jaimie', 'tod', 'young']\n",
      "referral: ['-', '-', 'mary', 'edward', 'mary', 'mary', 'jaimie', 'edward']\n",
      "seller: ['young', 'john', 'tod', 'emily', 'mary']\n",
      "ans: [360, 958, 108, 0, 450, 18, 180, 1080]\n",
      "defaultdict(<class 'int'>, {'john': 360, 'mary': 958, 'edward': 108, 'sam': 0, 'emily': 450, 'jaimie': 18, 'tod': 180, 'young': 1080})\n",
      "Ans: [dict_values([360, 958, 108, 0, 450, 18, 180, 1080])]\n",
      "\n",
      "enroll: ['john', 'mary', 'edward', 'sam', 'emily', 'jaimie', 'tod', 'young']\n",
      "referral: ['-', '-', 'mary', 'edward', 'mary', 'mary', 'jaimie', 'edward']\n",
      "seller: ['sam', 'emily', 'jaimie', 'edward']\n",
      "ans: [0, 110, 378, 180, 270, 450, 0, 0]\n",
      "defaultdict(<class 'int'>, {'john': 0, 'mary': 110, 'edward': 378, 'sam': 180, 'emily': 270, 'jaimie': 450, 'tod': 0, 'young': 0})\n",
      "Ans: [dict_values([0, 110, 378, 180, 270, 450, 0, 0])]\n",
      "\n"
     ]
    }
   ],
   "source": [
    "case1 = [[\"john\", \"mary\", \"edward\", \"sam\", \"emily\", \"jaimie\", \"tod\", \"young\"],\n",
    "         [\"-\", \"-\", \"mary\", \"edward\", \"mary\", \"mary\", \"jaimie\", \"edward\"],\n",
    "         [\"young\", \"john\", \"tod\", \"emily\", \"mary\"], [12, 4, 2, 5, 10], [360, 958, 108, 0, 450, 18, 180, 1080]]\n",
    "case2 = [[\"john\", \"mary\", \"edward\", \"sam\", \"emily\", \"jaimie\", \"tod\", \"young\"],\n",
    "         [\"-\", \"-\", \"mary\", \"edward\", \"mary\", \"mary\", \"jaimie\", \"edward\"],\n",
    "         [\"sam\", \"emily\", \"jaimie\", \"edward\"], [2, 3, 5, 4], [0, 110, 378, 180, 270, 450, 0, 0]]\n",
    "for enroll, referral, seller, amount, ans in [case1, case2]:\n",
    "    print(f'enroll: {enroll}\\nreferral: {referral}\\nseller: {seller}\\nans: {ans}')\n",
    "    print(f'Ans: {solution(enroll, referral, seller, amount)}\\n')"
   ]
  }
 ],
 "metadata": {
  "kernelspec": {
   "display_name": "Python 3 (ipykernel)",
   "language": "python",
   "name": "python3"
  },
  "language_info": {
   "codemirror_mode": {
    "name": "ipython",
    "version": 3
   },
   "file_extension": ".py",
   "mimetype": "text/x-python",
   "name": "python",
   "nbconvert_exporter": "python",
   "pygments_lexer": "ipython3",
   "version": "3.8.12"
  }
 },
 "nbformat": 4,
 "nbformat_minor": 5
}
