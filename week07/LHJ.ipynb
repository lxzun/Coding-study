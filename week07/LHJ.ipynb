{
 "cells": [
  {
   "cell_type": "markdown",
   "source": [
    "# 로또의 최고 순위와 최저 순위\n",
    "\n",
    "<div class=\"guide-section\" id=\"tour2\" style=\"width: calc(100% - 12px);\">\n",
    "    <div class=\"guide-section-description\">\n",
    "      <h6 class=\"guide-section-title\">문제 설명</h6>\n",
    "      <div class=\"markdown solarized-dark\"><p><code>로또 6/45</code>(이하 '로또'로 표기)는 1부터 45까지의 숫자 중 6개를 찍어서 맞히는 대표적인 복권입니다. 아래는 로또의 순위를 정하는 방식입니다. <sup id=\"fnref1\"><a href=\"#fn1\">1</a></sup></p>\n",
    "<table class=\"table\">\n",
    "        <thead><tr>\n",
    "<th>순위</th>\n",
    "<th>당첨 내용</th>\n",
    "</tr>\n",
    "</thead>\n",
    "        <tbody><tr>\n",
    "<td>1</td>\n",
    "<td>6개 번호가 모두 일치</td>\n",
    "</tr>\n",
    "<tr>\n",
    "<td>2</td>\n",
    "<td>5개 번호가 일치</td>\n",
    "</tr>\n",
    "<tr>\n",
    "<td>3</td>\n",
    "<td>4개 번호가 일치</td>\n",
    "</tr>\n",
    "<tr>\n",
    "<td>4</td>\n",
    "<td>3개 번호가 일치</td>\n",
    "</tr>\n",
    "<tr>\n",
    "<td>5</td>\n",
    "<td>2개 번호가 일치</td>\n",
    "</tr>\n",
    "<tr>\n",
    "<td>6(낙첨)</td>\n",
    "<td>그 외</td>\n",
    "</tr>\n",
    "</tbody>\n",
    "      </table>\n",
    "<p>로또를 구매한 민우는 당첨 번호 발표일을 학수고대하고 있었습니다. 하지만, 민우의 동생이 로또에 낙서를 하여, 일부 번호를 알아볼 수 없게 되었습니다. 당첨 번호 발표 후, 민우는 자신이 구매했던 로또로 당첨이 가능했던 최고 순위와 최저 순위를 알아보고 싶어 졌습니다. <br>\n",
    "알아볼 수 없는 번호를 <code>0</code>으로 표기하기로 하고, 민우가 구매한 로또 번호 6개가 <code>44, 1, 0, 0, 31 25</code>라고 가정해보겠습니다. 당첨 번호 6개가 <code>31, 10, 45, 1, 6, 19</code>라면, 당첨 가능한 최고 순위와 최저 순위의 한 예는 아래와 같습니다.</p>\n",
    "<table class=\"table\">\n",
    "        <thead><tr>\n",
    "<th>당첨 번호</th>\n",
    "<th>31</th>\n",
    "<th>10</th>\n",
    "<th>45</th>\n",
    "<th>1</th>\n",
    "<th>6</th>\n",
    "<th>19</th>\n",
    "<th>결과</th>\n",
    "</tr>\n",
    "</thead>\n",
    "        <tbody><tr>\n",
    "<td>최고 순위 번호</td>\n",
    "<td><u><strong>31</strong></u></td>\n",
    "<td>0→<u><strong>10</strong></u></td>\n",
    "<td>44</td>\n",
    "<td><u><strong>1</strong></u></td>\n",
    "<td>0→<u><strong>6</strong></u></td>\n",
    "<td>25</td>\n",
    "<td>4개 번호 일치, 3등</td>\n",
    "</tr>\n",
    "<tr>\n",
    "<td>최저 순위 번호</td>\n",
    "<td><u><strong>31</strong></u></td>\n",
    "<td>0→11</td>\n",
    "<td>44</td>\n",
    "<td><u><strong>1</strong></u></td>\n",
    "<td>0→7</td>\n",
    "<td>25</td>\n",
    "<td>2개 번호 일치, 5등</td>\n",
    "</tr>\n",
    "</tbody>\n",
    "      </table>\n",
    "<ul>\n",
    "<li>순서와 상관없이, 구매한 로또에 당첨 번호와 일치하는 번호가 있으면 맞힌 걸로 인정됩니다. </li>\n",
    "<li>알아볼 수 없는 두 개의 번호를 각각 10, 6이라고 가정하면 3등에 당첨될 수 있습니다.\n",
    "\n",
    "<ul>\n",
    "<li>3등을 만드는 다른 방법들도 존재합니다. 하지만, 2등 이상으로 만드는 것은 불가능합니다. </li>\n",
    "</ul></li>\n",
    "<li>알아볼 수 없는 두 개의 번호를 각각 11, 7이라고 가정하면 5등에 당첨될 수 있습니다.\n",
    "\n",
    "<ul>\n",
    "<li>5등을 만드는 다른 방법들도 존재합니다. 하지만, 6등(낙첨)으로 만드는 것은 불가능합니다.</li>\n",
    "</ul></li>\n",
    "</ul>\n",
    "\n",
    "<p>민우가 구매한 로또 번호를 담은 배열 lottos, 당첨 번호를 담은 배열 win_nums가 매개변수로 주어집니다. 이때, 당첨 가능한 최고 순위와 최저 순위를 차례대로 배열에 담아서 return 하도록 solution 함수를 완성해주세요. </p>\n",
    "\n",
    "<h5>제한사항</h5>\n",
    "\n",
    "<ul>\n",
    "<li>lottos는 길이 6인 정수 배열입니다.</li>\n",
    "<li>lottos의 모든 원소는 0 이상 45 이하인 정수입니다.\n",
    "\n",
    "<ul>\n",
    "<li>0은 알아볼 수 없는 숫자를 의미합니다.</li>\n",
    "<li>0을 제외한 다른 숫자들은 lottos에 2개 이상 담겨있지 않습니다.</li>\n",
    "<li>lottos의 원소들은 정렬되어 있지 않을 수도 있습니다.</li>\n",
    "</ul></li>\n",
    "<li>win_nums은 길이 6인 정수 배열입니다.</li>\n",
    "<li>win_nums의 모든 원소는 1 이상 45 이하인 정수입니다.\n",
    "\n",
    "<ul>\n",
    "<li>win_nums에는 같은 숫자가 2개 이상 담겨있지 않습니다.</li>\n",
    "<li>win_nums의 원소들은 정렬되어 있지 않을 수도 있습니다.</li>\n",
    "</ul></li>\n",
    "</ul>\n",
    "\n",
    "<hr>\n",
    "\n",
    "<h5>입출력 예</h5>\n",
    "<table class=\"table\">\n",
    "        <thead><tr>\n",
    "<th>lottos</th>\n",
    "<th>win_nums</th>\n",
    "<th>result</th>\n",
    "</tr>\n",
    "</thead>\n",
    "        <tbody><tr>\n",
    "<td>[44, 1, 0, 0, 31, 25]</td>\n",
    "<td>[31, 10, 45, 1, 6, 19]</td>\n",
    "<td>[3, 5]</td>\n",
    "</tr>\n",
    "<tr>\n",
    "<td>[0, 0, 0, 0, 0, 0]</td>\n",
    "<td>[38, 19, 20, 40, 15, 25]</td>\n",
    "<td>[1, 6]</td>\n",
    "</tr>\n",
    "<tr>\n",
    "<td>[45, 4, 35, 20, 3, 9]</td>\n",
    "<td>[20, 9, 3, 45, 4, 35]</td>\n",
    "<td>[1, 1]</td>\n",
    "</tr>\n",
    "</tbody>\n",
    "      </table>\n",
    "<h5>입출력 예 설명</h5>\n",
    "\n",
    "<p>입출력 예 #1<br>\n",
    "문제 예시와 같습니다.</p>\n",
    "\n",
    "<p>입출력 예 #2<br>\n",
    "알아볼 수 없는 번호들이 아래와 같았다면, 1등과 6등에 당첨될 수 있습니다. </p>\n",
    "<table class=\"table\">\n",
    "        <thead><tr>\n",
    "<th>당첨 번호</th>\n",
    "<th>38</th>\n",
    "<th>19</th>\n",
    "<th>20</th>\n",
    "<th>40</th>\n",
    "<th>15</th>\n",
    "<th>25</th>\n",
    "<th>결과</th>\n",
    "</tr>\n",
    "</thead>\n",
    "        <tbody><tr>\n",
    "<td>최고 순위 번호</td>\n",
    "<td>0→<u><strong>38</strong></u></td>\n",
    "<td>0→<u><strong>19</strong></u></td>\n",
    "<td>0→<u><strong>20</strong></u></td>\n",
    "<td>0→<u><strong>40</strong></u></td>\n",
    "<td>0→<u><strong>15</strong></u></td>\n",
    "<td>0→<u><strong>25</strong></u></td>\n",
    "<td>6개 번호 일치, 1등</td>\n",
    "</tr>\n",
    "<tr>\n",
    "<td>최저 순위 번호</td>\n",
    "<td>0→21</td>\n",
    "<td>0→22</td>\n",
    "<td>0→23</td>\n",
    "<td>0→24</td>\n",
    "<td>0→26</td>\n",
    "<td>0→27</td>\n",
    "<td>0개 번호 일치, 6등</td>\n",
    "</tr>\n",
    "</tbody>\n",
    "      </table>\n",
    "<p>입출력 예 #3<br>\n",
    "민우가 구매한 로또의 번호와 당첨 번호가 모두 일치하므로, 최고 순위와 최저 순위는 모두 1등입니다. </p>\n",
    "\n",
    "<div class=\"footnotes\">\n",
    "<hr>\n",
    "<ol>\n",
    "\n",
    "<li id=\"fn1\">\n",
    "<p>실제로 사용되는 로또 순위의 결정 방식과는 약간 다르지만, 이 문제에서는 지문에 명시된 대로 로또 순위를 결정하도록 합니다. &nbsp;<a href=\"#fnref1\">↩</a></p>\n",
    "</li>\n",
    "\n",
    "</ol>\n",
    "</div>\n",
    "</div>\n",
    "    </div>\n",
    "\n",
    "---"
   ],
   "metadata": {
    "collapsed": false
   }
  },
  {
   "cell_type": "code",
   "execution_count": 5,
   "outputs": [],
   "source": [
    "from collections import Counter\n",
    "\n",
    "def solution(lottos, win_nums):\n",
    "    lottos = Counter(lottos)\n",
    "    win_nums = Counter(win_nums)\n",
    "    low = 0\n",
    "    for k in lottos.keys():\n",
    "        if k in win_nums:\n",
    "            low += 1\n",
    "    high = low + lottos[0]\n",
    "    \n",
    "    if high == 0:\n",
    "        high = 1\n",
    "    if low == 0:\n",
    "        low = 1\n",
    "        \n",
    "    answer = [7-high, 7-low]    \n",
    "    return answer\n"
   ],
   "metadata": {
    "collapsed": false,
    "pycharm": {
     "name": "#%%\n"
    }
   }
  },
  {
   "cell_type": "code",
   "execution_count": 6,
   "outputs": [
    {
     "name": "stdout",
     "output_type": "stream",
     "text": [
      "lottos: [44, 1, 0, 0, 31, 25], win_nums: [31, 10, 45, 1, 6, 19], ans: [3, 5]\n",
      "Ans: [3, 5]\n",
      "\n",
      "lottos: [0, 0, 0, 0, 0, 0], win_nums: [38, 19, 20, 40, 15, 25], ans: [1, 6]\n",
      "Ans: [1, 6]\n",
      "\n",
      "lottos: [45, 4, 35, 20, 3, 9], win_nums: [20, 9, 3, 45, 4, 35], ans: [1, 1]\n",
      "Ans: [1, 1]\n",
      "\n"
     ]
    }
   ],
   "source": [
    "case1 = [[44, 1, 0, 0, 31, 25], [31, 10, 45, 1, 6, 19], [3, 5]]\n",
    "case2 = [[0, 0, 0, 0, 0, 0], [38, 19, 20, 40, 15, 25], [1, 6]]\n",
    "case3 = [[45, 4, 35, 20, 3, 9], [20, 9, 3, 45, 4, 35], [1, 1]]\n",
    "for lottos, win_nums, ans in [case1, case2, case3]:\n",
    "    print(f'lottos: {lottos}, win_nums: {win_nums}, ans: {ans}')\n",
    "    print(f'Ans: {solution(lottos, win_nums)}\\n')\n",
    "    "
   ],
   "metadata": {
    "collapsed": false,
    "pycharm": {
     "name": "#%%\n"
    }
   }
  },
  {
   "cell_type": "markdown",
   "source": [
    "<img src='https://user-images.githubusercontent.com/41243762/147095167-106aac96-bc6f-48ae-a294-8276e70e203d.png' width='50%'>\n",
    "\n",
    "---"
   ],
   "metadata": {
    "collapsed": false
   }
  },
  {
   "cell_type": "markdown",
   "source": [
    "# 다단계 칫솔 판매\n",
    "\n",
    "\n",
    "---"
   ],
   "metadata": {
    "collapsed": false
   }
  },
  {
   "cell_type": "code",
   "execution_count": 7,
   "outputs": [],
   "source": [
    "from collections import defaultdict\n",
    "\n",
    "def solution(enroll, referral, seller, amount):\n",
    "    answer = []\n",
    "    benefit = defaultdict(int)\n",
    "    graph = dict()\n",
    "\n",
    "    for k, v in zip(enroll, referral):\n",
    "        graph[k]=v\n",
    "\n",
    "    for name, value in zip(seller, amount):\n",
    "        value *= 100\n",
    "        while name != \"-\":\n",
    "            benefit[name] += value - int(value*0.1)\n",
    "            name = graph[name]\n",
    "            value = int(value*0.1)\n",
    "            if value == 0:\n",
    "                break\n",
    "\n",
    "    for name in enroll:\n",
    "        answer.append(benefit[name])\n",
    "\n",
    "    return answer"
   ],
   "metadata": {
    "collapsed": false,
    "pycharm": {
     "name": "#%%\n"
    }
   }
  },
  {
   "cell_type": "code",
   "execution_count": 8,
   "outputs": [
    {
     "name": "stdout",
     "output_type": "stream",
     "text": [
      "enroll: ['john', 'mary', 'edward', 'sam', 'emily', 'jaimie', 'tod', 'young']\n",
      "referral: ['-', '-', 'mary', 'edward', 'mary', 'mary', 'jaimie', 'edward']\n",
      "seller: ['young', 'john', 'tod', 'emily', 'mary']\n",
      "ans: [360, 958, 108, 0, 450, 18, 180, 1080]\n",
      "Ans: [360, 958, 108, 0, 450, 18, 180, 1080]\n",
      "\n",
      "enroll: ['john', 'mary', 'edward', 'sam', 'emily', 'jaimie', 'tod', 'young']\n",
      "referral: ['-', '-', 'mary', 'edward', 'mary', 'mary', 'jaimie', 'edward']\n",
      "seller: ['sam', 'emily', 'jaimie', 'edward']\n",
      "ans: [0, 110, 378, 180, 270, 450, 0, 0]\n",
      "Ans: [0, 110, 378, 180, 270, 450, 0, 0]\n",
      "\n"
     ]
    }
   ],
   "source": [
    "case1 = [[\"john\", \"mary\", \"edward\", \"sam\", \"emily\", \"jaimie\", \"tod\", \"young\"],\n",
    "         [\"-\", \"-\", \"mary\", \"edward\", \"mary\", \"mary\", \"jaimie\", \"edward\"],\n",
    "         [\"young\", \"john\", \"tod\", \"emily\", \"mary\"], [12, 4, 2, 5, 10], [360, 958, 108, 0, 450, 18, 180, 1080]]\n",
    "case2 = [[\"john\", \"mary\", \"edward\", \"sam\", \"emily\", \"jaimie\", \"tod\", \"young\"],\n",
    "         [\"-\", \"-\", \"mary\", \"edward\", \"mary\", \"mary\", \"jaimie\", \"edward\"],\n",
    "         [\"sam\", \"emily\", \"jaimie\", \"edward\"], [2, 3, 5, 4], [0, 110, 378, 180, 270, 450, 0, 0]]\n",
    "for enroll, referral, seller, amount, ans in [case1, case2]:\n",
    "    print(f'enroll: {enroll}\\nreferral: {referral}\\nseller: {seller}\\nans: {ans}')\n",
    "    print(f'Ans: {solution(enroll, referral, seller, amount)}\\n')\n"
   ],
   "metadata": {
    "collapsed": false,
    "pycharm": {
     "name": "#%%\n"
    }
   }
  },
  {
   "cell_type": "markdown",
   "source": [
    "<img src='https://user-images.githubusercontent.com/41243762/147100914-b875730f-3f5c-4e6a-aef1-3f32594dc535.png' width='50%'>"
   ],
   "metadata": {
    "collapsed": false,
    "pycharm": {
     "name": "#%% md\n"
    }
   }
  }
 ],
 "metadata": {
  "kernelspec": {
   "name": "pycharm-763154ad",
   "language": "python",
   "display_name": "PyCharm (Coding-study)"
  },
  "language_info": {
   "codemirror_mode": {
    "name": "ipython",
    "version": 2
   },
   "file_extension": ".py",
   "mimetype": "text/x-python",
   "name": "python",
   "nbconvert_exporter": "python",
   "pygments_lexer": "ipython2",
   "version": "2.7.6"
  }
 },
 "nbformat": 4,
 "nbformat_minor": 0
}