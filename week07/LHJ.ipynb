{
 "cells": [
  {
   "cell_type": "markdown",
   "source": [
    "# 로또의 최고 순위와 최저 순위\n",
    "\n",
    "\n",
    "---"
   ],
   "metadata": {
    "collapsed": false
   }
  },
  {
   "cell_type": "code",
   "execution_count": 5,
   "outputs": [],
   "source": [
    "from collections import Counter\n",
    "\n",
    "def solution(lottos, win_nums):\n",
    "    lottos = Counter(lottos)\n",
    "    win_nums = Counter(win_nums)\n",
    "    low = 0\n",
    "    for k in lottos.keys():\n",
    "        if k in win_nums:\n",
    "            low += 1\n",
    "    high = low + lottos[0]\n",
    "    \n",
    "    if high == 0:\n",
    "        high = 1\n",
    "    if low == 0:\n",
    "        low = 1\n",
    "        \n",
    "    answer = [7-high, 7-low]    \n",
    "    return answer\n"
   ],
   "metadata": {
    "collapsed": false,
    "pycharm": {
     "name": "#%%\n"
    }
   }
  },
  {
   "cell_type": "code",
   "execution_count": 6,
   "outputs": [
    {
     "name": "stdout",
     "output_type": "stream",
     "text": [
      "lottos: [44, 1, 0, 0, 31, 25], win_nums: [31, 10, 45, 1, 6, 19], ans: [3, 5]\n",
      "Ans: [3, 5]\n",
      "\n",
      "lottos: [0, 0, 0, 0, 0, 0], win_nums: [38, 19, 20, 40, 15, 25], ans: [1, 6]\n",
      "Ans: [1, 6]\n",
      "\n",
      "lottos: [45, 4, 35, 20, 3, 9], win_nums: [20, 9, 3, 45, 4, 35], ans: [1, 1]\n",
      "Ans: [1, 1]\n",
      "\n"
     ]
    }
   ],
   "source": [
    "case1 = [[44, 1, 0, 0, 31, 25], [31, 10, 45, 1, 6, 19], [3, 5]]\n",
    "case2 = [[0, 0, 0, 0, 0, 0], [38, 19, 20, 40, 15, 25], [1, 6]]\n",
    "case3 = [[45, 4, 35, 20, 3, 9], [20, 9, 3, 45, 4, 35], [1, 1]]\n",
    "for lottos, win_nums, ans in [case1, case2, case3]:\n",
    "    print(f'lottos: {lottos}, win_nums: {win_nums}, ans: {ans}')\n",
    "    print(f'Ans: {solution(lottos, win_nums)}\\n')\n",
    "    "
   ],
   "metadata": {
    "collapsed": false,
    "pycharm": {
     "name": "#%%\n"
    }
   }
  },
  {
   "cell_type": "markdown",
   "source": [
    "<img src='https://user-images.githubusercontent.com/41243762/147095167-106aac96-bc6f-48ae-a294-8276e70e203d.png' width='50%'>\n",
    "\n",
    "---"
   ],
   "metadata": {
    "collapsed": false
   }
  },
  {
   "cell_type": "markdown",
   "source": [
    "# 다단계 칫솔 판매\n",
    "\n",
    "\n",
    "---"
   ],
   "metadata": {
    "collapsed": false
   }
  },
  {
   "cell_type": "code",
   "execution_count": 7,
   "outputs": [],
   "source": [
    "from collections import defaultdict\n",
    "\n",
    "def solution(enroll, referral, seller, amount):\n",
    "    answer = []\n",
    "    benefit = defaultdict(int)\n",
    "    graph = dict()\n",
    "\n",
    "    for k, v in zip(enroll, referral):\n",
    "        graph[k]=v\n",
    "\n",
    "    for name, value in zip(seller, amount):\n",
    "        value *= 100\n",
    "        while name != \"-\":\n",
    "            benefit[name] += value - int(value*0.1)\n",
    "            name = graph[name]\n",
    "            value = int(value*0.1)\n",
    "            if value == 0:\n",
    "                break\n",
    "\n",
    "    for name in enroll:\n",
    "        answer.append(benefit[name])\n",
    "\n",
    "    return answer"
   ],
   "metadata": {
    "collapsed": false,
    "pycharm": {
     "name": "#%%\n"
    }
   }
  },
  {
   "cell_type": "code",
   "execution_count": 8,
   "outputs": [
    {
     "name": "stdout",
     "output_type": "stream",
     "text": [
      "enroll: ['john', 'mary', 'edward', 'sam', 'emily', 'jaimie', 'tod', 'young']\n",
      "referral: ['-', '-', 'mary', 'edward', 'mary', 'mary', 'jaimie', 'edward']\n",
      "seller: ['young', 'john', 'tod', 'emily', 'mary']\n",
      "ans: [360, 958, 108, 0, 450, 18, 180, 1080]\n",
      "Ans: [360, 958, 108, 0, 450, 18, 180, 1080]\n",
      "\n",
      "enroll: ['john', 'mary', 'edward', 'sam', 'emily', 'jaimie', 'tod', 'young']\n",
      "referral: ['-', '-', 'mary', 'edward', 'mary', 'mary', 'jaimie', 'edward']\n",
      "seller: ['sam', 'emily', 'jaimie', 'edward']\n",
      "ans: [0, 110, 378, 180, 270, 450, 0, 0]\n",
      "Ans: [0, 110, 378, 180, 270, 450, 0, 0]\n",
      "\n"
     ]
    }
   ],
   "source": [
    "case1 = [[\"john\", \"mary\", \"edward\", \"sam\", \"emily\", \"jaimie\", \"tod\", \"young\"],\n",
    "         [\"-\", \"-\", \"mary\", \"edward\", \"mary\", \"mary\", \"jaimie\", \"edward\"],\n",
    "         [\"young\", \"john\", \"tod\", \"emily\", \"mary\"], [12, 4, 2, 5, 10], [360, 958, 108, 0, 450, 18, 180, 1080]]\n",
    "case2 = [[\"john\", \"mary\", \"edward\", \"sam\", \"emily\", \"jaimie\", \"tod\", \"young\"],\n",
    "         [\"-\", \"-\", \"mary\", \"edward\", \"mary\", \"mary\", \"jaimie\", \"edward\"],\n",
    "         [\"sam\", \"emily\", \"jaimie\", \"edward\"], [2, 3, 5, 4], [0, 110, 378, 180, 270, 450, 0, 0]]\n",
    "for enroll, referral, seller, amount, ans in [case1, case2]:\n",
    "    print(f'enroll: {enroll}\\nreferral: {referral}\\nseller: {seller}\\nans: {ans}')\n",
    "    print(f'Ans: {solution(enroll, referral, seller, amount)}\\n')\n"
   ],
   "metadata": {
    "collapsed": false,
    "pycharm": {
     "name": "#%%\n"
    }
   }
  },
  {
   "cell_type": "markdown",
   "source": [
    "<img src='https://user-images.githubusercontent.com/41243762/147100914-b875730f-3f5c-4e6a-aef1-3f32594dc535.png' width='50%'>"
   ],
   "metadata": {
    "collapsed": false,
    "pycharm": {
     "name": "#%% md\n"
    }
   }
  }
 ],
 "metadata": {
  "kernelspec": {
   "name": "pycharm-763154ad",
   "language": "python",
   "display_name": "PyCharm (Coding-study)"
  },
  "language_info": {
   "codemirror_mode": {
    "name": "ipython",
    "version": 2
   },
   "file_extension": ".py",
   "mimetype": "text/x-python",
   "name": "python",
   "nbconvert_exporter": "python",
   "pygments_lexer": "ipython2",
   "version": "2.7.6"
  }
 },
 "nbformat": 4,
 "nbformat_minor": 0
}